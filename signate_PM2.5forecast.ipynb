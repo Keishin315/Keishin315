{
  "nbformat": 4,
  "nbformat_minor": 0,
  "metadata": {
    "colab": {
      "name": "signate_bigginer限定コンペ(rfc).ipynb",
      "provenance": [],
      "collapsed_sections": [],
      "authorship_tag": "ABX9TyO51lvE+jI2rP+/ty1sl7dQ",
      "include_colab_link": true
    },
    "kernelspec": {
      "name": "python3",
      "display_name": "Python 3"
    },
    "language_info": {
      "name": "python"
    }
  },
  "cells": [
    {
      "cell_type": "markdown",
      "metadata": {
        "id": "view-in-github",
        "colab_type": "text"
      },
      "source": [
        "<a href=\"https://colab.research.google.com/github/Keishin315/Keishin315/blob/main/signate_PM2.5forecast.ipynb\" target=\"_parent\"><img src=\"https://colab.research.google.com/assets/colab-badge.svg\" alt=\"Open In Colab\"/></a>"
      ]
    },
    {
      "cell_type": "markdown",
      "source": [
        "\n",
        "\n",
        "> # **signateのpcゲームの勝敗予測コンペにおいて、、RandomForestRegresserを用いて分析を行なった。**\n",
        "\n",
        "\n",
        "\n",
        "\n",
        "\n",
        "\n"
      ],
      "metadata": {
        "id": "R5kSoGnMpvqG"
      }
    },
    {
      "cell_type": "markdown",
      "source": [
        "# **signate CLI をインストールをインストール** \n",
        "トークンを取得して、コンペデータをダウンロード"
      ],
      "metadata": {
        "id": "RwkBJx-Cl3Uw"
      }
    },
    {
      "cell_type": "code",
      "execution_count": null,
      "metadata": {
        "colab": {
          "base_uri": "https://localhost:8080/"
        },
        "id": "w60NvRSnddAp",
        "outputId": "cb048c61-8e40-4d78-bfdf-8b48ddf551cb"
      },
      "outputs": [
        {
          "output_type": "stream",
          "name": "stdout",
          "text": [
            "Requirement already satisfied: signate in /usr/local/lib/python3.7/dist-packages (0.9.9)\n",
            "Requirement already satisfied: tabulate in /usr/local/lib/python3.7/dist-packages (from signate) (0.8.9)\n",
            "Requirement already satisfied: certifi in /usr/local/lib/python3.7/dist-packages (from signate) (2021.10.8)\n",
            "Requirement already satisfied: click in /usr/local/lib/python3.7/dist-packages (from signate) (7.1.2)\n",
            "Requirement already satisfied: six>=1.16 in /usr/local/lib/python3.7/dist-packages (from signate) (1.16.0)\n",
            "Requirement already satisfied: wget in /usr/local/lib/python3.7/dist-packages (from signate) (3.2)\n",
            "Requirement already satisfied: urllib3>=1.26.7 in /usr/local/lib/python3.7/dist-packages (from signate) (1.26.8)\n",
            "Requirement already satisfied: python-dateutil in /usr/local/lib/python3.7/dist-packages (from signate) (2.8.2)\n"
          ]
        }
      ],
      "source": [
        "pip install signate"
      ]
    },
    {
      "cell_type": "code",
      "source": [
        "!signate token --email=jingxindi97@gmail.com --password=\n"
      ],
      "metadata": {
        "colab": {
          "base_uri": "https://localhost:8080/"
        },
        "id": "oOFRlI2Adn-z",
        "outputId": "1479e8d5-2286-4939-fe81-f7f7cb26ef20"
      },
      "execution_count": null,
      "outputs": [
        {
          "output_type": "stream",
          "name": "stdout",
          "text": [
            "\u001b[32mThe API Token has been downloaded successfully.\u001b[0m\n"
          ]
        }
      ]
    },
    {
      "cell_type": "code",
      "source": [
        "!signate list"
      ],
      "metadata": {
        "colab": {
          "base_uri": "https://localhost:8080/"
        },
        "id": "pB6syyNmeDub",
        "outputId": "907dda1e-652b-4396-8804-bb08d555c19c"
      },
      "execution_count": null,
      "outputs": [
        {
          "output_type": "stream",
          "name": "stdout",
          "text": [
            "  competitionId  title                                                                                      closing     prize                  submitters\n",
            "---------------  -----------------------------------------------------------------------------------------  ----------  -------------------  ------------\n",
            "              1  【練習問題】銀行の顧客ターゲティング                                                       -                                        5415\n",
            "             24  【練習問題】お弁当の需要予測                                                               -                                        6693\n",
            "             27  【練習問題】Jリーグの観客動員数予測                                                        -                                        1557\n",
            "            100  【練習問題】手書き文字認識                                                                 -           Knowledge                     204\n",
            "            102  【練習問題】タイタニックの生存予測                                                         -           Knowledge                    1275\n",
            "            103  【練習問題】音楽ラベリング                                                                 -           Knowledge                      62\n",
            "            104  【練習問題】スパムメール分類                                                               -           Knowledge                     138\n",
            "            105  【練習問題】毒キノコの分類                                                                 -           Knowledge                     268\n",
            "            106  【練習問題】アワビの年齢予測                                                               -           Knowledge                     364\n",
            "            107  【練習問題】国勢調査からの収入予測                                                         -           Knowledge                     545\n",
            "            108  【練習問題】画像ラベリング（20種類）                                                       -           Knowledge                     226\n",
            "            112  【練習問題】ワインの品種の予測                                                             -           Knowledge                     316\n",
            "            113  【練習問題】山火事の消失面積予測                                                           -           Knowledge                     205\n",
            "            114  【練習問題】レンタル自転車の利用者数予測                                                   -           Knowledge                     387\n",
            "            115  【練習問題】アヤメの分類                                                                   -           Knowledge                     355\n",
            "            116  【練習問題】活動センサーログからの動作予測                                                 -           Knowledge                      52\n",
            "            118  【練習問題】テニスの試合結果の予測                                                         -           Knowledge                     125\n",
            "            121  【練習問題】自動車の走行距離予測                                                           -           Knowledge                    1473\n",
            "            122  【練習問題】自動車の評価                                                                   -           Knowledge                     315\n",
            "            123  【練習問題】オゾンレベルの分類                                                             -           Knowledge                      47\n",
            "            124  【練習問題】ボットの判別                                                                   -           Knowledge                     309\n",
            "            125  【練習問題】ガラスの分類                                                                   -           Knowledge                     161\n",
            "            126  【練習問題】林型の分類                                                                     -           Knowledge                      40\n",
            "            127  【練習問題】ゲーム選手のリーグ分類                                                         -           Knowledge                      60\n",
            "            128  【練習問題】ステンレス板の欠陥分類                                                         -           Knowledge                      66\n",
            "            129  【練習問題】都市サイクルの燃料消費量予測                                                   -           Knowledge                     128\n",
            "            130  【練習問題】天秤のバランス分類                                                             -           Knowledge                     103\n",
            "            132  【練習問題】ネット広告のクリック予測                                                       -           Knowledge                     145\n",
            "            133  【練習問題】画像ラベリング（10種類）                                                       -                                         351\n",
            "            135  【練習問題】ネット画像の分類                                                               -                                          74\n",
            "            262  【SOTA】国立国会図書館の画像データレイアウト認識                                           2100-12-31  -                              72\n",
            "            263  【SOTA】産業技術総合研究所 衛星画像分析コンテスト                                          2100-12-31  -                              44\n",
            "            264  【SOTA】マイナビ × SIGNATE Student Cup 2019: 賃貸物件の家賃予測                            2100-12-31  -                             369\n",
            "            265  【練習問題】健診データによる肝疾患判定                                                     -                                         510\n",
            "            266  【練習問題】民泊サービスの宿泊価格予測                                                     -                                         575\n",
            "            267  【SOTA】海洋研究開発機構 熱帯低気圧（台風等）検出アルゴリズム作成                          2100-12-31  -                              17\n",
            "            268  【SOTA】オプト レコメンドエンジン作成                                                      2100-12-31                                 38\n",
            "            269  【SOTA】アップル 引越し需要予測                                                            2100-12-31  -                             332\n",
            "            270  【SOTA】Weather Challenge：雲画像予測                                                      2100-12-31  -                               8\n",
            "            271  【SOTA】JR西日本 走行中の北陸新幹線車両台車部の着雪量予測                                  2100-12-31  -                              21\n",
            "            288  【SOTA】Sansan 名刺の項目予測                                                              2100-12-31  -                              30\n",
            "            294  【練習問題】債務不履行リスクの低減                                                         -                                         192\n",
            "            358  【練習問題】機械稼働音の異常検知                                                           -                                          72\n",
            "            404  【練習問題】モノクロ顔画像の感情分類                                                       -                                          76\n",
            "            406  【練習問題】鋳造製品の欠陥検出                                                             -                                         191\n",
            "            409  【練習問題】株価の推移予測                                                                 -                                         177\n",
            "            496  【AIQuest2021】PBL_02 不良個所自動検出による検品作業効率化（製造業）ビジネス導入課題①      2022-02-05                                206\n",
            "            497  【AIQuest2021】PBL_02 不良個所自動検出による検品作業効率化（製造業）ビジネス導入課題②      2022-02-05                                203\n",
            "            498  【AIQuest2021】PBL_02 不良個所自動検出による検品作業効率化（製造業）ビジネス導入課題③      2022-02-05                                205\n",
            "            499  【AIQuest2021】PBL_02 不良個所自動検出による検品作業効率化（製造業）AI課題                 2022-02-05                                194\n",
            "            500  【AIQuest2021】PBL_02 不良個所自動検出による検品作業効率化（製造業）ビジネス実装課題       2022-02-05                                171\n",
            "            517  【AIQuest2021】PBL_05 不良個所自動検出による検品作業効率化（木材加工業）ビジネス導入課題①  2022-02-05                                150\n",
            "            518  【AIQuest2021】PBL_05 不良個所自動検出による検品作業効率化（木材加工業）ビジネス導入課題②  2022-02-05                                150\n",
            "            519  【AIQuest2021】PBL_05 不良個所自動検出による検品作業効率化（木材加工業）ビジネス導入課題③  2022-02-05                                150\n",
            "            520  【AIQuest2021】PBL_05 不良個所自動検出による検品作業効率化（木材加工業）AI課題             2022-02-05                                135\n",
            "            521  【AIQuest2021】PBL_05 不良個所自動検出による検品作業効率化（木材加工業）ビジネス実装課題   2022-02-05                                 95\n",
            "            537  第5回AIエッジコンテスト（実装コンテスト③）                                                 2022-02-15  total 1,600,000 yen            14\n",
            "            563  SUBARU 画像認識チャレンジ                                                                  2022-01-31  総額¥2,000,000                125\n",
            "            565  【SOTA】SIGNATE Student Cup 2021春：楽曲のジャンル推定チャレンジ！！                       2100-12-31  -                              33\n",
            "            567  【SOTA】SIGNATE Student Cup 2021秋：オペレーション最適化に向けたシェアサイクルの利用予測   2100-12-31  -                              25\n",
            "            575  【第18回_Beginner限定コンペ】PCゲームの勝敗予測                                            2022-01-31                                 79\n"
          ]
        }
      ]
    },
    {
      "cell_type": "code",
      "source": [
        "!signate download --competition-id=575"
      ],
      "metadata": {
        "colab": {
          "base_uri": "https://localhost:8080/"
        },
        "id": "tV2RB1sEeWmH",
        "outputId": "199bb8b1-bbdc-4904-c782-d4d3385e88c9"
      },
      "execution_count": null,
      "outputs": [
        {
          "output_type": "stream",
          "name": "stdout",
          "text": [
            "sample_submit.csv\n",
            "\n",
            "test.csv\n",
            "\n",
            "train.csv\n",
            "\n",
            "\u001b[32m\n",
            "Download completed.\u001b[0m\n"
          ]
        }
      ]
    },
    {
      "cell_type": "markdown",
      "source": [
        "# ライブラリをインポート"
      ],
      "metadata": {
        "id": "G9-6HRxQn7RD"
      }
    },
    {
      "cell_type": "code",
      "source": [
        "import pandas as pd\n",
        "import numpy as np\n",
        "from sklearn.ensemble import RandomForestClassifier\n",
        "from sklearn.model_selection import train_test_split\n",
        "from sklearn.preprocessing import MinMaxScaler\n",
        "from sklearn.linear_model import LogisticRegression\n",
        "from sklearn.model_selection import GridSearchCV"
      ],
      "metadata": {
        "id": "VvBZjs4uepTv"
      },
      "execution_count": null,
      "outputs": []
    },
    {
      "cell_type": "markdown",
      "source": [
        "# ファイルをダウンロードし、加工していく"
      ],
      "metadata": {
        "id": "A__COR-moGY_"
      }
    },
    {
      "cell_type": "code",
      "source": [
        "train = pd.read_csv('train.csv')\n",
        "test = pd.read_csv('test.csv')"
      ],
      "metadata": {
        "id": "jMeN3bErfhya"
      },
      "execution_count": null,
      "outputs": []
    },
    {
      "cell_type": "code",
      "source": [
        "sample_sub = pd.read_csv('sample_submit.csv')"
      ],
      "metadata": {
        "id": "P57vbNfSf9za"
      },
      "execution_count": null,
      "outputs": []
    },
    {
      "cell_type": "code",
      "source": [
        "train = train.drop('gameId',axis=1)"
      ],
      "metadata": {
        "id": "0inz82cmgUfN"
      },
      "execution_count": null,
      "outputs": []
    },
    {
      "cell_type": "code",
      "source": [
        "train_x = train.drop('blueWins',axis=1)\n",
        "train_y = train['blueWins']"
      ],
      "metadata": {
        "id": "VvirMKTPgUhy"
      },
      "execution_count": null,
      "outputs": []
    },
    {
      "cell_type": "code",
      "source": [
        "print(train_x,train_y)"
      ],
      "metadata": {
        "colab": {
          "base_uri": "https://localhost:8080/"
        },
        "id": "f0uuSIANhke1",
        "outputId": "8d27fd4a-bac7-4adf-dbba-d53e9f100f9d"
      },
      "execution_count": null,
      "outputs": [
        {
          "output_type": "stream",
          "name": "stdout",
          "text": [
            "      blueFirstBlood  blueKills  ...  blueTotalGold  blueTotalExperience\n",
            "0                  0          7  ...          17398                17446\n",
            "1                  1          8  ...          15925                14253\n",
            "2                  1         14  ...          21457                19003\n",
            "3                  1          6  ...          16364                17958\n",
            "4                  1          3  ...          15451                16088\n",
            "...              ...        ...  ...            ...                  ...\n",
            "4920               1          8  ...          17489                17422\n",
            "4921               1          7  ...          17296                16136\n",
            "4922               0          7  ...          17287                17029\n",
            "4923               0          2  ...          15283                16210\n",
            "4924               1         11  ...          18722                18699\n",
            "\n",
            "[4925 rows x 8 columns] 0       0\n",
            "1       1\n",
            "2       1\n",
            "3       1\n",
            "4       0\n",
            "       ..\n",
            "4920    0\n",
            "4921    0\n",
            "4922    1\n",
            "4923    0\n",
            "4924    1\n",
            "Name: blueWins, Length: 4925, dtype: int64\n"
          ]
        }
      ]
    },
    {
      "cell_type": "code",
      "source": [
        "#scaling\n",
        "scaler0 = MinMaxScaler()\n",
        "scaler0.fit(train_x)\n",
        "X_train = scaler0.transform(train_x)"
      ],
      "metadata": {
        "id": "lGjazxZTsS4O"
      },
      "execution_count": null,
      "outputs": []
    },
    {
      "cell_type": "code",
      "source": [
        "print(X_train,train_y)"
      ],
      "metadata": {
        "colab": {
          "base_uri": "https://localhost:8080/"
        },
        "id": "ID3_tBQgs4to",
        "outputId": "148a2ae1-5409-44cf-82c1-98fd2d4d0cfa"
      },
      "execution_count": null,
      "outputs": [
        {
          "output_type": "stream",
          "name": "stdout",
          "text": [
            "[[0.         0.5        0.61538462 ... 1.         0.44094596 0.61974373]\n",
            " [1.         0.57142857 0.69230769 ... 0.         0.23841606 0.04349395]\n",
            " [1.         1.         0.38461538 ... 0.         0.99903754 0.90073994]\n",
            " ...\n",
            " [0.         0.5        0.46153846 ... 0.         0.42568404 0.54448655]\n",
            " [0.         0.14285714 0.15384615 ... 0.         0.15014437 0.3966793 ]\n",
            " [1.         0.78571429 0.07692308 ... 1.         0.62298914 0.8458762 ]] 0       0\n",
            "1       1\n",
            "2       1\n",
            "3       1\n",
            "4       0\n",
            "       ..\n",
            "4920    0\n",
            "4921    0\n",
            "4922    1\n",
            "4923    0\n",
            "4924    1\n",
            "Name: blueWins, Length: 4925, dtype: int64\n"
          ]
        }
      ]
    },
    {
      "cell_type": "markdown",
      "source": [
        "# 訓練データと検証データに分割（７：３）"
      ],
      "metadata": {
        "id": "EShHnL-2o68o"
      }
    },
    {
      "cell_type": "code",
      "source": [
        "(X_train,X_test,Y_train,Y_test) = train_test_split(X_train,train_y,test_size=0.3)"
      ],
      "metadata": {
        "id": "lcveBb30i1-k"
      },
      "execution_count": null,
      "outputs": []
    },
    {
      "cell_type": "markdown",
      "source": [
        "# **モデルの学習**\n",
        "二つのモデル（RandomForestClassifer,ロジスティック回帰）"
      ],
      "metadata": {
        "id": "hFAFb94uqcBP"
      }
    },
    {
      "cell_type": "code",
      "source": [
        "#RandomForestClassifierでのパターン\n",
        "model = RandomForestClassifier(max_depth=20, min_samples_split=25, n_estimators=50,n_jobs=4, random_state=0)\n",
        "model.fit(X_train,Y_train)"
      ],
      "metadata": {
        "colab": {
          "base_uri": "https://localhost:8080/"
        },
        "id": "SK8FeQi_xxvX",
        "outputId": "38f57bd7-b482-4599-e10a-4d4a9d168d72"
      },
      "execution_count": null,
      "outputs": [
        {
          "output_type": "execute_result",
          "data": {
            "text/plain": [
              "RandomForestClassifier(max_depth=20, min_samples_split=25, n_estimators=50,\n",
              "                       n_jobs=4, random_state=0)"
            ]
          },
          "metadata": {},
          "execution_count": 64
        }
      ]
    },
    {
      "cell_type": "code",
      "source": [
        "y_pred = model.predict(X_test)"
      ],
      "metadata": {
        "id": "jn5IX2jxpUwT"
      },
      "execution_count": null,
      "outputs": []
    },
    {
      "cell_type": "code",
      "source": [
        "#ロジスティック回帰のパターン\n",
        "model2 = LogisticRegression()\n",
        "model2.fit(X_train,Y_train)"
      ],
      "metadata": {
        "colab": {
          "base_uri": "https://localhost:8080/"
        },
        "id": "GaHGo1b99bPS",
        "outputId": "6dc8bb2f-319e-4c05-bb0c-9c7d49cd9cab"
      },
      "execution_count": null,
      "outputs": [
        {
          "output_type": "stream",
          "name": "stderr",
          "text": [
            "/usr/local/lib/python3.7/dist-packages/sklearn/utils/validation.py:993: DataConversionWarning: A column-vector y was passed when a 1d array was expected. Please change the shape of y to (n_samples, ), for example using ravel().\n",
            "  y = column_or_1d(y, warn=True)\n"
          ]
        },
        {
          "output_type": "execute_result",
          "data": {
            "text/plain": [
              "LogisticRegression()"
            ]
          },
          "metadata": {},
          "execution_count": 18
        }
      ]
    },
    {
      "cell_type": "code",
      "source": [
        "y_pred2 = model2.predict(X_test)"
      ],
      "metadata": {
        "id": "ajLQyUebpXnJ"
      },
      "execution_count": null,
      "outputs": []
    },
    {
      "cell_type": "code",
      "source": [
        "from sklearn.metrics import accuracy_score"
      ],
      "metadata": {
        "id": "DBUZ6-l1j8ah"
      },
      "execution_count": null,
      "outputs": []
    },
    {
      "cell_type": "code",
      "source": [
        "#RandomForestの精度検証\n",
        "accuracy = accuracy_score(Y_test, y_pred)\n",
        "accuracy"
      ],
      "metadata": {
        "colab": {
          "base_uri": "https://localhost:8080/"
        },
        "id": "l-yVdAIbjukJ",
        "outputId": "49c8cc4c-811b-43eb-bd0f-5f92ab298852"
      },
      "execution_count": null,
      "outputs": [
        {
          "output_type": "execute_result",
          "data": {
            "text/plain": [
              "0.7571041948579161"
            ]
          },
          "metadata": {},
          "execution_count": 66
        }
      ]
    },
    {
      "cell_type": "code",
      "source": [
        "#ロジスティック回帰の精度検証\n",
        "accuracy2 = accuracy_score(Y_test, y_pred2)\n",
        "accuracy2"
      ],
      "metadata": {
        "colab": {
          "base_uri": "https://localhost:8080/"
        },
        "id": "JLKwF6v0Gjkg",
        "outputId": "d37de1f1-5e2f-47ab-f802-08c8043857ed"
      },
      "execution_count": null,
      "outputs": [
        {
          "output_type": "execute_result",
          "data": {
            "text/plain": [
              "0.7388362652232747"
            ]
          },
          "metadata": {},
          "execution_count": 25
        }
      ]
    },
    {
      "cell_type": "markdown",
      "source": [
        "**＊grid_searchを用いて、最適なパラメータを探索する**"
      ],
      "metadata": {
        "id": "LbMm-D3tr88p"
      }
    },
    {
      "cell_type": "code",
      "source": [
        "parameters = {\n",
        "        'n_estimators'      : [10,25,50,75,100],\n",
        "        'random_state'      : [0],\n",
        "        'n_jobs'            : [4],\n",
        "        'min_samples_split' : [5,10, 15, 20,25, 30],\n",
        "        'max_depth'         : [5, 10, 15,20,25,30]\n",
        "}\n",
        "\n",
        "clf = GridSearchCV(RandomForestClassifier(), parameters)\n",
        "clf.fit(X_train, Y_train)\n",
        " \n",
        "print(clf.best_estimator_)"
      ],
      "metadata": {
        "colab": {
          "base_uri": "https://localhost:8080/"
        },
        "id": "tEeTkUN-sR1K",
        "outputId": "332a122f-21bd-45c3-cac6-948b456afc84"
      },
      "execution_count": null,
      "outputs": [
        {
          "output_type": "stream",
          "name": "stdout",
          "text": [
            "RandomForestClassifier(max_depth=20, min_samples_split=25, n_estimators=50,\n",
            "                       n_jobs=4, random_state=0)\n"
          ]
        }
      ]
    },
    {
      "cell_type": "markdown",
      "source": [
        "# **提出ファイルの作成**"
      ],
      "metadata": {
        "id": "LE5fSzycpvAW"
      }
    },
    {
      "cell_type": "code",
      "source": [
        "test_gameId = test['gameId']\n",
        "test = test.drop('gameId',axis=1)\n",
        "test = scaler0.transform(test)"
      ],
      "metadata": {
        "id": "XBSagtCBkckN"
      },
      "execution_count": null,
      "outputs": []
    },
    {
      "cell_type": "code",
      "source": [
        "sub = model.predict(test)"
      ],
      "metadata": {
        "id": "kaIY1wUelKIA"
      },
      "execution_count": null,
      "outputs": []
    },
    {
      "cell_type": "code",
      "source": [
        "sub = pd.DataFrame(sub)\n",
        "sub[1] = test_gameId\n",
        "sub[1] = sub[0]\n",
        "sub[0] = test_gameId\n",
        "print(sub)"
      ],
      "metadata": {
        "id": "o0Kuf2_5lSjV"
      },
      "execution_count": null,
      "outputs": []
    },
    {
      "cell_type": "code",
      "source": [
        "sub.to_csv('subm0.csv',index = False)"
      ],
      "metadata": {
        "id": "syi_LowhnY3V"
      },
      "execution_count": null,
      "outputs": []
    },
    {
      "cell_type": "markdown",
      "source": [
        "以下実験的、補足補足\n",
        "# **主成分分析で学習データを次元削減をしてみる**"
      ],
      "metadata": {
        "id": "_E2u6B8Wptmn"
      }
    },
    {
      "cell_type": "code",
      "source": [
        "#主成分分析\n",
        "from sklearn.decomposition import PCA\n",
        "\n",
        "pcamodel = PCA()\n",
        "pcamodel.fit(X_train)\n",
        "\n",
        "#データを主成分に変換\n",
        "pca_cor = pcamodel.transform(X_train)\n",
        "\n",
        "pca_cols = [\"PC{}\".format(x + 1) for x in range(8)]\n",
        "\n",
        "pca_df = pd.DataFrame(pca_cor, columns = pca_cols)\n",
        "print(pca_df)"
      ],
      "metadata": {
        "colab": {
          "base_uri": "https://localhost:8080/"
        },
        "id": "5rzKACMansya",
        "outputId": "af2d59b7-98d5-42b4-e89c-44174b091d86"
      },
      "execution_count": null,
      "outputs": [
        {
          "output_type": "stream",
          "name": "stdout",
          "text": [
            "           PC1       PC2       PC3  ...       PC6       PC7       PC8\n",
            "0    -0.704243  0.131556 -0.010688  ... -0.187863 -0.010257  0.048289\n",
            "1     0.362288  0.996308 -0.107165  ... -0.048944  0.003662 -0.035904\n",
            "2    -0.554428  0.071812  0.309864  ...  0.008978 -0.027703 -0.084833\n",
            "3    -0.688925  0.120270 -0.040447  ...  0.206443  0.065637  0.063157\n",
            "4     0.209003  0.807492  0.117771  ... -0.070346  0.030563  0.003707\n",
            "...        ...       ...       ...  ...       ...       ...       ...\n",
            "3442 -0.575674  0.066786  0.359685  ... -0.085246 -0.098839 -0.166438\n",
            "3443 -0.085706 -0.628616 -0.249129  ... -0.135363  0.009920 -0.042830\n",
            "3444 -0.583668  0.316521 -0.199327  ... -0.205068  0.017729  0.040123\n",
            "3445  0.917076  0.022988  0.041308  ... -0.056545 -0.102927 -0.046397\n",
            "3446  0.260786  0.800791  0.138723  ...  0.000614 -0.004982 -0.063180\n",
            "\n",
            "[3447 rows x 8 columns]\n"
          ]
        }
      ]
    },
    {
      "cell_type": "code",
      "source": [
        "#固有値\n",
        "df_exp_var = pd.DataFrame([pcamodel.explained_variance_],columns=pca_cols)\n",
        "df_exp_var.head()\n",
        "\n",
        "#固有値の合計は成分数の13に一致\n",
        "print(df_exp_var.sum(axis=1))"
      ],
      "metadata": {
        "colab": {
          "base_uri": "https://localhost:8080/"
        },
        "id": "ouNBYjrBBcYm",
        "outputId": "93c56bb4-6c8c-4191-9cde-945a2601e8cd"
      },
      "execution_count": null,
      "outputs": [
        {
          "output_type": "stream",
          "name": "stdout",
          "text": [
            "0    0.73907\n",
            "dtype: float64\n"
          ]
        }
      ]
    },
    {
      "cell_type": "code",
      "source": [
        "#寄与率\n",
        "df_exp_var_ratio = pd.DataFrame([pcamodel.explained_variance_ratio_],columns=pca_cols)\n",
        "df_exp_var_ratio.head()"
      ],
      "metadata": {
        "colab": {
          "base_uri": "https://localhost:8080/",
          "height": 80
        },
        "id": "s2sGC5yeBm3R",
        "outputId": "1dd064fa-3237-4a6e-f58d-3047300592b8"
      },
      "execution_count": null,
      "outputs": [
        {
          "output_type": "execute_result",
          "data": {
            "text/html": [
              "\n",
              "  <div id=\"df-18a5f170-aa90-45e9-891d-10c31e859316\">\n",
              "    <div class=\"colab-df-container\">\n",
              "      <div>\n",
              "<style scoped>\n",
              "    .dataframe tbody tr th:only-of-type {\n",
              "        vertical-align: middle;\n",
              "    }\n",
              "\n",
              "    .dataframe tbody tr th {\n",
              "        vertical-align: top;\n",
              "    }\n",
              "\n",
              "    .dataframe thead th {\n",
              "        text-align: right;\n",
              "    }\n",
              "</style>\n",
              "<table border=\"1\" class=\"dataframe\">\n",
              "  <thead>\n",
              "    <tr style=\"text-align: right;\">\n",
              "      <th></th>\n",
              "      <th>PC1</th>\n",
              "      <th>PC2</th>\n",
              "      <th>PC3</th>\n",
              "      <th>PC4</th>\n",
              "      <th>PC5</th>\n",
              "      <th>PC6</th>\n",
              "      <th>PC7</th>\n",
              "      <th>PC8</th>\n",
              "    </tr>\n",
              "  </thead>\n",
              "  <tbody>\n",
              "    <tr>\n",
              "      <th>0</th>\n",
              "      <td>0.467208</td>\n",
              "      <td>0.29671</td>\n",
              "      <td>0.10467</td>\n",
              "      <td>0.055999</td>\n",
              "      <td>0.038782</td>\n",
              "      <td>0.0231</td>\n",
              "      <td>0.007262</td>\n",
              "      <td>0.006269</td>\n",
              "    </tr>\n",
              "  </tbody>\n",
              "</table>\n",
              "</div>\n",
              "      <button class=\"colab-df-convert\" onclick=\"convertToInteractive('df-18a5f170-aa90-45e9-891d-10c31e859316')\"\n",
              "              title=\"Convert this dataframe to an interactive table.\"\n",
              "              style=\"display:none;\">\n",
              "        \n",
              "  <svg xmlns=\"http://www.w3.org/2000/svg\" height=\"24px\"viewBox=\"0 0 24 24\"\n",
              "       width=\"24px\">\n",
              "    <path d=\"M0 0h24v24H0V0z\" fill=\"none\"/>\n",
              "    <path d=\"M18.56 5.44l.94 2.06.94-2.06 2.06-.94-2.06-.94-.94-2.06-.94 2.06-2.06.94zm-11 1L8.5 8.5l.94-2.06 2.06-.94-2.06-.94L8.5 2.5l-.94 2.06-2.06.94zm10 10l.94 2.06.94-2.06 2.06-.94-2.06-.94-.94-2.06-.94 2.06-2.06.94z\"/><path d=\"M17.41 7.96l-1.37-1.37c-.4-.4-.92-.59-1.43-.59-.52 0-1.04.2-1.43.59L10.3 9.45l-7.72 7.72c-.78.78-.78 2.05 0 2.83L4 21.41c.39.39.9.59 1.41.59.51 0 1.02-.2 1.41-.59l7.78-7.78 2.81-2.81c.8-.78.8-2.07 0-2.86zM5.41 20L4 18.59l7.72-7.72 1.47 1.35L5.41 20z\"/>\n",
              "  </svg>\n",
              "      </button>\n",
              "      \n",
              "  <style>\n",
              "    .colab-df-container {\n",
              "      display:flex;\n",
              "      flex-wrap:wrap;\n",
              "      gap: 12px;\n",
              "    }\n",
              "\n",
              "    .colab-df-convert {\n",
              "      background-color: #E8F0FE;\n",
              "      border: none;\n",
              "      border-radius: 50%;\n",
              "      cursor: pointer;\n",
              "      display: none;\n",
              "      fill: #1967D2;\n",
              "      height: 32px;\n",
              "      padding: 0 0 0 0;\n",
              "      width: 32px;\n",
              "    }\n",
              "\n",
              "    .colab-df-convert:hover {\n",
              "      background-color: #E2EBFA;\n",
              "      box-shadow: 0px 1px 2px rgba(60, 64, 67, 0.3), 0px 1px 3px 1px rgba(60, 64, 67, 0.15);\n",
              "      fill: #174EA6;\n",
              "    }\n",
              "\n",
              "    [theme=dark] .colab-df-convert {\n",
              "      background-color: #3B4455;\n",
              "      fill: #D2E3FC;\n",
              "    }\n",
              "\n",
              "    [theme=dark] .colab-df-convert:hover {\n",
              "      background-color: #434B5C;\n",
              "      box-shadow: 0px 1px 3px 1px rgba(0, 0, 0, 0.15);\n",
              "      filter: drop-shadow(0px 1px 2px rgba(0, 0, 0, 0.3));\n",
              "      fill: #FFFFFF;\n",
              "    }\n",
              "  </style>\n",
              "\n",
              "      <script>\n",
              "        const buttonEl =\n",
              "          document.querySelector('#df-18a5f170-aa90-45e9-891d-10c31e859316 button.colab-df-convert');\n",
              "        buttonEl.style.display =\n",
              "          google.colab.kernel.accessAllowed ? 'block' : 'none';\n",
              "\n",
              "        async function convertToInteractive(key) {\n",
              "          const element = document.querySelector('#df-18a5f170-aa90-45e9-891d-10c31e859316');\n",
              "          const dataTable =\n",
              "            await google.colab.kernel.invokeFunction('convertToInteractive',\n",
              "                                                     [key], {});\n",
              "          if (!dataTable) return;\n",
              "\n",
              "          const docLinkHtml = 'Like what you see? Visit the ' +\n",
              "            '<a target=\"_blank\" href=https://colab.research.google.com/notebooks/data_table.ipynb>data table notebook</a>'\n",
              "            + ' to learn more about interactive tables.';\n",
              "          element.innerHTML = '';\n",
              "          dataTable['output_type'] = 'display_data';\n",
              "          await google.colab.output.renderOutput(dataTable, element);\n",
              "          const docLink = document.createElement('div');\n",
              "          docLink.innerHTML = docLinkHtml;\n",
              "          element.appendChild(docLink);\n",
              "        }\n",
              "      </script>\n",
              "    </div>\n",
              "  </div>\n",
              "  "
            ],
            "text/plain": [
              "        PC1      PC2      PC3       PC4       PC5     PC6       PC7       PC8\n",
              "0  0.467208  0.29671  0.10467  0.055999  0.038782  0.0231  0.007262  0.006269"
            ]
          },
          "metadata": {},
          "execution_count": 38
        }
      ]
    },
    {
      "cell_type": "code",
      "source": [
        "import matplotlib.pyplot as plt\n",
        "import numpy as np\n",
        "\n",
        "cum_exp_var_ratio = np.hstack([0, pcamodel.explained_variance_ratio_]).cumsum()\n",
        "plt.plot(cum_exp_var_ratio, 'D-')\n",
        "plt.xticks(range(14))\n",
        "plt.yticks(np.arange(0,1.05,0.05))\n",
        "plt.grid()\n",
        "plt.show()"
      ],
      "metadata": {
        "colab": {
          "base_uri": "https://localhost:8080/",
          "height": 265
        },
        "id": "IRS5G8CzByL8",
        "outputId": "bd83cf0d-0ba1-4016-8fd7-ff7d305b9a02"
      },
      "execution_count": null,
      "outputs": [
        {
          "output_type": "display_data",
          "data": {
            "image/png": "[encoded data removed]",
            "text/plain": [
              "<Figure size 432x288 with 1 Axes>"
            ]
          },
          "metadata": {
            "needs_background": "light"
          }
        }
      ]
    },
    {
      "cell_type": "code",
      "source": [
        "pca = PCA(n_components=0.95)              # 特徴量の成分を95％まで削減する\n",
        "X_train_pca = pca.fit_transform(X_train)  # 訓練データに適応させる\n",
        "X_test_pca = pca.transform(X_test)        # テストデータに適応させる\n",
        "print(\"もとの訓練データ\",X_train.shape[1])          # もとの特徴量の数\n",
        "print(\"次元削減後の訓練データ\",X_train_pca.shape[1]) # 次元削減後の特徴量の数"
      ],
      "metadata": {
        "colab": {
          "base_uri": "https://localhost:8080/"
        },
        "id": "xsPuiRXKEPQ4",
        "outputId": "2e2aac0b-8d64-4bc2-94c0-236623460798"
      },
      "execution_count": null,
      "outputs": [
        {
          "output_type": "stream",
          "name": "stdout",
          "text": [
            "もとの訓練データ 8\n",
            "次元削減後の訓練データ 5\n"
          ]
        }
      ]
    },
    {
      "cell_type": "code",
      "source": [
        "#次元削減後ロジスティック回帰のパターン\n",
        "model = LogisticRegression()\n",
        "model.fit(X_train_pca,train_y)\n",
        "y_pred = model.predict(X_test_pca)\n",
        "accuracy = accuracy_score(test_y, y_pred)\n",
        "accuracy"
      ],
      "metadata": {
        "colab": {
          "base_uri": "https://localhost:8080/"
        },
        "id": "Sd67KLYeEtfL",
        "outputId": "99806b80-5196-471e-979a-8af59991b9c8"
      },
      "execution_count": null,
      "outputs": [
        {
          "output_type": "stream",
          "name": "stderr",
          "text": [
            "/usr/local/lib/python3.7/dist-packages/sklearn/utils/validation.py:993: DataConversionWarning: A column-vector y was passed when a 1d array was expected. Please change the shape of y to (n_samples, ), for example using ravel().\n",
            "  y = column_or_1d(y, warn=True)\n"
          ]
        },
        {
          "output_type": "execute_result",
          "data": {
            "text/plain": [
              "0.7706359945872802"
            ]
          },
          "metadata": {},
          "execution_count": 320
        }
      ]
    },
    {
      "cell_type": "code",
      "source": [
        "#次元削減後のランダムフォレストランダムフォレスト\n",
        "model4 = RandomForestClassifier()\n",
        "model4.fit(X_train_pca,train_y)\n",
        "y_pred4 = model4.predict(X_test_pca)\n",
        "accuracy4 = accuracy_score(test_y, y_pred4)\n",
        "print(accuracy4)"
      ],
      "metadata": {
        "colab": {
          "base_uri": "https://localhost:8080/"
        },
        "id": "KErUdUJKFGsv",
        "outputId": "350e80bd-4946-4590-a03c-dad2f1225652"
      },
      "execution_count": null,
      "outputs": [
        {
          "output_type": "stream",
          "name": "stderr",
          "text": [
            "/usr/local/lib/python3.7/dist-packages/ipykernel_launcher.py:3: DataConversionWarning: A column-vector y was passed when a 1d array was expected. Please change the shape of y to (n_samples,), for example using ravel().\n",
            "  This is separate from the ipykernel package so we can avoid doing imports until\n"
          ]
        },
        {
          "output_type": "stream",
          "name": "stdout",
          "text": [
            "0.7401894451962111\n"
          ]
        }
      ]
    }
  ]
}