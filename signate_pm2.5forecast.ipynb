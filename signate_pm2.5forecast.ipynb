{
  "nbformat": 4,
  "nbformat_minor": 0,
  "metadata": {
    "colab": {
      "name": "store_sales_forecast",
      "provenance": [],
      "collapsed_sections": [],
      "include_colab_link": true
    },
    "kernelspec": {
      "name": "python3",
      "display_name": "Python 3"
    },
    "accelerator": "GPU"
  },
  "cells": [
    {
      "cell_type": "markdown",
      "metadata": {
        "id": "view-in-github",
        "colab_type": "text"
      },
      "source": [
        "<a href=\"https://colab.research.google.com/github/Keishin315/Keishin315/blob/main/signate_pm2.5forecast.ipynb\" target=\"_parent\"><img src=\"https://colab.research.google.com/assets/colab-badge.svg\" alt=\"Open In Colab\"/></a>"
      ]
    },
    {
      "cell_type": "markdown",
      "metadata": {
        "id": "mf2ENBI217Zd"
      },
      "source": [
        "# This notebook provides a recipe for using Kaggle API with Colab"
      ]
    },
    {
      "cell_type": "markdown",
      "metadata": {
        "id": "29ZLWbCNTYeH"
      },
      "source": [
        "# **以下分析✈**"
      ]
    },
    {
      "cell_type": "code",
      "metadata": {
        "id": "kxmXJ7Q7Thiv"
      },
      "source": [
        "import pandas as pd\n",
        "import numpy as np\n",
        "from sklearn.preprocessing import MinMaxScaler\n",
        "from tensorflow.keras.models import Sequential\n",
        "from tensorflow.keras.layers import Dense,Dropout\n",
        "from tensorflow.keras.layers import LSTM\n",
        "from tensorflow.keras.optimizers import Adam"
      ],
      "execution_count": null,
      "outputs": []
    },
    {
      "cell_type": "markdown",
      "metadata": {
        "id": "rPOD_aJFFeEU"
      },
      "source": [
        "ファイルの読み込み"
      ]
    },
    {
      "cell_type": "code",
      "metadata": {
        "id": "ksgE63FxT3B1"
      },
      "source": [
        "traincsv = pd.read_csv('train.csv.zip')"
      ],
      "execution_count": null,
      "outputs": []
    },
    {
      "cell_type": "markdown",
      "metadata": {
        "id": "sjBFA4XSFlyK"
      },
      "source": [
        "datetimeオブジェクトに変換"
      ]
    },
    {
      "cell_type": "code",
      "metadata": {
        "id": "-cLb0b8go1Cf"
      },
      "source": [
        "traincsv.date = pd.to_datetime(traincsv[\"date\"])"
      ],
      "execution_count": null,
      "outputs": []
    },
    {
      "cell_type": "markdown",
      "metadata": {
        "id": "q7fkB-m7FvqZ"
      },
      "source": [
        "ソートして、データセットを作る時のfor文を回せるようにする。"
      ]
    },
    {
      "cell_type": "code",
      "metadata": {
        "id": "MurnUoKKUp68"
      },
      "source": [
        "traincsv = traincsv.sort_values(['date','store_nbr','family'])"
      ],
      "execution_count": null,
      "outputs": []
    },
    {
      "cell_type": "code",
      "metadata": {
        "colab": {
          "base_uri": "https://localhost:8080/",
          "height": 450
        },
        "id": "I4HSuNiGrffl",
        "outputId": "f241fa70-56ab-4bef-f7c7-bed566886a2d"
      },
      "source": [
        "train = traincsv.set_index('date').drop('id',axis = 1).copy()\n",
        "train"
      ],
      "execution_count": null,
      "outputs": [
        {
          "output_type": "execute_result",
          "data": {
            "text/html": [
              "<div>\n",
              "<style scoped>\n",
              "    .dataframe tbody tr th:only-of-type {\n",
              "        vertical-align: middle;\n",
              "    }\n",
              "\n",
              "    .dataframe tbody tr th {\n",
              "        vertical-align: top;\n",
              "    }\n",
              "\n",
              "    .dataframe thead th {\n",
              "        text-align: right;\n",
              "    }\n",
              "</style>\n",
              "<table border=\"1\" class=\"dataframe\">\n",
              "  <thead>\n",
              "    <tr style=\"text-align: right;\">\n",
              "      <th></th>\n",
              "      <th>store_nbr</th>\n",
              "      <th>family</th>\n",
              "      <th>sales</th>\n",
              "      <th>onpromotion</th>\n",
              "    </tr>\n",
              "    <tr>\n",
              "      <th>date</th>\n",
              "      <th></th>\n",
              "      <th></th>\n",
              "      <th></th>\n",
              "      <th></th>\n",
              "    </tr>\n",
              "  </thead>\n",
              "  <tbody>\n",
              "    <tr>\n",
              "      <th>2013-01-01</th>\n",
              "      <td>1</td>\n",
              "      <td>AUTOMOTIVE</td>\n",
              "      <td>0.000</td>\n",
              "      <td>0</td>\n",
              "    </tr>\n",
              "    <tr>\n",
              "      <th>2013-01-01</th>\n",
              "      <td>1</td>\n",
              "      <td>BABY CARE</td>\n",
              "      <td>0.000</td>\n",
              "      <td>0</td>\n",
              "    </tr>\n",
              "    <tr>\n",
              "      <th>2013-01-01</th>\n",
              "      <td>1</td>\n",
              "      <td>BEAUTY</td>\n",
              "      <td>0.000</td>\n",
              "      <td>0</td>\n",
              "    </tr>\n",
              "    <tr>\n",
              "      <th>2013-01-01</th>\n",
              "      <td>1</td>\n",
              "      <td>BEVERAGES</td>\n",
              "      <td>0.000</td>\n",
              "      <td>0</td>\n",
              "    </tr>\n",
              "    <tr>\n",
              "      <th>2013-01-01</th>\n",
              "      <td>1</td>\n",
              "      <td>BOOKS</td>\n",
              "      <td>0.000</td>\n",
              "      <td>0</td>\n",
              "    </tr>\n",
              "    <tr>\n",
              "      <th>...</th>\n",
              "      <td>...</td>\n",
              "      <td>...</td>\n",
              "      <td>...</td>\n",
              "      <td>...</td>\n",
              "    </tr>\n",
              "    <tr>\n",
              "      <th>2017-08-15</th>\n",
              "      <td>54</td>\n",
              "      <td>POULTRY</td>\n",
              "      <td>59.619</td>\n",
              "      <td>0</td>\n",
              "    </tr>\n",
              "    <tr>\n",
              "      <th>2017-08-15</th>\n",
              "      <td>54</td>\n",
              "      <td>PREPARED FOODS</td>\n",
              "      <td>94.000</td>\n",
              "      <td>0</td>\n",
              "    </tr>\n",
              "    <tr>\n",
              "      <th>2017-08-15</th>\n",
              "      <td>54</td>\n",
              "      <td>PRODUCE</td>\n",
              "      <td>915.371</td>\n",
              "      <td>76</td>\n",
              "    </tr>\n",
              "    <tr>\n",
              "      <th>2017-08-15</th>\n",
              "      <td>54</td>\n",
              "      <td>SCHOOL AND OFFICE SUPPLIES</td>\n",
              "      <td>0.000</td>\n",
              "      <td>0</td>\n",
              "    </tr>\n",
              "    <tr>\n",
              "      <th>2017-08-15</th>\n",
              "      <td>54</td>\n",
              "      <td>SEAFOOD</td>\n",
              "      <td>3.000</td>\n",
              "      <td>0</td>\n",
              "    </tr>\n",
              "  </tbody>\n",
              "</table>\n",
              "<p>3000888 rows × 4 columns</p>\n",
              "</div>"
            ],
            "text/plain": [
              "            store_nbr                      family    sales  onpromotion\n",
              "date                                                                   \n",
              "2013-01-01          1                  AUTOMOTIVE    0.000            0\n",
              "2013-01-01          1                   BABY CARE    0.000            0\n",
              "2013-01-01          1                      BEAUTY    0.000            0\n",
              "2013-01-01          1                   BEVERAGES    0.000            0\n",
              "2013-01-01          1                       BOOKS    0.000            0\n",
              "...               ...                         ...      ...          ...\n",
              "2017-08-15         54                     POULTRY   59.619            0\n",
              "2017-08-15         54              PREPARED FOODS   94.000            0\n",
              "2017-08-15         54                     PRODUCE  915.371           76\n",
              "2017-08-15         54  SCHOOL AND OFFICE SUPPLIES    0.000            0\n",
              "2017-08-15         54                     SEAFOOD    3.000            0\n",
              "\n",
              "[3000888 rows x 4 columns]"
            ]
          },
          "metadata": {},
          "execution_count": 420
        }
      ]
    },
    {
      "cell_type": "markdown",
      "metadata": {
        "id": "bsPoV_YFGDiN"
      },
      "source": [
        "データを変数とラベルに分ける"
      ]
    },
    {
      "cell_type": "code",
      "metadata": {
        "id": "JYzBJKf-d086"
      },
      "source": [
        "trainY = train.sales\n",
        "train = train.drop('sales',axis = 1)"
      ],
      "execution_count": null,
      "outputs": []
    },
    {
      "cell_type": "code",
      "metadata": {
        "id": "pi18p04qicWu"
      },
      "source": [
        "train = np.array(train)\n",
        "trainY = np.array(trainY)"
      ],
      "execution_count": null,
      "outputs": []
    },
    {
      "cell_type": "markdown",
      "metadata": {
        "id": "GzHPFE3lGRqT"
      },
      "source": [
        "データセットを作るための関数（５３＊３３で一つのデータセットとする）"
      ]
    },
    {
      "cell_type": "code",
      "metadata": {
        "id": "kFYYORv7Xh0-"
      },
      "source": [
        "#datasetを作る\n",
        "\n",
        "def make_dataset(data,dataY):\n",
        "  datasetX = []\n",
        "  yset = []\n",
        "  max_length = len(data)\n",
        "  for i in range(54*33*7,max_length-54*33,54*33):\n",
        "    datasetX.append(data[i-54*33*7:i,2])\n",
        "    yset.append(dataY[i:i+54*33])\n",
        "\n",
        "  return datasetX,yset\n",
        "\n",
        "  "
      ],
      "execution_count": null,
      "outputs": []
    },
    {
      "cell_type": "code",
      "metadata": {
        "id": "xpAVGaRCZ05i"
      },
      "source": [
        "trainX,trainY = make_dataset(train,trainY)"
      ],
      "execution_count": null,
      "outputs": []
    },
    {
      "cell_type": "markdown",
      "metadata": {
        "id": "wgUgEBsKGhB2"
      },
      "source": [
        "スケーリングを行い、ネットワークが学習しやすいようにする。"
      ]
    },
    {
      "cell_type": "code",
      "metadata": {
        "id": "2jmiVe0Y0bKg"
      },
      "source": [
        "#scaling\n",
        "scaler = MinMaxScaler()  # データを0～1の範囲にスケールするための関数。\n",
        "scaler.fit(trainX)  # スケーリングに使用する最小／最大値を計算する。\n",
        "train = scaler.transform(trainX)  # Xをを0～1の範囲にスケーリングする。\n",
        "\n",
        "scaler1 = MinMaxScaler()  # データを0～1の範囲にスケールするための関数。\n",
        "scaler1.fit(trainY)  # スケーリングに使用する最小／最大値を計算する。\n",
        "trainY = scaler1.transform(trainY)  # Yをを0～1の範囲にスケーリングする。"
      ],
      "execution_count": null,
      "outputs": []
    },
    {
      "cell_type": "markdown",
      "metadata": {
        "id": "K2iU_pmYG3ul"
      },
      "source": [
        "LSTMモデルにinputするためにデータの形を整形"
      ]
    },
    {
      "cell_type": "code",
      "metadata": {
        "colab": {
          "base_uri": "https://localhost:8080/"
        },
        "id": "fsUtBQsKgJsZ",
        "outputId": "bdd3cdf0-194d-48bf-973a-0a2273083014"
      },
      "source": [
        "trainY = np.array(trainY)\n",
        "trainX = np.array(trainX)\n",
        "trainX = np.reshape(trainX,(trainX.shape[0],1,trainX.shape[1]))\n",
        "print(trainY.shape,trainX.shape)"
      ],
      "execution_count": null,
      "outputs": [
        {
          "output_type": "stream",
          "name": "stdout",
          "text": [
            "(1676, 1782) (1676, 1, 12474)\n"
          ]
        }
      ]
    },
    {
      "cell_type": "code",
      "metadata": {
        "id": "yB_xJrlbgU9a"
      },
      "source": [
        "train_X = np.asarray(train_X).astype(np.float32)\n",
        "train_Y = np.asarray(train_Y).astype(np.float32)"
      ],
      "execution_count": null,
      "outputs": []
    },
    {
      "cell_type": "markdown",
      "metadata": {
        "id": "z6QkA0TQHNFn"
      },
      "source": [
        "学習データと検証データに分ける"
      ]
    },
    {
      "cell_type": "code",
      "metadata": {
        "id": "zeSMRDDTiX_b"
      },
      "source": [
        "# train, testデータを定義\n",
        "train_X = trainX[:1000, :, :]\n",
        "test_X = trainX[1000:, :, :]\n",
        "train_Y = trainY[:1000, :]\n",
        "test_Y = trainY[1000:, :]"
      ],
      "execution_count": null,
      "outputs": []
    },
    {
      "cell_type": "code",
      "metadata": {
        "id": "Hu0eyv5Vus-n"
      },
      "source": [
        "test_X = np.asarray(test_X).astype(np.float32)\n",
        "test_Y = np.asarray(test_Y).astype(np.float32)"
      ],
      "execution_count": null,
      "outputs": []
    },
    {
      "cell_type": "code",
      "metadata": {
        "colab": {
          "base_uri": "https://localhost:8080/"
        },
        "id": "Xa3WWvs7gWHW",
        "outputId": "279506db-56b6-4c0a-b66c-2f13331f160f"
      },
      "source": [
        "train_Y"
      ],
      "execution_count": null,
      "outputs": [
        {
          "output_type": "execute_result",
          "data": {
            "text/plain": [
              "array([[0.10526316, 0.        , 0.25      , ..., 0.        , 0.        ,\n",
              "        0.04166667],\n",
              "       [0.10526316, 0.        , 0.08333334, ..., 0.        , 0.        ,\n",
              "        0.04166667],\n",
              "       [0.10526316, 0.        , 0.25      , ..., 0.        , 0.        ,\n",
              "        0.04166667],\n",
              "       ...,\n",
              "       [0.05263158, 0.        , 0.16666667, ..., 0.38605216, 0.        ,\n",
              "        0.20833333],\n",
              "       [0.2631579 , 0.        , 0.5833333 , ..., 0.2987891 , 0.        ,\n",
              "        0.29166666],\n",
              "       [0.42105263, 0.        , 0.25      , ..., 0.35237238, 0.        ,\n",
              "        0.04166667]], dtype=float32)"
            ]
          },
          "metadata": {},
          "execution_count": 430
        }
      ]
    },
    {
      "cell_type": "markdown",
      "metadata": {
        "id": "hlA6LLf8HVzq"
      },
      "source": [
        "LSTMモデルの定義と学習"
      ]
    },
    {
      "cell_type": "code",
      "metadata": {
        "colab": {
          "base_uri": "https://localhost:8080/"
        },
        "id": "VL1ZqkfAbKxf",
        "outputId": "61dabb6f-e7c4-45be-ce9e-ceb34f1a9293"
      },
      "source": [
        "model = Sequential()\n",
        "model.add(LSTM(50, input_shape=(1,54*33*7)))\n",
        "model.add(Dense(1782))\n",
        "model.compile(loss='mean_squared_error', optimizer='adam')\n",
        "hist = model.fit(train_X,train_Y,epochs=20, batch_size=1, verbose=2)"
      ],
      "execution_count": null,
      "outputs": [
        {
          "output_type": "stream",
          "name": "stdout",
          "text": [
            "Epoch 1/20\n",
            "1000/1000 - 10s - loss: 0.0138 - 10s/epoch - 10ms/step\n",
            "Epoch 2/20\n",
            "1000/1000 - 9s - loss: 0.0091 - 9s/epoch - 9ms/step\n",
            "Epoch 3/20\n",
            "1000/1000 - 9s - loss: 0.0087 - 9s/epoch - 9ms/step\n",
            "Epoch 4/20\n",
            "1000/1000 - 9s - loss: 0.0086 - 9s/epoch - 9ms/step\n",
            "Epoch 5/20\n",
            "1000/1000 - 9s - loss: 0.0086 - 9s/epoch - 9ms/step\n",
            "Epoch 6/20\n",
            "1000/1000 - 9s - loss: 0.0086 - 9s/epoch - 9ms/step\n",
            "Epoch 7/20\n",
            "1000/1000 - 9s - loss: 0.0085 - 9s/epoch - 9ms/step\n",
            "Epoch 8/20\n",
            "1000/1000 - 9s - loss: 0.0086 - 9s/epoch - 9ms/step\n",
            "Epoch 9/20\n",
            "1000/1000 - 9s - loss: 0.0085 - 9s/epoch - 9ms/step\n",
            "Epoch 10/20\n",
            "1000/1000 - 9s - loss: 0.0084 - 9s/epoch - 9ms/step\n",
            "Epoch 11/20\n",
            "1000/1000 - 9s - loss: 0.0084 - 9s/epoch - 9ms/step\n",
            "Epoch 12/20\n",
            "1000/1000 - 9s - loss: 0.0084 - 9s/epoch - 9ms/step\n",
            "Epoch 13/20\n",
            "1000/1000 - 9s - loss: 0.0084 - 9s/epoch - 9ms/step\n",
            "Epoch 14/20\n",
            "1000/1000 - 9s - loss: 0.0084 - 9s/epoch - 9ms/step\n",
            "Epoch 15/20\n",
            "1000/1000 - 9s - loss: 0.0084 - 9s/epoch - 9ms/step\n",
            "Epoch 16/20\n",
            "1000/1000 - 9s - loss: 0.0084 - 9s/epoch - 9ms/step\n",
            "Epoch 17/20\n",
            "1000/1000 - 9s - loss: 0.0084 - 9s/epoch - 9ms/step\n",
            "Epoch 18/20\n",
            "1000/1000 - 9s - loss: 0.0083 - 9s/epoch - 9ms/step\n",
            "Epoch 19/20\n",
            "1000/1000 - 9s - loss: 0.0083 - 9s/epoch - 9ms/step\n",
            "Epoch 20/20\n",
            "1000/1000 - 9s - loss: 0.0084 - 9s/epoch - 9ms/step\n"
          ]
        }
      ]
    },
    {
      "cell_type": "markdown",
      "metadata": {
        "id": "jhs7UmELHgq2"
      },
      "source": [
        "検証データの予測"
      ]
    },
    {
      "cell_type": "code",
      "metadata": {
        "id": "kBBnoSJVrIej"
      },
      "source": [
        "Predict = model.predict(test_X)"
      ],
      "execution_count": null,
      "outputs": []
    },
    {
      "cell_type": "code",
      "metadata": {
        "colab": {
          "base_uri": "https://localhost:8080/"
        },
        "id": "JyzbEkLivkx6",
        "outputId": "bf46136f-22ee-418c-8ae1-90c8483da5c6"
      },
      "source": [
        "Predict.shape"
      ],
      "execution_count": null,
      "outputs": [
        {
          "output_type": "execute_result",
          "data": {
            "text/plain": [
              "(676, 1782)"
            ]
          },
          "metadata": {},
          "execution_count": 434
        }
      ]
    },
    {
      "cell_type": "markdown",
      "metadata": {
        "id": "7yNUW7csHok9"
      },
      "source": [
        "スケールを戻す"
      ]
    },
    {
      "cell_type": "code",
      "metadata": {
        "id": "7vfA8ZJ826ux"
      },
      "source": [
        "#scaleを元に戻す\n",
        "train_Y = scaler1.inverse_transform(train_Y)\n",
        "train_Y = pd.DataFrame(train_Y)\n",
        "\n",
        "\n",
        "test_Y = scaler1.inverse_transform(test_Y)\n",
        "test_Y = pd.DataFrame(test_Y)\n",
        "\n",
        "\n"
      ],
      "execution_count": null,
      "outputs": []
    },
    {
      "cell_type": "code",
      "metadata": {
        "id": "NMRy-0kg3PoX"
      },
      "source": [
        "Predict = scaler1.inverse_transform(Predict)\n",
        "Predict = pd.DataFrame(Predict)\n"
      ],
      "execution_count": null,
      "outputs": []
    },
    {
      "cell_type": "markdown",
      "metadata": {
        "id": "OqJejLiGHuq9"
      },
      "source": [
        "最初の５０個の正解データと予測データを可視化して比較してみる。"
      ]
    },
    {
      "cell_type": "code",
      "metadata": {
        "id": "fzoE-AnmuWMC"
      },
      "source": [
        "import matplotlib.pyplot as plt"
      ],
      "execution_count": null,
      "outputs": []
    },
    {
      "cell_type": "code",
      "metadata": {
        "colab": {
          "base_uri": "https://localhost:8080/",
          "height": 592
        },
        "id": "8m5FMdk8uWOe",
        "outputId": "40e81a5f-d1b4-4225-f3f0-00610ded22c1"
      },
      "source": [
        "plt.figure(figsize=(15,10))\n",
        "plt.plot(test_Y.iloc[0,:100], label = 'Test')\n",
        "plt.plot(Predict.iloc[0,:100], label = 'Prediction')\n",
        "plt.legend(loc='best')\n",
        "plt.show()"
      ],
      "execution_count": null,
      "outputs": [
        {
          "output_type": "display_data",
          "data": {
            "image/png": "[encoded data removed]",
            "text/plain": [
              "<Figure size 1080x720 with 1 Axes>"
            ]
          },
          "metadata": {
            "needs_background": "light"
          }
        }
      ]
    },
    {
      "cell_type": "markdown",
      "metadata": {
        "id": "3vfJfJ2jIIDC"
      },
      "source": [
        "\n",
        "\n",
        "#\n",
        "\n",
        "\n",
        "\n",
        "\n",
        "\n",
        "#以下、提出データの作成（とても雑になりました。時間がある時にまたまとめます）\n",
        "\n",
        "\n",
        "---\n",
        "\n"
      ]
    },
    {
      "cell_type": "code",
      "metadata": {
        "id": "HA_l3yzguWXs"
      },
      "source": [
        "test = pd.read_csv('test.csv')"
      ],
      "execution_count": null,
      "outputs": []
    },
    {
      "cell_type": "code",
      "metadata": {
        "id": "glWa132a8CY5"
      },
      "source": [
        "test.date = pd.to_datetime(test.date)"
      ],
      "execution_count": null,
      "outputs": []
    },
    {
      "cell_type": "code",
      "metadata": {
        "id": "HNu2EPsbcJhD"
      },
      "source": [
        "tests = pd.read_csv('test.csv')"
      ],
      "execution_count": null,
      "outputs": []
    },
    {
      "cell_type": "code",
      "metadata": {
        "colab": {
          "base_uri": "https://localhost:8080/"
        },
        "id": "tOuG0HjpcR9F",
        "outputId": "f9e86237-0718-4e82-d1f7-6d689a7d40f3"
      },
      "source": [
        "28512 - 5346"
      ],
      "execution_count": null,
      "outputs": [
        {
          "output_type": "execute_result",
          "data": {
            "text/plain": [
              "23166"
            ]
          },
          "metadata": {},
          "execution_count": 45
        }
      ]
    },
    {
      "cell_type": "code",
      "metadata": {
        "colab": {
          "base_uri": "https://localhost:8080/"
        },
        "id": "jE9xvzLTdgzj",
        "outputId": "68d25dc9-9657-4896-e8aa-da1b1f3bff97"
      },
      "source": [
        "23166/54/33"
      ],
      "execution_count": null,
      "outputs": [
        {
          "output_type": "execute_result",
          "data": {
            "text/plain": [
              "13.0"
            ]
          },
          "metadata": {},
          "execution_count": 46
        }
      ]
    },
    {
      "cell_type": "code",
      "metadata": {
        "colab": {
          "base_uri": "https://localhost:8080/"
        },
        "id": "TW7zUT-C9-lX",
        "outputId": "7ab5713e-6257-40eb-a97c-109fffbeff43"
      },
      "source": [
        "7128/1782"
      ],
      "execution_count": null,
      "outputs": [
        {
          "output_type": "execute_result",
          "data": {
            "text/plain": [
              "4.0"
            ]
          },
          "metadata": {},
          "execution_count": 97
        }
      ]
    },
    {
      "cell_type": "code",
      "metadata": {
        "colab": {
          "base_uri": "https://localhost:8080/"
        },
        "id": "2qNvGP4WEyXU",
        "outputId": "f4d96a16-3bd7-4032-fa71-e9fb2ddcc48f"
      },
      "source": [
        "54*33"
      ],
      "execution_count": null,
      "outputs": [
        {
          "output_type": "execute_result",
          "data": {
            "text/plain": [
              "1782"
            ]
          },
          "metadata": {},
          "execution_count": 87
        }
      ]
    },
    {
      "cell_type": "code",
      "metadata": {
        "id": "ukL1U8xQ91fe"
      },
      "source": [
        "def make_dataset_t(data):\n",
        "  datasetX = []\n",
        "  max_length = len(data)\n",
        "  for i in range(54*33*7,max_length-54*33+1,54*33):\n",
        "    datasetX.append(data[i-54*33*7:i,1])\n",
        "\n",
        "  return datasetX"
      ],
      "execution_count": null,
      "outputs": []
    },
    {
      "cell_type": "code",
      "metadata": {
        "colab": {
          "base_uri": "https://localhost:8080/"
        },
        "id": "jE75aNfy54k3",
        "outputId": "3f28e1af-f5c5-47a2-c365-77ca9f901e0f"
      },
      "source": [
        "\n",
        "test = test.sort_values(['date','store_nbr','family'])\n",
        "\n",
        "test = test.set_index('date').drop(['id','family'],axis = 1).copy()\n",
        "\n",
        "test = np.array(test)\n",
        "test = make_dataset_t(test)\n",
        "\n",
        "test = np.array(test)\n",
        "test = np.asarray(test).astype(np.float32)\n",
        "#scaling  # データを0～1の範囲にスケールするための関数。\n",
        "scaler.fit(test)  # スケーリングに使用する最小／最大値を計算する。\n",
        "test1 = scaler.transform(test)  # Xをを0～1の範囲にスケーリングする。\n",
        "\n",
        "\n",
        "test1 = np.reshape(test1,(test1.shape[0],1,test1.shape[1]))\n",
        "print(test1.shape)"
      ],
      "execution_count": null,
      "outputs": [
        {
          "output_type": "stream",
          "name": "stdout",
          "text": [
            "(9, 1, 12474)\n"
          ]
        }
      ]
    },
    {
      "cell_type": "code",
      "metadata": {
        "colab": {
          "base_uri": "https://localhost:8080/"
        },
        "id": "GqqGDNu3FZEv",
        "outputId": "4b447186-d73a-49e8-f46c-f489e54fa68b"
      },
      "source": [
        "test1.shape"
      ],
      "execution_count": null,
      "outputs": [
        {
          "output_type": "execute_result",
          "data": {
            "text/plain": [
              "(9, 1, 12474)"
            ]
          },
          "metadata": {},
          "execution_count": 444
        }
      ]
    },
    {
      "cell_type": "code",
      "metadata": {
        "id": "-06BNkkl-bIv"
      },
      "source": [
        "sub = model.predict(test1)"
      ],
      "execution_count": null,
      "outputs": []
    },
    {
      "cell_type": "code",
      "metadata": {
        "colab": {
          "base_uri": "https://localhost:8080/"
        },
        "id": "4dN7NJTy-9Xj",
        "outputId": "334ef8b3-06f2-446d-e2b7-fd3b40b2ed11"
      },
      "source": [
        "sub.shape"
      ],
      "execution_count": null,
      "outputs": [
        {
          "output_type": "execute_result",
          "data": {
            "text/plain": [
              "(9, 1782)"
            ]
          },
          "metadata": {},
          "execution_count": 446
        }
      ]
    },
    {
      "cell_type": "code",
      "metadata": {
        "colab": {
          "base_uri": "https://localhost:8080/"
        },
        "id": "C0OOPN1fcA16",
        "outputId": "72f181de-6c77-4cd4-d751-24461991a178"
      },
      "source": [
        "1782*16"
      ],
      "execution_count": null,
      "outputs": [
        {
          "output_type": "execute_result",
          "data": {
            "text/plain": [
              "28512"
            ]
          },
          "metadata": {},
          "execution_count": 447
        }
      ]
    },
    {
      "cell_type": "code",
      "metadata": {
        "id": "rNDEF9n7_UEF"
      },
      "source": [
        "sub=pd.DataFrame(sub)"
      ],
      "execution_count": null,
      "outputs": []
    },
    {
      "cell_type": "code",
      "metadata": {
        "id": "PQyAtK7b-i48"
      },
      "source": [
        "sub = scaler1.inverse_transform(sub)"
      ],
      "execution_count": null,
      "outputs": []
    },
    {
      "cell_type": "code",
      "metadata": {
        "colab": {
          "base_uri": "https://localhost:8080/",
          "height": 419
        },
        "id": "LmOblEaxDQnj",
        "outputId": "4683422b-b4de-4b21-e2ed-f9e5e6221457"
      },
      "source": [
        "subm = []\n",
        "for i in sub:\n",
        "  for k in i:\n",
        "    subm.append(k)\n",
        "\n",
        "subm = pd.DataFrame(subm)\n",
        "subm"
      ],
      "execution_count": null,
      "outputs": [
        {
          "output_type": "execute_result",
          "data": {
            "text/html": [
              "<div>\n",
              "<style scoped>\n",
              "    .dataframe tbody tr th:only-of-type {\n",
              "        vertical-align: middle;\n",
              "    }\n",
              "\n",
              "    .dataframe tbody tr th {\n",
              "        vertical-align: top;\n",
              "    }\n",
              "\n",
              "    .dataframe thead th {\n",
              "        text-align: right;\n",
              "    }\n",
              "</style>\n",
              "<table border=\"1\" class=\"dataframe\">\n",
              "  <thead>\n",
              "    <tr style=\"text-align: right;\">\n",
              "      <th></th>\n",
              "      <th>0</th>\n",
              "    </tr>\n",
              "  </thead>\n",
              "  <tbody>\n",
              "    <tr>\n",
              "      <th>0</th>\n",
              "      <td>3.941776</td>\n",
              "    </tr>\n",
              "    <tr>\n",
              "      <th>1</th>\n",
              "      <td>-0.000023</td>\n",
              "    </tr>\n",
              "    <tr>\n",
              "      <th>2</th>\n",
              "      <td>2.663698</td>\n",
              "    </tr>\n",
              "    <tr>\n",
              "      <th>3</th>\n",
              "      <td>1598.146851</td>\n",
              "    </tr>\n",
              "    <tr>\n",
              "      <th>4</th>\n",
              "      <td>0.002273</td>\n",
              "    </tr>\n",
              "    <tr>\n",
              "      <th>...</th>\n",
              "      <td>...</td>\n",
              "    </tr>\n",
              "    <tr>\n",
              "      <th>16033</th>\n",
              "      <td>52.930943</td>\n",
              "    </tr>\n",
              "    <tr>\n",
              "      <th>16034</th>\n",
              "      <td>75.043999</td>\n",
              "    </tr>\n",
              "    <tr>\n",
              "      <th>16035</th>\n",
              "      <td>666.414368</td>\n",
              "    </tr>\n",
              "    <tr>\n",
              "      <th>16036</th>\n",
              "      <td>0.011224</td>\n",
              "    </tr>\n",
              "    <tr>\n",
              "      <th>16037</th>\n",
              "      <td>2.055929</td>\n",
              "    </tr>\n",
              "  </tbody>\n",
              "</table>\n",
              "<p>16038 rows × 1 columns</p>\n",
              "</div>"
            ],
            "text/plain": [
              "                 0\n",
              "0         3.941776\n",
              "1        -0.000023\n",
              "2         2.663698\n",
              "3      1598.146851\n",
              "4         0.002273\n",
              "...            ...\n",
              "16033    52.930943\n",
              "16034    75.043999\n",
              "16035   666.414368\n",
              "16036     0.011224\n",
              "16037     2.055929\n",
              "\n",
              "[16038 rows x 1 columns]"
            ]
          },
          "metadata": {},
          "execution_count": 450
        }
      ]
    },
    {
      "cell_type": "markdown",
      "metadata": {
        "id": "Fb_WHL5pcwAn"
      },
      "source": [
        "# **ii)**"
      ]
    },
    {
      "cell_type": "code",
      "metadata": {
        "id": "EGv96r45cyE3"
      },
      "source": [
        "hosokumi = hosokumi.drop('index',axis = 1)"
      ],
      "execution_count": null,
      "outputs": []
    },
    {
      "cell_type": "code",
      "metadata": {
        "id": "TF31exgjDQqI"
      },
      "source": [
        "hosokumi['id'] = pd.DataFrame(list(range(3000888,3029400)))\n",
        "hosokumi = hosokumi.set_index(['id'])"
      ],
      "execution_count": null,
      "outputs": []
    },
    {
      "cell_type": "code",
      "metadata": {
        "id": "7b8zE0Jaqm_O"
      },
      "source": [
        "hosokumi['sales'] = hosokumi.iloc[:,0].copy()"
      ],
      "execution_count": null,
      "outputs": []
    },
    {
      "cell_type": "code",
      "metadata": {
        "id": "cochObrTrzKQ"
      },
      "source": [
        "hosokumi = hosokumi.drop(0,axis = 1)"
      ],
      "execution_count": null,
      "outputs": []
    },
    {
      "cell_type": "code",
      "metadata": {
        "colab": {
          "base_uri": "https://localhost:8080/",
          "height": 450
        },
        "id": "gwPuN9Pv7Ap4",
        "outputId": "7f629dc7-5325-4520-cef8-9455590ab918"
      },
      "source": [
        "hosokumi"
      ],
      "execution_count": null,
      "outputs": [
        {
          "output_type": "execute_result",
          "data": {
            "text/html": [
              "<div>\n",
              "<style scoped>\n",
              "    .dataframe tbody tr th:only-of-type {\n",
              "        vertical-align: middle;\n",
              "    }\n",
              "\n",
              "    .dataframe tbody tr th {\n",
              "        vertical-align: top;\n",
              "    }\n",
              "\n",
              "    .dataframe thead th {\n",
              "        text-align: right;\n",
              "    }\n",
              "</style>\n",
              "<table border=\"1\" class=\"dataframe\">\n",
              "  <thead>\n",
              "    <tr style=\"text-align: right;\">\n",
              "      <th></th>\n",
              "      <th>sales</th>\n",
              "    </tr>\n",
              "    <tr>\n",
              "      <th>id</th>\n",
              "      <th></th>\n",
              "    </tr>\n",
              "  </thead>\n",
              "  <tbody>\n",
              "    <tr>\n",
              "      <th>3000888</th>\n",
              "      <td>3.995968</td>\n",
              "    </tr>\n",
              "    <tr>\n",
              "      <th>3000889</th>\n",
              "      <td>4.546751</td>\n",
              "    </tr>\n",
              "    <tr>\n",
              "      <th>3000890</th>\n",
              "      <td>3.649341</td>\n",
              "    </tr>\n",
              "    <tr>\n",
              "      <th>3000891</th>\n",
              "      <td>4.179337</td>\n",
              "    </tr>\n",
              "    <tr>\n",
              "      <th>3000892</th>\n",
              "      <td>4.549112</td>\n",
              "    </tr>\n",
              "    <tr>\n",
              "      <th>...</th>\n",
              "      <td>...</td>\n",
              "    </tr>\n",
              "    <tr>\n",
              "      <th>3029395</th>\n",
              "      <td>52.930943</td>\n",
              "    </tr>\n",
              "    <tr>\n",
              "      <th>3029396</th>\n",
              "      <td>75.043999</td>\n",
              "    </tr>\n",
              "    <tr>\n",
              "      <th>3029397</th>\n",
              "      <td>666.414368</td>\n",
              "    </tr>\n",
              "    <tr>\n",
              "      <th>3029398</th>\n",
              "      <td>0.011224</td>\n",
              "    </tr>\n",
              "    <tr>\n",
              "      <th>3029399</th>\n",
              "      <td>2.055929</td>\n",
              "    </tr>\n",
              "  </tbody>\n",
              "</table>\n",
              "<p>28512 rows × 1 columns</p>\n",
              "</div>"
            ],
            "text/plain": [
              "              sales\n",
              "id                 \n",
              "3000888    3.995968\n",
              "3000889    4.546751\n",
              "3000890    3.649341\n",
              "3000891    4.179337\n",
              "3000892    4.549112\n",
              "...             ...\n",
              "3029395   52.930943\n",
              "3029396   75.043999\n",
              "3029397  666.414368\n",
              "3029398    0.011224\n",
              "3029399    2.055929\n",
              "\n",
              "[28512 rows x 1 columns]"
            ]
          },
          "metadata": {},
          "execution_count": 485
        }
      ]
    },
    {
      "cell_type": "code",
      "metadata": {
        "id": "qm6Z3R7UpBvH"
      },
      "source": [
        "hosokumi.to_csv('pred.csv')"
      ],
      "execution_count": null,
      "outputs": []
    },
    {
      "cell_type": "code",
      "metadata": {
        "colab": {
          "base_uri": "https://localhost:8080/"
        },
        "id": "8sEaMdb1oz72",
        "outputId": "e24db017-97da-4f72-94c1-c70b7d84f7f4"
      },
      "source": [
        "!kaggle competitions submit -c store-sales-time-series-forecasting -f pred.csv -m test"
      ],
      "execution_count": null,
      "outputs": [
        {
          "output_type": "stream",
          "name": "stdout",
          "text": [
            "Warning: Looks like you're using an outdated API Version, please consider updating (server 1.5.12 / client 1.5.4)\n",
            "100% 741k/741k [00:02<00:00, 350kB/s]\n",
            "400 - Bad Request\n"
          ]
        }
      ]
    },
    {
      "cell_type": "markdown",
      "metadata": {
        "id": "2E5fTtB2b2gq"
      },
      "source": [
        "# **i)**"
      ]
    },
    {
      "cell_type": "code",
      "metadata": {
        "id": "8B_ap0QQDQtE"
      },
      "source": [
        "spe = traincsv.sort_values(['date','store_nbr','family']).drop(['id','sales'],axis = 1).copy()"
      ],
      "execution_count": null,
      "outputs": []
    },
    {
      "cell_type": "code",
      "metadata": {
        "id": "6TRwXqhQhfEB"
      },
      "source": [
        "spe = spe.iloc[-54*33*7:,:]\n",
        "spe = spe.drop(['store_nbr','family'],axis = 1)"
      ],
      "execution_count": null,
      "outputs": []
    },
    {
      "cell_type": "code",
      "metadata": {
        "id": "a2Q8KLHuwkQU"
      },
      "source": [
        "testdash = tests.sort_values(['date','store_nbr','family'])[:54*33*7]"
      ],
      "execution_count": null,
      "outputs": []
    },
    {
      "cell_type": "code",
      "metadata": {
        "id": "4SgwEFZDwR3W"
      },
      "source": [
        "spe = spe.onpromotion.append(testdash.onpromotion)"
      ],
      "execution_count": null,
      "outputs": []
    },
    {
      "cell_type": "code",
      "metadata": {
        "id": "8RDkV70xzakV"
      },
      "source": [
        "spe = spe.reset_index()"
      ],
      "execution_count": null,
      "outputs": []
    },
    {
      "cell_type": "code",
      "metadata": {
        "id": "IcKgzOaJz2Tb"
      },
      "source": [
        "spe = spe.drop('index',axis = 1)"
      ],
      "execution_count": null,
      "outputs": []
    },
    {
      "cell_type": "code",
      "metadata": {
        "id": "TMv8iFQw1O8q"
      },
      "source": [
        "spe = np.array(spe)"
      ],
      "execution_count": null,
      "outputs": []
    },
    {
      "cell_type": "code",
      "metadata": {
        "colab": {
          "base_uri": "https://localhost:8080/"
        },
        "id": "tdzaStSoz-0m",
        "outputId": "b241c92e-cbe1-477c-f151-6fe55bfd6080"
      },
      "source": [
        "datasetX = []\n",
        "max_length = len(spe)\n",
        "for i in range(54*33*7,max_length-54*33+1,54*33):\n",
        "  datasetX.append(spe[i-54*33*7:i,0])\n",
        "datasetX"
      ],
      "execution_count": null,
      "outputs": [
        {
          "output_type": "execute_result",
          "data": {
            "text/plain": [
              "[array([ 0,  0,  1, ..., 76,  0,  0]),\n",
              " array([  0,   0,   1, ..., 225,  14,   0]),\n",
              " array([0, 0, 1, ..., 0, 0, 0]),\n",
              " array([0, 0, 1, ..., 2, 0, 0]),\n",
              " array([0, 0, 0, ..., 0, 0, 1]),\n",
              " array([0, 0, 1, ..., 0, 0, 0]),\n",
              " array([0, 0, 1, ..., 0, 0, 0])]"
            ]
          },
          "metadata": {},
          "execution_count": 467
        }
      ]
    },
    {
      "cell_type": "code",
      "metadata": {
        "id": "QlKuPvHT1xFe"
      },
      "source": [
        "datasetX = np.array(datasetX)"
      ],
      "execution_count": null,
      "outputs": []
    },
    {
      "cell_type": "code",
      "metadata": {
        "id": "b3xVpYg73LuG"
      },
      "source": [
        "scaler.fit(datasetX)  # スケーリングに使用する最小／最大値を計算する。\n",
        "datasetX = scaler.transform(datasetX)"
      ],
      "execution_count": null,
      "outputs": []
    },
    {
      "cell_type": "code",
      "metadata": {
        "colab": {
          "base_uri": "https://localhost:8080/"
        },
        "id": "socg0mSL12bu",
        "outputId": "ac6a81fc-88e2-4d9e-b045-67f323b749ea"
      },
      "source": [
        "datasetX.shape"
      ],
      "execution_count": null,
      "outputs": [
        {
          "output_type": "execute_result",
          "data": {
            "text/plain": [
              "(7, 12474)"
            ]
          },
          "metadata": {},
          "execution_count": 470
        }
      ]
    },
    {
      "cell_type": "code",
      "metadata": {
        "colab": {
          "base_uri": "https://localhost:8080/"
        },
        "id": "N8g2uY-V2DQG",
        "outputId": "0a3ced63-2d6f-4d86-ff76-0b2104c73d08"
      },
      "source": [
        "datasetX = np.reshape(datasetX,(7,1,54*33*7))\n",
        "datasetX.shape"
      ],
      "execution_count": null,
      "outputs": [
        {
          "output_type": "execute_result",
          "data": {
            "text/plain": [
              "(7, 1, 12474)"
            ]
          },
          "metadata": {},
          "execution_count": 472
        }
      ]
    },
    {
      "cell_type": "code",
      "metadata": {
        "id": "U64ybKhW14R8"
      },
      "source": [
        "hosoku = model.predict(datasetX)"
      ],
      "execution_count": null,
      "outputs": []
    },
    {
      "cell_type": "code",
      "metadata": {
        "id": "wQ7phaMC2Zxo"
      },
      "source": [
        "hosoku = pd.DataFrame(hosoku)\n",
        "hosoku = scaler1.inverse_transform(hosoku)"
      ],
      "execution_count": null,
      "outputs": []
    },
    {
      "cell_type": "code",
      "metadata": {
        "colab": {
          "base_uri": "https://localhost:8080/",
          "height": 315
        },
        "id": "2YGkznqq3rKf",
        "outputId": "7358dc26-df29-44e5-c3d7-da231be1b6f3"
      },
      "source": [
        "hosoku = pd.DataFrame(hosoku)\n",
        "hosoku"
      ],
      "execution_count": null,
      "outputs": [
        {
          "output_type": "execute_result",
          "data": {
            "text/html": [
              "<div>\n",
              "<style scoped>\n",
              "    .dataframe tbody tr th:only-of-type {\n",
              "        vertical-align: middle;\n",
              "    }\n",
              "\n",
              "    .dataframe tbody tr th {\n",
              "        vertical-align: top;\n",
              "    }\n",
              "\n",
              "    .dataframe thead th {\n",
              "        text-align: right;\n",
              "    }\n",
              "</style>\n",
              "<table border=\"1\" class=\"dataframe\">\n",
              "  <thead>\n",
              "    <tr style=\"text-align: right;\">\n",
              "      <th></th>\n",
              "      <th>0</th>\n",
              "      <th>1</th>\n",
              "      <th>2</th>\n",
              "      <th>3</th>\n",
              "      <th>4</th>\n",
              "      <th>5</th>\n",
              "      <th>6</th>\n",
              "      <th>7</th>\n",
              "      <th>8</th>\n",
              "      <th>9</th>\n",
              "      <th>10</th>\n",
              "      <th>11</th>\n",
              "      <th>12</th>\n",
              "      <th>13</th>\n",
              "      <th>14</th>\n",
              "      <th>15</th>\n",
              "      <th>16</th>\n",
              "      <th>17</th>\n",
              "      <th>18</th>\n",
              "      <th>19</th>\n",
              "      <th>20</th>\n",
              "      <th>21</th>\n",
              "      <th>22</th>\n",
              "      <th>23</th>\n",
              "      <th>24</th>\n",
              "      <th>25</th>\n",
              "      <th>26</th>\n",
              "      <th>27</th>\n",
              "      <th>28</th>\n",
              "      <th>29</th>\n",
              "      <th>30</th>\n",
              "      <th>31</th>\n",
              "      <th>32</th>\n",
              "      <th>33</th>\n",
              "      <th>34</th>\n",
              "      <th>35</th>\n",
              "      <th>36</th>\n",
              "      <th>37</th>\n",
              "      <th>38</th>\n",
              "      <th>39</th>\n",
              "      <th>...</th>\n",
              "      <th>1742</th>\n",
              "      <th>1743</th>\n",
              "      <th>1744</th>\n",
              "      <th>1745</th>\n",
              "      <th>1746</th>\n",
              "      <th>1747</th>\n",
              "      <th>1748</th>\n",
              "      <th>1749</th>\n",
              "      <th>1750</th>\n",
              "      <th>1751</th>\n",
              "      <th>1752</th>\n",
              "      <th>1753</th>\n",
              "      <th>1754</th>\n",
              "      <th>1755</th>\n",
              "      <th>1756</th>\n",
              "      <th>1757</th>\n",
              "      <th>1758</th>\n",
              "      <th>1759</th>\n",
              "      <th>1760</th>\n",
              "      <th>1761</th>\n",
              "      <th>1762</th>\n",
              "      <th>1763</th>\n",
              "      <th>1764</th>\n",
              "      <th>1765</th>\n",
              "      <th>1766</th>\n",
              "      <th>1767</th>\n",
              "      <th>1768</th>\n",
              "      <th>1769</th>\n",
              "      <th>1770</th>\n",
              "      <th>1771</th>\n",
              "      <th>1772</th>\n",
              "      <th>1773</th>\n",
              "      <th>1774</th>\n",
              "      <th>1775</th>\n",
              "      <th>1776</th>\n",
              "      <th>1777</th>\n",
              "      <th>1778</th>\n",
              "      <th>1779</th>\n",
              "      <th>1780</th>\n",
              "      <th>1781</th>\n",
              "    </tr>\n",
              "  </thead>\n",
              "  <tbody>\n",
              "    <tr>\n",
              "      <th>0</th>\n",
              "      <td>3.995968</td>\n",
              "      <td>0.000543</td>\n",
              "      <td>2.636803</td>\n",
              "      <td>1641.253052</td>\n",
              "      <td>0.003242</td>\n",
              "      <td>419.097504</td>\n",
              "      <td>55.342678</td>\n",
              "      <td>759.111694</td>\n",
              "      <td>734.152466</td>\n",
              "      <td>144.078918</td>\n",
              "      <td>152.385498</td>\n",
              "      <td>108.329094</td>\n",
              "      <td>2413.660889</td>\n",
              "      <td>28.070539</td>\n",
              "      <td>1.353321</td>\n",
              "      <td>24.941967</td>\n",
              "      <td>11.675253</td>\n",
              "      <td>0.362591</td>\n",
              "      <td>95.445572</td>\n",
              "      <td>11.658013</td>\n",
              "      <td>9.202316</td>\n",
              "      <td>7.415528</td>\n",
              "      <td>85.577988</td>\n",
              "      <td>1.380316</td>\n",
              "      <td>300.546021</td>\n",
              "      <td>158.246109</td>\n",
              "      <td>3.696124</td>\n",
              "      <td>4.876364</td>\n",
              "      <td>285.887909</td>\n",
              "      <td>87.803123</td>\n",
              "      <td>1671.983276</td>\n",
              "      <td>0.179525</td>\n",
              "      <td>23.204994</td>\n",
              "      <td>5.176668</td>\n",
              "      <td>0.006449</td>\n",
              "      <td>3.272644</td>\n",
              "      <td>2107.801514</td>\n",
              "      <td>-0.011344</td>\n",
              "      <td>549.650574</td>\n",
              "      <td>3.831339</td>\n",
              "      <td>...</td>\n",
              "      <td>1.030914</td>\n",
              "      <td>1.887752</td>\n",
              "      <td>152.053345</td>\n",
              "      <td>55.457088</td>\n",
              "      <td>946.593323</td>\n",
              "      <td>0.122435</td>\n",
              "      <td>3.757807</td>\n",
              "      <td>5.198446</td>\n",
              "      <td>0.171946</td>\n",
              "      <td>0.387089</td>\n",
              "      <td>1060.526001</td>\n",
              "      <td>0.000098</td>\n",
              "      <td>228.934250</td>\n",
              "      <td>1.801574</td>\n",
              "      <td>998.792908</td>\n",
              "      <td>167.720413</td>\n",
              "      <td>197.643677</td>\n",
              "      <td>96.278526</td>\n",
              "      <td>30.692831</td>\n",
              "      <td>2210.402344</td>\n",
              "      <td>12.327898</td>\n",
              "      <td>0.506014</td>\n",
              "      <td>19.870266</td>\n",
              "      <td>10.363843</td>\n",
              "      <td>0.245078</td>\n",
              "      <td>111.049866</td>\n",
              "      <td>-0.000906</td>\n",
              "      <td>-0.000356</td>\n",
              "      <td>3.039680</td>\n",
              "      <td>28.315926</td>\n",
              "      <td>0.132664</td>\n",
              "      <td>47.131138</td>\n",
              "      <td>167.728729</td>\n",
              "      <td>0.129616</td>\n",
              "      <td>1.038239</td>\n",
              "      <td>49.548340</td>\n",
              "      <td>66.554367</td>\n",
              "      <td>267.614960</td>\n",
              "      <td>-0.004671</td>\n",
              "      <td>2.070900</td>\n",
              "    </tr>\n",
              "    <tr>\n",
              "      <th>1</th>\n",
              "      <td>4.546751</td>\n",
              "      <td>0.002034</td>\n",
              "      <td>3.001528</td>\n",
              "      <td>2216.398193</td>\n",
              "      <td>0.008118</td>\n",
              "      <td>388.740753</td>\n",
              "      <td>44.227798</td>\n",
              "      <td>688.554260</td>\n",
              "      <td>691.679138</td>\n",
              "      <td>128.843170</td>\n",
              "      <td>135.276611</td>\n",
              "      <td>105.509705</td>\n",
              "      <td>2271.056396</td>\n",
              "      <td>26.220028</td>\n",
              "      <td>2.053804</td>\n",
              "      <td>34.244583</td>\n",
              "      <td>16.826893</td>\n",
              "      <td>0.140147</td>\n",
              "      <td>196.557663</td>\n",
              "      <td>24.680180</td>\n",
              "      <td>7.009838</td>\n",
              "      <td>7.948660</td>\n",
              "      <td>66.541245</td>\n",
              "      <td>2.538657</td>\n",
              "      <td>227.507812</td>\n",
              "      <td>146.952286</td>\n",
              "      <td>8.303677</td>\n",
              "      <td>10.131473</td>\n",
              "      <td>246.858841</td>\n",
              "      <td>82.801300</td>\n",
              "      <td>3114.851318</td>\n",
              "      <td>0.415244</td>\n",
              "      <td>18.257769</td>\n",
              "      <td>5.837735</td>\n",
              "      <td>0.009295</td>\n",
              "      <td>3.954183</td>\n",
              "      <td>3364.441650</td>\n",
              "      <td>-0.017395</td>\n",
              "      <td>593.977539</td>\n",
              "      <td>13.566987</td>\n",
              "      <td>...</td>\n",
              "      <td>2.143176</td>\n",
              "      <td>4.924546</td>\n",
              "      <td>157.103073</td>\n",
              "      <td>59.538666</td>\n",
              "      <td>1891.724854</td>\n",
              "      <td>0.636850</td>\n",
              "      <td>3.528798</td>\n",
              "      <td>6.292316</td>\n",
              "      <td>0.487610</td>\n",
              "      <td>0.161336</td>\n",
              "      <td>1585.158325</td>\n",
              "      <td>-0.001435</td>\n",
              "      <td>245.543701</td>\n",
              "      <td>5.797374</td>\n",
              "      <td>1104.167725</td>\n",
              "      <td>175.178528</td>\n",
              "      <td>208.441833</td>\n",
              "      <td>96.716591</td>\n",
              "      <td>36.870758</td>\n",
              "      <td>2443.680176</td>\n",
              "      <td>13.061445</td>\n",
              "      <td>0.833315</td>\n",
              "      <td>24.269201</td>\n",
              "      <td>15.383537</td>\n",
              "      <td>0.105871</td>\n",
              "      <td>246.997604</td>\n",
              "      <td>-0.002413</td>\n",
              "      <td>-0.000802</td>\n",
              "      <td>3.626757</td>\n",
              "      <td>21.408855</td>\n",
              "      <td>0.230412</td>\n",
              "      <td>47.744522</td>\n",
              "      <td>186.981369</td>\n",
              "      <td>0.256807</td>\n",
              "      <td>2.876499</td>\n",
              "      <td>52.985924</td>\n",
              "      <td>75.133644</td>\n",
              "      <td>667.027710</td>\n",
              "      <td>0.012934</td>\n",
              "      <td>2.058126</td>\n",
              "    </tr>\n",
              "    <tr>\n",
              "      <th>2</th>\n",
              "      <td>3.649341</td>\n",
              "      <td>0.000171</td>\n",
              "      <td>2.477271</td>\n",
              "      <td>1423.063354</td>\n",
              "      <td>0.004217</td>\n",
              "      <td>361.096222</td>\n",
              "      <td>42.092381</td>\n",
              "      <td>627.712097</td>\n",
              "      <td>627.329834</td>\n",
              "      <td>131.511078</td>\n",
              "      <td>132.807800</td>\n",
              "      <td>86.866516</td>\n",
              "      <td>2042.727051</td>\n",
              "      <td>21.597775</td>\n",
              "      <td>1.118525</td>\n",
              "      <td>22.812513</td>\n",
              "      <td>9.617498</td>\n",
              "      <td>0.278147</td>\n",
              "      <td>77.769409</td>\n",
              "      <td>9.047619</td>\n",
              "      <td>6.188002</td>\n",
              "      <td>5.694528</td>\n",
              "      <td>69.680450</td>\n",
              "      <td>1.313302</td>\n",
              "      <td>299.855621</td>\n",
              "      <td>139.240845</td>\n",
              "      <td>3.099838</td>\n",
              "      <td>4.064709</td>\n",
              "      <td>254.020706</td>\n",
              "      <td>77.042747</td>\n",
              "      <td>1247.489624</td>\n",
              "      <td>0.115390</td>\n",
              "      <td>20.613419</td>\n",
              "      <td>4.917544</td>\n",
              "      <td>0.004756</td>\n",
              "      <td>3.678199</td>\n",
              "      <td>2462.256348</td>\n",
              "      <td>-0.011450</td>\n",
              "      <td>592.908447</td>\n",
              "      <td>4.432489</td>\n",
              "      <td>...</td>\n",
              "      <td>1.323873</td>\n",
              "      <td>2.388490</td>\n",
              "      <td>174.205627</td>\n",
              "      <td>60.694519</td>\n",
              "      <td>953.676575</td>\n",
              "      <td>0.169708</td>\n",
              "      <td>4.592338</td>\n",
              "      <td>5.832437</td>\n",
              "      <td>0.202206</td>\n",
              "      <td>0.485880</td>\n",
              "      <td>1244.853760</td>\n",
              "      <td>0.000311</td>\n",
              "      <td>268.624481</td>\n",
              "      <td>2.068509</td>\n",
              "      <td>1192.875244</td>\n",
              "      <td>201.086029</td>\n",
              "      <td>230.816940</td>\n",
              "      <td>111.670387</td>\n",
              "      <td>30.191975</td>\n",
              "      <td>2668.282959</td>\n",
              "      <td>13.100226</td>\n",
              "      <td>0.726536</td>\n",
              "      <td>22.520767</td>\n",
              "      <td>12.048058</td>\n",
              "      <td>0.239781</td>\n",
              "      <td>151.901443</td>\n",
              "      <td>-0.000527</td>\n",
              "      <td>-0.000193</td>\n",
              "      <td>4.267794</td>\n",
              "      <td>27.332054</td>\n",
              "      <td>0.147522</td>\n",
              "      <td>55.977211</td>\n",
              "      <td>203.410110</td>\n",
              "      <td>0.137372</td>\n",
              "      <td>1.178517</td>\n",
              "      <td>58.199062</td>\n",
              "      <td>72.870079</td>\n",
              "      <td>328.594940</td>\n",
              "      <td>0.037701</td>\n",
              "      <td>2.121623</td>\n",
              "    </tr>\n",
              "    <tr>\n",
              "      <th>3</th>\n",
              "      <td>4.179337</td>\n",
              "      <td>-0.000632</td>\n",
              "      <td>2.684692</td>\n",
              "      <td>1549.133423</td>\n",
              "      <td>-0.002324</td>\n",
              "      <td>393.852509</td>\n",
              "      <td>14.581836</td>\n",
              "      <td>667.928711</td>\n",
              "      <td>747.887878</td>\n",
              "      <td>142.995895</td>\n",
              "      <td>168.486176</td>\n",
              "      <td>78.871674</td>\n",
              "      <td>2337.211426</td>\n",
              "      <td>23.942015</td>\n",
              "      <td>1.584291</td>\n",
              "      <td>27.765862</td>\n",
              "      <td>8.032255</td>\n",
              "      <td>0.372017</td>\n",
              "      <td>62.297901</td>\n",
              "      <td>7.541903</td>\n",
              "      <td>6.854747</td>\n",
              "      <td>6.344753</td>\n",
              "      <td>142.438400</td>\n",
              "      <td>1.260763</td>\n",
              "      <td>296.611145</td>\n",
              "      <td>165.595901</td>\n",
              "      <td>2.878768</td>\n",
              "      <td>2.495218</td>\n",
              "      <td>284.655151</td>\n",
              "      <td>95.835594</td>\n",
              "      <td>1010.487915</td>\n",
              "      <td>0.025044</td>\n",
              "      <td>25.363344</td>\n",
              "      <td>5.944371</td>\n",
              "      <td>0.019600</td>\n",
              "      <td>3.835521</td>\n",
              "      <td>2346.172363</td>\n",
              "      <td>-0.011913</td>\n",
              "      <td>608.873352</td>\n",
              "      <td>4.474254</td>\n",
              "      <td>...</td>\n",
              "      <td>0.586238</td>\n",
              "      <td>0.933501</td>\n",
              "      <td>177.344742</td>\n",
              "      <td>58.748314</td>\n",
              "      <td>601.371094</td>\n",
              "      <td>0.341759</td>\n",
              "      <td>5.019537</td>\n",
              "      <td>6.118000</td>\n",
              "      <td>0.220826</td>\n",
              "      <td>0.495427</td>\n",
              "      <td>883.235046</td>\n",
              "      <td>0.002499</td>\n",
              "      <td>241.507401</td>\n",
              "      <td>2.507286</td>\n",
              "      <td>1083.973267</td>\n",
              "      <td>195.184509</td>\n",
              "      <td>222.236923</td>\n",
              "      <td>110.430580</td>\n",
              "      <td>32.908772</td>\n",
              "      <td>2518.419922</td>\n",
              "      <td>13.681838</td>\n",
              "      <td>0.851241</td>\n",
              "      <td>23.037970</td>\n",
              "      <td>9.164290</td>\n",
              "      <td>0.291062</td>\n",
              "      <td>102.738953</td>\n",
              "      <td>0.001042</td>\n",
              "      <td>0.003028</td>\n",
              "      <td>5.116193</td>\n",
              "      <td>53.648094</td>\n",
              "      <td>0.188219</td>\n",
              "      <td>56.024288</td>\n",
              "      <td>201.455307</td>\n",
              "      <td>0.117577</td>\n",
              "      <td>0.504718</td>\n",
              "      <td>58.920650</td>\n",
              "      <td>59.794140</td>\n",
              "      <td>193.849182</td>\n",
              "      <td>0.177157</td>\n",
              "      <td>1.693477</td>\n",
              "    </tr>\n",
              "    <tr>\n",
              "      <th>4</th>\n",
              "      <td>4.549112</td>\n",
              "      <td>0.001891</td>\n",
              "      <td>2.991312</td>\n",
              "      <td>2211.282471</td>\n",
              "      <td>0.006567</td>\n",
              "      <td>387.443665</td>\n",
              "      <td>43.797565</td>\n",
              "      <td>685.783203</td>\n",
              "      <td>689.514038</td>\n",
              "      <td>128.662567</td>\n",
              "      <td>134.965073</td>\n",
              "      <td>104.855682</td>\n",
              "      <td>2264.239014</td>\n",
              "      <td>26.102047</td>\n",
              "      <td>2.039450</td>\n",
              "      <td>34.037224</td>\n",
              "      <td>16.662415</td>\n",
              "      <td>0.136988</td>\n",
              "      <td>195.755249</td>\n",
              "      <td>24.580536</td>\n",
              "      <td>6.973378</td>\n",
              "      <td>7.890770</td>\n",
              "      <td>66.387802</td>\n",
              "      <td>2.528757</td>\n",
              "      <td>228.862335</td>\n",
              "      <td>146.515228</td>\n",
              "      <td>8.277020</td>\n",
              "      <td>10.090800</td>\n",
              "      <td>247.613022</td>\n",
              "      <td>82.573807</td>\n",
              "      <td>3104.421143</td>\n",
              "      <td>0.413167</td>\n",
              "      <td>18.331242</td>\n",
              "      <td>5.825563</td>\n",
              "      <td>0.008690</td>\n",
              "      <td>3.992082</td>\n",
              "      <td>3369.695557</td>\n",
              "      <td>-0.017501</td>\n",
              "      <td>595.027405</td>\n",
              "      <td>13.575078</td>\n",
              "      <td>...</td>\n",
              "      <td>2.147094</td>\n",
              "      <td>4.921750</td>\n",
              "      <td>157.583481</td>\n",
              "      <td>59.627098</td>\n",
              "      <td>1892.890503</td>\n",
              "      <td>0.635394</td>\n",
              "      <td>3.547936</td>\n",
              "      <td>6.287917</td>\n",
              "      <td>0.488392</td>\n",
              "      <td>0.165796</td>\n",
              "      <td>1588.512207</td>\n",
              "      <td>-0.001266</td>\n",
              "      <td>246.116150</td>\n",
              "      <td>5.797050</td>\n",
              "      <td>1109.047485</td>\n",
              "      <td>175.932724</td>\n",
              "      <td>208.864746</td>\n",
              "      <td>97.013901</td>\n",
              "      <td>36.872715</td>\n",
              "      <td>2453.552246</td>\n",
              "      <td>13.100394</td>\n",
              "      <td>0.833984</td>\n",
              "      <td>24.322023</td>\n",
              "      <td>15.366456</td>\n",
              "      <td>0.107705</td>\n",
              "      <td>247.586472</td>\n",
              "      <td>-0.002294</td>\n",
              "      <td>-0.000858</td>\n",
              "      <td>3.680338</td>\n",
              "      <td>21.455599</td>\n",
              "      <td>0.231877</td>\n",
              "      <td>47.892002</td>\n",
              "      <td>188.010757</td>\n",
              "      <td>0.256418</td>\n",
              "      <td>2.875281</td>\n",
              "      <td>53.130764</td>\n",
              "      <td>75.039299</td>\n",
              "      <td>667.596680</td>\n",
              "      <td>0.013077</td>\n",
              "      <td>2.054446</td>\n",
              "    </tr>\n",
              "    <tr>\n",
              "      <th>5</th>\n",
              "      <td>4.007483</td>\n",
              "      <td>0.000155</td>\n",
              "      <td>2.712404</td>\n",
              "      <td>1662.472290</td>\n",
              "      <td>0.003200</td>\n",
              "      <td>399.693237</td>\n",
              "      <td>56.940643</td>\n",
              "      <td>699.349609</td>\n",
              "      <td>694.881104</td>\n",
              "      <td>137.479004</td>\n",
              "      <td>141.255219</td>\n",
              "      <td>92.330986</td>\n",
              "      <td>2263.778076</td>\n",
              "      <td>25.676147</td>\n",
              "      <td>1.346044</td>\n",
              "      <td>25.469198</td>\n",
              "      <td>12.644357</td>\n",
              "      <td>0.290103</td>\n",
              "      <td>108.430588</td>\n",
              "      <td>12.972372</td>\n",
              "      <td>7.462857</td>\n",
              "      <td>6.732102</td>\n",
              "      <td>66.925468</td>\n",
              "      <td>1.586153</td>\n",
              "      <td>248.508423</td>\n",
              "      <td>154.001465</td>\n",
              "      <td>4.333107</td>\n",
              "      <td>5.715793</td>\n",
              "      <td>237.359238</td>\n",
              "      <td>80.521339</td>\n",
              "      <td>1763.736084</td>\n",
              "      <td>0.204001</td>\n",
              "      <td>19.175903</td>\n",
              "      <td>5.157238</td>\n",
              "      <td>0.004372</td>\n",
              "      <td>3.379059</td>\n",
              "      <td>2415.882568</td>\n",
              "      <td>-0.010542</td>\n",
              "      <td>580.515747</td>\n",
              "      <td>5.090576</td>\n",
              "      <td>...</td>\n",
              "      <td>1.352338</td>\n",
              "      <td>2.535529</td>\n",
              "      <td>153.648636</td>\n",
              "      <td>57.768810</td>\n",
              "      <td>1097.995483</td>\n",
              "      <td>0.160592</td>\n",
              "      <td>3.845477</td>\n",
              "      <td>5.598904</td>\n",
              "      <td>0.242451</td>\n",
              "      <td>0.409218</td>\n",
              "      <td>1225.663696</td>\n",
              "      <td>0.000232</td>\n",
              "      <td>252.525009</td>\n",
              "      <td>2.449611</td>\n",
              "      <td>1114.850952</td>\n",
              "      <td>182.650101</td>\n",
              "      <td>217.517456</td>\n",
              "      <td>105.316429</td>\n",
              "      <td>32.377995</td>\n",
              "      <td>2453.650146</td>\n",
              "      <td>13.287504</td>\n",
              "      <td>0.635438</td>\n",
              "      <td>22.122984</td>\n",
              "      <td>12.237751</td>\n",
              "      <td>0.229108</td>\n",
              "      <td>149.916290</td>\n",
              "      <td>-0.000858</td>\n",
              "      <td>0.000094</td>\n",
              "      <td>3.206395</td>\n",
              "      <td>25.653143</td>\n",
              "      <td>0.148332</td>\n",
              "      <td>51.365429</td>\n",
              "      <td>187.485489</td>\n",
              "      <td>0.148489</td>\n",
              "      <td>1.402273</td>\n",
              "      <td>52.137718</td>\n",
              "      <td>71.347725</td>\n",
              "      <td>358.926056</td>\n",
              "      <td>0.020166</td>\n",
              "      <td>2.114458</td>\n",
              "    </tr>\n",
              "    <tr>\n",
              "      <th>6</th>\n",
              "      <td>4.560890</td>\n",
              "      <td>0.001886</td>\n",
              "      <td>2.994483</td>\n",
              "      <td>2214.399902</td>\n",
              "      <td>0.006538</td>\n",
              "      <td>388.702026</td>\n",
              "      <td>44.078880</td>\n",
              "      <td>688.646667</td>\n",
              "      <td>691.741150</td>\n",
              "      <td>128.925064</td>\n",
              "      <td>135.329742</td>\n",
              "      <td>105.525726</td>\n",
              "      <td>2272.101562</td>\n",
              "      <td>26.241356</td>\n",
              "      <td>2.043436</td>\n",
              "      <td>34.097790</td>\n",
              "      <td>16.754885</td>\n",
              "      <td>0.140321</td>\n",
              "      <td>195.995407</td>\n",
              "      <td>24.611282</td>\n",
              "      <td>6.999896</td>\n",
              "      <td>7.935372</td>\n",
              "      <td>66.582748</td>\n",
              "      <td>2.526809</td>\n",
              "      <td>227.854340</td>\n",
              "      <td>147.029144</td>\n",
              "      <td>8.286927</td>\n",
              "      <td>10.101466</td>\n",
              "      <td>247.579254</td>\n",
              "      <td>82.792221</td>\n",
              "      <td>3106.292236</td>\n",
              "      <td>0.414284</td>\n",
              "      <td>18.315218</td>\n",
              "      <td>5.816715</td>\n",
              "      <td>0.008699</td>\n",
              "      <td>3.967293</td>\n",
              "      <td>3355.618408</td>\n",
              "      <td>-0.016758</td>\n",
              "      <td>593.185486</td>\n",
              "      <td>13.520081</td>\n",
              "      <td>...</td>\n",
              "      <td>2.136505</td>\n",
              "      <td>4.902222</td>\n",
              "      <td>156.869293</td>\n",
              "      <td>59.399803</td>\n",
              "      <td>1885.965210</td>\n",
              "      <td>0.634820</td>\n",
              "      <td>3.513766</td>\n",
              "      <td>6.266087</td>\n",
              "      <td>0.487224</td>\n",
              "      <td>0.165238</td>\n",
              "      <td>1583.941284</td>\n",
              "      <td>-0.001281</td>\n",
              "      <td>245.265732</td>\n",
              "      <td>5.783927</td>\n",
              "      <td>1103.337280</td>\n",
              "      <td>175.075882</td>\n",
              "      <td>208.181976</td>\n",
              "      <td>96.632660</td>\n",
              "      <td>36.797997</td>\n",
              "      <td>2441.352539</td>\n",
              "      <td>13.040805</td>\n",
              "      <td>0.831445</td>\n",
              "      <td>24.194313</td>\n",
              "      <td>15.305640</td>\n",
              "      <td>0.107752</td>\n",
              "      <td>246.289001</td>\n",
              "      <td>-0.002346</td>\n",
              "      <td>-0.000868</td>\n",
              "      <td>3.651282</td>\n",
              "      <td>21.397978</td>\n",
              "      <td>0.230552</td>\n",
              "      <td>47.750778</td>\n",
              "      <td>186.966492</td>\n",
              "      <td>0.255158</td>\n",
              "      <td>2.870680</td>\n",
              "      <td>52.867851</td>\n",
              "      <td>74.983810</td>\n",
              "      <td>666.260803</td>\n",
              "      <td>0.011611</td>\n",
              "      <td>2.047285</td>\n",
              "    </tr>\n",
              "  </tbody>\n",
              "</table>\n",
              "<p>7 rows × 1782 columns</p>\n",
              "</div>"
            ],
            "text/plain": [
              "       0         1         2     ...        1779      1780      1781\n",
              "0  3.995968  0.000543  2.636803  ...  267.614960 -0.004671  2.070900\n",
              "1  4.546751  0.002034  3.001528  ...  667.027710  0.012934  2.058126\n",
              "2  3.649341  0.000171  2.477271  ...  328.594940  0.037701  2.121623\n",
              "3  4.179337 -0.000632  2.684692  ...  193.849182  0.177157  1.693477\n",
              "4  4.549112  0.001891  2.991312  ...  667.596680  0.013077  2.054446\n",
              "5  4.007483  0.000155  2.712404  ...  358.926056  0.020166  2.114458\n",
              "6  4.560890  0.001886  2.994483  ...  666.260803  0.011611  2.047285\n",
              "\n",
              "[7 rows x 1782 columns]"
            ]
          },
          "metadata": {},
          "execution_count": 475
        }
      ]
    },
    {
      "cell_type": "code",
      "metadata": {
        "id": "glj45ZRM4N-g"
      },
      "source": [
        "hosokum = []\n",
        "for i in hosoku:\n",
        "    for k in hosoku[i]:\n",
        "      hosokum.append(k)\n"
      ],
      "execution_count": null,
      "outputs": []
    },
    {
      "cell_type": "code",
      "metadata": {
        "id": "mWzKHmIG4ebG"
      },
      "source": [
        "hosokumi = pd.DataFrame(hosokum)"
      ],
      "execution_count": null,
      "outputs": []
    },
    {
      "cell_type": "code",
      "metadata": {
        "id": "eFEISUo057Qt"
      },
      "source": [
        "hosokumi = hosokumi.append(subm)"
      ],
      "execution_count": null,
      "outputs": []
    },
    {
      "cell_type": "code",
      "metadata": {
        "id": "rQjWOcrz6DBV"
      },
      "source": [
        "hosokumi = hosokumi.reset_index()"
      ],
      "execution_count": null,
      "outputs": []
    },
    {
      "cell_type": "code",
      "metadata": {
        "colab": {
          "base_uri": "https://localhost:8080/",
          "height": 419
        },
        "id": "EYjebzYb7PO8",
        "outputId": "bcf9cb83-c756-4b87-85d9-26d57776e051"
      },
      "source": [
        "hosokumi\n"
      ],
      "execution_count": null,
      "outputs": [
        {
          "output_type": "execute_result",
          "data": {
            "text/html": [
              "<div>\n",
              "<style scoped>\n",
              "    .dataframe tbody tr th:only-of-type {\n",
              "        vertical-align: middle;\n",
              "    }\n",
              "\n",
              "    .dataframe tbody tr th {\n",
              "        vertical-align: top;\n",
              "    }\n",
              "\n",
              "    .dataframe thead th {\n",
              "        text-align: right;\n",
              "    }\n",
              "</style>\n",
              "<table border=\"1\" class=\"dataframe\">\n",
              "  <thead>\n",
              "    <tr style=\"text-align: right;\">\n",
              "      <th></th>\n",
              "      <th>index</th>\n",
              "      <th>0</th>\n",
              "    </tr>\n",
              "  </thead>\n",
              "  <tbody>\n",
              "    <tr>\n",
              "      <th>0</th>\n",
              "      <td>0</td>\n",
              "      <td>3.995968</td>\n",
              "    </tr>\n",
              "    <tr>\n",
              "      <th>1</th>\n",
              "      <td>1</td>\n",
              "      <td>4.546751</td>\n",
              "    </tr>\n",
              "    <tr>\n",
              "      <th>2</th>\n",
              "      <td>2</td>\n",
              "      <td>3.649341</td>\n",
              "    </tr>\n",
              "    <tr>\n",
              "      <th>3</th>\n",
              "      <td>3</td>\n",
              "      <td>4.179337</td>\n",
              "    </tr>\n",
              "    <tr>\n",
              "      <th>4</th>\n",
              "      <td>4</td>\n",
              "      <td>4.549112</td>\n",
              "    </tr>\n",
              "    <tr>\n",
              "      <th>...</th>\n",
              "      <td>...</td>\n",
              "      <td>...</td>\n",
              "    </tr>\n",
              "    <tr>\n",
              "      <th>28507</th>\n",
              "      <td>16033</td>\n",
              "      <td>52.930943</td>\n",
              "    </tr>\n",
              "    <tr>\n",
              "      <th>28508</th>\n",
              "      <td>16034</td>\n",
              "      <td>75.043999</td>\n",
              "    </tr>\n",
              "    <tr>\n",
              "      <th>28509</th>\n",
              "      <td>16035</td>\n",
              "      <td>666.414368</td>\n",
              "    </tr>\n",
              "    <tr>\n",
              "      <th>28510</th>\n",
              "      <td>16036</td>\n",
              "      <td>0.011224</td>\n",
              "    </tr>\n",
              "    <tr>\n",
              "      <th>28511</th>\n",
              "      <td>16037</td>\n",
              "      <td>2.055929</td>\n",
              "    </tr>\n",
              "  </tbody>\n",
              "</table>\n",
              "<p>28512 rows × 2 columns</p>\n",
              "</div>"
            ],
            "text/plain": [
              "       index           0\n",
              "0          0    3.995968\n",
              "1          1    4.546751\n",
              "2          2    3.649341\n",
              "3          3    4.179337\n",
              "4          4    4.549112\n",
              "...      ...         ...\n",
              "28507  16033   52.930943\n",
              "28508  16034   75.043999\n",
              "28509  16035  666.414368\n",
              "28510  16036    0.011224\n",
              "28511  16037    2.055929\n",
              "\n",
              "[28512 rows x 2 columns]"
            ]
          },
          "metadata": {},
          "execution_count": 480
        }
      ]
    }
  ]
}