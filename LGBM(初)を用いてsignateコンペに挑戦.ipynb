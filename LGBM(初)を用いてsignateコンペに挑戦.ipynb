{
  "nbformat": 4,
  "nbformat_minor": 0,
  "metadata": {
    "colab": {
      "name": "LGBM(初)を用いてsignateコンペに挑戦.ipynb",
      "provenance": [],
      "collapsed_sections": [],
      "authorship_tag": "ABX9TyMwQQ9LSpUqwvuIxGt3na39",
      "include_colab_link": true
    },
    "kernelspec": {
      "name": "python3",
      "display_name": "Python 3"
    },
    "language_info": {
      "name": "python"
    }
  },
  "cells": [
    {
      "cell_type": "markdown",
      "metadata": {
        "id": "view-in-github",
        "colab_type": "text"
      },
      "source": [
        "<a href=\"https://colab.research.google.com/github/Keishin315/Keishin315/blob/main/LGBM(%E5%88%9D)%E3%82%92%E7%94%A8%E3%81%84%E3%81%A6signate%E3%82%B3%E3%83%B3%E3%83%9A%E3%81%AB%E6%8C%91%E6%88%A6.ipynb\" target=\"_parent\"><img src=\"https://colab.research.google.com/assets/colab-badge.svg\" alt=\"Open In Colab\"/></a>"
      ]
    },
    {
      "cell_type": "markdown",
      "source": [
        "#**signateコンペ575をLightGBNを用いて実装してみる**"
      ],
      "metadata": {
        "id": "zC_G0D8vYU1V"
      }
    },
    {
      "cell_type": "code",
      "execution_count": 48,
      "metadata": {
        "colab": {
          "base_uri": "https://localhost:8080/"
        },
        "id": "aD106xlxqcwL",
        "outputId": "67c57dbc-16fb-427e-c4ec-2bf686f776cd"
      },
      "outputs": [
        {
          "output_type": "stream",
          "name": "stdout",
          "text": [
            "Requirement already satisfied: signate in /usr/local/lib/python3.7/dist-packages (0.9.9)\n",
            "Requirement already satisfied: certifi in /usr/local/lib/python3.7/dist-packages (from signate) (2021.10.8)\n",
            "Requirement already satisfied: python-dateutil in /usr/local/lib/python3.7/dist-packages (from signate) (2.8.2)\n",
            "Requirement already satisfied: click in /usr/local/lib/python3.7/dist-packages (from signate) (7.1.2)\n",
            "Requirement already satisfied: urllib3>=1.26.7 in /usr/local/lib/python3.7/dist-packages (from signate) (1.26.8)\n",
            "Requirement already satisfied: six>=1.16 in /usr/local/lib/python3.7/dist-packages (from signate) (1.16.0)\n",
            "Requirement already satisfied: tabulate in /usr/local/lib/python3.7/dist-packages (from signate) (0.8.9)\n",
            "Requirement already satisfied: wget in /usr/local/lib/python3.7/dist-packages (from signate) (3.2)\n",
            "\u001b[32mThe API Token has been downloaded successfully.\u001b[0m\n"
          ]
        }
      ],
      "source": [
        "!pip install signate\n",
        "!signate token --email=jingxindi97@gmail.com --password=Football315"
      ]
    },
    {
      "cell_type": "code",
      "source": [
        "!signate download --competition-id=575"
      ],
      "metadata": {
        "colab": {
          "base_uri": "https://localhost:8080/"
        },
        "id": "Il5Cox9RrdNd",
        "outputId": "0e62505a-1e23-4521-8f40-403e05fc298d"
      },
      "execution_count": 4,
      "outputs": [
        {
          "output_type": "stream",
          "name": "stdout",
          "text": [
            "sample_submit.csv\n",
            "\n",
            "test.csv\n",
            "\n",
            "train.csv\n",
            "\n",
            "\u001b[32m\n",
            "Download completed.\u001b[0m\n"
          ]
        }
      ]
    },
    {
      "cell_type": "code",
      "source": [
        "import pandas as pd\n",
        "import numpy as np\n",
        "from sklearn.ensemble import RandomForestClassifier\n",
        "from sklearn.model_selection import train_test_split\n",
        "from sklearn.preprocessing import MinMaxScaler\n",
        "from sklearn.linear_model import LogisticRegression\n",
        "from sklearn.model_selection import GridSearchCV\n",
        "from lightgbm import LGBMClassifier\n",
        "import lightgbm"
      ],
      "metadata": {
        "id": "tLRYXeysrrjy"
      },
      "execution_count": 5,
      "outputs": []
    },
    {
      "cell_type": "code",
      "source": [
        "train = pd.read_csv('train.csv')\n",
        "test = pd.read_csv('test.csv')\n",
        "sample_sub = pd.read_csv('sample_submit.csv')\n",
        "train = train.drop('gameId',axis=1)\n",
        "train_x = train.drop('blueWins',axis=1)\n",
        "train_y = train['blueWins']\n",
        "print(train_x,train_y)"
      ],
      "metadata": {
        "colab": {
          "base_uri": "https://localhost:8080/"
        },
        "id": "imgxhIpWr7lK",
        "outputId": "c04f2d38-6a55-4143-d64a-039ed0826eaa"
      },
      "execution_count": 6,
      "outputs": [
        {
          "output_type": "stream",
          "name": "stdout",
          "text": [
            "      blueFirstBlood  blueKills  ...  blueTotalGold  blueTotalExperience\n",
            "0                  0          7  ...          17398                17446\n",
            "1                  1          8  ...          15925                14253\n",
            "2                  1         14  ...          21457                19003\n",
            "3                  1          6  ...          16364                17958\n",
            "4                  1          3  ...          15451                16088\n",
            "...              ...        ...  ...            ...                  ...\n",
            "4920               1          8  ...          17489                17422\n",
            "4921               1          7  ...          17296                16136\n",
            "4922               0          7  ...          17287                17029\n",
            "4923               0          2  ...          15283                16210\n",
            "4924               1         11  ...          18722                18699\n",
            "\n",
            "[4925 rows x 8 columns] 0       0\n",
            "1       1\n",
            "2       1\n",
            "3       1\n",
            "4       0\n",
            "       ..\n",
            "4920    0\n",
            "4921    0\n",
            "4922    1\n",
            "4923    0\n",
            "4924    1\n",
            "Name: blueWins, Length: 4925, dtype: int64\n"
          ]
        }
      ]
    },
    {
      "cell_type": "code",
      "source": [
        "(X_train,X_test,Y_train,Y_test) = train_test_split(train_x,train_y,test_size=0.3)"
      ],
      "metadata": {
        "id": "idfrPLQjr7ix"
      },
      "execution_count": 7,
      "outputs": []
    },
    {
      "cell_type": "code",
      "source": [
        "model = LGBMRegressor(boosting_type='gbdt', objective='regression',n_estimators=10000)"
      ],
      "metadata": {
        "colab": {
          "base_uri": "https://localhost:8080/",
          "height": 164
        },
        "id": "a23k2eMqr7gl",
        "outputId": "c4c4334d-05df-4ae0-e529-0a8ca6331fa7"
      },
      "execution_count": 8,
      "outputs": [
        {
          "output_type": "error",
          "ename": "NameError",
          "evalue": "ignored",
          "traceback": [
            "\u001b[0;31m---------------------------------------------------------------------------\u001b[0m",
            "\u001b[0;31mNameError\u001b[0m                                 Traceback (most recent call last)",
            "\u001b[0;32m<ipython-input-8-fdc392d8f882>\u001b[0m in \u001b[0;36m<module>\u001b[0;34m()\u001b[0m\n\u001b[0;32m----> 1\u001b[0;31m \u001b[0mmodel\u001b[0m \u001b[0;34m=\u001b[0m \u001b[0mLGBMRegressor\u001b[0m\u001b[0;34m(\u001b[0m\u001b[0mboosting_type\u001b[0m\u001b[0;34m=\u001b[0m\u001b[0;34m'gbdt'\u001b[0m\u001b[0;34m,\u001b[0m \u001b[0mobjective\u001b[0m\u001b[0;34m=\u001b[0m\u001b[0;34m'regression'\u001b[0m\u001b[0;34m,\u001b[0m\u001b[0mn_estimators\u001b[0m\u001b[0;34m=\u001b[0m\u001b[0;36m10000\u001b[0m\u001b[0;34m)\u001b[0m\u001b[0;34m\u001b[0m\u001b[0;34m\u001b[0m\u001b[0m\n\u001b[0m",
            "\u001b[0;31mNameError\u001b[0m: name 'LGBMRegressor' is not defined"
          ]
        }
      ]
    },
    {
      "cell_type": "code",
      "source": [
        "cv_params = {'num_leaves': [3, 4, 5, 6, 7, 8, 9, 10],'reg_alpha': [0, 1, 2, 3, 4, 5,10, 100],'reg_lambda': [10, 15, 18, 20, 21, 22, 23, 25, 27, 29]}\n",
        "grid = GridSearchCV(model1,cv_params)\n",
        "grid.fit(X_train,Y_train)\n",
        "best_params = grid.best_params_\n",
        "print(best_params)"
      ],
      "metadata": {
        "colab": {
          "base_uri": "https://localhost:8080/"
        },
        "id": "DPLNDkXbr7ej",
        "outputId": "62b77c50-b4d7-4de7-93fe-8308b8d6efaf"
      },
      "execution_count": 19,
      "outputs": [
        {
          "output_type": "stream",
          "name": "stdout",
          "text": [
            "{'num_leaves': 6, 'reg_alpha': 3, 'reg_lambda': 23}\n"
          ]
        }
      ]
    },
    {
      "cell_type": "code",
      "source": [
        "grid.best_score_"
      ],
      "metadata": {
        "colab": {
          "base_uri": "https://localhost:8080/"
        },
        "id": "VWcy02iZUaBS",
        "outputId": "11c702d0-aefa-4137-eaaa-73db30a31acb"
      },
      "execution_count": 23,
      "outputs": [
        {
          "output_type": "execute_result",
          "data": {
            "text/plain": [
              "0.7748705328032645"
            ]
          },
          "metadata": {},
          "execution_count": 23
        }
      ]
    },
    {
      "cell_type": "code",
      "source": [
        "for i in range(20):\n",
        "  model1 =LGBMClassifier(num_leaves=6,reg_alpha=3,reg_lambda=i)\n",
        "  model1.fit(X_train,Y_train)\n",
        "  predtrain = model1.predict(X_train)\n",
        "  y_pred1=model1.predict(X_test)\n",
        "  accuracy0 = accuracy_score(Y_train,predtrain)\n",
        "  accuracy1 = accuracy_score(Y_test, y_pred1)\n",
        "  print(accuracy1,accuracy0)"
      ],
      "metadata": {
        "colab": {
          "base_uri": "https://localhost:8080/"
        },
        "id": "RhthbY-vub5i",
        "outputId": "ce217b49-2e7e-4cdd-8098-f2cd7c6c44cf"
      },
      "execution_count": 46,
      "outputs": [
        {
          "output_type": "stream",
          "name": "stdout",
          "text": [
            "0.7557510148849798 0.7966347548592979\n",
            "0.7537212449255751 0.7975050768784451\n",
            "0.7530446549391069 0.7972149695387293\n",
            "0.7571041948579161 0.7969248621990136\n",
            "0.7564276048714479 0.7963446475195822\n",
            "0.7530446549391069 0.7963446475195822\n",
            "0.7543978349120433 0.7960545401798665\n",
            "0.7483085250338295 0.7960545401798665\n",
            "0.7550744248985115 0.7940237888018566\n",
            "0.7550744248985115 0.7948941108210038\n",
            "0.7530446549391069 0.793733681462141\n",
            "0.7550744248985115 0.7931534667827096\n",
            "0.7530446549391069 0.793733681462141\n",
            "0.7543978349120433 0.7917029300841312\n",
            "0.7557510148849798 0.7917029300841312\n",
            "0.7550744248985115 0.7914128227444154\n",
            "0.7557510148849798 0.7922831447635625\n",
            "0.7550744248985115 0.7934435741224253\n",
            "0.7564276048714479 0.7917029300841312\n",
            "0.7550744248985115 0.7911227154046997\n"
          ]
        }
      ]
    },
    {
      "cell_type": "code",
      "source": [
        "y_pred=model1.predict(X_test)"
      ],
      "metadata": {
        "id": "e-jd_1b51dXA"
      },
      "execution_count": 40,
      "outputs": []
    },
    {
      "cell_type": "code",
      "source": [
        "y_pred = pd.DataFrame(y_pred)"
      ],
      "metadata": {
        "id": "ZAsyoQXP2Srq"
      },
      "execution_count": 37,
      "outputs": []
    },
    {
      "cell_type": "code",
      "source": [
        "y_pred"
      ],
      "metadata": {
        "colab": {
          "base_uri": "https://localhost:8080/"
        },
        "id": "KXWgfVsX6bzj",
        "outputId": "47cfdabe-f6e8-4133-e531-5093b02eb631"
      },
      "execution_count": 43,
      "outputs": [
        {
          "output_type": "execute_result",
          "data": {
            "text/plain": [
              "array([0, 0, 0, ..., 0, 1, 1])"
            ]
          },
          "metadata": {},
          "execution_count": 43
        }
      ]
    },
    {
      "cell_type": "code",
      "source": [
        "Y_test1 = pd.DataFrame(Y_test)"
      ],
      "metadata": {
        "id": "GKE8-Vyl6jgU"
      },
      "execution_count": 18,
      "outputs": []
    },
    {
      "cell_type": "code",
      "source": [
        "Y_test1"
      ],
      "metadata": {
        "colab": {
          "base_uri": "https://localhost:8080/",
          "height": 419
        },
        "id": "TaKH8UPF7HYx",
        "outputId": "afafa233-cd0b-48b7-ec7c-ca004a9b7d5b"
      },
      "execution_count": 19,
      "outputs": [
        {
          "output_type": "execute_result",
          "data": {
            "text/html": [
              "\n",
              "  <div id=\"df-5894d749-6b58-4189-928f-1bef86da0212\">\n",
              "    <div class=\"colab-df-container\">\n",
              "      <div>\n",
              "<style scoped>\n",
              "    .dataframe tbody tr th:only-of-type {\n",
              "        vertical-align: middle;\n",
              "    }\n",
              "\n",
              "    .dataframe tbody tr th {\n",
              "        vertical-align: top;\n",
              "    }\n",
              "\n",
              "    .dataframe thead th {\n",
              "        text-align: right;\n",
              "    }\n",
              "</style>\n",
              "<table border=\"1\" class=\"dataframe\">\n",
              "  <thead>\n",
              "    <tr style=\"text-align: right;\">\n",
              "      <th></th>\n",
              "      <th>blueWins</th>\n",
              "    </tr>\n",
              "  </thead>\n",
              "  <tbody>\n",
              "    <tr>\n",
              "      <th>1310</th>\n",
              "      <td>0</td>\n",
              "    </tr>\n",
              "    <tr>\n",
              "      <th>1548</th>\n",
              "      <td>1</td>\n",
              "    </tr>\n",
              "    <tr>\n",
              "      <th>4767</th>\n",
              "      <td>1</td>\n",
              "    </tr>\n",
              "    <tr>\n",
              "      <th>1</th>\n",
              "      <td>1</td>\n",
              "    </tr>\n",
              "    <tr>\n",
              "      <th>4421</th>\n",
              "      <td>1</td>\n",
              "    </tr>\n",
              "    <tr>\n",
              "      <th>...</th>\n",
              "      <td>...</td>\n",
              "    </tr>\n",
              "    <tr>\n",
              "      <th>1639</th>\n",
              "      <td>0</td>\n",
              "    </tr>\n",
              "    <tr>\n",
              "      <th>3211</th>\n",
              "      <td>1</td>\n",
              "    </tr>\n",
              "    <tr>\n",
              "      <th>3041</th>\n",
              "      <td>0</td>\n",
              "    </tr>\n",
              "    <tr>\n",
              "      <th>1589</th>\n",
              "      <td>1</td>\n",
              "    </tr>\n",
              "    <tr>\n",
              "      <th>1075</th>\n",
              "      <td>0</td>\n",
              "    </tr>\n",
              "  </tbody>\n",
              "</table>\n",
              "<p>1478 rows × 1 columns</p>\n",
              "</div>\n",
              "      <button class=\"colab-df-convert\" onclick=\"convertToInteractive('df-5894d749-6b58-4189-928f-1bef86da0212')\"\n",
              "              title=\"Convert this dataframe to an interactive table.\"\n",
              "              style=\"display:none;\">\n",
              "        \n",
              "  <svg xmlns=\"http://www.w3.org/2000/svg\" height=\"24px\"viewBox=\"0 0 24 24\"\n",
              "       width=\"24px\">\n",
              "    <path d=\"M0 0h24v24H0V0z\" fill=\"none\"/>\n",
              "    <path d=\"M18.56 5.44l.94 2.06.94-2.06 2.06-.94-2.06-.94-.94-2.06-.94 2.06-2.06.94zm-11 1L8.5 8.5l.94-2.06 2.06-.94-2.06-.94L8.5 2.5l-.94 2.06-2.06.94zm10 10l.94 2.06.94-2.06 2.06-.94-2.06-.94-.94-2.06-.94 2.06-2.06.94z\"/><path d=\"M17.41 7.96l-1.37-1.37c-.4-.4-.92-.59-1.43-.59-.52 0-1.04.2-1.43.59L10.3 9.45l-7.72 7.72c-.78.78-.78 2.05 0 2.83L4 21.41c.39.39.9.59 1.41.59.51 0 1.02-.2 1.41-.59l7.78-7.78 2.81-2.81c.8-.78.8-2.07 0-2.86zM5.41 20L4 18.59l7.72-7.72 1.47 1.35L5.41 20z\"/>\n",
              "  </svg>\n",
              "      </button>\n",
              "      \n",
              "  <style>\n",
              "    .colab-df-container {\n",
              "      display:flex;\n",
              "      flex-wrap:wrap;\n",
              "      gap: 12px;\n",
              "    }\n",
              "\n",
              "    .colab-df-convert {\n",
              "      background-color: #E8F0FE;\n",
              "      border: none;\n",
              "      border-radius: 50%;\n",
              "      cursor: pointer;\n",
              "      display: none;\n",
              "      fill: #1967D2;\n",
              "      height: 32px;\n",
              "      padding: 0 0 0 0;\n",
              "      width: 32px;\n",
              "    }\n",
              "\n",
              "    .colab-df-convert:hover {\n",
              "      background-color: #E2EBFA;\n",
              "      box-shadow: 0px 1px 2px rgba(60, 64, 67, 0.3), 0px 1px 3px 1px rgba(60, 64, 67, 0.15);\n",
              "      fill: #174EA6;\n",
              "    }\n",
              "\n",
              "    [theme=dark] .colab-df-convert {\n",
              "      background-color: #3B4455;\n",
              "      fill: #D2E3FC;\n",
              "    }\n",
              "\n",
              "    [theme=dark] .colab-df-convert:hover {\n",
              "      background-color: #434B5C;\n",
              "      box-shadow: 0px 1px 3px 1px rgba(0, 0, 0, 0.15);\n",
              "      filter: drop-shadow(0px 1px 2px rgba(0, 0, 0, 0.3));\n",
              "      fill: #FFFFFF;\n",
              "    }\n",
              "  </style>\n",
              "\n",
              "      <script>\n",
              "        const buttonEl =\n",
              "          document.querySelector('#df-5894d749-6b58-4189-928f-1bef86da0212 button.colab-df-convert');\n",
              "        buttonEl.style.display =\n",
              "          google.colab.kernel.accessAllowed ? 'block' : 'none';\n",
              "\n",
              "        async function convertToInteractive(key) {\n",
              "          const element = document.querySelector('#df-5894d749-6b58-4189-928f-1bef86da0212');\n",
              "          const dataTable =\n",
              "            await google.colab.kernel.invokeFunction('convertToInteractive',\n",
              "                                                     [key], {});\n",
              "          if (!dataTable) return;\n",
              "\n",
              "          const docLinkHtml = 'Like what you see? Visit the ' +\n",
              "            '<a target=\"_blank\" href=https://colab.research.google.com/notebooks/data_table.ipynb>data table notebook</a>'\n",
              "            + ' to learn more about interactive tables.';\n",
              "          element.innerHTML = '';\n",
              "          dataTable['output_type'] = 'display_data';\n",
              "          await google.colab.output.renderOutput(dataTable, element);\n",
              "          const docLink = document.createElement('div');\n",
              "          docLink.innerHTML = docLinkHtml;\n",
              "          element.appendChild(docLink);\n",
              "        }\n",
              "      </script>\n",
              "    </div>\n",
              "  </div>\n",
              "  "
            ],
            "text/plain": [
              "      blueWins\n",
              "1310         0\n",
              "1548         1\n",
              "4767         1\n",
              "1            1\n",
              "4421         1\n",
              "...        ...\n",
              "1639         0\n",
              "3211         1\n",
              "3041         0\n",
              "1589         1\n",
              "1075         0\n",
              "\n",
              "[1478 rows x 1 columns]"
            ]
          },
          "metadata": {},
          "execution_count": 19
        }
      ]
    },
    {
      "cell_type": "code",
      "source": [
        "from sklearn.metrics import accuracy_score\n",
        "#RandomForestの精度検証\n",
        "accuracy = accuracy_score(Y_test, y_pred)\n",
        "accuracy"
      ],
      "metadata": {
        "colab": {
          "base_uri": "https://localhost:8080/"
        },
        "id": "SQFCZq2x1qb7",
        "outputId": "db077093-32f7-4b0c-9ddb-a6cc609a7107"
      },
      "execution_count": 41,
      "outputs": [
        {
          "output_type": "execute_result",
          "data": {
            "text/plain": [
              "0.7550744248985115"
            ]
          },
          "metadata": {},
          "execution_count": 41
        }
      ]
    },
    {
      "cell_type": "code",
      "source": [
        "test_gameId = test['gameId']\n",
        "test = test.drop('gameId',axis=1)\n",
        "\n",
        "sub = model1.predict(test)\n",
        "\n",
        "sub = pd.DataFrame(sub)\n",
        "sub[1] = test_gameId\n",
        "sub[1] = sub[0]\n",
        "sub[0] = test_gameId\n",
        "print(sub)\n",
        "\n",
        "sub.to_csv('submi.csv',index = False)"
      ],
      "metadata": {
        "colab": {
          "base_uri": "https://localhost:8080/"
        },
        "id": "RlVtFxZTW9wM",
        "outputId": "d93ae6b4-c708-46b9-bc5c-fd1d97720f2d"
      },
      "execution_count": 47,
      "outputs": [
        {
          "output_type": "stream",
          "name": "stdout",
          "text": [
            "         0  1\n",
            "0     4925  0\n",
            "1     4926  0\n",
            "2     4927  0\n",
            "3     4928  0\n",
            "4     4929  0\n",
            "...    ... ..\n",
            "4920  9845  1\n",
            "4921  9846  0\n",
            "4922  9847  0\n",
            "4923  9848  0\n",
            "4924  9849  0\n",
            "\n",
            "[4925 rows x 2 columns]\n"
          ]
        }
      ]
    }
  ]
}