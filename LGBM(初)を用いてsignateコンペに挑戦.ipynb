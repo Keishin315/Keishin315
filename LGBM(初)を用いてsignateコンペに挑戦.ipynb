{
  "nbformat": 4,
  "nbformat_minor": 0,
  "metadata": {
    "colab": {
      "name": "LGBM(初)を用いてsignateコンペに挑戦.ipynb",
      "provenance": [],
      "collapsed_sections": [],
      "authorship_tag": "ABX9TyNuaV3U2fTAdypS98BIkNG2",
      "include_colab_link": true
    },
    "kernelspec": {
      "name": "python3",
      "display_name": "Python 3"
    },
    "language_info": {
      "name": "python"
    }
  },
  "cells": [
    {
      "cell_type": "markdown",
      "metadata": {
        "id": "view-in-github",
        "colab_type": "text"
      },
      "source": [
        "<a href=\"https://colab.research.google.com/github/Keishin315/Keishin315/blob/main/LGBM(%E5%88%9D)%E3%82%92%E7%94%A8%E3%81%84%E3%81%A6signate%E3%82%B3%E3%83%B3%E3%83%9A%E3%81%AB%E6%8C%91%E6%88%A6.ipynb\" target=\"_parent\"><img src=\"https://colab.research.google.com/assets/colab-badge.svg\" alt=\"Open In Colab\"/></a>"
      ]
    },
    {
      "cell_type": "markdown",
      "source": [
        "#**signateコンペ575をLightGBNを用いて実装してみる**"
      ],
      "metadata": {
        "id": "zC_G0D8vYU1V"
      }
    },
    {
      "cell_type": "code",
      "execution_count": 48,
      "metadata": {
        "colab": {
          "base_uri": "https://localhost:8080/"
        },
        "id": "aD106xlxqcwL",
        "outputId": "67c57dbc-16fb-427e-c4ec-2bf686f776cd"
      },
      "outputs": [
        {
          "output_type": "stream",
          "name": "stdout",
          "text": [
            "Requirement already satisfied: signate in /usr/local/lib/python3.7/dist-packages (0.9.9)\n",
            "Requirement already satisfied: certifi in /usr/local/lib/python3.7/dist-packages (from signate) (2021.10.8)\n",
            "Requirement already satisfied: python-dateutil in /usr/local/lib/python3.7/dist-packages (from signate) (2.8.2)\n",
            "Requirement already satisfied: click in /usr/local/lib/python3.7/dist-packages (from signate) (7.1.2)\n",
            "Requirement already satisfied: urllib3>=1.26.7 in /usr/local/lib/python3.7/dist-packages (from signate) (1.26.8)\n",
            "Requirement already satisfied: six>=1.16 in /usr/local/lib/python3.7/dist-packages (from signate) (1.16.0)\n",
            "Requirement already satisfied: tabulate in /usr/local/lib/python3.7/dist-packages (from signate) (0.8.9)\n",
            "Requirement already satisfied: wget in /usr/local/lib/python3.7/dist-packages (from signate) (3.2)\n",
            "\u001b[32mThe API Token has been downloaded successfully.\u001b[0m\n"
          ]
        }
      ],
      "source": [
        "!pip install signate\n",
        "!signate token --email=jingxindi97@gmail.com --password=Football315"
      ]
    },
    {
      "cell_type": "code",
      "source": [
        "!signate download --competition-id=575"
      ],
      "metadata": {
        "colab": {
          "base_uri": "https://localhost:8080/"
        },
        "id": "Il5Cox9RrdNd",
        "outputId": "0e62505a-1e23-4521-8f40-403e05fc298d"
      },
      "execution_count": 4,
      "outputs": [
        {
          "output_type": "stream",
          "name": "stdout",
          "text": [
            "sample_submit.csv\n",
            "\n",
            "test.csv\n",
            "\n",
            "train.csv\n",
            "\n",
            "\u001b[32m\n",
            "Download completed.\u001b[0m\n"
          ]
        }
      ]
    },
    {
      "cell_type": "code",
      "source": [
        "import pandas as pd\n",
        "import numpy as np\n",
        "from sklearn.ensemble import RandomForestClassifier\n",
        "from sklearn.model_selection import train_test_split\n",
        "from sklearn.preprocessing import MinMaxScaler\n",
        "from sklearn.linear_model import LogisticRegression\n",
        "from sklearn.model_selection import GridSearchCV\n",
        "from lightgbm import LGBMClassifier\n",
        "import lightgbm"
      ],
      "metadata": {
        "id": "tLRYXeysrrjy"
      },
      "execution_count": 5,
      "outputs": []
    },
    {
      "cell_type": "code",
      "source": [
        "train = pd.read_csv('train.csv')\n",
        "test = pd.read_csv('test.csv')\n",
        "sample_sub = pd.read_csv('sample_submit.csv')\n",
        "train = train.drop('gameId',axis=1)\n",
        "train_x = train.drop('blueWins',axis=1)\n",
        "train_y = train['blueWins']\n",
        "print(train_x,train_y)"
      ],
      "metadata": {
        "colab": {
          "base_uri": "https://localhost:8080/"
        },
        "id": "imgxhIpWr7lK",
        "outputId": "adc22e61-db7f-479a-b20d-6d05390d3692"
      },
      "execution_count": 76,
      "outputs": [
        {
          "output_type": "stream",
          "name": "stdout",
          "text": [
            "      blueFirstBlood  blueKills  ...  blueTotalGold  blueTotalExperience\n",
            "0                  0          7  ...          17398                17446\n",
            "1                  1          8  ...          15925                14253\n",
            "2                  1         14  ...          21457                19003\n",
            "3                  1          6  ...          16364                17958\n",
            "4                  1          3  ...          15451                16088\n",
            "...              ...        ...  ...            ...                  ...\n",
            "4920               1          8  ...          17489                17422\n",
            "4921               1          7  ...          17296                16136\n",
            "4922               0          7  ...          17287                17029\n",
            "4923               0          2  ...          15283                16210\n",
            "4924               1         11  ...          18722                18699\n",
            "\n",
            "[4925 rows x 8 columns] 0       0\n",
            "1       1\n",
            "2       1\n",
            "3       1\n",
            "4       0\n",
            "       ..\n",
            "4920    0\n",
            "4921    0\n",
            "4922    1\n",
            "4923    0\n",
            "4924    1\n",
            "Name: blueWins, Length: 4925, dtype: int64\n"
          ]
        }
      ]
    },
    {
      "cell_type": "code",
      "source": [
        "(X_train,X_test,Y_train,Y_test) = train_test_split(train_x,train_y,test_size=0.3)"
      ],
      "metadata": {
        "id": "idfrPLQjr7ix"
      },
      "execution_count": 7,
      "outputs": []
    },
    {
      "cell_type": "code",
      "source": [
        "model = LGBMRegressor(boosting_type='gbdt', objective='regression',n_estimators=10000)"
      ],
      "metadata": {
        "colab": {
          "base_uri": "https://localhost:8080/",
          "height": 164
        },
        "id": "a23k2eMqr7gl",
        "outputId": "c4c4334d-05df-4ae0-e529-0a8ca6331fa7"
      },
      "execution_count": 8,
      "outputs": [
        {
          "output_type": "error",
          "ename": "NameError",
          "evalue": "ignored",
          "traceback": [
            "\u001b[0;31m---------------------------------------------------------------------------\u001b[0m",
            "\u001b[0;31mNameError\u001b[0m                                 Traceback (most recent call last)",
            "\u001b[0;32m<ipython-input-8-fdc392d8f882>\u001b[0m in \u001b[0;36m<module>\u001b[0;34m()\u001b[0m\n\u001b[0;32m----> 1\u001b[0;31m \u001b[0mmodel\u001b[0m \u001b[0;34m=\u001b[0m \u001b[0mLGBMRegressor\u001b[0m\u001b[0;34m(\u001b[0m\u001b[0mboosting_type\u001b[0m\u001b[0;34m=\u001b[0m\u001b[0;34m'gbdt'\u001b[0m\u001b[0;34m,\u001b[0m \u001b[0mobjective\u001b[0m\u001b[0;34m=\u001b[0m\u001b[0;34m'regression'\u001b[0m\u001b[0;34m,\u001b[0m\u001b[0mn_estimators\u001b[0m\u001b[0;34m=\u001b[0m\u001b[0;36m10000\u001b[0m\u001b[0;34m)\u001b[0m\u001b[0;34m\u001b[0m\u001b[0;34m\u001b[0m\u001b[0m\n\u001b[0m",
            "\u001b[0;31mNameError\u001b[0m: name 'LGBMRegressor' is not defined"
          ]
        }
      ]
    },
    {
      "cell_type": "code",
      "source": [
        "cv_params = {'max_depth':[5],'num_leaves': [3, 4, 5, 6, 7, 8, 9, 10],'reg_alpha': [0, 1, 2, 3, 4, 5,10, 100],'reg_lambda': [0,3,10, 15, 18, 20, 21, 22]}\n",
        "grid = GridSearchCV(model1,cv_params)\n",
        "grid.fit(X_train,Y_train)\n",
        "best_params = grid.best_params_\n",
        "print(best_params)"
      ],
      "metadata": {
        "colab": {
          "base_uri": "https://localhost:8080/"
        },
        "id": "DPLNDkXbr7ej",
        "outputId": "202e08bb-d541-453c-fb95-2fdf9eb49134"
      },
      "execution_count": 50,
      "outputs": [
        {
          "output_type": "stream",
          "name": "stdout",
          "text": [
            "{'max_depth': 5, 'num_leaves': 5, 'reg_alpha': 3, 'reg_lambda': 10}\n"
          ]
        }
      ]
    },
    {
      "cell_type": "code",
      "source": [
        "grid.best_score_"
      ],
      "metadata": {
        "colab": {
          "base_uri": "https://localhost:8080/"
        },
        "id": "VWcy02iZUaBS",
        "outputId": "fd850ca8-4d09-4353-ed0d-31691ac61b74"
      },
      "execution_count": 74,
      "outputs": [
        {
          "output_type": "execute_result",
          "data": {
            "text/plain": [
              "0.7742899812793167"
            ]
          },
          "metadata": {},
          "execution_count": 74
        }
      ]
    },
    {
      "cell_type": "code",
      "source": [
        "for i in range(20):\n",
        "  model1 =LGBMClassifier(max_depth=5,num_leaves=5,reg_alpha=3,reg_lambda=i)\n",
        "  model1.fit(X_train,Y_train)\n",
        "  predtrain = model1.predict(X_train)\n",
        "  y_pred1=model1.predict(X_test)\n",
        "  accuracy0 = accuracy_score(Y_train,predtrain)\n",
        "  accuracy1 = accuracy_score(Y_test, y_pred1)\n",
        "  print(accuracy1,accuracy0)"
      ],
      "metadata": {
        "colab": {
          "base_uri": "https://localhost:8080/"
        },
        "id": "RhthbY-vub5i",
        "outputId": "05acd91e-5750-4002-cc96-015a03e3ab3f"
      },
      "execution_count": 73,
      "outputs": [
        {
          "output_type": "stream",
          "name": "stdout",
          "text": [
            "0.7557510148849798 0.7893820713664056\n",
            "0.7496617050067659 0.7934435741224253\n",
            "0.7530446549391069 0.7943138961415723\n",
            "0.7543978349120433 0.7922831447635625\n",
            "0.7503382949932341 0.7917029300841312\n",
            "0.7523680649526387 0.790832608064984\n",
            "0.7530446549391069 0.790832608064984\n",
            "0.7537212449255751 0.7922831447635625\n",
            "0.7530446549391069 0.7896721787061213\n",
            "0.7530446549391069 0.789962286045837\n",
            "0.7530446549391069 0.7873513199883957\n",
            "0.7516914749661705 0.7876414273281114\n",
            "0.7530446549391069 0.790832608064984\n",
            "0.7537212449255751 0.7902523933855526\n",
            "0.7550744248985115 0.789962286045837\n",
            "0.7571041948579161 0.7890919640266899\n",
            "0.7577807848443843 0.7873513199883957\n",
            "0.7537212449255751 0.7890919640266899\n",
            "0.7516914749661705 0.7893820713664056\n",
            "0.7564276048714479 0.7885117493472585\n"
          ]
        }
      ]
    },
    {
      "cell_type": "code",
      "source": [
        "model0 = LGBMClassifier(max_depth = 5,num_leaves=5,reg_alpha=3,reg_lambda=0)\n",
        "model0.fit(X_train,Y_train)\n",
        "pred0 = model0.predict(X_test)\n",
        "accuracy = accuracy_score(Y_test, pred0)\n",
        "accuracy"
      ],
      "metadata": {
        "colab": {
          "base_uri": "https://localhost:8080/"
        },
        "id": "BYl_svP0eLxJ",
        "outputId": "3c021f97-ecee-4dec-cae4-d6db34d2fe0c"
      },
      "execution_count": 69,
      "outputs": [
        {
          "output_type": "execute_result",
          "data": {
            "text/plain": [
              "0.7557510148849798"
            ]
          },
          "metadata": {},
          "execution_count": 69
        }
      ]
    },
    {
      "cell_type": "code",
      "source": [
        "y_pred = pd.DataFrame(pred0)"
      ],
      "metadata": {
        "id": "ZAsyoQXP2Srq"
      },
      "execution_count": 67,
      "outputs": []
    },
    {
      "cell_type": "code",
      "source": [
        "y_pred"
      ],
      "metadata": {
        "colab": {
          "base_uri": "https://localhost:8080/",
          "height": 419
        },
        "id": "KXWgfVsX6bzj",
        "outputId": "f36b525f-25a8-4e86-93ff-03187b225374"
      },
      "execution_count": 68,
      "outputs": [
        {
          "output_type": "execute_result",
          "data": {
            "text/html": [
              "\n",
              "  <div id=\"df-d6cfa023-6db9-49d2-8803-7240da5cc4b0\">\n",
              "    <div class=\"colab-df-container\">\n",
              "      <div>\n",
              "<style scoped>\n",
              "    .dataframe tbody tr th:only-of-type {\n",
              "        vertical-align: middle;\n",
              "    }\n",
              "\n",
              "    .dataframe tbody tr th {\n",
              "        vertical-align: top;\n",
              "    }\n",
              "\n",
              "    .dataframe thead th {\n",
              "        text-align: right;\n",
              "    }\n",
              "</style>\n",
              "<table border=\"1\" class=\"dataframe\">\n",
              "  <thead>\n",
              "    <tr style=\"text-align: right;\">\n",
              "      <th></th>\n",
              "      <th>0</th>\n",
              "    </tr>\n",
              "  </thead>\n",
              "  <tbody>\n",
              "    <tr>\n",
              "      <th>0</th>\n",
              "      <td>1</td>\n",
              "    </tr>\n",
              "    <tr>\n",
              "      <th>1</th>\n",
              "      <td>0</td>\n",
              "    </tr>\n",
              "    <tr>\n",
              "      <th>2</th>\n",
              "      <td>0</td>\n",
              "    </tr>\n",
              "    <tr>\n",
              "      <th>3</th>\n",
              "      <td>1</td>\n",
              "    </tr>\n",
              "    <tr>\n",
              "      <th>4</th>\n",
              "      <td>0</td>\n",
              "    </tr>\n",
              "    <tr>\n",
              "      <th>...</th>\n",
              "      <td>...</td>\n",
              "    </tr>\n",
              "    <tr>\n",
              "      <th>1473</th>\n",
              "      <td>0</td>\n",
              "    </tr>\n",
              "    <tr>\n",
              "      <th>1474</th>\n",
              "      <td>1</td>\n",
              "    </tr>\n",
              "    <tr>\n",
              "      <th>1475</th>\n",
              "      <td>0</td>\n",
              "    </tr>\n",
              "    <tr>\n",
              "      <th>1476</th>\n",
              "      <td>0</td>\n",
              "    </tr>\n",
              "    <tr>\n",
              "      <th>1477</th>\n",
              "      <td>1</td>\n",
              "    </tr>\n",
              "  </tbody>\n",
              "</table>\n",
              "<p>1478 rows × 1 columns</p>\n",
              "</div>\n",
              "      <button class=\"colab-df-convert\" onclick=\"convertToInteractive('df-d6cfa023-6db9-49d2-8803-7240da5cc4b0')\"\n",
              "              title=\"Convert this dataframe to an interactive table.\"\n",
              "              style=\"display:none;\">\n",
              "        \n",
              "  <svg xmlns=\"http://www.w3.org/2000/svg\" height=\"24px\"viewBox=\"0 0 24 24\"\n",
              "       width=\"24px\">\n",
              "    <path d=\"M0 0h24v24H0V0z\" fill=\"none\"/>\n",
              "    <path d=\"M18.56 5.44l.94 2.06.94-2.06 2.06-.94-2.06-.94-.94-2.06-.94 2.06-2.06.94zm-11 1L8.5 8.5l.94-2.06 2.06-.94-2.06-.94L8.5 2.5l-.94 2.06-2.06.94zm10 10l.94 2.06.94-2.06 2.06-.94-2.06-.94-.94-2.06-.94 2.06-2.06.94z\"/><path d=\"M17.41 7.96l-1.37-1.37c-.4-.4-.92-.59-1.43-.59-.52 0-1.04.2-1.43.59L10.3 9.45l-7.72 7.72c-.78.78-.78 2.05 0 2.83L4 21.41c.39.39.9.59 1.41.59.51 0 1.02-.2 1.41-.59l7.78-7.78 2.81-2.81c.8-.78.8-2.07 0-2.86zM5.41 20L4 18.59l7.72-7.72 1.47 1.35L5.41 20z\"/>\n",
              "  </svg>\n",
              "      </button>\n",
              "      \n",
              "  <style>\n",
              "    .colab-df-container {\n",
              "      display:flex;\n",
              "      flex-wrap:wrap;\n",
              "      gap: 12px;\n",
              "    }\n",
              "\n",
              "    .colab-df-convert {\n",
              "      background-color: #E8F0FE;\n",
              "      border: none;\n",
              "      border-radius: 50%;\n",
              "      cursor: pointer;\n",
              "      display: none;\n",
              "      fill: #1967D2;\n",
              "      height: 32px;\n",
              "      padding: 0 0 0 0;\n",
              "      width: 32px;\n",
              "    }\n",
              "\n",
              "    .colab-df-convert:hover {\n",
              "      background-color: #E2EBFA;\n",
              "      box-shadow: 0px 1px 2px rgba(60, 64, 67, 0.3), 0px 1px 3px 1px rgba(60, 64, 67, 0.15);\n",
              "      fill: #174EA6;\n",
              "    }\n",
              "\n",
              "    [theme=dark] .colab-df-convert {\n",
              "      background-color: #3B4455;\n",
              "      fill: #D2E3FC;\n",
              "    }\n",
              "\n",
              "    [theme=dark] .colab-df-convert:hover {\n",
              "      background-color: #434B5C;\n",
              "      box-shadow: 0px 1px 3px 1px rgba(0, 0, 0, 0.15);\n",
              "      filter: drop-shadow(0px 1px 2px rgba(0, 0, 0, 0.3));\n",
              "      fill: #FFFFFF;\n",
              "    }\n",
              "  </style>\n",
              "\n",
              "      <script>\n",
              "        const buttonEl =\n",
              "          document.querySelector('#df-d6cfa023-6db9-49d2-8803-7240da5cc4b0 button.colab-df-convert');\n",
              "        buttonEl.style.display =\n",
              "          google.colab.kernel.accessAllowed ? 'block' : 'none';\n",
              "\n",
              "        async function convertToInteractive(key) {\n",
              "          const element = document.querySelector('#df-d6cfa023-6db9-49d2-8803-7240da5cc4b0');\n",
              "          const dataTable =\n",
              "            await google.colab.kernel.invokeFunction('convertToInteractive',\n",
              "                                                     [key], {});\n",
              "          if (!dataTable) return;\n",
              "\n",
              "          const docLinkHtml = 'Like what you see? Visit the ' +\n",
              "            '<a target=\"_blank\" href=https://colab.research.google.com/notebooks/data_table.ipynb>data table notebook</a>'\n",
              "            + ' to learn more about interactive tables.';\n",
              "          element.innerHTML = '';\n",
              "          dataTable['output_type'] = 'display_data';\n",
              "          await google.colab.output.renderOutput(dataTable, element);\n",
              "          const docLink = document.createElement('div');\n",
              "          docLink.innerHTML = docLinkHtml;\n",
              "          element.appendChild(docLink);\n",
              "        }\n",
              "      </script>\n",
              "    </div>\n",
              "  </div>\n",
              "  "
            ],
            "text/plain": [
              "      0\n",
              "0     1\n",
              "1     0\n",
              "2     0\n",
              "3     1\n",
              "4     0\n",
              "...  ..\n",
              "1473  0\n",
              "1474  1\n",
              "1475  0\n",
              "1476  0\n",
              "1477  1\n",
              "\n",
              "[1478 rows x 1 columns]"
            ]
          },
          "metadata": {},
          "execution_count": 68
        }
      ]
    },
    {
      "cell_type": "code",
      "source": [
        "y_pred = grid.predict(X_test)"
      ],
      "metadata": {
        "id": "9BUrM9Qil_12"
      },
      "execution_count": 78,
      "outputs": []
    },
    {
      "cell_type": "code",
      "source": [
        "from sklearn.metrics import accuracy_score\n",
        "#RandomForestの精度検証\n",
        "accurac = accuracy_score(Y_test, y_pred)\n",
        "accurac"
      ],
      "metadata": {
        "colab": {
          "base_uri": "https://localhost:8080/"
        },
        "id": "SQFCZq2x1qb7",
        "outputId": "c47d15e9-dc4e-442e-af70-b6fa9cdd7aef"
      },
      "execution_count": 79,
      "outputs": [
        {
          "output_type": "execute_result",
          "data": {
            "text/plain": [
              "0.7530446549391069"
            ]
          },
          "metadata": {},
          "execution_count": 79
        }
      ]
    },
    {
      "cell_type": "code",
      "source": [
        "from sklearn.metrics import confusion_matrix\n",
        "\n",
        "matri = confusion_matrix(Y_test,y_pred)\n",
        "\n",
        "print(matri)\n",
        "print('FN/(TP+FN):',matri[1][0]/(matri[0][0]+matri[1][0]))\n",
        "print('FP/(FP+TP):',matri[0][1]/(matri[0][1]+matri[1][1]))"
      ],
      "metadata": {
        "colab": {
          "base_uri": "https://localhost:8080/"
        },
        "id": "EJuoe-kjm3JN",
        "outputId": "5a70cee0-a675-497c-bda8-bd61bba64e1f"
      },
      "execution_count": 82,
      "outputs": [
        {
          "output_type": "stream",
          "name": "stdout",
          "text": [
            "[[590 157]\n",
            " [208 523]]\n",
            "FN/(TP+FN): 0.2606516290726817\n",
            "FP/(FP+TP): 0.23088235294117648\n"
          ]
        }
      ]
    },
    {
      "cell_type": "code",
      "source": [
        "test_gameId = test['gameId']\n",
        "test = test.drop('gameId',axis=1)\n",
        "\n",
        "sub = grid.predict(test)\n",
        "\n",
        "sub = pd.DataFrame(sub)\n",
        "sub[1] = test_gameId\n",
        "sub[1] = sub[0]\n",
        "sub[0] = test_gameId\n",
        "print(sub)\n",
        "\n",
        "sub.to_csv('submi.csv',index = False)"
      ],
      "metadata": {
        "colab": {
          "base_uri": "https://localhost:8080/"
        },
        "id": "RlVtFxZTW9wM",
        "outputId": "0019bd34-bf15-4d84-e99f-2f2ac1d72d63"
      },
      "execution_count": 77,
      "outputs": [
        {
          "output_type": "stream",
          "name": "stdout",
          "text": [
            "         0  1\n",
            "0     4925  0\n",
            "1     4926  0\n",
            "2     4927  0\n",
            "3     4928  0\n",
            "4     4929  0\n",
            "...    ... ..\n",
            "4920  9845  1\n",
            "4921  9846  0\n",
            "4922  9847  0\n",
            "4923  9848  0\n",
            "4924  9849  0\n",
            "\n",
            "[4925 rows x 2 columns]\n"
          ]
        }
      ]
    }
  ]
}