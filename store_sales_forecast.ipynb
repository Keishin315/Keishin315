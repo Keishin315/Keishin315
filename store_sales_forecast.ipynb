{
  "nbformat": 4,
  "nbformat_minor": 0,
  "metadata": {
    "colab": {
      "name": "store_sales_forecast",
      "provenance": [],
      "collapsed_sections": [],
      "include_colab_link": true
    },
    "kernelspec": {
      "name": "python3",
      "display_name": "Python 3"
    },
    "accelerator": "GPU"
  },
  "cells": [
    {
      "cell_type": "markdown",
      "metadata": {
        "id": "view-in-github",
        "colab_type": "text"
      },
      "source": [
        "<a href=\"https://colab.research.google.com/github/Keishin315/Keishin315/blob/main/store_sales_forecast.ipynb\" target=\"_parent\"><img src=\"https://colab.research.google.com/assets/colab-badge.svg\" alt=\"Open In Colab\"/></a>"
      ]
    },
    {
      "cell_type": "markdown",
      "metadata": {
        "id": "mf2ENBI217Zd"
      },
      "source": [
        "# This notebook provides a recipe for using Kaggle API with Colab"
      ]
    },
    {
      "cell_type": "code",
      "metadata": {
        "id": "YMvFLpBQlBTR",
        "colab": {
          "base_uri": "https://localhost:8080/"
        },
        "outputId": "b155e174-16f5-494e-af18-6eaccfa6aebe"
      },
      "source": [
        "!pip install kaggle"
      ],
      "execution_count": 2,
      "outputs": [
        {
          "output_type": "stream",
          "name": "stdout",
          "text": [
            "Requirement already satisfied: kaggle in /usr/local/lib/python3.7/dist-packages (1.5.12)\n",
            "Requirement already satisfied: urllib3 in /usr/local/lib/python3.7/dist-packages (from kaggle) (1.24.3)\n",
            "Requirement already satisfied: requests in /usr/local/lib/python3.7/dist-packages (from kaggle) (2.23.0)\n",
            "Requirement already satisfied: python-dateutil in /usr/local/lib/python3.7/dist-packages (from kaggle) (2.8.2)\n",
            "Requirement already satisfied: python-slugify in /usr/local/lib/python3.7/dist-packages (from kaggle) (5.0.2)\n",
            "Requirement already satisfied: certifi in /usr/local/lib/python3.7/dist-packages (from kaggle) (2021.10.8)\n",
            "Requirement already satisfied: tqdm in /usr/local/lib/python3.7/dist-packages (from kaggle) (4.62.3)\n",
            "Requirement already satisfied: six>=1.10 in /usr/local/lib/python3.7/dist-packages (from kaggle) (1.15.0)\n",
            "Requirement already satisfied: text-unidecode>=1.3 in /usr/local/lib/python3.7/dist-packages (from python-slugify->kaggle) (1.3)\n",
            "Requirement already satisfied: chardet<4,>=3.0.2 in /usr/local/lib/python3.7/dist-packages (from requests->kaggle) (3.0.4)\n",
            "Requirement already satisfied: idna<3,>=2.5 in /usr/local/lib/python3.7/dist-packages (from requests->kaggle) (2.10)\n"
          ]
        }
      ]
    },
    {
      "cell_type": "markdown",
      "metadata": {
        "id": "pBETV6aO2d39"
      },
      "source": [
        "# API Credentials\n",
        "\n",
        "To use the Kaggle API, sign up for a Kaggle account at https://www.kaggle.com. Then go to the 'Account' tab of your user profile (https://www.kaggle.com/<username>/account) and select 'Create API Token'. This will trigger the download of kaggle.json, a file containing your API credentials. \n",
        "\n",
        "Place this file on your Google Drive anywhere.\n",
        "\n",
        "With the next snippet you download your credentials to Colab and you can start using Kaggle API"
      ]
    },
    {
      "cell_type": "code",
      "metadata": {
        "id": "y5_288BYp6H1",
        "colab": {
          "base_uri": "https://localhost:8080/",
          "height": 528
        },
        "outputId": "ee234941-f3b5-4a14-e4a7-a34f601805b7"
      },
      "source": [
        "from googleapiclient.discovery import build\n",
        "import io, os\n",
        "from googleapiclient.http import MediaIoBaseDownload\n",
        "from google.colab import auth\n",
        "\n",
        "auth.authenticate_user()\n",
        "\n",
        "drive_service = build('drive', 'v3')\n",
        "results = drive_service.files().list(\n",
        "        q=\"name = 'kaggle.json'\", fields=\"files(id)\").execute()\n",
        "kaggle_api_key = results.get('files', [])\n",
        "\n",
        "filename = \"/content/.kaggle/kaggle.json\"\n",
        "os.makedirs(os.path.dirname(filename), exist_ok=True)\n",
        "\n",
        "request = drive_service.files().get_media(fileId=kaggle_api_key[0]['id'])\n",
        "fh = io.FileIO(filename, 'wb')\n",
        "downloader = MediaIoBaseDownload(fh, request)\n",
        "done = False\n",
        "while done is False:\n",
        "    status, done = downloader.next_chunk()\n",
        "    print(\"Download %d%%.\" % int(status.progress() * 100))\n",
        "os.chmod(filename, 600)"
      ],
      "execution_count": null,
      "outputs": [
        {
          "output_type": "error",
          "ename": "KeyboardInterrupt",
          "evalue": "ignored",
          "traceback": [
            "\u001b[0;31m---------------------------------------------------------------------------\u001b[0m",
            "\u001b[0;31mKeyboardInterrupt\u001b[0m                         Traceback (most recent call last)",
            "\u001b[0;32m/usr/local/lib/python3.7/dist-packages/ipykernel/kernelbase.py\u001b[0m in \u001b[0;36m_input_request\u001b[0;34m(self, prompt, ident, parent, password)\u001b[0m\n\u001b[1;32m    728\u001b[0m             \u001b[0;32mtry\u001b[0m\u001b[0;34m:\u001b[0m\u001b[0;34m\u001b[0m\u001b[0;34m\u001b[0m\u001b[0m\n\u001b[0;32m--> 729\u001b[0;31m                 \u001b[0mident\u001b[0m\u001b[0;34m,\u001b[0m \u001b[0mreply\u001b[0m \u001b[0;34m=\u001b[0m \u001b[0mself\u001b[0m\u001b[0;34m.\u001b[0m\u001b[0msession\u001b[0m\u001b[0;34m.\u001b[0m\u001b[0mrecv\u001b[0m\u001b[0;34m(\u001b[0m\u001b[0mself\u001b[0m\u001b[0;34m.\u001b[0m\u001b[0mstdin_socket\u001b[0m\u001b[0;34m,\u001b[0m \u001b[0;36m0\u001b[0m\u001b[0;34m)\u001b[0m\u001b[0;34m\u001b[0m\u001b[0;34m\u001b[0m\u001b[0m\n\u001b[0m\u001b[1;32m    730\u001b[0m             \u001b[0;32mexcept\u001b[0m \u001b[0mException\u001b[0m\u001b[0;34m:\u001b[0m\u001b[0;34m\u001b[0m\u001b[0;34m\u001b[0m\u001b[0m\n",
            "\u001b[0;32m/usr/local/lib/python3.7/dist-packages/jupyter_client/session.py\u001b[0m in \u001b[0;36mrecv\u001b[0;34m(self, socket, mode, content, copy)\u001b[0m\n\u001b[1;32m    802\u001b[0m         \u001b[0;32mtry\u001b[0m\u001b[0;34m:\u001b[0m\u001b[0;34m\u001b[0m\u001b[0;34m\u001b[0m\u001b[0m\n\u001b[0;32m--> 803\u001b[0;31m             \u001b[0mmsg_list\u001b[0m \u001b[0;34m=\u001b[0m \u001b[0msocket\u001b[0m\u001b[0;34m.\u001b[0m\u001b[0mrecv_multipart\u001b[0m\u001b[0;34m(\u001b[0m\u001b[0mmode\u001b[0m\u001b[0;34m,\u001b[0m \u001b[0mcopy\u001b[0m\u001b[0;34m=\u001b[0m\u001b[0mcopy\u001b[0m\u001b[0;34m)\u001b[0m\u001b[0;34m\u001b[0m\u001b[0;34m\u001b[0m\u001b[0m\n\u001b[0m\u001b[1;32m    804\u001b[0m         \u001b[0;32mexcept\u001b[0m \u001b[0mzmq\u001b[0m\u001b[0;34m.\u001b[0m\u001b[0mZMQError\u001b[0m \u001b[0;32mas\u001b[0m \u001b[0me\u001b[0m\u001b[0;34m:\u001b[0m\u001b[0;34m\u001b[0m\u001b[0;34m\u001b[0m\u001b[0m\n",
            "\u001b[0;32m/usr/local/lib/python3.7/dist-packages/zmq/sugar/socket.py\u001b[0m in \u001b[0;36mrecv_multipart\u001b[0;34m(self, flags, copy, track)\u001b[0m\n\u001b[1;32m    624\u001b[0m         \"\"\"\n\u001b[0;32m--> 625\u001b[0;31m         \u001b[0mparts\u001b[0m \u001b[0;34m=\u001b[0m \u001b[0;34m[\u001b[0m\u001b[0mself\u001b[0m\u001b[0;34m.\u001b[0m\u001b[0mrecv\u001b[0m\u001b[0;34m(\u001b[0m\u001b[0mflags\u001b[0m\u001b[0;34m,\u001b[0m \u001b[0mcopy\u001b[0m\u001b[0;34m=\u001b[0m\u001b[0mcopy\u001b[0m\u001b[0;34m,\u001b[0m \u001b[0mtrack\u001b[0m\u001b[0;34m=\u001b[0m\u001b[0mtrack\u001b[0m\u001b[0;34m)\u001b[0m\u001b[0;34m]\u001b[0m\u001b[0;34m\u001b[0m\u001b[0;34m\u001b[0m\u001b[0m\n\u001b[0m\u001b[1;32m    626\u001b[0m         \u001b[0;31m# have first part already, only loop while more to receive\u001b[0m\u001b[0;34m\u001b[0m\u001b[0;34m\u001b[0m\u001b[0;34m\u001b[0m\u001b[0m\n",
            "\u001b[0;32mzmq/backend/cython/socket.pyx\u001b[0m in \u001b[0;36mzmq.backend.cython.socket.Socket.recv\u001b[0;34m()\u001b[0m\n",
            "\u001b[0;32mzmq/backend/cython/socket.pyx\u001b[0m in \u001b[0;36mzmq.backend.cython.socket.Socket.recv\u001b[0;34m()\u001b[0m\n",
            "\u001b[0;32mzmq/backend/cython/socket.pyx\u001b[0m in \u001b[0;36mzmq.backend.cython.socket._recv_copy\u001b[0;34m()\u001b[0m\n",
            "\u001b[0;32m/usr/local/lib/python3.7/dist-packages/zmq/backend/cython/checkrc.pxd\u001b[0m in \u001b[0;36mzmq.backend.cython.checkrc._check_rc\u001b[0;34m()\u001b[0m\n",
            "\u001b[0;31mKeyboardInterrupt\u001b[0m: ",
            "\nDuring handling of the above exception, another exception occurred:\n",
            "\u001b[0;31mKeyboardInterrupt\u001b[0m                         Traceback (most recent call last)",
            "\u001b[0;32m<ipython-input-71-8bbe35c77eee>\u001b[0m in \u001b[0;36m<module>\u001b[0;34m()\u001b[0m\n\u001b[1;32m      4\u001b[0m \u001b[0;32mfrom\u001b[0m \u001b[0mgoogle\u001b[0m\u001b[0;34m.\u001b[0m\u001b[0mcolab\u001b[0m \u001b[0;32mimport\u001b[0m \u001b[0mauth\u001b[0m\u001b[0;34m\u001b[0m\u001b[0;34m\u001b[0m\u001b[0m\n\u001b[1;32m      5\u001b[0m \u001b[0;34m\u001b[0m\u001b[0m\n\u001b[0;32m----> 6\u001b[0;31m \u001b[0mauth\u001b[0m\u001b[0;34m.\u001b[0m\u001b[0mauthenticate_user\u001b[0m\u001b[0;34m(\u001b[0m\u001b[0;34m)\u001b[0m\u001b[0;34m\u001b[0m\u001b[0;34m\u001b[0m\u001b[0m\n\u001b[0m\u001b[1;32m      7\u001b[0m \u001b[0;34m\u001b[0m\u001b[0m\n\u001b[1;32m      8\u001b[0m \u001b[0mdrive_service\u001b[0m \u001b[0;34m=\u001b[0m \u001b[0mbuild\u001b[0m\u001b[0;34m(\u001b[0m\u001b[0;34m'drive'\u001b[0m\u001b[0;34m,\u001b[0m \u001b[0;34m'v3'\u001b[0m\u001b[0;34m)\u001b[0m\u001b[0;34m\u001b[0m\u001b[0;34m\u001b[0m\u001b[0m\n",
            "\u001b[0;32m/usr/local/lib/python3.7/dist-packages/google/colab/auth.py\u001b[0m in \u001b[0;36mauthenticate_user\u001b[0;34m(clear_output)\u001b[0m\n\u001b[1;32m    151\u001b[0m     \u001b[0mcontext_manager\u001b[0m \u001b[0;34m=\u001b[0m \u001b[0m_output\u001b[0m\u001b[0;34m.\u001b[0m\u001b[0mtemporary\u001b[0m \u001b[0;32mif\u001b[0m \u001b[0mclear_output\u001b[0m \u001b[0;32melse\u001b[0m \u001b[0m_noop\u001b[0m\u001b[0;34m\u001b[0m\u001b[0;34m\u001b[0m\u001b[0m\n\u001b[1;32m    152\u001b[0m     \u001b[0;32mwith\u001b[0m \u001b[0mcontext_manager\u001b[0m\u001b[0;34m(\u001b[0m\u001b[0;34m)\u001b[0m\u001b[0;34m:\u001b[0m\u001b[0;34m\u001b[0m\u001b[0;34m\u001b[0m\u001b[0m\n\u001b[0;32m--> 153\u001b[0;31m       \u001b[0m_gcloud_login\u001b[0m\u001b[0;34m(\u001b[0m\u001b[0;34m)\u001b[0m\u001b[0;34m\u001b[0m\u001b[0;34m\u001b[0m\u001b[0m\n\u001b[0m\u001b[1;32m    154\u001b[0m     \u001b[0m_install_adc\u001b[0m\u001b[0;34m(\u001b[0m\u001b[0;34m)\u001b[0m\u001b[0;34m\u001b[0m\u001b[0;34m\u001b[0m\u001b[0m\n\u001b[1;32m    155\u001b[0m     \u001b[0mcolab_tpu_addr\u001b[0m \u001b[0;34m=\u001b[0m \u001b[0m_os\u001b[0m\u001b[0;34m.\u001b[0m\u001b[0menviron\u001b[0m\u001b[0;34m.\u001b[0m\u001b[0mget\u001b[0m\u001b[0;34m(\u001b[0m\u001b[0;34m'COLAB_TPU_ADDR'\u001b[0m\u001b[0;34m,\u001b[0m \u001b[0;34m''\u001b[0m\u001b[0;34m)\u001b[0m\u001b[0;34m\u001b[0m\u001b[0;34m\u001b[0m\u001b[0m\n",
            "\u001b[0;32m/usr/local/lib/python3.7/dist-packages/google/colab/auth.py\u001b[0m in \u001b[0;36m_gcloud_login\u001b[0;34m()\u001b[0m\n\u001b[1;32m     93\u001b[0m     \u001b[0;31m# https://github.com/jupyter/notebook/issues/3159\u001b[0m\u001b[0;34m\u001b[0m\u001b[0;34m\u001b[0m\u001b[0;34m\u001b[0m\u001b[0m\n\u001b[1;32m     94\u001b[0m     \u001b[0mprompt\u001b[0m \u001b[0;34m=\u001b[0m \u001b[0mprompt\u001b[0m\u001b[0;34m.\u001b[0m\u001b[0mrstrip\u001b[0m\u001b[0;34m(\u001b[0m\u001b[0;34m)\u001b[0m\u001b[0;34m\u001b[0m\u001b[0;34m\u001b[0m\u001b[0m\n\u001b[0;32m---> 95\u001b[0;31m     \u001b[0mcode\u001b[0m \u001b[0;34m=\u001b[0m \u001b[0mget_code\u001b[0m\u001b[0;34m(\u001b[0m\u001b[0mprompt\u001b[0m \u001b[0;34m+\u001b[0m \u001b[0;34m' '\u001b[0m\u001b[0;34m)\u001b[0m\u001b[0;34m\u001b[0m\u001b[0;34m\u001b[0m\u001b[0m\n\u001b[0m\u001b[1;32m     96\u001b[0m     \u001b[0mgcloud_process\u001b[0m\u001b[0;34m.\u001b[0m\u001b[0mcommunicate\u001b[0m\u001b[0;34m(\u001b[0m\u001b[0mcode\u001b[0m\u001b[0;34m.\u001b[0m\u001b[0mstrip\u001b[0m\u001b[0;34m(\u001b[0m\u001b[0;34m)\u001b[0m\u001b[0;34m)\u001b[0m\u001b[0;34m\u001b[0m\u001b[0;34m\u001b[0m\u001b[0m\n\u001b[1;32m     97\u001b[0m   \u001b[0;32mfinally\u001b[0m\u001b[0;34m:\u001b[0m\u001b[0;34m\u001b[0m\u001b[0;34m\u001b[0m\u001b[0m\n",
            "\u001b[0;32m/usr/local/lib/python3.7/dist-packages/ipykernel/kernelbase.py\u001b[0m in \u001b[0;36mraw_input\u001b[0;34m(self, prompt)\u001b[0m\n\u001b[1;32m    702\u001b[0m             \u001b[0mself\u001b[0m\u001b[0;34m.\u001b[0m\u001b[0m_parent_ident\u001b[0m\u001b[0;34m,\u001b[0m\u001b[0;34m\u001b[0m\u001b[0;34m\u001b[0m\u001b[0m\n\u001b[1;32m    703\u001b[0m             \u001b[0mself\u001b[0m\u001b[0;34m.\u001b[0m\u001b[0m_parent_header\u001b[0m\u001b[0;34m,\u001b[0m\u001b[0;34m\u001b[0m\u001b[0;34m\u001b[0m\u001b[0m\n\u001b[0;32m--> 704\u001b[0;31m             \u001b[0mpassword\u001b[0m\u001b[0;34m=\u001b[0m\u001b[0;32mFalse\u001b[0m\u001b[0;34m,\u001b[0m\u001b[0;34m\u001b[0m\u001b[0;34m\u001b[0m\u001b[0m\n\u001b[0m\u001b[1;32m    705\u001b[0m         )\n\u001b[1;32m    706\u001b[0m \u001b[0;34m\u001b[0m\u001b[0m\n",
            "\u001b[0;32m/usr/local/lib/python3.7/dist-packages/ipykernel/kernelbase.py\u001b[0m in \u001b[0;36m_input_request\u001b[0;34m(self, prompt, ident, parent, password)\u001b[0m\n\u001b[1;32m    732\u001b[0m             \u001b[0;32mexcept\u001b[0m \u001b[0mKeyboardInterrupt\u001b[0m\u001b[0;34m:\u001b[0m\u001b[0;34m\u001b[0m\u001b[0;34m\u001b[0m\u001b[0m\n\u001b[1;32m    733\u001b[0m                 \u001b[0;31m# re-raise KeyboardInterrupt, to truncate traceback\u001b[0m\u001b[0;34m\u001b[0m\u001b[0;34m\u001b[0m\u001b[0;34m\u001b[0m\u001b[0m\n\u001b[0;32m--> 734\u001b[0;31m                 \u001b[0;32mraise\u001b[0m \u001b[0mKeyboardInterrupt\u001b[0m\u001b[0;34m\u001b[0m\u001b[0;34m\u001b[0m\u001b[0m\n\u001b[0m\u001b[1;32m    735\u001b[0m             \u001b[0;32melse\u001b[0m\u001b[0;34m:\u001b[0m\u001b[0;34m\u001b[0m\u001b[0;34m\u001b[0m\u001b[0m\n\u001b[1;32m    736\u001b[0m                 \u001b[0;32mbreak\u001b[0m\u001b[0;34m\u001b[0m\u001b[0;34m\u001b[0m\u001b[0m\n",
            "\u001b[0;31mKeyboardInterrupt\u001b[0m: "
          ]
        }
      ]
    },
    {
      "cell_type": "code",
      "metadata": {
        "id": "oaslE8A8tjtf",
        "colab": {
          "resources": {
            "http://localhost:8080/nbextensions/google.colab/files.js": {
              "data": "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",
              "ok": true,
              "headers": [
                [
                  "content-type",
                  "application/javascript"
                ]
              ],
              "status": 200,
              "status_text": ""
            }
          },
          "base_uri": "https://localhost:8080/",
          "height": 73
        },
        "outputId": "ed76333c-7a94-47ef-880a-a596cef2bda8"
      },
      "source": [
        "import csv\n",
        "from google.colab import files\n",
        "uploaded = files.upload()"
      ],
      "execution_count": 3,
      "outputs": [
        {
          "output_type": "display_data",
          "data": {
            "text/html": [
              "\n",
              "     <input type=\"file\" id=\"files-2eada4f6-573d-4e66-a0fb-0556b10a6d11\" name=\"files[]\" multiple disabled\n",
              "        style=\"border:none\" />\n",
              "     <output id=\"result-2eada4f6-573d-4e66-a0fb-0556b10a6d11\">\n",
              "      Upload widget is only available when the cell has been executed in the\n",
              "      current browser session. Please rerun this cell to enable.\n",
              "      </output>\n",
              "      <script src=\"/nbextensions/google.colab/files.js\"></script> "
            ],
            "text/plain": [
              "<IPython.core.display.HTML object>"
            ]
          },
          "metadata": {}
        },
        {
          "output_type": "stream",
          "name": "stdout",
          "text": [
            "Saving kaggle.json to kaggle.json\n"
          ]
        }
      ]
    },
    {
      "cell_type": "code",
      "metadata": {
        "id": "YYGbxukVtgCm"
      },
      "source": [
        "!mkdir -p ~/.kaggle\n",
        "!mv kaggle.json ~/.kaggle/"
      ],
      "execution_count": 4,
      "outputs": []
    },
    {
      "cell_type": "code",
      "metadata": {
        "id": "5l1V_oxXsZ8l",
        "colab": {
          "base_uri": "https://localhost:8080/"
        },
        "outputId": "71b808cc-af0b-4c72-d1ee-b7378326e665"
      },
      "source": [
        "!kaggle competitions list"
      ],
      "execution_count": 5,
      "outputs": [
        {
          "output_type": "stream",
          "name": "stdout",
          "text": [
            "Warning: Your Kaggle API key is readable by other users on this system! To fix this, you can run 'chmod 600 /root/.kaggle/kaggle.json'\n",
            "Warning: Looks like you're using an outdated API Version, please consider updating (server 1.5.12 / client 1.5.4)\n",
            "ref                                            deadline             category            reward  teamCount  userHasEntered  \n",
            "---------------------------------------------  -------------------  ---------------  ---------  ---------  --------------  \n",
            "contradictory-my-dear-watson                   2030-07-01 23:59:00  Getting Started     Prizes         80           False  \n",
            "gan-getting-started                            2030-07-01 23:59:00  Getting Started     Prizes         75           False  \n",
            "store-sales-time-series-forecasting            2030-06-30 23:59:00  Getting Started  Knowledge        775           False  \n",
            "tpu-getting-started                            2030-06-03 23:59:00  Getting Started  Knowledge        138           False  \n",
            "digit-recognizer                               2030-01-01 00:00:00  Getting Started  Knowledge       1534           False  \n",
            "titanic                                        2030-01-01 00:00:00  Getting Started  Knowledge      14374            True  \n",
            "house-prices-advanced-regression-techniques    2030-01-01 00:00:00  Getting Started  Knowledge       4771           False  \n",
            "connectx                                       2030-01-01 00:00:00  Getting Started  Knowledge        240           False  \n",
            "nlp-getting-started                            2030-01-01 00:00:00  Getting Started  Knowledge       1034           False  \n",
            "competitive-data-science-predict-future-sales  2022-12-31 23:59:00  Playground           Kudos      13042           False  \n",
            "tensorflow-great-barrier-reef                  2022-02-14 23:59:00  Research          $150,000        127           False  \n",
            "jigsaw-toxic-severity-rating                   2022-02-07 23:59:00  Featured           $50,000        674           False  \n",
            "g-research-crypto-forecasting                  2022-02-01 23:59:00  Featured          $125,000        722           False  \n",
            "petfinder-pawpularity-score                    2022-01-13 23:59:00  Research           $25,000       2397           False  \n",
            "santa-2021                                     2022-01-11 23:59:00  Featured           $25,000        502           False  \n",
            "optiver-realized-volatility-prediction         2022-01-10 23:59:00  Featured          $100,000       3852           False  \n",
            "nfl-big-data-bowl-2022                         2022-01-06 23:59:00  Analytics         $100,000          0           False  \n",
            "sartorius-cell-instance-segmentation           2021-12-30 23:59:00  Featured           $75,000       1048           False  \n",
            "wikipedia-image-caption                        2021-12-09 11:59:00  Playground            Swag         92           False  \n",
            "lux-ai-2021                                    2021-12-06 23:59:00  Featured           $10,000       1118           False  \n"
          ]
        }
      ]
    },
    {
      "cell_type": "code",
      "metadata": {
        "id": "XxcGRJCS4equ"
      },
      "source": [
        "!chmod 600 /root/.kaggle/kaggle.json"
      ],
      "execution_count": 6,
      "outputs": []
    },
    {
      "cell_type": "code",
      "metadata": {
        "colab": {
          "base_uri": "https://localhost:8080/"
        },
        "id": "KUK9JJRG4wre",
        "outputId": "233e3a27-4a97-493a-e295-b33967eef0a1"
      },
      "source": [
        "!kaggle competitions download -c store-sales-time-series-forecasting"
      ],
      "execution_count": 7,
      "outputs": [
        {
          "output_type": "stream",
          "name": "stdout",
          "text": [
            "Warning: Looks like you're using an outdated API Version, please consider updating (server 1.5.12 / client 1.5.4)\n",
            "Downloading sample_submission.csv to /content\n",
            "  0% 0.00/334k [00:00<?, ?B/s]\n",
            "100% 334k/334k [00:00<00:00, 50.8MB/s]\n",
            "Downloading stores.csv to /content\n",
            "  0% 0.00/1.35k [00:00<?, ?B/s]\n",
            "100% 1.35k/1.35k [00:00<00:00, 4.14MB/s]\n",
            "Downloading holidays_events.csv to /content\n",
            "  0% 0.00/21.8k [00:00<?, ?B/s]\n",
            "100% 21.8k/21.8k [00:00<00:00, 39.9MB/s]\n",
            "Downloading oil.csv to /content\n",
            "  0% 0.00/20.1k [00:00<?, ?B/s]\n",
            "100% 20.1k/20.1k [00:00<00:00, 20.1MB/s]\n",
            "Downloading test.csv to /content\n",
            "  0% 0.00/998k [00:00<?, ?B/s]\n",
            "100% 998k/998k [00:00<00:00, 66.1MB/s]\n",
            "Downloading train.csv.zip to /content\n",
            " 43% 9.00M/20.8M [00:00<00:00, 37.8MB/s]\n",
            "100% 20.8M/20.8M [00:00<00:00, 69.1MB/s]\n",
            "Downloading transactions.csv.zip to /content\n",
            "  0% 0.00/360k [00:00<?, ?B/s]\n",
            "100% 360k/360k [00:00<00:00, 121MB/s]\n"
          ]
        }
      ]
    },
    {
      "cell_type": "markdown",
      "metadata": {
        "id": "29ZLWbCNTYeH"
      },
      "source": [
        "以下分析"
      ]
    },
    {
      "cell_type": "code",
      "metadata": {
        "id": "kxmXJ7Q7Thiv"
      },
      "source": [
        "import pandas as pd\n",
        "import numpy as np\n",
        "from sklearn.preprocessing import MinMaxScaler\n",
        "from tensorflow.keras.models import Sequential\n",
        "from tensorflow.keras.layers import Dense,Dropout\n",
        "from tensorflow.keras.layers import LSTM\n",
        "from tensorflow.keras.optimizers import Adam"
      ],
      "execution_count": 8,
      "outputs": []
    },
    {
      "cell_type": "code",
      "metadata": {
        "id": "ksgE63FxT3B1"
      },
      "source": [
        "traincsv = pd.read_csv('train.csv.zip')"
      ],
      "execution_count": 9,
      "outputs": []
    },
    {
      "cell_type": "code",
      "metadata": {
        "id": "-cLb0b8go1Cf"
      },
      "source": [
        "traincsv.date = pd.to_datetime(traincsv[\"date\"])"
      ],
      "execution_count": 10,
      "outputs": []
    },
    {
      "cell_type": "code",
      "metadata": {
        "id": "MurnUoKKUp68"
      },
      "source": [
        "traincsv = traincsv.sort_values(['date','store_nbr','family'])"
      ],
      "execution_count": 11,
      "outputs": []
    },
    {
      "cell_type": "code",
      "metadata": {
        "colab": {
          "base_uri": "https://localhost:8080/",
          "height": 450
        },
        "id": "I4HSuNiGrffl",
        "outputId": "119fbca8-2c58-4420-c309-49e407a27234"
      },
      "source": [
        "train = traincsv.set_index('date').drop('id',axis = 1).copy()\n",
        "train"
      ],
      "execution_count": 12,
      "outputs": [
        {
          "output_type": "execute_result",
          "data": {
            "text/html": [
              "<div>\n",
              "<style scoped>\n",
              "    .dataframe tbody tr th:only-of-type {\n",
              "        vertical-align: middle;\n",
              "    }\n",
              "\n",
              "    .dataframe tbody tr th {\n",
              "        vertical-align: top;\n",
              "    }\n",
              "\n",
              "    .dataframe thead th {\n",
              "        text-align: right;\n",
              "    }\n",
              "</style>\n",
              "<table border=\"1\" class=\"dataframe\">\n",
              "  <thead>\n",
              "    <tr style=\"text-align: right;\">\n",
              "      <th></th>\n",
              "      <th>store_nbr</th>\n",
              "      <th>family</th>\n",
              "      <th>sales</th>\n",
              "      <th>onpromotion</th>\n",
              "    </tr>\n",
              "    <tr>\n",
              "      <th>date</th>\n",
              "      <th></th>\n",
              "      <th></th>\n",
              "      <th></th>\n",
              "      <th></th>\n",
              "    </tr>\n",
              "  </thead>\n",
              "  <tbody>\n",
              "    <tr>\n",
              "      <th>2013-01-01</th>\n",
              "      <td>1</td>\n",
              "      <td>AUTOMOTIVE</td>\n",
              "      <td>0.000</td>\n",
              "      <td>0</td>\n",
              "    </tr>\n",
              "    <tr>\n",
              "      <th>2013-01-01</th>\n",
              "      <td>1</td>\n",
              "      <td>BABY CARE</td>\n",
              "      <td>0.000</td>\n",
              "      <td>0</td>\n",
              "    </tr>\n",
              "    <tr>\n",
              "      <th>2013-01-01</th>\n",
              "      <td>1</td>\n",
              "      <td>BEAUTY</td>\n",
              "      <td>0.000</td>\n",
              "      <td>0</td>\n",
              "    </tr>\n",
              "    <tr>\n",
              "      <th>2013-01-01</th>\n",
              "      <td>1</td>\n",
              "      <td>BEVERAGES</td>\n",
              "      <td>0.000</td>\n",
              "      <td>0</td>\n",
              "    </tr>\n",
              "    <tr>\n",
              "      <th>2013-01-01</th>\n",
              "      <td>1</td>\n",
              "      <td>BOOKS</td>\n",
              "      <td>0.000</td>\n",
              "      <td>0</td>\n",
              "    </tr>\n",
              "    <tr>\n",
              "      <th>...</th>\n",
              "      <td>...</td>\n",
              "      <td>...</td>\n",
              "      <td>...</td>\n",
              "      <td>...</td>\n",
              "    </tr>\n",
              "    <tr>\n",
              "      <th>2017-08-15</th>\n",
              "      <td>54</td>\n",
              "      <td>POULTRY</td>\n",
              "      <td>59.619</td>\n",
              "      <td>0</td>\n",
              "    </tr>\n",
              "    <tr>\n",
              "      <th>2017-08-15</th>\n",
              "      <td>54</td>\n",
              "      <td>PREPARED FOODS</td>\n",
              "      <td>94.000</td>\n",
              "      <td>0</td>\n",
              "    </tr>\n",
              "    <tr>\n",
              "      <th>2017-08-15</th>\n",
              "      <td>54</td>\n",
              "      <td>PRODUCE</td>\n",
              "      <td>915.371</td>\n",
              "      <td>76</td>\n",
              "    </tr>\n",
              "    <tr>\n",
              "      <th>2017-08-15</th>\n",
              "      <td>54</td>\n",
              "      <td>SCHOOL AND OFFICE SUPPLIES</td>\n",
              "      <td>0.000</td>\n",
              "      <td>0</td>\n",
              "    </tr>\n",
              "    <tr>\n",
              "      <th>2017-08-15</th>\n",
              "      <td>54</td>\n",
              "      <td>SEAFOOD</td>\n",
              "      <td>3.000</td>\n",
              "      <td>0</td>\n",
              "    </tr>\n",
              "  </tbody>\n",
              "</table>\n",
              "<p>3000888 rows × 4 columns</p>\n",
              "</div>"
            ],
            "text/plain": [
              "            store_nbr                      family    sales  onpromotion\n",
              "date                                                                   \n",
              "2013-01-01          1                  AUTOMOTIVE    0.000            0\n",
              "2013-01-01          1                   BABY CARE    0.000            0\n",
              "2013-01-01          1                      BEAUTY    0.000            0\n",
              "2013-01-01          1                   BEVERAGES    0.000            0\n",
              "2013-01-01          1                       BOOKS    0.000            0\n",
              "...               ...                         ...      ...          ...\n",
              "2017-08-15         54                     POULTRY   59.619            0\n",
              "2017-08-15         54              PREPARED FOODS   94.000            0\n",
              "2017-08-15         54                     PRODUCE  915.371           76\n",
              "2017-08-15         54  SCHOOL AND OFFICE SUPPLIES    0.000            0\n",
              "2017-08-15         54                     SEAFOOD    3.000            0\n",
              "\n",
              "[3000888 rows x 4 columns]"
            ]
          },
          "metadata": {},
          "execution_count": 12
        }
      ]
    },
    {
      "cell_type": "code",
      "metadata": {
        "id": "JYzBJKf-d086"
      },
      "source": [
        "trainY = train.sales\n",
        "train = train.drop('sales',axis = 1)"
      ],
      "execution_count": 13,
      "outputs": []
    },
    {
      "cell_type": "code",
      "metadata": {
        "id": "pi18p04qicWu"
      },
      "source": [
        "train = np.array(train)\n",
        "trainY = np.array(trainY)"
      ],
      "execution_count": 14,
      "outputs": []
    },
    {
      "cell_type": "code",
      "metadata": {
        "id": "kFYYORv7Xh0-"
      },
      "source": [
        "#datasetを作る\n",
        "\n",
        "def make_dataset(data,dataY):\n",
        "  datasetX = []\n",
        "  yset = []\n",
        "  max_length = len(data)\n",
        "  for i in range(5346,max_length-54*33,54*33):\n",
        "    datasetX.append(data[i-5346:i,2])\n",
        "    yset.append(dataY[i:i+54*33])\n",
        "\n",
        "  return datasetX,yset\n",
        "\n",
        "  "
      ],
      "execution_count": 15,
      "outputs": []
    },
    {
      "cell_type": "code",
      "metadata": {
        "id": "xpAVGaRCZ05i"
      },
      "source": [
        "trainX,trainY = make_dataset(train,trainY)"
      ],
      "execution_count": 16,
      "outputs": []
    },
    {
      "cell_type": "code",
      "metadata": {
        "id": "2jmiVe0Y0bKg"
      },
      "source": [
        "#scaling\n",
        "scaler = MinMaxScaler()  # データを0～1の範囲にスケールするための関数。\n",
        "scaler.fit(trainX)  # スケーリングに使用する最小／最大値を計算する。\n",
        "train = scaler.transform(trainX)  # Xをを0～1の範囲にスケーリングする。\n",
        "\n",
        "scaler1 = MinMaxScaler()  # データを0～1の範囲にスケールするための関数。\n",
        "scaler1.fit(trainY)  # スケーリングに使用する最小／最大値を計算する。\n",
        "trainY = scaler1.transform(trainY)  # Yをを0～1の範囲にスケーリングする。"
      ],
      "execution_count": 17,
      "outputs": []
    },
    {
      "cell_type": "code",
      "metadata": {
        "colab": {
          "base_uri": "https://localhost:8080/"
        },
        "id": "fsUtBQsKgJsZ",
        "outputId": "325e9d94-04ac-47ae-aec3-fec351cf5c7e"
      },
      "source": [
        "trainY = np.array(trainY)\n",
        "trainX = np.array(trainX)\n",
        "trainX = np.reshape(trainX,(trainX.shape[0],1,trainX.shape[1]))\n",
        "print(trainY.shape,trainX.shape)"
      ],
      "execution_count": 18,
      "outputs": [
        {
          "output_type": "stream",
          "name": "stdout",
          "text": [
            "(1680, 1782) (1680, 1, 5346)\n"
          ]
        }
      ]
    },
    {
      "cell_type": "code",
      "metadata": {
        "id": "yB_xJrlbgU9a"
      },
      "source": [
        "train_X = np.asarray(train_X).astype(np.float32)\n",
        "train_Y = np.asarray(train_Y).astype(np.float32)"
      ],
      "execution_count": 20,
      "outputs": []
    },
    {
      "cell_type": "code",
      "metadata": {
        "id": "zeSMRDDTiX_b"
      },
      "source": [
        "# train, testデータを定義\n",
        "train_X = trainX[:1000, :, :]\n",
        "test_X = trainX[1000:, :, :]\n",
        "train_Y = trainY[:1000, :]\n",
        "test_Y = trainY[1000:, :]"
      ],
      "execution_count": 19,
      "outputs": []
    },
    {
      "cell_type": "code",
      "metadata": {
        "id": "Hu0eyv5Vus-n"
      },
      "source": [
        "test_X = np.asarray(test_X).astype(np.float32)\n",
        "test_Y = np.asarray(test_Y).astype(np.float32)"
      ],
      "execution_count": 21,
      "outputs": []
    },
    {
      "cell_type": "code",
      "metadata": {
        "colab": {
          "base_uri": "https://localhost:8080/"
        },
        "id": "Xa3WWvs7gWHW",
        "outputId": "b74a0789-53cd-4f47-c1db-a91e7e186f35"
      },
      "source": [
        "train_Y"
      ],
      "execution_count": 22,
      "outputs": [
        {
          "output_type": "execute_result",
          "data": {
            "text/plain": [
              "array([[0.15789473, 0.        , 0.25      , ..., 0.        , 0.        ,\n",
              "        0.08333334],\n",
              "       [0.2631579 , 0.        , 0.25      , ..., 0.        , 0.        ,\n",
              "        0.04166667],\n",
              "       [0.10526316, 0.        , 0.        , ..., 0.        , 0.        ,\n",
              "        0.        ],\n",
              "       ...,\n",
              "       [0.        , 0.        , 0.16666667, ..., 0.24817581, 0.        ,\n",
              "        0.        ],\n",
              "       [0.05263158, 0.        , 0.25      , ..., 0.209476  , 0.        ,\n",
              "        0.375     ],\n",
              "       [0.21052632, 0.        , 0.33333334, ..., 0.25854528, 0.        ,\n",
              "        0.20833333]], dtype=float32)"
            ]
          },
          "metadata": {},
          "execution_count": 22
        }
      ]
    },
    {
      "cell_type": "code",
      "metadata": {
        "colab": {
          "base_uri": "https://localhost:8080/"
        },
        "id": "VL1ZqkfAbKxf",
        "outputId": "5c173082-7e62-44c4-eb6b-bdb1a0b4ede5"
      },
      "source": [
        "model = Sequential()\n",
        "model.add(LSTM(50, input_shape=(1,5346)))\n",
        "model.add(Dense(1782))\n",
        "model.compile(loss='mean_squared_error', optimizer='adam')\n",
        "hist = model.fit(train_X,train_Y,epochs=20, batch_size=1, verbose=2)"
      ],
      "execution_count": 23,
      "outputs": [
        {
          "output_type": "stream",
          "name": "stdout",
          "text": [
            "Epoch 1/20\n",
            "1000/1000 - 9s - loss: 0.0130 - 9s/epoch - 9ms/step\n",
            "Epoch 2/20\n",
            "1000/1000 - 7s - loss: 0.0090 - 7s/epoch - 7ms/step\n",
            "Epoch 3/20\n",
            "1000/1000 - 7s - loss: 0.0088 - 7s/epoch - 7ms/step\n",
            "Epoch 4/20\n",
            "1000/1000 - 8s - loss: 0.0084 - 8s/epoch - 8ms/step\n",
            "Epoch 5/20\n",
            "1000/1000 - 7s - loss: 0.0085 - 7s/epoch - 7ms/step\n",
            "Epoch 6/20\n",
            "1000/1000 - 7s - loss: 0.0084 - 7s/epoch - 7ms/step\n",
            "Epoch 7/20\n",
            "1000/1000 - 7s - loss: 0.0082 - 7s/epoch - 7ms/step\n",
            "Epoch 8/20\n",
            "1000/1000 - 7s - loss: 0.0081 - 7s/epoch - 7ms/step\n",
            "Epoch 9/20\n",
            "1000/1000 - 7s - loss: 0.0081 - 7s/epoch - 7ms/step\n",
            "Epoch 10/20\n",
            "1000/1000 - 7s - loss: 0.0080 - 7s/epoch - 7ms/step\n",
            "Epoch 11/20\n",
            "1000/1000 - 7s - loss: 0.0080 - 7s/epoch - 7ms/step\n",
            "Epoch 12/20\n",
            "1000/1000 - 7s - loss: 0.0079 - 7s/epoch - 7ms/step\n",
            "Epoch 13/20\n",
            "1000/1000 - 7s - loss: 0.0080 - 7s/epoch - 7ms/step\n",
            "Epoch 14/20\n",
            "1000/1000 - 7s - loss: 0.0079 - 7s/epoch - 7ms/step\n",
            "Epoch 15/20\n",
            "1000/1000 - 8s - loss: 0.0080 - 8s/epoch - 8ms/step\n",
            "Epoch 16/20\n",
            "1000/1000 - 7s - loss: 0.0079 - 7s/epoch - 7ms/step\n",
            "Epoch 17/20\n",
            "1000/1000 - 7s - loss: 0.0080 - 7s/epoch - 7ms/step\n",
            "Epoch 18/20\n",
            "1000/1000 - 7s - loss: 0.0080 - 7s/epoch - 7ms/step\n",
            "Epoch 19/20\n",
            "1000/1000 - 7s - loss: 0.0079 - 7s/epoch - 7ms/step\n",
            "Epoch 20/20\n",
            "1000/1000 - 7s - loss: 0.0079 - 7s/epoch - 7ms/step\n"
          ]
        }
      ]
    },
    {
      "cell_type": "code",
      "metadata": {
        "id": "kBBnoSJVrIej"
      },
      "source": [
        "Predict = model.predict(test_X)"
      ],
      "execution_count": 60,
      "outputs": []
    },
    {
      "cell_type": "code",
      "metadata": {
        "colab": {
          "base_uri": "https://localhost:8080/"
        },
        "id": "JyzbEkLivkx6",
        "outputId": "c361f590-1fda-4347-ce9c-8cc75b996e97"
      },
      "source": [
        "Predict.shape"
      ],
      "execution_count": 61,
      "outputs": [
        {
          "output_type": "execute_result",
          "data": {
            "text/plain": [
              "(680, 1782)"
            ]
          },
          "metadata": {},
          "execution_count": 61
        }
      ]
    },
    {
      "cell_type": "code",
      "metadata": {
        "id": "7vfA8ZJ826ux"
      },
      "source": [
        "#scaleを元に戻す\n",
        "train_Y = scaler1.inverse_transform(train_Y)\n",
        "train_Y = pd.DataFrame(train_Y)\n",
        "\n",
        "\n",
        "test_Y = scaler1.inverse_transform(test_Y)\n",
        "test_Y = pd.DataFrame(test_Y)\n",
        "\n",
        "\n"
      ],
      "execution_count": 26,
      "outputs": []
    },
    {
      "cell_type": "code",
      "metadata": {
        "id": "NMRy-0kg3PoX"
      },
      "source": [
        "Predict = scaler1.inverse_transform(Predict)\n",
        "Predict = pd.DataFrame(Predict)\n"
      ],
      "execution_count": 62,
      "outputs": []
    },
    {
      "cell_type": "code",
      "metadata": {
        "colab": {
          "base_uri": "https://localhost:8080/",
          "height": 439
        },
        "id": "DTcKn4704PBG",
        "outputId": "77133ad0-7520-4135-9ea4-fcb3ab9a6b82"
      },
      "source": [
        "Predict"
      ],
      "execution_count": 63,
      "outputs": [
        {
          "output_type": "execute_result",
          "data": {
            "text/html": [
              "<div>\n",
              "<style scoped>\n",
              "    .dataframe tbody tr th:only-of-type {\n",
              "        vertical-align: middle;\n",
              "    }\n",
              "\n",
              "    .dataframe tbody tr th {\n",
              "        vertical-align: top;\n",
              "    }\n",
              "\n",
              "    .dataframe thead th {\n",
              "        text-align: right;\n",
              "    }\n",
              "</style>\n",
              "<table border=\"1\" class=\"dataframe\">\n",
              "  <thead>\n",
              "    <tr style=\"text-align: right;\">\n",
              "      <th></th>\n",
              "      <th>0</th>\n",
              "      <th>1</th>\n",
              "      <th>2</th>\n",
              "      <th>3</th>\n",
              "      <th>4</th>\n",
              "      <th>5</th>\n",
              "      <th>6</th>\n",
              "      <th>7</th>\n",
              "      <th>8</th>\n",
              "      <th>9</th>\n",
              "      <th>10</th>\n",
              "      <th>11</th>\n",
              "      <th>12</th>\n",
              "      <th>13</th>\n",
              "      <th>14</th>\n",
              "      <th>15</th>\n",
              "      <th>16</th>\n",
              "      <th>17</th>\n",
              "      <th>18</th>\n",
              "      <th>19</th>\n",
              "      <th>20</th>\n",
              "      <th>21</th>\n",
              "      <th>22</th>\n",
              "      <th>23</th>\n",
              "      <th>24</th>\n",
              "      <th>25</th>\n",
              "      <th>26</th>\n",
              "      <th>27</th>\n",
              "      <th>28</th>\n",
              "      <th>29</th>\n",
              "      <th>30</th>\n",
              "      <th>31</th>\n",
              "      <th>32</th>\n",
              "      <th>33</th>\n",
              "      <th>34</th>\n",
              "      <th>35</th>\n",
              "      <th>36</th>\n",
              "      <th>37</th>\n",
              "      <th>38</th>\n",
              "      <th>39</th>\n",
              "      <th>...</th>\n",
              "      <th>1742</th>\n",
              "      <th>1743</th>\n",
              "      <th>1744</th>\n",
              "      <th>1745</th>\n",
              "      <th>1746</th>\n",
              "      <th>1747</th>\n",
              "      <th>1748</th>\n",
              "      <th>1749</th>\n",
              "      <th>1750</th>\n",
              "      <th>1751</th>\n",
              "      <th>1752</th>\n",
              "      <th>1753</th>\n",
              "      <th>1754</th>\n",
              "      <th>1755</th>\n",
              "      <th>1756</th>\n",
              "      <th>1757</th>\n",
              "      <th>1758</th>\n",
              "      <th>1759</th>\n",
              "      <th>1760</th>\n",
              "      <th>1761</th>\n",
              "      <th>1762</th>\n",
              "      <th>1763</th>\n",
              "      <th>1764</th>\n",
              "      <th>1765</th>\n",
              "      <th>1766</th>\n",
              "      <th>1767</th>\n",
              "      <th>1768</th>\n",
              "      <th>1769</th>\n",
              "      <th>1770</th>\n",
              "      <th>1771</th>\n",
              "      <th>1772</th>\n",
              "      <th>1773</th>\n",
              "      <th>1774</th>\n",
              "      <th>1775</th>\n",
              "      <th>1776</th>\n",
              "      <th>1777</th>\n",
              "      <th>1778</th>\n",
              "      <th>1779</th>\n",
              "      <th>1780</th>\n",
              "      <th>1781</th>\n",
              "    </tr>\n",
              "  </thead>\n",
              "  <tbody>\n",
              "    <tr>\n",
              "      <th>0</th>\n",
              "      <td>4.297147</td>\n",
              "      <td>-0.002937</td>\n",
              "      <td>3.096426</td>\n",
              "      <td>2189.510254</td>\n",
              "      <td>-0.010204</td>\n",
              "      <td>352.182617</td>\n",
              "      <td>7.509793</td>\n",
              "      <td>582.752319</td>\n",
              "      <td>727.635315</td>\n",
              "      <td>130.852737</td>\n",
              "      <td>165.101120</td>\n",
              "      <td>123.359421</td>\n",
              "      <td>2203.214355</td>\n",
              "      <td>20.866678</td>\n",
              "      <td>1.927524</td>\n",
              "      <td>25.086226</td>\n",
              "      <td>9.797971</td>\n",
              "      <td>0.073359</td>\n",
              "      <td>157.262329</td>\n",
              "      <td>20.743353</td>\n",
              "      <td>7.726542</td>\n",
              "      <td>5.339895</td>\n",
              "      <td>166.774048</td>\n",
              "      <td>2.822746</td>\n",
              "      <td>233.519135</td>\n",
              "      <td>157.331909</td>\n",
              "      <td>6.766528</td>\n",
              "      <td>6.496621</td>\n",
              "      <td>263.829498</td>\n",
              "      <td>91.387733</td>\n",
              "      <td>2463.058838</td>\n",
              "      <td>0.306125</td>\n",
              "      <td>26.708586</td>\n",
              "      <td>7.536294</td>\n",
              "      <td>0.007291</td>\n",
              "      <td>5.115137</td>\n",
              "      <td>3666.273193</td>\n",
              "      <td>-0.038818</td>\n",
              "      <td>684.549316</td>\n",
              "      <td>14.557436</td>\n",
              "      <td>...</td>\n",
              "      <td>1.840595</td>\n",
              "      <td>5.414399</td>\n",
              "      <td>182.583725</td>\n",
              "      <td>66.509583</td>\n",
              "      <td>1717.308228</td>\n",
              "      <td>-0.232352</td>\n",
              "      <td>5.529488</td>\n",
              "      <td>7.693843</td>\n",
              "      <td>0.438572</td>\n",
              "      <td>0.331593</td>\n",
              "      <td>1120.688599</td>\n",
              "      <td>0.002010</td>\n",
              "      <td>257.022797</td>\n",
              "      <td>5.687864</td>\n",
              "      <td>1258.363403</td>\n",
              "      <td>206.155014</td>\n",
              "      <td>228.134811</td>\n",
              "      <td>76.867531</td>\n",
              "      <td>53.703133</td>\n",
              "      <td>3017.476074</td>\n",
              "      <td>10.975665</td>\n",
              "      <td>1.543595</td>\n",
              "      <td>24.623436</td>\n",
              "      <td>16.883450</td>\n",
              "      <td>0.062056</td>\n",
              "      <td>247.861298</td>\n",
              "      <td>-0.001516</td>\n",
              "      <td>-0.005149</td>\n",
              "      <td>5.539017</td>\n",
              "      <td>43.080719</td>\n",
              "      <td>0.173198</td>\n",
              "      <td>55.264114</td>\n",
              "      <td>235.342133</td>\n",
              "      <td>0.198346</td>\n",
              "      <td>2.539147</td>\n",
              "      <td>67.169250</td>\n",
              "      <td>58.378376</td>\n",
              "      <td>563.770508</td>\n",
              "      <td>0.229988</td>\n",
              "      <td>0.790563</td>\n",
              "    </tr>\n",
              "    <tr>\n",
              "      <th>1</th>\n",
              "      <td>2.175600</td>\n",
              "      <td>-0.004182</td>\n",
              "      <td>1.967006</td>\n",
              "      <td>1007.234924</td>\n",
              "      <td>-0.041387</td>\n",
              "      <td>165.666000</td>\n",
              "      <td>-0.374396</td>\n",
              "      <td>247.252045</td>\n",
              "      <td>384.281464</td>\n",
              "      <td>79.847786</td>\n",
              "      <td>89.043526</td>\n",
              "      <td>-3.893250</td>\n",
              "      <td>980.668884</td>\n",
              "      <td>6.361174</td>\n",
              "      <td>0.477028</td>\n",
              "      <td>3.860144</td>\n",
              "      <td>4.864381</td>\n",
              "      <td>0.009736</td>\n",
              "      <td>68.141304</td>\n",
              "      <td>8.416326</td>\n",
              "      <td>3.286440</td>\n",
              "      <td>0.890234</td>\n",
              "      <td>8.485619</td>\n",
              "      <td>1.444282</td>\n",
              "      <td>138.093750</td>\n",
              "      <td>72.404877</td>\n",
              "      <td>3.833577</td>\n",
              "      <td>1.495470</td>\n",
              "      <td>145.432037</td>\n",
              "      <td>46.638100</td>\n",
              "      <td>1100.883179</td>\n",
              "      <td>0.021629</td>\n",
              "      <td>15.275791</td>\n",
              "      <td>7.524742</td>\n",
              "      <td>0.023944</td>\n",
              "      <td>6.864776</td>\n",
              "      <td>4075.179199</td>\n",
              "      <td>-0.045238</td>\n",
              "      <td>813.189087</td>\n",
              "      <td>11.421551</td>\n",
              "      <td>...</td>\n",
              "      <td>2.245500</td>\n",
              "      <td>7.679052</td>\n",
              "      <td>228.346390</td>\n",
              "      <td>91.204880</td>\n",
              "      <td>1839.476318</td>\n",
              "      <td>-0.195065</td>\n",
              "      <td>7.372925</td>\n",
              "      <td>9.193521</td>\n",
              "      <td>0.540376</td>\n",
              "      <td>0.893779</td>\n",
              "      <td>1880.081787</td>\n",
              "      <td>0.003913</td>\n",
              "      <td>377.274445</td>\n",
              "      <td>4.457847</td>\n",
              "      <td>1830.476929</td>\n",
              "      <td>311.798859</td>\n",
              "      <td>325.654877</td>\n",
              "      <td>100.307564</td>\n",
              "      <td>39.810982</td>\n",
              "      <td>3932.206543</td>\n",
              "      <td>12.638931</td>\n",
              "      <td>1.652673</td>\n",
              "      <td>24.615572</td>\n",
              "      <td>23.428318</td>\n",
              "      <td>-0.018571</td>\n",
              "      <td>320.401123</td>\n",
              "      <td>-0.004753</td>\n",
              "      <td>-0.008674</td>\n",
              "      <td>4.997826</td>\n",
              "      <td>0.632727</td>\n",
              "      <td>0.039644</td>\n",
              "      <td>66.916756</td>\n",
              "      <td>309.553650</td>\n",
              "      <td>-0.052322</td>\n",
              "      <td>2.776300</td>\n",
              "      <td>63.117596</td>\n",
              "      <td>87.055779</td>\n",
              "      <td>620.731995</td>\n",
              "      <td>-0.121052</td>\n",
              "      <td>1.890903</td>\n",
              "    </tr>\n",
              "    <tr>\n",
              "      <th>2</th>\n",
              "      <td>4.543908</td>\n",
              "      <td>-0.001381</td>\n",
              "      <td>3.341544</td>\n",
              "      <td>2225.180664</td>\n",
              "      <td>-0.008594</td>\n",
              "      <td>386.319458</td>\n",
              "      <td>25.892557</td>\n",
              "      <td>693.555542</td>\n",
              "      <td>709.814209</td>\n",
              "      <td>150.013748</td>\n",
              "      <td>155.367996</td>\n",
              "      <td>125.801003</td>\n",
              "      <td>2290.715332</td>\n",
              "      <td>18.754414</td>\n",
              "      <td>1.873981</td>\n",
              "      <td>24.424469</td>\n",
              "      <td>12.368965</td>\n",
              "      <td>0.003016</td>\n",
              "      <td>192.984055</td>\n",
              "      <td>23.612509</td>\n",
              "      <td>8.643102</td>\n",
              "      <td>6.288681</td>\n",
              "      <td>75.338371</td>\n",
              "      <td>3.034131</td>\n",
              "      <td>304.975281</td>\n",
              "      <td>152.572021</td>\n",
              "      <td>7.239086</td>\n",
              "      <td>9.314542</td>\n",
              "      <td>324.783356</td>\n",
              "      <td>78.017548</td>\n",
              "      <td>2520.030273</td>\n",
              "      <td>0.477324</td>\n",
              "      <td>22.975163</td>\n",
              "      <td>4.429088</td>\n",
              "      <td>0.007161</td>\n",
              "      <td>4.002927</td>\n",
              "      <td>3095.759277</td>\n",
              "      <td>-0.031050</td>\n",
              "      <td>566.097656</td>\n",
              "      <td>9.586665</td>\n",
              "      <td>...</td>\n",
              "      <td>2.151160</td>\n",
              "      <td>3.984046</td>\n",
              "      <td>129.714203</td>\n",
              "      <td>46.732346</td>\n",
              "      <td>1378.542603</td>\n",
              "      <td>0.240597</td>\n",
              "      <td>3.944483</td>\n",
              "      <td>5.460573</td>\n",
              "      <td>0.249008</td>\n",
              "      <td>0.461279</td>\n",
              "      <td>1453.404541</td>\n",
              "      <td>0.001830</td>\n",
              "      <td>270.030090</td>\n",
              "      <td>3.294535</td>\n",
              "      <td>1246.504639</td>\n",
              "      <td>198.182617</td>\n",
              "      <td>224.493790</td>\n",
              "      <td>80.046173</td>\n",
              "      <td>36.105957</td>\n",
              "      <td>2795.357422</td>\n",
              "      <td>11.148236</td>\n",
              "      <td>1.336123</td>\n",
              "      <td>18.846937</td>\n",
              "      <td>13.634534</td>\n",
              "      <td>0.135042</td>\n",
              "      <td>226.141907</td>\n",
              "      <td>-0.000402</td>\n",
              "      <td>-0.005504</td>\n",
              "      <td>3.803702</td>\n",
              "      <td>18.707708</td>\n",
              "      <td>0.106447</td>\n",
              "      <td>56.856884</td>\n",
              "      <td>215.661926</td>\n",
              "      <td>0.077795</td>\n",
              "      <td>2.545134</td>\n",
              "      <td>54.301056</td>\n",
              "      <td>71.316452</td>\n",
              "      <td>654.151794</td>\n",
              "      <td>0.033886</td>\n",
              "      <td>0.927545</td>\n",
              "    </tr>\n",
              "    <tr>\n",
              "      <th>3</th>\n",
              "      <td>4.180917</td>\n",
              "      <td>0.000767</td>\n",
              "      <td>2.620396</td>\n",
              "      <td>1936.769775</td>\n",
              "      <td>0.005156</td>\n",
              "      <td>375.991272</td>\n",
              "      <td>9.524373</td>\n",
              "      <td>690.877930</td>\n",
              "      <td>703.060730</td>\n",
              "      <td>137.844650</td>\n",
              "      <td>142.123367</td>\n",
              "      <td>116.408936</td>\n",
              "      <td>2256.228271</td>\n",
              "      <td>26.929651</td>\n",
              "      <td>1.464233</td>\n",
              "      <td>24.791851</td>\n",
              "      <td>14.000669</td>\n",
              "      <td>0.114608</td>\n",
              "      <td>151.077377</td>\n",
              "      <td>18.134247</td>\n",
              "      <td>9.288344</td>\n",
              "      <td>6.253319</td>\n",
              "      <td>94.007416</td>\n",
              "      <td>2.059255</td>\n",
              "      <td>268.645966</td>\n",
              "      <td>146.516678</td>\n",
              "      <td>5.915013</td>\n",
              "      <td>6.856181</td>\n",
              "      <td>274.098846</td>\n",
              "      <td>84.928314</td>\n",
              "      <td>2034.972534</td>\n",
              "      <td>0.413202</td>\n",
              "      <td>23.949385</td>\n",
              "      <td>5.074345</td>\n",
              "      <td>-0.005465</td>\n",
              "      <td>3.212782</td>\n",
              "      <td>2611.304688</td>\n",
              "      <td>0.006974</td>\n",
              "      <td>539.607056</td>\n",
              "      <td>7.775774</td>\n",
              "      <td>...</td>\n",
              "      <td>1.314456</td>\n",
              "      <td>4.031031</td>\n",
              "      <td>124.827477</td>\n",
              "      <td>48.880363</td>\n",
              "      <td>1180.329834</td>\n",
              "      <td>0.073955</td>\n",
              "      <td>3.659682</td>\n",
              "      <td>5.282728</td>\n",
              "      <td>0.229234</td>\n",
              "      <td>0.363310</td>\n",
              "      <td>1172.402832</td>\n",
              "      <td>-0.001008</td>\n",
              "      <td>243.359406</td>\n",
              "      <td>3.607491</td>\n",
              "      <td>1026.755005</td>\n",
              "      <td>168.347992</td>\n",
              "      <td>200.649750</td>\n",
              "      <td>72.759026</td>\n",
              "      <td>43.149513</td>\n",
              "      <td>2462.996094</td>\n",
              "      <td>7.651761</td>\n",
              "      <td>1.124223</td>\n",
              "      <td>13.964219</td>\n",
              "      <td>12.121482</td>\n",
              "      <td>0.079941</td>\n",
              "      <td>193.852249</td>\n",
              "      <td>0.001036</td>\n",
              "      <td>0.000175</td>\n",
              "      <td>3.262407</td>\n",
              "      <td>14.996775</td>\n",
              "      <td>0.035411</td>\n",
              "      <td>48.090488</td>\n",
              "      <td>170.230179</td>\n",
              "      <td>0.085294</td>\n",
              "      <td>2.354940</td>\n",
              "      <td>53.616028</td>\n",
              "      <td>75.551849</td>\n",
              "      <td>609.276489</td>\n",
              "      <td>-0.117073</td>\n",
              "      <td>1.232974</td>\n",
              "    </tr>\n",
              "    <tr>\n",
              "      <th>4</th>\n",
              "      <td>4.684118</td>\n",
              "      <td>0.000373</td>\n",
              "      <td>2.645859</td>\n",
              "      <td>2328.812744</td>\n",
              "      <td>0.017102</td>\n",
              "      <td>419.269287</td>\n",
              "      <td>12.325866</td>\n",
              "      <td>836.384094</td>\n",
              "      <td>798.256226</td>\n",
              "      <td>141.246490</td>\n",
              "      <td>171.947235</td>\n",
              "      <td>188.415421</td>\n",
              "      <td>2695.833008</td>\n",
              "      <td>34.217728</td>\n",
              "      <td>2.035849</td>\n",
              "      <td>32.517864</td>\n",
              "      <td>17.803154</td>\n",
              "      <td>0.204354</td>\n",
              "      <td>177.997787</td>\n",
              "      <td>24.352327</td>\n",
              "      <td>14.218417</td>\n",
              "      <td>9.571742</td>\n",
              "      <td>131.341904</td>\n",
              "      <td>3.054681</td>\n",
              "      <td>334.933380</td>\n",
              "      <td>163.238815</td>\n",
              "      <td>6.654983</td>\n",
              "      <td>8.604239</td>\n",
              "      <td>343.378479</td>\n",
              "      <td>98.183716</td>\n",
              "      <td>3472.965576</td>\n",
              "      <td>0.485965</td>\n",
              "      <td>31.581427</td>\n",
              "      <td>6.289069</td>\n",
              "      <td>-0.008553</td>\n",
              "      <td>2.883655</td>\n",
              "      <td>2709.500244</td>\n",
              "      <td>-0.011453</td>\n",
              "      <td>528.297302</td>\n",
              "      <td>9.996901</td>\n",
              "      <td>...</td>\n",
              "      <td>1.586463</td>\n",
              "      <td>3.598661</td>\n",
              "      <td>166.137772</td>\n",
              "      <td>53.935986</td>\n",
              "      <td>1985.886108</td>\n",
              "      <td>0.282346</td>\n",
              "      <td>4.136097</td>\n",
              "      <td>5.357276</td>\n",
              "      <td>0.173402</td>\n",
              "      <td>0.226250</td>\n",
              "      <td>1041.083496</td>\n",
              "      <td>-0.001105</td>\n",
              "      <td>191.847351</td>\n",
              "      <td>3.470825</td>\n",
              "      <td>888.632141</td>\n",
              "      <td>135.503235</td>\n",
              "      <td>158.000610</td>\n",
              "      <td>55.406109</td>\n",
              "      <td>48.659874</td>\n",
              "      <td>2195.013672</td>\n",
              "      <td>7.480570</td>\n",
              "      <td>0.924684</td>\n",
              "      <td>16.399883</td>\n",
              "      <td>11.665030</td>\n",
              "      <td>0.103492</td>\n",
              "      <td>166.043594</td>\n",
              "      <td>0.000929</td>\n",
              "      <td>0.003566</td>\n",
              "      <td>3.168152</td>\n",
              "      <td>23.396349</td>\n",
              "      <td>0.181802</td>\n",
              "      <td>39.715775</td>\n",
              "      <td>148.801132</td>\n",
              "      <td>0.157153</td>\n",
              "      <td>2.103406</td>\n",
              "      <td>53.802570</td>\n",
              "      <td>59.631699</td>\n",
              "      <td>457.357025</td>\n",
              "      <td>0.197694</td>\n",
              "      <td>1.329913</td>\n",
              "    </tr>\n",
              "    <tr>\n",
              "      <th>...</th>\n",
              "      <td>...</td>\n",
              "      <td>...</td>\n",
              "      <td>...</td>\n",
              "      <td>...</td>\n",
              "      <td>...</td>\n",
              "      <td>...</td>\n",
              "      <td>...</td>\n",
              "      <td>...</td>\n",
              "      <td>...</td>\n",
              "      <td>...</td>\n",
              "      <td>...</td>\n",
              "      <td>...</td>\n",
              "      <td>...</td>\n",
              "      <td>...</td>\n",
              "      <td>...</td>\n",
              "      <td>...</td>\n",
              "      <td>...</td>\n",
              "      <td>...</td>\n",
              "      <td>...</td>\n",
              "      <td>...</td>\n",
              "      <td>...</td>\n",
              "      <td>...</td>\n",
              "      <td>...</td>\n",
              "      <td>...</td>\n",
              "      <td>...</td>\n",
              "      <td>...</td>\n",
              "      <td>...</td>\n",
              "      <td>...</td>\n",
              "      <td>...</td>\n",
              "      <td>...</td>\n",
              "      <td>...</td>\n",
              "      <td>...</td>\n",
              "      <td>...</td>\n",
              "      <td>...</td>\n",
              "      <td>...</td>\n",
              "      <td>...</td>\n",
              "      <td>...</td>\n",
              "      <td>...</td>\n",
              "      <td>...</td>\n",
              "      <td>...</td>\n",
              "      <td>...</td>\n",
              "      <td>...</td>\n",
              "      <td>...</td>\n",
              "      <td>...</td>\n",
              "      <td>...</td>\n",
              "      <td>...</td>\n",
              "      <td>...</td>\n",
              "      <td>...</td>\n",
              "      <td>...</td>\n",
              "      <td>...</td>\n",
              "      <td>...</td>\n",
              "      <td>...</td>\n",
              "      <td>...</td>\n",
              "      <td>...</td>\n",
              "      <td>...</td>\n",
              "      <td>...</td>\n",
              "      <td>...</td>\n",
              "      <td>...</td>\n",
              "      <td>...</td>\n",
              "      <td>...</td>\n",
              "      <td>...</td>\n",
              "      <td>...</td>\n",
              "      <td>...</td>\n",
              "      <td>...</td>\n",
              "      <td>...</td>\n",
              "      <td>...</td>\n",
              "      <td>...</td>\n",
              "      <td>...</td>\n",
              "      <td>...</td>\n",
              "      <td>...</td>\n",
              "      <td>...</td>\n",
              "      <td>...</td>\n",
              "      <td>...</td>\n",
              "      <td>...</td>\n",
              "      <td>...</td>\n",
              "      <td>...</td>\n",
              "      <td>...</td>\n",
              "      <td>...</td>\n",
              "      <td>...</td>\n",
              "      <td>...</td>\n",
              "      <td>...</td>\n",
              "    </tr>\n",
              "    <tr>\n",
              "      <th>675</th>\n",
              "      <td>3.941215</td>\n",
              "      <td>0.000416</td>\n",
              "      <td>2.320330</td>\n",
              "      <td>1908.953613</td>\n",
              "      <td>0.013413</td>\n",
              "      <td>362.060120</td>\n",
              "      <td>9.812247</td>\n",
              "      <td>704.528931</td>\n",
              "      <td>645.786255</td>\n",
              "      <td>121.520111</td>\n",
              "      <td>133.929550</td>\n",
              "      <td>132.258453</td>\n",
              "      <td>2206.536133</td>\n",
              "      <td>26.691103</td>\n",
              "      <td>2.377822</td>\n",
              "      <td>30.367439</td>\n",
              "      <td>14.516267</td>\n",
              "      <td>0.122502</td>\n",
              "      <td>140.411789</td>\n",
              "      <td>18.921295</td>\n",
              "      <td>8.729114</td>\n",
              "      <td>8.222604</td>\n",
              "      <td>120.311531</td>\n",
              "      <td>2.492744</td>\n",
              "      <td>284.599518</td>\n",
              "      <td>137.200348</td>\n",
              "      <td>5.360541</td>\n",
              "      <td>6.938439</td>\n",
              "      <td>259.489594</td>\n",
              "      <td>88.121223</td>\n",
              "      <td>2199.953369</td>\n",
              "      <td>0.288909</td>\n",
              "      <td>23.929916</td>\n",
              "      <td>4.961298</td>\n",
              "      <td>-0.006484</td>\n",
              "      <td>2.872535</td>\n",
              "      <td>2290.564941</td>\n",
              "      <td>0.000382</td>\n",
              "      <td>477.402863</td>\n",
              "      <td>10.678199</td>\n",
              "      <td>...</td>\n",
              "      <td>1.148684</td>\n",
              "      <td>3.385705</td>\n",
              "      <td>115.153488</td>\n",
              "      <td>51.004349</td>\n",
              "      <td>1142.904175</td>\n",
              "      <td>0.201510</td>\n",
              "      <td>3.359109</td>\n",
              "      <td>5.233657</td>\n",
              "      <td>0.244734</td>\n",
              "      <td>0.139389</td>\n",
              "      <td>827.633911</td>\n",
              "      <td>-0.000964</td>\n",
              "      <td>168.337296</td>\n",
              "      <td>3.729609</td>\n",
              "      <td>763.194885</td>\n",
              "      <td>122.246780</td>\n",
              "      <td>142.261139</td>\n",
              "      <td>52.279873</td>\n",
              "      <td>40.256439</td>\n",
              "      <td>1910.040161</td>\n",
              "      <td>7.958594</td>\n",
              "      <td>0.851570</td>\n",
              "      <td>14.322068</td>\n",
              "      <td>9.786348</td>\n",
              "      <td>-0.008852</td>\n",
              "      <td>128.090347</td>\n",
              "      <td>0.001054</td>\n",
              "      <td>0.000839</td>\n",
              "      <td>3.707271</td>\n",
              "      <td>21.872093</td>\n",
              "      <td>0.221249</td>\n",
              "      <td>45.007656</td>\n",
              "      <td>128.933136</td>\n",
              "      <td>0.112746</td>\n",
              "      <td>1.869924</td>\n",
              "      <td>48.937496</td>\n",
              "      <td>64.328064</td>\n",
              "      <td>363.187531</td>\n",
              "      <td>0.018033</td>\n",
              "      <td>1.496087</td>\n",
              "    </tr>\n",
              "    <tr>\n",
              "      <th>676</th>\n",
              "      <td>4.548089</td>\n",
              "      <td>-0.000106</td>\n",
              "      <td>2.993535</td>\n",
              "      <td>2011.541992</td>\n",
              "      <td>0.008336</td>\n",
              "      <td>365.435120</td>\n",
              "      <td>4.980744</td>\n",
              "      <td>590.289978</td>\n",
              "      <td>727.219910</td>\n",
              "      <td>141.263046</td>\n",
              "      <td>152.918091</td>\n",
              "      <td>136.991516</td>\n",
              "      <td>2202.664062</td>\n",
              "      <td>26.628206</td>\n",
              "      <td>1.130543</td>\n",
              "      <td>28.922800</td>\n",
              "      <td>10.831102</td>\n",
              "      <td>0.170406</td>\n",
              "      <td>155.841965</td>\n",
              "      <td>18.045937</td>\n",
              "      <td>9.996943</td>\n",
              "      <td>4.555192</td>\n",
              "      <td>153.445801</td>\n",
              "      <td>2.231894</td>\n",
              "      <td>303.149292</td>\n",
              "      <td>145.091522</td>\n",
              "      <td>6.603437</td>\n",
              "      <td>5.492894</td>\n",
              "      <td>299.022064</td>\n",
              "      <td>98.392487</td>\n",
              "      <td>2205.405029</td>\n",
              "      <td>0.451277</td>\n",
              "      <td>26.956913</td>\n",
              "      <td>6.434662</td>\n",
              "      <td>-0.001065</td>\n",
              "      <td>4.677907</td>\n",
              "      <td>3308.444580</td>\n",
              "      <td>0.006479</td>\n",
              "      <td>638.724670</td>\n",
              "      <td>10.455171</td>\n",
              "      <td>...</td>\n",
              "      <td>1.645211</td>\n",
              "      <td>5.330330</td>\n",
              "      <td>174.854187</td>\n",
              "      <td>60.719971</td>\n",
              "      <td>1628.513916</td>\n",
              "      <td>0.130022</td>\n",
              "      <td>5.233059</td>\n",
              "      <td>6.478716</td>\n",
              "      <td>0.316607</td>\n",
              "      <td>0.625575</td>\n",
              "      <td>1352.802002</td>\n",
              "      <td>-0.000488</td>\n",
              "      <td>259.302185</td>\n",
              "      <td>4.445991</td>\n",
              "      <td>1233.239014</td>\n",
              "      <td>192.478928</td>\n",
              "      <td>231.643265</td>\n",
              "      <td>74.604324</td>\n",
              "      <td>56.159832</td>\n",
              "      <td>2848.995850</td>\n",
              "      <td>8.860291</td>\n",
              "      <td>1.262857</td>\n",
              "      <td>20.999205</td>\n",
              "      <td>16.503786</td>\n",
              "      <td>0.148347</td>\n",
              "      <td>246.479736</td>\n",
              "      <td>-0.000041</td>\n",
              "      <td>0.002357</td>\n",
              "      <td>4.362752</td>\n",
              "      <td>32.787670</td>\n",
              "      <td>0.057023</td>\n",
              "      <td>49.681004</td>\n",
              "      <td>187.442535</td>\n",
              "      <td>0.141420</td>\n",
              "      <td>2.821272</td>\n",
              "      <td>61.062511</td>\n",
              "      <td>65.227852</td>\n",
              "      <td>692.898743</td>\n",
              "      <td>0.099889</td>\n",
              "      <td>1.577453</td>\n",
              "    </tr>\n",
              "    <tr>\n",
              "      <th>677</th>\n",
              "      <td>3.929974</td>\n",
              "      <td>-0.002064</td>\n",
              "      <td>2.723286</td>\n",
              "      <td>2114.738037</td>\n",
              "      <td>-0.013384</td>\n",
              "      <td>362.738800</td>\n",
              "      <td>12.053423</td>\n",
              "      <td>683.340271</td>\n",
              "      <td>703.476074</td>\n",
              "      <td>127.434341</td>\n",
              "      <td>154.306427</td>\n",
              "      <td>102.776825</td>\n",
              "      <td>2256.778809</td>\n",
              "      <td>21.168123</td>\n",
              "      <td>2.261214</td>\n",
              "      <td>20.955276</td>\n",
              "      <td>12.967538</td>\n",
              "      <td>0.017561</td>\n",
              "      <td>152.497757</td>\n",
              "      <td>20.831663</td>\n",
              "      <td>7.017944</td>\n",
              "      <td>7.038022</td>\n",
              "      <td>107.335670</td>\n",
              "      <td>2.650108</td>\n",
              "      <td>199.015808</td>\n",
              "      <td>158.757080</td>\n",
              "      <td>6.078103</td>\n",
              "      <td>7.859908</td>\n",
              "      <td>238.906265</td>\n",
              "      <td>77.923561</td>\n",
              "      <td>2292.626465</td>\n",
              "      <td>0.268049</td>\n",
              "      <td>23.701057</td>\n",
              "      <td>6.175977</td>\n",
              "      <td>0.002891</td>\n",
              "      <td>3.650011</td>\n",
              "      <td>2969.132568</td>\n",
              "      <td>-0.038323</td>\n",
              "      <td>585.431702</td>\n",
              "      <td>11.878039</td>\n",
              "      <td>...</td>\n",
              "      <td>1.509841</td>\n",
              "      <td>4.115099</td>\n",
              "      <td>132.557007</td>\n",
              "      <td>54.669971</td>\n",
              "      <td>1269.124023</td>\n",
              "      <td>-0.288420</td>\n",
              "      <td>3.956112</td>\n",
              "      <td>6.497855</td>\n",
              "      <td>0.351199</td>\n",
              "      <td>0.069328</td>\n",
              "      <td>940.289368</td>\n",
              "      <td>0.001491</td>\n",
              "      <td>241.080017</td>\n",
              "      <td>4.849365</td>\n",
              "      <td>1051.879395</td>\n",
              "      <td>182.024078</td>\n",
              "      <td>197.141296</td>\n",
              "      <td>75.022232</td>\n",
              "      <td>40.692814</td>\n",
              "      <td>2631.476318</td>\n",
              "      <td>9.767134</td>\n",
              "      <td>1.404961</td>\n",
              "      <td>17.588449</td>\n",
              "      <td>12.501146</td>\n",
              "      <td>-0.006349</td>\n",
              "      <td>195.233795</td>\n",
              "      <td>-0.000439</td>\n",
              "      <td>-0.007331</td>\n",
              "      <td>4.438672</td>\n",
              "      <td>25.289818</td>\n",
              "      <td>0.151587</td>\n",
              "      <td>53.673599</td>\n",
              "      <td>218.129761</td>\n",
              "      <td>0.142221</td>\n",
              "      <td>2.072815</td>\n",
              "      <td>59.722759</td>\n",
              "      <td>68.702377</td>\n",
              "      <td>480.148285</td>\n",
              "      <td>0.013026</td>\n",
              "      <td>0.446084</td>\n",
              "    </tr>\n",
              "    <tr>\n",
              "      <th>678</th>\n",
              "      <td>3.936745</td>\n",
              "      <td>0.002977</td>\n",
              "      <td>1.920006</td>\n",
              "      <td>1731.179321</td>\n",
              "      <td>0.021712</td>\n",
              "      <td>333.941803</td>\n",
              "      <td>8.325027</td>\n",
              "      <td>605.380981</td>\n",
              "      <td>576.670532</td>\n",
              "      <td>118.771820</td>\n",
              "      <td>104.539612</td>\n",
              "      <td>88.224785</td>\n",
              "      <td>1951.638916</td>\n",
              "      <td>20.853611</td>\n",
              "      <td>0.916820</td>\n",
              "      <td>22.625034</td>\n",
              "      <td>12.749412</td>\n",
              "      <td>0.306349</td>\n",
              "      <td>143.284332</td>\n",
              "      <td>16.811886</td>\n",
              "      <td>9.118144</td>\n",
              "      <td>2.977029</td>\n",
              "      <td>58.959305</td>\n",
              "      <td>2.015511</td>\n",
              "      <td>290.701019</td>\n",
              "      <td>116.893196</td>\n",
              "      <td>6.136279</td>\n",
              "      <td>5.801625</td>\n",
              "      <td>263.357513</td>\n",
              "      <td>60.788651</td>\n",
              "      <td>1846.351318</td>\n",
              "      <td>0.353161</td>\n",
              "      <td>21.668922</td>\n",
              "      <td>5.226058</td>\n",
              "      <td>-0.018478</td>\n",
              "      <td>3.231872</td>\n",
              "      <td>3005.690918</td>\n",
              "      <td>0.002411</td>\n",
              "      <td>583.114807</td>\n",
              "      <td>11.017302</td>\n",
              "      <td>...</td>\n",
              "      <td>1.795152</td>\n",
              "      <td>5.723568</td>\n",
              "      <td>156.962784</td>\n",
              "      <td>66.066765</td>\n",
              "      <td>1572.233887</td>\n",
              "      <td>0.134684</td>\n",
              "      <td>4.909064</td>\n",
              "      <td>5.624559</td>\n",
              "      <td>0.361168</td>\n",
              "      <td>0.220935</td>\n",
              "      <td>1466.149292</td>\n",
              "      <td>-0.003696</td>\n",
              "      <td>267.298981</td>\n",
              "      <td>4.926889</td>\n",
              "      <td>1137.703247</td>\n",
              "      <td>185.415894</td>\n",
              "      <td>219.042923</td>\n",
              "      <td>58.925903</td>\n",
              "      <td>41.458366</td>\n",
              "      <td>2508.633789</td>\n",
              "      <td>5.992350</td>\n",
              "      <td>0.821441</td>\n",
              "      <td>18.788433</td>\n",
              "      <td>17.816557</td>\n",
              "      <td>-0.033734</td>\n",
              "      <td>270.870880</td>\n",
              "      <td>0.003751</td>\n",
              "      <td>-0.000913</td>\n",
              "      <td>2.461924</td>\n",
              "      <td>-5.066709</td>\n",
              "      <td>0.152835</td>\n",
              "      <td>48.299763</td>\n",
              "      <td>192.292282</td>\n",
              "      <td>0.067025</td>\n",
              "      <td>2.880112</td>\n",
              "      <td>43.079941</td>\n",
              "      <td>89.319939</td>\n",
              "      <td>705.869385</td>\n",
              "      <td>-0.288968</td>\n",
              "      <td>1.323669</td>\n",
              "    </tr>\n",
              "    <tr>\n",
              "      <th>679</th>\n",
              "      <td>3.628165</td>\n",
              "      <td>-0.001841</td>\n",
              "      <td>2.809263</td>\n",
              "      <td>1870.818848</td>\n",
              "      <td>-0.020359</td>\n",
              "      <td>363.064392</td>\n",
              "      <td>7.887503</td>\n",
              "      <td>648.010315</td>\n",
              "      <td>703.160217</td>\n",
              "      <td>137.726685</td>\n",
              "      <td>152.315475</td>\n",
              "      <td>87.387604</td>\n",
              "      <td>2184.266846</td>\n",
              "      <td>19.350073</td>\n",
              "      <td>1.498139</td>\n",
              "      <td>20.107586</td>\n",
              "      <td>10.854592</td>\n",
              "      <td>0.025438</td>\n",
              "      <td>133.507660</td>\n",
              "      <td>15.466701</td>\n",
              "      <td>7.665053</td>\n",
              "      <td>5.113739</td>\n",
              "      <td>88.284721</td>\n",
              "      <td>1.881163</td>\n",
              "      <td>221.003937</td>\n",
              "      <td>158.959732</td>\n",
              "      <td>4.879169</td>\n",
              "      <td>6.287547</td>\n",
              "      <td>257.784912</td>\n",
              "      <td>74.961990</td>\n",
              "      <td>1466.236450</td>\n",
              "      <td>0.224439</td>\n",
              "      <td>23.844881</td>\n",
              "      <td>5.498044</td>\n",
              "      <td>0.006912</td>\n",
              "      <td>3.767398</td>\n",
              "      <td>2817.835449</td>\n",
              "      <td>-0.027422</td>\n",
              "      <td>604.560852</td>\n",
              "      <td>7.131914</td>\n",
              "      <td>...</td>\n",
              "      <td>1.262811</td>\n",
              "      <td>3.713810</td>\n",
              "      <td>147.851669</td>\n",
              "      <td>51.857498</td>\n",
              "      <td>840.276123</td>\n",
              "      <td>-0.310867</td>\n",
              "      <td>4.103277</td>\n",
              "      <td>6.201654</td>\n",
              "      <td>0.252001</td>\n",
              "      <td>0.395734</td>\n",
              "      <td>1124.388306</td>\n",
              "      <td>0.001975</td>\n",
              "      <td>289.914948</td>\n",
              "      <td>3.576356</td>\n",
              "      <td>1212.736206</td>\n",
              "      <td>214.273056</td>\n",
              "      <td>238.270218</td>\n",
              "      <td>93.996887</td>\n",
              "      <td>38.916458</td>\n",
              "      <td>2924.321777</td>\n",
              "      <td>10.062672</td>\n",
              "      <td>1.468141</td>\n",
              "      <td>16.173798</td>\n",
              "      <td>12.156572</td>\n",
              "      <td>0.063820</td>\n",
              "      <td>192.946075</td>\n",
              "      <td>-0.000830</td>\n",
              "      <td>-0.008297</td>\n",
              "      <td>4.217529</td>\n",
              "      <td>23.352160</td>\n",
              "      <td>0.039244</td>\n",
              "      <td>57.161137</td>\n",
              "      <td>238.726822</td>\n",
              "      <td>0.053150</td>\n",
              "      <td>2.022057</td>\n",
              "      <td>60.073429</td>\n",
              "      <td>77.675819</td>\n",
              "      <td>546.495422</td>\n",
              "      <td>-0.174257</td>\n",
              "      <td>0.607489</td>\n",
              "    </tr>\n",
              "  </tbody>\n",
              "</table>\n",
              "<p>680 rows × 1782 columns</p>\n",
              "</div>"
            ],
            "text/plain": [
              "         0         1         2     ...        1779      1780      1781\n",
              "0    4.297147 -0.002937  3.096426  ...  563.770508  0.229988  0.790563\n",
              "1    2.175600 -0.004182  1.967006  ...  620.731995 -0.121052  1.890903\n",
              "2    4.543908 -0.001381  3.341544  ...  654.151794  0.033886  0.927545\n",
              "3    4.180917  0.000767  2.620396  ...  609.276489 -0.117073  1.232974\n",
              "4    4.684118  0.000373  2.645859  ...  457.357025  0.197694  1.329913\n",
              "..        ...       ...       ...  ...         ...       ...       ...\n",
              "675  3.941215  0.000416  2.320330  ...  363.187531  0.018033  1.496087\n",
              "676  4.548089 -0.000106  2.993535  ...  692.898743  0.099889  1.577453\n",
              "677  3.929974 -0.002064  2.723286  ...  480.148285  0.013026  0.446084\n",
              "678  3.936745  0.002977  1.920006  ...  705.869385 -0.288968  1.323669\n",
              "679  3.628165 -0.001841  2.809263  ...  546.495422 -0.174257  0.607489\n",
              "\n",
              "[680 rows x 1782 columns]"
            ]
          },
          "metadata": {},
          "execution_count": 63
        }
      ]
    },
    {
      "cell_type": "code",
      "metadata": {
        "id": "fzoE-AnmuWMC"
      },
      "source": [
        "import matplotlib.pyplot as plt"
      ],
      "execution_count": 29,
      "outputs": []
    },
    {
      "cell_type": "code",
      "metadata": {
        "colab": {
          "base_uri": "https://localhost:8080/",
          "height": 427
        },
        "id": "8m5FMdk8uWOe",
        "outputId": "98560c8d-fd5b-424a-d448-4db661c8214a"
      },
      "source": [
        "plt.figure(figsize=(15,10))\n",
        "plt.plot(test_Y.iloc[0,:50], label = 'Test')\n",
        "plt.plot(Predict.iloc[0,:50], label = 'Prediction')\n",
        "plt.legend(loc='best')\n",
        "plt.show()"
      ],
      "execution_count": 30,
      "outputs": [
        {
          "output_type": "display_data",
          "data": {
            "image/png": "[encoded data removed]",
            "text/plain": [
              "<Figure size 1080x720 with 1 Axes>"
            ]
          },
          "metadata": {
            "needs_background": "light"
          }
        }
      ]
    },
    {
      "cell_type": "code",
      "metadata": {
        "id": "HA_l3yzguWXs"
      },
      "source": [
        "test = pd.read_csv('test.csv')"
      ],
      "execution_count": 88,
      "outputs": []
    },
    {
      "cell_type": "code",
      "metadata": {
        "id": "glWa132a8CY5"
      },
      "source": [
        "test.date = pd.to_datetime(test.date)"
      ],
      "execution_count": 89,
      "outputs": []
    },
    {
      "cell_type": "code",
      "metadata": {
        "colab": {
          "base_uri": "https://localhost:8080/"
        },
        "id": "TW7zUT-C9-lX",
        "outputId": "ecb6ce70-0778-4bf0-8621-2b70a740d6e9"
      },
      "source": [
        "len(test)/54/33"
      ],
      "execution_count": 70,
      "outputs": [
        {
          "output_type": "execute_result",
          "data": {
            "text/plain": [
              "16.0"
            ]
          },
          "metadata": {},
          "execution_count": 70
        }
      ]
    },
    {
      "cell_type": "code",
      "metadata": {
        "colab": {
          "base_uri": "https://localhost:8080/"
        },
        "id": "2qNvGP4WEyXU",
        "outputId": "f4d96a16-3bd7-4032-fa71-e9fb2ddcc48f"
      },
      "source": [
        "54*33"
      ],
      "execution_count": 87,
      "outputs": [
        {
          "output_type": "execute_result",
          "data": {
            "text/plain": [
              "1782"
            ]
          },
          "metadata": {},
          "execution_count": 87
        }
      ]
    },
    {
      "cell_type": "code",
      "metadata": {
        "id": "ukL1U8xQ91fe"
      },
      "source": [
        "def make_dataset_t(data):\n",
        "  datasetX = []\n",
        "  max_length = len(data)\n",
        "  for i in range(5346,max_length-54*33,54*33):\n",
        "    datasetX.append(data[i-5346:i,1])\n",
        "\n",
        "  return datasetX"
      ],
      "execution_count": 90,
      "outputs": []
    },
    {
      "cell_type": "code",
      "metadata": {
        "colab": {
          "base_uri": "https://localhost:8080/"
        },
        "id": "jE75aNfy54k3",
        "outputId": "a939d8c1-3ba9-4b20-8452-e49247b000b1"
      },
      "source": [
        "\n",
        "test = test.sort_values(['date','store_nbr','family'])\n",
        "\n",
        "test = test.set_index('date').drop(['id','family'],axis = 1).copy()\n",
        "\n",
        "test = np.array(test)\n",
        "test = make_dataset_t(test)\n",
        "test = np.array(test)\n",
        "test = np.asarray(test).astype(np.float32)\n",
        "#scaling  # データを0～1の範囲にスケールするための関数。\n",
        "scaler.fit(test)  # スケーリングに使用する最小／最大値を計算する。\n",
        "test1 = scaler.transform(test)  # Xをを0～1の範囲にスケーリングする。\n",
        "\n",
        "\n",
        "test1 = np.reshape(test1,(test1.shape[0],1,test1.shape[1]))\n",
        "print(test1.shape)"
      ],
      "execution_count": 91,
      "outputs": [
        {
          "output_type": "stream",
          "name": "stdout",
          "text": [
            "(12, 1, 5346)\n"
          ]
        }
      ]
    },
    {
      "cell_type": "code",
      "metadata": {
        "colab": {
          "base_uri": "https://localhost:8080/"
        },
        "id": "GqqGDNu3FZEv",
        "outputId": "8b60eeb7-520d-4be7-8b70-f2277dbbcb08"
      },
      "source": [
        "test1.shape"
      ],
      "execution_count": 92,
      "outputs": [
        {
          "output_type": "execute_result",
          "data": {
            "text/plain": [
              "(12, 1, 5346)"
            ]
          },
          "metadata": {},
          "execution_count": 92
        }
      ]
    },
    {
      "cell_type": "code",
      "metadata": {
        "colab": {
          "base_uri": "https://localhost:8080/"
        },
        "id": "VxiE7Pz1FfLW",
        "outputId": "bb46fe32-64dc-452c-c619-d92383f282d4"
      },
      "source": [
        "5346*12/"
      ],
      "execution_count": 93,
      "outputs": [
        {
          "output_type": "execute_result",
          "data": {
            "text/plain": [
              "64152"
            ]
          },
          "metadata": {},
          "execution_count": 93
        }
      ]
    },
    {
      "cell_type": "code",
      "metadata": {
        "id": "-06BNkkl-bIv"
      },
      "source": [
        "sub = model.predict(test1)"
      ],
      "execution_count": 94,
      "outputs": []
    },
    {
      "cell_type": "code",
      "metadata": {
        "colab": {
          "base_uri": "https://localhost:8080/"
        },
        "id": "4dN7NJTy-9Xj",
        "outputId": "d324637d-c23d-43cf-a28c-a8358048eca6"
      },
      "source": [
        "sub.shape"
      ],
      "execution_count": 95,
      "outputs": [
        {
          "output_type": "execute_result",
          "data": {
            "text/plain": [
              "(12, 1782)"
            ]
          },
          "metadata": {},
          "execution_count": 95
        }
      ]
    },
    {
      "cell_type": "code",
      "metadata": {
        "id": "rNDEF9n7_UEF"
      },
      "source": [
        "sub=pd.DataFrame(sub)"
      ],
      "execution_count": 75,
      "outputs": []
    },
    {
      "cell_type": "code",
      "metadata": {
        "id": "PQyAtK7b-i48"
      },
      "source": [
        "sub = scaler1.inverse_transform(sub)"
      ],
      "execution_count": 77,
      "outputs": []
    },
    {
      "cell_type": "code",
      "metadata": {
        "colab": {
          "base_uri": "https://localhost:8080/",
          "height": 419
        },
        "id": "LmOblEaxDQnj",
        "outputId": "5dba67b9-a825-4ec1-cb5b-188149b0b4b3"
      },
      "source": [
        "subm = []\n",
        "for i in sub:\n",
        "  for k in i:\n",
        "    subm.append(k)\n",
        "\n",
        "subm = pd.DataFrame(subm)\n",
        "subm"
      ],
      "execution_count": 82,
      "outputs": [
        {
          "output_type": "execute_result",
          "data": {
            "text/html": [
              "<div>\n",
              "<style scoped>\n",
              "    .dataframe tbody tr th:only-of-type {\n",
              "        vertical-align: middle;\n",
              "    }\n",
              "\n",
              "    .dataframe tbody tr th {\n",
              "        vertical-align: top;\n",
              "    }\n",
              "\n",
              "    .dataframe thead th {\n",
              "        text-align: right;\n",
              "    }\n",
              "</style>\n",
              "<table border=\"1\" class=\"dataframe\">\n",
              "  <thead>\n",
              "    <tr style=\"text-align: right;\">\n",
              "      <th></th>\n",
              "      <th>0</th>\n",
              "    </tr>\n",
              "  </thead>\n",
              "  <tbody>\n",
              "    <tr>\n",
              "      <th>0</th>\n",
              "      <td>7.833902e+01</td>\n",
              "    </tr>\n",
              "    <tr>\n",
              "      <th>1</th>\n",
              "      <td>-2.448736e-03</td>\n",
              "    </tr>\n",
              "    <tr>\n",
              "      <th>2</th>\n",
              "      <td>3.533846e+01</td>\n",
              "    </tr>\n",
              "    <tr>\n",
              "      <th>3</th>\n",
              "      <td>1.088144e+07</td>\n",
              "    </tr>\n",
              "    <tr>\n",
              "      <th>4</th>\n",
              "      <td>-8.547684e-02</td>\n",
              "    </tr>\n",
              "    <tr>\n",
              "      <th>...</th>\n",
              "      <td>...</td>\n",
              "    </tr>\n",
              "    <tr>\n",
              "      <th>21379</th>\n",
              "      <td>1.879938e+04</td>\n",
              "    </tr>\n",
              "    <tr>\n",
              "      <th>21380</th>\n",
              "      <td>1.206938e+04</td>\n",
              "    </tr>\n",
              "    <tr>\n",
              "      <th>21381</th>\n",
              "      <td>9.301292e+05</td>\n",
              "    </tr>\n",
              "    <tr>\n",
              "      <th>21382</th>\n",
              "      <td>2.788954e+00</td>\n",
              "    </tr>\n",
              "    <tr>\n",
              "      <th>21383</th>\n",
              "      <td>2.665843e+01</td>\n",
              "    </tr>\n",
              "  </tbody>\n",
              "</table>\n",
              "<p>21384 rows × 1 columns</p>\n",
              "</div>"
            ],
            "text/plain": [
              "                  0\n",
              "0      7.833902e+01\n",
              "1     -2.448736e-03\n",
              "2      3.533846e+01\n",
              "3      1.088144e+07\n",
              "4     -8.547684e-02\n",
              "...             ...\n",
              "21379  1.879938e+04\n",
              "21380  1.206938e+04\n",
              "21381  9.301292e+05\n",
              "21382  2.788954e+00\n",
              "21383  2.665843e+01\n",
              "\n",
              "[21384 rows x 1 columns]"
            ]
          },
          "metadata": {},
          "execution_count": 82
        }
      ]
    },
    {
      "cell_type": "code",
      "metadata": {
        "colab": {
          "base_uri": "https://localhost:8080/",
          "height": 691
        },
        "id": "TF31exgjDQqI",
        "outputId": "c3b3ebf5-b838-4977-bd3f-0e17644dfdcf"
      },
      "source": [
        "subm.set_index(list(range(3000888,3029400)))"
      ],
      "execution_count": 84,
      "outputs": [
        {
          "output_type": "error",
          "ename": "KeyError",
          "evalue": "ignored",
          "traceback": [
            "\u001b[0;31m---------------------------------------------------------------------------\u001b[0m",
            "\u001b[0;31mKeyError\u001b[0m                                  Traceback (most recent call last)",
            "\u001b[0;32m<ipython-input-84-5a85a2cb54ad>\u001b[0m in \u001b[0;36m<module>\u001b[0;34m()\u001b[0m\n\u001b[0;32m----> 1\u001b[0;31m \u001b[0msubm\u001b[0m\u001b[0;34m.\u001b[0m\u001b[0mset_index\u001b[0m\u001b[0;34m(\u001b[0m\u001b[0mlist\u001b[0m\u001b[0;34m(\u001b[0m\u001b[0mrange\u001b[0m\u001b[0;34m(\u001b[0m\u001b[0;36m3000888\u001b[0m\u001b[0;34m,\u001b[0m\u001b[0;36m3029400\u001b[0m\u001b[0;34m)\u001b[0m\u001b[0;34m)\u001b[0m\u001b[0;34m)\u001b[0m\u001b[0;34m\u001b[0m\u001b[0;34m\u001b[0m\u001b[0m\n\u001b[0m",
            "\u001b[0;32m/usr/local/lib/python3.7/dist-packages/pandas/core/frame.py\u001b[0m in \u001b[0;36mset_index\u001b[0;34m(self, keys, drop, append, inplace, verify_integrity)\u001b[0m\n\u001b[1;32m   4553\u001b[0m \u001b[0;34m\u001b[0m\u001b[0m\n\u001b[1;32m   4554\u001b[0m         \u001b[0;32mif\u001b[0m \u001b[0mmissing\u001b[0m\u001b[0;34m:\u001b[0m\u001b[0;34m\u001b[0m\u001b[0;34m\u001b[0m\u001b[0m\n\u001b[0;32m-> 4555\u001b[0;31m             \u001b[0;32mraise\u001b[0m \u001b[0mKeyError\u001b[0m\u001b[0;34m(\u001b[0m\u001b[0;34mf\"None of {missing} are in the columns\"\u001b[0m\u001b[0;34m)\u001b[0m\u001b[0;34m\u001b[0m\u001b[0;34m\u001b[0m\u001b[0m\n\u001b[0m\u001b[1;32m   4556\u001b[0m \u001b[0;34m\u001b[0m\u001b[0m\n\u001b[1;32m   4557\u001b[0m         \u001b[0;32mif\u001b[0m \u001b[0minplace\u001b[0m\u001b[0;34m:\u001b[0m\u001b[0;34m\u001b[0m\u001b[0;34m\u001b[0m\u001b[0m\n",
            "\u001b[0;31mKeyError\u001b[0m: 'None of [3000888, 3000889, 3000890, 3000891, 3000892, 3000893, 3000894, 3000895, 3000896, 3000897, 3000898, 3000899, 3000900, 3000901, 3000902, 3000903, 3000904, 3000905, 3000906, 3000907, 3000908, 3000909, 3000910, 3000911, 3000912, 3000913, 3000914, 3000915, 3000916, 3000917, 3000918, 3000919, 3000920, 3000921, 3000922, 3000923, 3000924, 3000925, 3000926, 3000927, 3000928, 3000929, 3000930, 3000931, 3000932, 3000933, 3000934, 3000935, 3000936, 3000937, 3000938, 3000939, 3000940, 3000941, 3000942, 3000943, 3000944, 3000945, 3000946, 3000947, 3000948, 3000949, 3000950, 3000951, 3000952, 3000953, 3000954, 3000955, 3000956, 3000957, 3000958, 3000959, 3000960, 3000961, 3000962, 3000963, 3000964, 3000965, 3000966, 3000967, 3000968, 3000969, 3000970, 3000971, 3000972, 3000973, 3000974, 3000975, 3000976, 3000977, 3000978, 3000979, 3000980, 3000981, 3000982, 3000983, 3000984, 3000985, 3000986, 3000987, 3000988, 3000989, 3000990, 3000991, 3000992, 3000993, 3000994, 3000995, 3000996, 3000997, 3000998, 3000999, 3001000, 3001001, 3001002, 3001003, 3001004, 3001005, 3001006, 3001007, 3001008, 3001009, 3001010, 3001011, 3001012, 3001013, 3001014, 3001015, 3001016, 3001017, 3001018, 3001019, 3001020, 3001021, 3001022, 3001023, 3001024, 3001025, 3001026, 3001027, 3001028, 3001029, 3001030, 3001031, 3001032, 3001033, 3001034, 3001035, 3001036, 3001037, 3001038, 3001039, 3001040, 3001041, 3001042, 3001043, 3001044, 3001045, 3001046, 3001047, 3001048, 3001049, 3001050,..."
          ]
        }
      ]
    },
    {
      "cell_type": "code",
      "metadata": {
        "id": "8B_ap0QQDQtE"
      },
      "source": [
        ""
      ],
      "execution_count": null,
      "outputs": []
    }
  ]
}