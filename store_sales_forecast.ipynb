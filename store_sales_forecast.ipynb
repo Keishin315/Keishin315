{
  "nbformat": 4,
  "nbformat_minor": 0,
  "metadata": {
    "colab": {
      "name": "store_sales_forecast",
      "provenance": [],
      "collapsed_sections": [],
      "include_colab_link": true
    },
    "kernelspec": {
      "name": "python3",
      "display_name": "Python 3"
    },
    "accelerator": "GPU"
  },
  "cells": [
    {
      "cell_type": "markdown",
      "metadata": {
        "id": "view-in-github",
        "colab_type": "text"
      },
      "source": [
        "<a href=\"https://colab.research.google.com/github/Keishin315/Keishin315/blob/main/store_sales_forecast.ipynb\" target=\"_parent\"><img src=\"https://colab.research.google.com/assets/colab-badge.svg\" alt=\"Open In Colab\"/></a>"
      ]
    },
    {
      "cell_type": "markdown",
      "metadata": {
        "id": "mf2ENBI217Zd"
      },
      "source": [
        "# This notebook provides a recipe for using Kaggle API with Colab"
      ]
    },
    {
      "cell_type": "code",
      "metadata": {
        "id": "YMvFLpBQlBTR",
        "colab": {
          "base_uri": "https://localhost:8080/"
        },
        "outputId": "4279ab81-ac60-453e-8eef-2c56807d3309"
      },
      "source": [
        "!pip install kaggle"
      ],
      "execution_count": 1,
      "outputs": [
        {
          "output_type": "stream",
          "name": "stdout",
          "text": [
            "Requirement already satisfied: kaggle in /usr/local/lib/python3.7/dist-packages (1.5.12)\n",
            "Requirement already satisfied: certifi in /usr/local/lib/python3.7/dist-packages (from kaggle) (2021.10.8)\n",
            "Requirement already satisfied: python-slugify in /usr/local/lib/python3.7/dist-packages (from kaggle) (5.0.2)\n",
            "Requirement already satisfied: six>=1.10 in /usr/local/lib/python3.7/dist-packages (from kaggle) (1.15.0)\n",
            "Requirement already satisfied: python-dateutil in /usr/local/lib/python3.7/dist-packages (from kaggle) (2.8.2)\n",
            "Requirement already satisfied: urllib3 in /usr/local/lib/python3.7/dist-packages (from kaggle) (1.24.3)\n",
            "Requirement already satisfied: tqdm in /usr/local/lib/python3.7/dist-packages (from kaggle) (4.62.3)\n",
            "Requirement already satisfied: requests in /usr/local/lib/python3.7/dist-packages (from kaggle) (2.23.0)\n",
            "Requirement already satisfied: text-unidecode>=1.3 in /usr/local/lib/python3.7/dist-packages (from python-slugify->kaggle) (1.3)\n",
            "Requirement already satisfied: idna<3,>=2.5 in /usr/local/lib/python3.7/dist-packages (from requests->kaggle) (2.10)\n",
            "Requirement already satisfied: chardet<4,>=3.0.2 in /usr/local/lib/python3.7/dist-packages (from requests->kaggle) (3.0.4)\n"
          ]
        }
      ]
    },
    {
      "cell_type": "markdown",
      "metadata": {
        "id": "pBETV6aO2d39"
      },
      "source": [
        "# API Credentials\n",
        "\n",
        "To use the Kaggle API, sign up for a Kaggle account at https://www.kaggle.com. Then go to the 'Account' tab of your user profile (https://www.kaggle.com/<username>/account) and select 'Create API Token'. This will trigger the download of kaggle.json, a file containing your API credentials. \n",
        "\n",
        "Place this file on your Google Drive anywhere.\n",
        "\n",
        "With the next snippet you download your credentials to Colab and you can start using Kaggle API"
      ]
    },
    {
      "cell_type": "code",
      "metadata": {
        "id": "y5_288BYp6H1",
        "colab": {
          "base_uri": "https://localhost:8080/",
          "height": 528
        },
        "outputId": "ee234941-f3b5-4a14-e4a7-a34f601805b7"
      },
      "source": [
        "from googleapiclient.discovery import build\n",
        "import io, os\n",
        "from googleapiclient.http import MediaIoBaseDownload\n",
        "from google.colab import auth\n",
        "\n",
        "auth.authenticate_user()\n",
        "\n",
        "drive_service = build('drive', 'v3')\n",
        "results = drive_service.files().list(\n",
        "        q=\"name = 'kaggle.json'\", fields=\"files(id)\").execute()\n",
        "kaggle_api_key = results.get('files', [])\n",
        "\n",
        "filename = \"/content/.kaggle/kaggle.json\"\n",
        "os.makedirs(os.path.dirname(filename), exist_ok=True)\n",
        "\n",
        "request = drive_service.files().get_media(fileId=kaggle_api_key[0]['id'])\n",
        "fh = io.FileIO(filename, 'wb')\n",
        "downloader = MediaIoBaseDownload(fh, request)\n",
        "done = False\n",
        "while done is False:\n",
        "    status, done = downloader.next_chunk()\n",
        "    print(\"Download %d%%.\" % int(status.progress() * 100))\n",
        "os.chmod(filename, 600)"
      ],
      "execution_count": null,
      "outputs": [
        {
          "output_type": "error",
          "ename": "KeyboardInterrupt",
          "evalue": "ignored",
          "traceback": [
            "\u001b[0;31m---------------------------------------------------------------------------\u001b[0m",
            "\u001b[0;31mKeyboardInterrupt\u001b[0m                         Traceback (most recent call last)",
            "\u001b[0;32m/usr/local/lib/python3.7/dist-packages/ipykernel/kernelbase.py\u001b[0m in \u001b[0;36m_input_request\u001b[0;34m(self, prompt, ident, parent, password)\u001b[0m\n\u001b[1;32m    728\u001b[0m             \u001b[0;32mtry\u001b[0m\u001b[0;34m:\u001b[0m\u001b[0;34m\u001b[0m\u001b[0;34m\u001b[0m\u001b[0m\n\u001b[0;32m--> 729\u001b[0;31m                 \u001b[0mident\u001b[0m\u001b[0;34m,\u001b[0m \u001b[0mreply\u001b[0m \u001b[0;34m=\u001b[0m \u001b[0mself\u001b[0m\u001b[0;34m.\u001b[0m\u001b[0msession\u001b[0m\u001b[0;34m.\u001b[0m\u001b[0mrecv\u001b[0m\u001b[0;34m(\u001b[0m\u001b[0mself\u001b[0m\u001b[0;34m.\u001b[0m\u001b[0mstdin_socket\u001b[0m\u001b[0;34m,\u001b[0m \u001b[0;36m0\u001b[0m\u001b[0;34m)\u001b[0m\u001b[0;34m\u001b[0m\u001b[0;34m\u001b[0m\u001b[0m\n\u001b[0m\u001b[1;32m    730\u001b[0m             \u001b[0;32mexcept\u001b[0m \u001b[0mException\u001b[0m\u001b[0;34m:\u001b[0m\u001b[0;34m\u001b[0m\u001b[0;34m\u001b[0m\u001b[0m\n",
            "\u001b[0;32m/usr/local/lib/python3.7/dist-packages/jupyter_client/session.py\u001b[0m in \u001b[0;36mrecv\u001b[0;34m(self, socket, mode, content, copy)\u001b[0m\n\u001b[1;32m    802\u001b[0m         \u001b[0;32mtry\u001b[0m\u001b[0;34m:\u001b[0m\u001b[0;34m\u001b[0m\u001b[0;34m\u001b[0m\u001b[0m\n\u001b[0;32m--> 803\u001b[0;31m             \u001b[0mmsg_list\u001b[0m \u001b[0;34m=\u001b[0m \u001b[0msocket\u001b[0m\u001b[0;34m.\u001b[0m\u001b[0mrecv_multipart\u001b[0m\u001b[0;34m(\u001b[0m\u001b[0mmode\u001b[0m\u001b[0;34m,\u001b[0m \u001b[0mcopy\u001b[0m\u001b[0;34m=\u001b[0m\u001b[0mcopy\u001b[0m\u001b[0;34m)\u001b[0m\u001b[0;34m\u001b[0m\u001b[0;34m\u001b[0m\u001b[0m\n\u001b[0m\u001b[1;32m    804\u001b[0m         \u001b[0;32mexcept\u001b[0m \u001b[0mzmq\u001b[0m\u001b[0;34m.\u001b[0m\u001b[0mZMQError\u001b[0m \u001b[0;32mas\u001b[0m \u001b[0me\u001b[0m\u001b[0;34m:\u001b[0m\u001b[0;34m\u001b[0m\u001b[0;34m\u001b[0m\u001b[0m\n",
            "\u001b[0;32m/usr/local/lib/python3.7/dist-packages/zmq/sugar/socket.py\u001b[0m in \u001b[0;36mrecv_multipart\u001b[0;34m(self, flags, copy, track)\u001b[0m\n\u001b[1;32m    624\u001b[0m         \"\"\"\n\u001b[0;32m--> 625\u001b[0;31m         \u001b[0mparts\u001b[0m \u001b[0;34m=\u001b[0m \u001b[0;34m[\u001b[0m\u001b[0mself\u001b[0m\u001b[0;34m.\u001b[0m\u001b[0mrecv\u001b[0m\u001b[0;34m(\u001b[0m\u001b[0mflags\u001b[0m\u001b[0;34m,\u001b[0m \u001b[0mcopy\u001b[0m\u001b[0;34m=\u001b[0m\u001b[0mcopy\u001b[0m\u001b[0;34m,\u001b[0m \u001b[0mtrack\u001b[0m\u001b[0;34m=\u001b[0m\u001b[0mtrack\u001b[0m\u001b[0;34m)\u001b[0m\u001b[0;34m]\u001b[0m\u001b[0;34m\u001b[0m\u001b[0;34m\u001b[0m\u001b[0m\n\u001b[0m\u001b[1;32m    626\u001b[0m         \u001b[0;31m# have first part already, only loop while more to receive\u001b[0m\u001b[0;34m\u001b[0m\u001b[0;34m\u001b[0m\u001b[0;34m\u001b[0m\u001b[0m\n",
            "\u001b[0;32mzmq/backend/cython/socket.pyx\u001b[0m in \u001b[0;36mzmq.backend.cython.socket.Socket.recv\u001b[0;34m()\u001b[0m\n",
            "\u001b[0;32mzmq/backend/cython/socket.pyx\u001b[0m in \u001b[0;36mzmq.backend.cython.socket.Socket.recv\u001b[0;34m()\u001b[0m\n",
            "\u001b[0;32mzmq/backend/cython/socket.pyx\u001b[0m in \u001b[0;36mzmq.backend.cython.socket._recv_copy\u001b[0;34m()\u001b[0m\n",
            "\u001b[0;32m/usr/local/lib/python3.7/dist-packages/zmq/backend/cython/checkrc.pxd\u001b[0m in \u001b[0;36mzmq.backend.cython.checkrc._check_rc\u001b[0;34m()\u001b[0m\n",
            "\u001b[0;31mKeyboardInterrupt\u001b[0m: ",
            "\nDuring handling of the above exception, another exception occurred:\n",
            "\u001b[0;31mKeyboardInterrupt\u001b[0m                         Traceback (most recent call last)",
            "\u001b[0;32m<ipython-input-71-8bbe35c77eee>\u001b[0m in \u001b[0;36m<module>\u001b[0;34m()\u001b[0m\n\u001b[1;32m      4\u001b[0m \u001b[0;32mfrom\u001b[0m \u001b[0mgoogle\u001b[0m\u001b[0;34m.\u001b[0m\u001b[0mcolab\u001b[0m \u001b[0;32mimport\u001b[0m \u001b[0mauth\u001b[0m\u001b[0;34m\u001b[0m\u001b[0;34m\u001b[0m\u001b[0m\n\u001b[1;32m      5\u001b[0m \u001b[0;34m\u001b[0m\u001b[0m\n\u001b[0;32m----> 6\u001b[0;31m \u001b[0mauth\u001b[0m\u001b[0;34m.\u001b[0m\u001b[0mauthenticate_user\u001b[0m\u001b[0;34m(\u001b[0m\u001b[0;34m)\u001b[0m\u001b[0;34m\u001b[0m\u001b[0;34m\u001b[0m\u001b[0m\n\u001b[0m\u001b[1;32m      7\u001b[0m \u001b[0;34m\u001b[0m\u001b[0m\n\u001b[1;32m      8\u001b[0m \u001b[0mdrive_service\u001b[0m \u001b[0;34m=\u001b[0m \u001b[0mbuild\u001b[0m\u001b[0;34m(\u001b[0m\u001b[0;34m'drive'\u001b[0m\u001b[0;34m,\u001b[0m \u001b[0;34m'v3'\u001b[0m\u001b[0;34m)\u001b[0m\u001b[0;34m\u001b[0m\u001b[0;34m\u001b[0m\u001b[0m\n",
            "\u001b[0;32m/usr/local/lib/python3.7/dist-packages/google/colab/auth.py\u001b[0m in \u001b[0;36mauthenticate_user\u001b[0;34m(clear_output)\u001b[0m\n\u001b[1;32m    151\u001b[0m     \u001b[0mcontext_manager\u001b[0m \u001b[0;34m=\u001b[0m \u001b[0m_output\u001b[0m\u001b[0;34m.\u001b[0m\u001b[0mtemporary\u001b[0m \u001b[0;32mif\u001b[0m \u001b[0mclear_output\u001b[0m \u001b[0;32melse\u001b[0m \u001b[0m_noop\u001b[0m\u001b[0;34m\u001b[0m\u001b[0;34m\u001b[0m\u001b[0m\n\u001b[1;32m    152\u001b[0m     \u001b[0;32mwith\u001b[0m \u001b[0mcontext_manager\u001b[0m\u001b[0;34m(\u001b[0m\u001b[0;34m)\u001b[0m\u001b[0;34m:\u001b[0m\u001b[0;34m\u001b[0m\u001b[0;34m\u001b[0m\u001b[0m\n\u001b[0;32m--> 153\u001b[0;31m       \u001b[0m_gcloud_login\u001b[0m\u001b[0;34m(\u001b[0m\u001b[0;34m)\u001b[0m\u001b[0;34m\u001b[0m\u001b[0;34m\u001b[0m\u001b[0m\n\u001b[0m\u001b[1;32m    154\u001b[0m     \u001b[0m_install_adc\u001b[0m\u001b[0;34m(\u001b[0m\u001b[0;34m)\u001b[0m\u001b[0;34m\u001b[0m\u001b[0;34m\u001b[0m\u001b[0m\n\u001b[1;32m    155\u001b[0m     \u001b[0mcolab_tpu_addr\u001b[0m \u001b[0;34m=\u001b[0m \u001b[0m_os\u001b[0m\u001b[0;34m.\u001b[0m\u001b[0menviron\u001b[0m\u001b[0;34m.\u001b[0m\u001b[0mget\u001b[0m\u001b[0;34m(\u001b[0m\u001b[0;34m'COLAB_TPU_ADDR'\u001b[0m\u001b[0;34m,\u001b[0m \u001b[0;34m''\u001b[0m\u001b[0;34m)\u001b[0m\u001b[0;34m\u001b[0m\u001b[0;34m\u001b[0m\u001b[0m\n",
            "\u001b[0;32m/usr/local/lib/python3.7/dist-packages/google/colab/auth.py\u001b[0m in \u001b[0;36m_gcloud_login\u001b[0;34m()\u001b[0m\n\u001b[1;32m     93\u001b[0m     \u001b[0;31m# https://github.com/jupyter/notebook/issues/3159\u001b[0m\u001b[0;34m\u001b[0m\u001b[0;34m\u001b[0m\u001b[0;34m\u001b[0m\u001b[0m\n\u001b[1;32m     94\u001b[0m     \u001b[0mprompt\u001b[0m \u001b[0;34m=\u001b[0m \u001b[0mprompt\u001b[0m\u001b[0;34m.\u001b[0m\u001b[0mrstrip\u001b[0m\u001b[0;34m(\u001b[0m\u001b[0;34m)\u001b[0m\u001b[0;34m\u001b[0m\u001b[0;34m\u001b[0m\u001b[0m\n\u001b[0;32m---> 95\u001b[0;31m     \u001b[0mcode\u001b[0m \u001b[0;34m=\u001b[0m \u001b[0mget_code\u001b[0m\u001b[0;34m(\u001b[0m\u001b[0mprompt\u001b[0m \u001b[0;34m+\u001b[0m \u001b[0;34m' '\u001b[0m\u001b[0;34m)\u001b[0m\u001b[0;34m\u001b[0m\u001b[0;34m\u001b[0m\u001b[0m\n\u001b[0m\u001b[1;32m     96\u001b[0m     \u001b[0mgcloud_process\u001b[0m\u001b[0;34m.\u001b[0m\u001b[0mcommunicate\u001b[0m\u001b[0;34m(\u001b[0m\u001b[0mcode\u001b[0m\u001b[0;34m.\u001b[0m\u001b[0mstrip\u001b[0m\u001b[0;34m(\u001b[0m\u001b[0;34m)\u001b[0m\u001b[0;34m)\u001b[0m\u001b[0;34m\u001b[0m\u001b[0;34m\u001b[0m\u001b[0m\n\u001b[1;32m     97\u001b[0m   \u001b[0;32mfinally\u001b[0m\u001b[0;34m:\u001b[0m\u001b[0;34m\u001b[0m\u001b[0;34m\u001b[0m\u001b[0m\n",
            "\u001b[0;32m/usr/local/lib/python3.7/dist-packages/ipykernel/kernelbase.py\u001b[0m in \u001b[0;36mraw_input\u001b[0;34m(self, prompt)\u001b[0m\n\u001b[1;32m    702\u001b[0m             \u001b[0mself\u001b[0m\u001b[0;34m.\u001b[0m\u001b[0m_parent_ident\u001b[0m\u001b[0;34m,\u001b[0m\u001b[0;34m\u001b[0m\u001b[0;34m\u001b[0m\u001b[0m\n\u001b[1;32m    703\u001b[0m             \u001b[0mself\u001b[0m\u001b[0;34m.\u001b[0m\u001b[0m_parent_header\u001b[0m\u001b[0;34m,\u001b[0m\u001b[0;34m\u001b[0m\u001b[0;34m\u001b[0m\u001b[0m\n\u001b[0;32m--> 704\u001b[0;31m             \u001b[0mpassword\u001b[0m\u001b[0;34m=\u001b[0m\u001b[0;32mFalse\u001b[0m\u001b[0;34m,\u001b[0m\u001b[0;34m\u001b[0m\u001b[0;34m\u001b[0m\u001b[0m\n\u001b[0m\u001b[1;32m    705\u001b[0m         )\n\u001b[1;32m    706\u001b[0m \u001b[0;34m\u001b[0m\u001b[0m\n",
            "\u001b[0;32m/usr/local/lib/python3.7/dist-packages/ipykernel/kernelbase.py\u001b[0m in \u001b[0;36m_input_request\u001b[0;34m(self, prompt, ident, parent, password)\u001b[0m\n\u001b[1;32m    732\u001b[0m             \u001b[0;32mexcept\u001b[0m \u001b[0mKeyboardInterrupt\u001b[0m\u001b[0;34m:\u001b[0m\u001b[0;34m\u001b[0m\u001b[0;34m\u001b[0m\u001b[0m\n\u001b[1;32m    733\u001b[0m                 \u001b[0;31m# re-raise KeyboardInterrupt, to truncate traceback\u001b[0m\u001b[0;34m\u001b[0m\u001b[0;34m\u001b[0m\u001b[0;34m\u001b[0m\u001b[0m\n\u001b[0;32m--> 734\u001b[0;31m                 \u001b[0;32mraise\u001b[0m \u001b[0mKeyboardInterrupt\u001b[0m\u001b[0;34m\u001b[0m\u001b[0;34m\u001b[0m\u001b[0m\n\u001b[0m\u001b[1;32m    735\u001b[0m             \u001b[0;32melse\u001b[0m\u001b[0;34m:\u001b[0m\u001b[0;34m\u001b[0m\u001b[0;34m\u001b[0m\u001b[0m\n\u001b[1;32m    736\u001b[0m                 \u001b[0;32mbreak\u001b[0m\u001b[0;34m\u001b[0m\u001b[0;34m\u001b[0m\u001b[0m\n",
            "\u001b[0;31mKeyboardInterrupt\u001b[0m: "
          ]
        }
      ]
    },
    {
      "cell_type": "code",
      "metadata": {
        "id": "oaslE8A8tjtf",
        "colab": {
          "resources": {
            "http://localhost:8080/nbextensions/google.colab/files.js": {
              "data": "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",
              "ok": true,
              "headers": [
                [
                  "content-type",
                  "application/javascript"
                ]
              ],
              "status": 200,
              "status_text": ""
            }
          },
          "base_uri": "https://localhost:8080/",
          "height": 73
        },
        "outputId": "e45e0345-d15f-4a5f-cf2a-043f91cdeeef"
      },
      "source": [
        "import csv\n",
        "from google.colab import files\n",
        "uploaded = files.upload()"
      ],
      "execution_count": 2,
      "outputs": [
        {
          "output_type": "display_data",
          "data": {
            "text/html": [
              "\n",
              "     <input type=\"file\" id=\"files-f9b7973e-e30e-44b9-a831-47c9515bc6a4\" name=\"files[]\" multiple disabled\n",
              "        style=\"border:none\" />\n",
              "     <output id=\"result-f9b7973e-e30e-44b9-a831-47c9515bc6a4\">\n",
              "      Upload widget is only available when the cell has been executed in the\n",
              "      current browser session. Please rerun this cell to enable.\n",
              "      </output>\n",
              "      <script src=\"/nbextensions/google.colab/files.js\"></script> "
            ],
            "text/plain": [
              "<IPython.core.display.HTML object>"
            ]
          },
          "metadata": {}
        },
        {
          "output_type": "stream",
          "name": "stdout",
          "text": [
            "Saving kaggle.json to kaggle.json\n"
          ]
        }
      ]
    },
    {
      "cell_type": "code",
      "metadata": {
        "id": "YYGbxukVtgCm"
      },
      "source": [
        "!mkdir -p ~/.kaggle\n",
        "!mv kaggle.json ~/.kaggle/"
      ],
      "execution_count": 3,
      "outputs": []
    },
    {
      "cell_type": "code",
      "metadata": {
        "id": "5l1V_oxXsZ8l",
        "colab": {
          "base_uri": "https://localhost:8080/"
        },
        "outputId": "c848db67-d058-4590-a3f8-ab5b11c8c96f"
      },
      "source": [
        "!kaggle competitions list"
      ],
      "execution_count": 4,
      "outputs": [
        {
          "output_type": "stream",
          "name": "stdout",
          "text": [
            "Warning: Your Kaggle API key is readable by other users on this system! To fix this, you can run 'chmod 600 /root/.kaggle/kaggle.json'\n",
            "Warning: Looks like you're using an outdated API Version, please consider updating (server 1.5.12 / client 1.5.4)\n",
            "ref                                            deadline             category            reward  teamCount  userHasEntered  \n",
            "---------------------------------------------  -------------------  ---------------  ---------  ---------  --------------  \n",
            "contradictory-my-dear-watson                   2030-07-01 23:59:00  Getting Started     Prizes         85           False  \n",
            "gan-getting-started                            2030-07-01 23:59:00  Getting Started     Prizes         76           False  \n",
            "store-sales-time-series-forecasting            2030-06-30 23:59:00  Getting Started  Knowledge        796           False  \n",
            "tpu-getting-started                            2030-06-03 23:59:00  Getting Started  Knowledge        139           False  \n",
            "digit-recognizer                               2030-01-01 00:00:00  Getting Started  Knowledge       1562           False  \n",
            "titanic                                        2030-01-01 00:00:00  Getting Started  Knowledge      14329            True  \n",
            "house-prices-advanced-regression-techniques    2030-01-01 00:00:00  Getting Started  Knowledge       4801           False  \n",
            "connectx                                       2030-01-01 00:00:00  Getting Started  Knowledge        235           False  \n",
            "nlp-getting-started                            2030-01-01 00:00:00  Getting Started  Knowledge       1032           False  \n",
            "competitive-data-science-predict-future-sales  2022-12-31 23:59:00  Playground           Kudos      13057           False  \n",
            "tensorflow-great-barrier-reef                  2022-02-14 23:59:00  Research          $150,000        168           False  \n",
            "jigsaw-toxic-severity-rating                   2022-02-07 23:59:00  Featured           $50,000        709           False  \n",
            "g-research-crypto-forecasting                  2022-02-01 23:59:00  Featured          $125,000        755           False  \n",
            "petfinder-pawpularity-score                    2022-01-13 23:59:00  Research           $25,000       2463           False  \n",
            "santa-2021                                     2022-01-11 23:59:00  Featured           $25,000        531           False  \n",
            "optiver-realized-volatility-prediction         2022-01-10 23:59:00  Featured          $100,000       3852           False  \n",
            "nfl-big-data-bowl-2022                         2022-01-06 23:59:00  Analytics         $100,000          0           False  \n",
            "sartorius-cell-instance-segmentation           2021-12-30 23:59:00  Featured           $75,000       1083           False  \n",
            "wikipedia-image-caption                        2021-12-09 11:59:00  Playground            Swag         91           False  \n",
            "lux-ai-2021                                    2021-12-06 23:59:00  Featured           $10,000       1124           False  \n"
          ]
        }
      ]
    },
    {
      "cell_type": "code",
      "metadata": {
        "id": "XxcGRJCS4equ"
      },
      "source": [
        "!chmod 600 /root/.kaggle/kaggle.json"
      ],
      "execution_count": 5,
      "outputs": []
    },
    {
      "cell_type": "code",
      "metadata": {
        "colab": {
          "base_uri": "https://localhost:8080/"
        },
        "id": "KUK9JJRG4wre",
        "outputId": "722d0cf6-c2f2-44fd-84ce-1f08a42d86cb"
      },
      "source": [
        "!kaggle competitions download -c store-sales-time-series-forecasting"
      ],
      "execution_count": 6,
      "outputs": [
        {
          "output_type": "stream",
          "name": "stdout",
          "text": [
            "Warning: Looks like you're using an outdated API Version, please consider updating (server 1.5.12 / client 1.5.4)\n",
            "Downloading holidays_events.csv to /content\n",
            "  0% 0.00/21.8k [00:00<?, ?B/s]\n",
            "100% 21.8k/21.8k [00:00<00:00, 8.71MB/s]\n",
            "Downloading stores.csv to /content\n",
            "  0% 0.00/1.35k [00:00<?, ?B/s]\n",
            "100% 1.35k/1.35k [00:00<00:00, 1.09MB/s]\n",
            "Downloading transactions.csv.zip to /content\n",
            "  0% 0.00/360k [00:00<?, ?B/s]\n",
            "100% 360k/360k [00:00<00:00, 50.1MB/s]\n",
            "Downloading test.csv to /content\n",
            "  0% 0.00/998k [00:00<?, ?B/s]\n",
            "100% 998k/998k [00:00<00:00, 66.0MB/s]\n",
            "Downloading train.csv.zip to /content\n",
            " 82% 17.0M/20.8M [00:01<00:00, 13.6MB/s]\n",
            "100% 20.8M/20.8M [00:01<00:00, 17.2MB/s]\n",
            "Downloading oil.csv to /content\n",
            "  0% 0.00/20.1k [00:00<?, ?B/s]\n",
            "100% 20.1k/20.1k [00:00<00:00, 17.6MB/s]\n",
            "Downloading sample_submission.csv to /content\n",
            "  0% 0.00/334k [00:00<?, ?B/s]\n",
            "100% 334k/334k [00:00<00:00, 47.2MB/s]\n"
          ]
        }
      ]
    },
    {
      "cell_type": "markdown",
      "metadata": {
        "id": "29ZLWbCNTYeH"
      },
      "source": [
        "以下分析"
      ]
    },
    {
      "cell_type": "code",
      "metadata": {
        "id": "kxmXJ7Q7Thiv"
      },
      "source": [
        "import pandas as pd\n",
        "import numpy as np\n",
        "from sklearn.preprocessing import MinMaxScaler\n",
        "from tensorflow.keras.models import Sequential\n",
        "from tensorflow.keras.layers import Dense,Dropout\n",
        "from tensorflow.keras.layers import LSTM\n",
        "from tensorflow.keras.optimizers import Adam"
      ],
      "execution_count": 7,
      "outputs": []
    },
    {
      "cell_type": "code",
      "metadata": {
        "id": "ksgE63FxT3B1"
      },
      "source": [
        "traincsv = pd.read_csv('train.csv.zip')"
      ],
      "execution_count": 8,
      "outputs": []
    },
    {
      "cell_type": "code",
      "metadata": {
        "id": "-cLb0b8go1Cf"
      },
      "source": [
        "traincsv.date = pd.to_datetime(traincsv[\"date\"])"
      ],
      "execution_count": 9,
      "outputs": []
    },
    {
      "cell_type": "code",
      "metadata": {
        "id": "MurnUoKKUp68"
      },
      "source": [
        "traincsv = traincsv.sort_values(['date','store_nbr','family'])"
      ],
      "execution_count": 10,
      "outputs": []
    },
    {
      "cell_type": "code",
      "metadata": {
        "colab": {
          "base_uri": "https://localhost:8080/",
          "height": 450
        },
        "id": "I4HSuNiGrffl",
        "outputId": "7a19e4d1-ddfb-47c5-e2ea-d5058ca10fe7"
      },
      "source": [
        "train = traincsv.set_index('date').drop('id',axis = 1).copy()\n",
        "train"
      ],
      "execution_count": 11,
      "outputs": [
        {
          "output_type": "execute_result",
          "data": {
            "text/html": [
              "<div>\n",
              "<style scoped>\n",
              "    .dataframe tbody tr th:only-of-type {\n",
              "        vertical-align: middle;\n",
              "    }\n",
              "\n",
              "    .dataframe tbody tr th {\n",
              "        vertical-align: top;\n",
              "    }\n",
              "\n",
              "    .dataframe thead th {\n",
              "        text-align: right;\n",
              "    }\n",
              "</style>\n",
              "<table border=\"1\" class=\"dataframe\">\n",
              "  <thead>\n",
              "    <tr style=\"text-align: right;\">\n",
              "      <th></th>\n",
              "      <th>store_nbr</th>\n",
              "      <th>family</th>\n",
              "      <th>sales</th>\n",
              "      <th>onpromotion</th>\n",
              "    </tr>\n",
              "    <tr>\n",
              "      <th>date</th>\n",
              "      <th></th>\n",
              "      <th></th>\n",
              "      <th></th>\n",
              "      <th></th>\n",
              "    </tr>\n",
              "  </thead>\n",
              "  <tbody>\n",
              "    <tr>\n",
              "      <th>2013-01-01</th>\n",
              "      <td>1</td>\n",
              "      <td>AUTOMOTIVE</td>\n",
              "      <td>0.000</td>\n",
              "      <td>0</td>\n",
              "    </tr>\n",
              "    <tr>\n",
              "      <th>2013-01-01</th>\n",
              "      <td>1</td>\n",
              "      <td>BABY CARE</td>\n",
              "      <td>0.000</td>\n",
              "      <td>0</td>\n",
              "    </tr>\n",
              "    <tr>\n",
              "      <th>2013-01-01</th>\n",
              "      <td>1</td>\n",
              "      <td>BEAUTY</td>\n",
              "      <td>0.000</td>\n",
              "      <td>0</td>\n",
              "    </tr>\n",
              "    <tr>\n",
              "      <th>2013-01-01</th>\n",
              "      <td>1</td>\n",
              "      <td>BEVERAGES</td>\n",
              "      <td>0.000</td>\n",
              "      <td>0</td>\n",
              "    </tr>\n",
              "    <tr>\n",
              "      <th>2013-01-01</th>\n",
              "      <td>1</td>\n",
              "      <td>BOOKS</td>\n",
              "      <td>0.000</td>\n",
              "      <td>0</td>\n",
              "    </tr>\n",
              "    <tr>\n",
              "      <th>...</th>\n",
              "      <td>...</td>\n",
              "      <td>...</td>\n",
              "      <td>...</td>\n",
              "      <td>...</td>\n",
              "    </tr>\n",
              "    <tr>\n",
              "      <th>2017-08-15</th>\n",
              "      <td>54</td>\n",
              "      <td>POULTRY</td>\n",
              "      <td>59.619</td>\n",
              "      <td>0</td>\n",
              "    </tr>\n",
              "    <tr>\n",
              "      <th>2017-08-15</th>\n",
              "      <td>54</td>\n",
              "      <td>PREPARED FOODS</td>\n",
              "      <td>94.000</td>\n",
              "      <td>0</td>\n",
              "    </tr>\n",
              "    <tr>\n",
              "      <th>2017-08-15</th>\n",
              "      <td>54</td>\n",
              "      <td>PRODUCE</td>\n",
              "      <td>915.371</td>\n",
              "      <td>76</td>\n",
              "    </tr>\n",
              "    <tr>\n",
              "      <th>2017-08-15</th>\n",
              "      <td>54</td>\n",
              "      <td>SCHOOL AND OFFICE SUPPLIES</td>\n",
              "      <td>0.000</td>\n",
              "      <td>0</td>\n",
              "    </tr>\n",
              "    <tr>\n",
              "      <th>2017-08-15</th>\n",
              "      <td>54</td>\n",
              "      <td>SEAFOOD</td>\n",
              "      <td>3.000</td>\n",
              "      <td>0</td>\n",
              "    </tr>\n",
              "  </tbody>\n",
              "</table>\n",
              "<p>3000888 rows × 4 columns</p>\n",
              "</div>"
            ],
            "text/plain": [
              "            store_nbr                      family    sales  onpromotion\n",
              "date                                                                   \n",
              "2013-01-01          1                  AUTOMOTIVE    0.000            0\n",
              "2013-01-01          1                   BABY CARE    0.000            0\n",
              "2013-01-01          1                      BEAUTY    0.000            0\n",
              "2013-01-01          1                   BEVERAGES    0.000            0\n",
              "2013-01-01          1                       BOOKS    0.000            0\n",
              "...               ...                         ...      ...          ...\n",
              "2017-08-15         54                     POULTRY   59.619            0\n",
              "2017-08-15         54              PREPARED FOODS   94.000            0\n",
              "2017-08-15         54                     PRODUCE  915.371           76\n",
              "2017-08-15         54  SCHOOL AND OFFICE SUPPLIES    0.000            0\n",
              "2017-08-15         54                     SEAFOOD    3.000            0\n",
              "\n",
              "[3000888 rows x 4 columns]"
            ]
          },
          "metadata": {},
          "execution_count": 11
        }
      ]
    },
    {
      "cell_type": "code",
      "metadata": {
        "id": "JYzBJKf-d086"
      },
      "source": [
        "trainY = train.sales\n",
        "train = train.drop('sales',axis = 1)"
      ],
      "execution_count": 12,
      "outputs": []
    },
    {
      "cell_type": "code",
      "metadata": {
        "id": "pi18p04qicWu"
      },
      "source": [
        "train = np.array(train)\n",
        "trainY = np.array(trainY)"
      ],
      "execution_count": 13,
      "outputs": []
    },
    {
      "cell_type": "code",
      "metadata": {
        "id": "kFYYORv7Xh0-"
      },
      "source": [
        "#datasetを作る\n",
        "\n",
        "def make_dataset(data,dataY):\n",
        "  datasetX = []\n",
        "  yset = []\n",
        "  max_length = len(data)\n",
        "  for i in range(5346,max_length-54*33,54*33):\n",
        "    datasetX.append(data[i-5346:i,2])\n",
        "    yset.append(dataY[i:i+54*33])\n",
        "\n",
        "  return datasetX,yset\n",
        "\n",
        "  "
      ],
      "execution_count": 14,
      "outputs": []
    },
    {
      "cell_type": "code",
      "metadata": {
        "id": "77CrJrMKfcTH"
      },
      "source": [
        ""
      ],
      "execution_count": 59,
      "outputs": []
    },
    {
      "cell_type": "code",
      "metadata": {
        "id": "xpAVGaRCZ05i"
      },
      "source": [
        "trainX,trainY = make_dataset(train,trainY)"
      ],
      "execution_count": 15,
      "outputs": []
    },
    {
      "cell_type": "code",
      "metadata": {
        "id": "2jmiVe0Y0bKg"
      },
      "source": [
        "#scaling\n",
        "scaler = MinMaxScaler()  # データを0～1の範囲にスケールするための関数。\n",
        "scaler.fit(trainX)  # スケーリングに使用する最小／最大値を計算する。\n",
        "train = scaler.transform(trainX)  # Xをを0～1の範囲にスケーリングする。\n",
        "\n",
        "scaler1 = MinMaxScaler()  # データを0～1の範囲にスケールするための関数。\n",
        "scaler1.fit(trainY)  # スケーリングに使用する最小／最大値を計算する。\n",
        "trainY = scaler1.transform(trainY)  # Yをを0～1の範囲にスケーリングする。"
      ],
      "execution_count": 16,
      "outputs": []
    },
    {
      "cell_type": "code",
      "metadata": {
        "colab": {
          "base_uri": "https://localhost:8080/"
        },
        "id": "fsUtBQsKgJsZ",
        "outputId": "9d933132-28d4-4d5d-b475-cd0ac828dcf5"
      },
      "source": [
        "trainY = np.array(trainY)\n",
        "trainX = np.array(trainX)\n",
        "trainX = np.reshape(trainX,(trainX.shape[0],1,trainX.shape[1]))\n",
        "print(trainY.shape,trainX.shape)"
      ],
      "execution_count": 17,
      "outputs": [
        {
          "output_type": "stream",
          "name": "stdout",
          "text": [
            "(1680, 1782) (1680, 1, 5346)\n"
          ]
        }
      ]
    },
    {
      "cell_type": "code",
      "metadata": {
        "id": "yB_xJrlbgU9a"
      },
      "source": [
        "train_X = np.asarray(train_X).astype(np.float32)\n",
        "train_Y = np.asarray(train_Y).astype(np.float32)"
      ],
      "execution_count": 20,
      "outputs": []
    },
    {
      "cell_type": "code",
      "metadata": {
        "id": "zeSMRDDTiX_b"
      },
      "source": [
        "# train, testデータを定義\n",
        "train_X = trainX[:1000, :, :]\n",
        "test_X = trainX[1000:, :, :]\n",
        "train_Y = trainY[:1000, :]\n",
        "test_Y = trainY[1000:, :]"
      ],
      "execution_count": 19,
      "outputs": []
    },
    {
      "cell_type": "code",
      "metadata": {
        "id": "Hu0eyv5Vus-n"
      },
      "source": [
        "test_X = np.asarray(test_X).astype(np.float32)\n",
        "test_Y = np.asarray(test_Y).astype(np.float32)"
      ],
      "execution_count": 21,
      "outputs": []
    },
    {
      "cell_type": "code",
      "metadata": {
        "colab": {
          "base_uri": "https://localhost:8080/"
        },
        "id": "Xa3WWvs7gWHW",
        "outputId": "bd5ced2e-ba13-4545-e6fc-f7aeb05da230"
      },
      "source": [
        "train_Y"
      ],
      "execution_count": 22,
      "outputs": [
        {
          "output_type": "execute_result",
          "data": {
            "text/plain": [
              "array([[0.15789473, 0.        , 0.25      , ..., 0.        , 0.        ,\n",
              "        0.08333334],\n",
              "       [0.2631579 , 0.        , 0.25      , ..., 0.        , 0.        ,\n",
              "        0.04166667],\n",
              "       [0.10526316, 0.        , 0.        , ..., 0.        , 0.        ,\n",
              "        0.        ],\n",
              "       ...,\n",
              "       [0.        , 0.        , 0.16666667, ..., 0.24817581, 0.        ,\n",
              "        0.        ],\n",
              "       [0.05263158, 0.        , 0.25      , ..., 0.209476  , 0.        ,\n",
              "        0.375     ],\n",
              "       [0.21052632, 0.        , 0.33333334, ..., 0.25854528, 0.        ,\n",
              "        0.20833333]], dtype=float32)"
            ]
          },
          "metadata": {},
          "execution_count": 22
        }
      ]
    },
    {
      "cell_type": "code",
      "metadata": {
        "colab": {
          "base_uri": "https://localhost:8080/"
        },
        "id": "VL1ZqkfAbKxf",
        "outputId": "9f35accb-de84-4ba4-f2ec-848551b2c353"
      },
      "source": [
        "model = Sequential()\n",
        "model.add(LSTM(50, input_shape=(1,5346)))\n",
        "model.add(Dense(1782))\n",
        "model.compile(loss='mean_squared_error', optimizer='adam')\n",
        "hist = model.fit(train_X,train_Y,epochs=20, batch_size=1, verbose=2)"
      ],
      "execution_count": 23,
      "outputs": [
        {
          "output_type": "stream",
          "name": "stdout",
          "text": [
            "Epoch 1/20\n",
            "1000/1000 - 8s - loss: 0.0132 - 8s/epoch - 8ms/step\n",
            "Epoch 2/20\n",
            "1000/1000 - 4s - loss: 0.0088 - 4s/epoch - 4ms/step\n",
            "Epoch 3/20\n",
            "1000/1000 - 4s - loss: 0.0086 - 4s/epoch - 4ms/step\n",
            "Epoch 4/20\n",
            "1000/1000 - 3s - loss: 0.0084 - 3s/epoch - 3ms/step\n",
            "Epoch 5/20\n",
            "1000/1000 - 3s - loss: 0.0083 - 3s/epoch - 3ms/step\n",
            "Epoch 6/20\n",
            "1000/1000 - 3s - loss: 0.0082 - 3s/epoch - 3ms/step\n",
            "Epoch 7/20\n",
            "1000/1000 - 4s - loss: 0.0082 - 4s/epoch - 4ms/step\n",
            "Epoch 8/20\n",
            "1000/1000 - 3s - loss: 0.0081 - 3s/epoch - 3ms/step\n",
            "Epoch 9/20\n",
            "1000/1000 - 3s - loss: 0.0080 - 3s/epoch - 3ms/step\n",
            "Epoch 10/20\n",
            "1000/1000 - 3s - loss: 0.0080 - 3s/epoch - 3ms/step\n",
            "Epoch 11/20\n",
            "1000/1000 - 3s - loss: 0.0080 - 3s/epoch - 3ms/step\n",
            "Epoch 12/20\n",
            "1000/1000 - 3s - loss: 0.0080 - 3s/epoch - 3ms/step\n",
            "Epoch 13/20\n",
            "1000/1000 - 4s - loss: 0.0079 - 4s/epoch - 4ms/step\n",
            "Epoch 14/20\n",
            "1000/1000 - 3s - loss: 0.0079 - 3s/epoch - 3ms/step\n",
            "Epoch 15/20\n",
            "1000/1000 - 3s - loss: 0.0079 - 3s/epoch - 3ms/step\n",
            "Epoch 16/20\n",
            "1000/1000 - 3s - loss: 0.0079 - 3s/epoch - 3ms/step\n",
            "Epoch 17/20\n",
            "1000/1000 - 3s - loss: 0.0079 - 3s/epoch - 3ms/step\n",
            "Epoch 18/20\n",
            "1000/1000 - 3s - loss: 0.0079 - 3s/epoch - 3ms/step\n",
            "Epoch 19/20\n",
            "1000/1000 - 3s - loss: 0.0080 - 3s/epoch - 3ms/step\n",
            "Epoch 20/20\n",
            "1000/1000 - 3s - loss: 0.0079 - 3s/epoch - 3ms/step\n"
          ]
        }
      ]
    },
    {
      "cell_type": "code",
      "metadata": {
        "id": "kBBnoSJVrIej"
      },
      "source": [
        "Predict = model.predict(test_X)"
      ],
      "execution_count": 24,
      "outputs": []
    },
    {
      "cell_type": "code",
      "metadata": {
        "colab": {
          "base_uri": "https://localhost:8080/"
        },
        "id": "JyzbEkLivkx6",
        "outputId": "9e3c7656-6740-47fe-811c-4cf520df1315"
      },
      "source": [
        "Predict.shape"
      ],
      "execution_count": 25,
      "outputs": [
        {
          "output_type": "execute_result",
          "data": {
            "text/plain": [
              "(680, 1782)"
            ]
          },
          "metadata": {},
          "execution_count": 25
        }
      ]
    },
    {
      "cell_type": "code",
      "metadata": {
        "id": "7vfA8ZJ826ux"
      },
      "source": [
        "#scaleを元に戻す\n",
        "train_Y = scaler1.inverse_transform(train_Y)\n",
        "train_Y = pd.DataFrame(train_Y)\n",
        "\n",
        "\n",
        "test_Y = scaler1.inverse_transform(test_Y)\n",
        "test_Y = pd.DataFrame(test_Y)\n",
        "\n",
        "\n"
      ],
      "execution_count": 26,
      "outputs": []
    },
    {
      "cell_type": "code",
      "metadata": {
        "id": "NMRy-0kg3PoX"
      },
      "source": [
        "Predict = scaler1.inverse_transform(Predict)\n",
        "Predict = pd.DataFrame(Predict)\n"
      ],
      "execution_count": 27,
      "outputs": []
    },
    {
      "cell_type": "code",
      "metadata": {
        "colab": {
          "base_uri": "https://localhost:8080/",
          "height": 439
        },
        "id": "DTcKn4704PBG",
        "outputId": "d4d04afa-e156-4d33-e0fe-993051575f43"
      },
      "source": [
        "Predict"
      ],
      "execution_count": 28,
      "outputs": [
        {
          "output_type": "execute_result",
          "data": {
            "text/html": [
              "<div>\n",
              "<style scoped>\n",
              "    .dataframe tbody tr th:only-of-type {\n",
              "        vertical-align: middle;\n",
              "    }\n",
              "\n",
              "    .dataframe tbody tr th {\n",
              "        vertical-align: top;\n",
              "    }\n",
              "\n",
              "    .dataframe thead th {\n",
              "        text-align: right;\n",
              "    }\n",
              "</style>\n",
              "<table border=\"1\" class=\"dataframe\">\n",
              "  <thead>\n",
              "    <tr style=\"text-align: right;\">\n",
              "      <th></th>\n",
              "      <th>0</th>\n",
              "      <th>1</th>\n",
              "      <th>2</th>\n",
              "      <th>3</th>\n",
              "      <th>4</th>\n",
              "      <th>5</th>\n",
              "      <th>6</th>\n",
              "      <th>7</th>\n",
              "      <th>8</th>\n",
              "      <th>9</th>\n",
              "      <th>10</th>\n",
              "      <th>11</th>\n",
              "      <th>12</th>\n",
              "      <th>13</th>\n",
              "      <th>14</th>\n",
              "      <th>15</th>\n",
              "      <th>16</th>\n",
              "      <th>17</th>\n",
              "      <th>18</th>\n",
              "      <th>19</th>\n",
              "      <th>20</th>\n",
              "      <th>21</th>\n",
              "      <th>22</th>\n",
              "      <th>23</th>\n",
              "      <th>24</th>\n",
              "      <th>25</th>\n",
              "      <th>26</th>\n",
              "      <th>27</th>\n",
              "      <th>28</th>\n",
              "      <th>29</th>\n",
              "      <th>30</th>\n",
              "      <th>31</th>\n",
              "      <th>32</th>\n",
              "      <th>33</th>\n",
              "      <th>34</th>\n",
              "      <th>35</th>\n",
              "      <th>36</th>\n",
              "      <th>37</th>\n",
              "      <th>38</th>\n",
              "      <th>39</th>\n",
              "      <th>...</th>\n",
              "      <th>1742</th>\n",
              "      <th>1743</th>\n",
              "      <th>1744</th>\n",
              "      <th>1745</th>\n",
              "      <th>1746</th>\n",
              "      <th>1747</th>\n",
              "      <th>1748</th>\n",
              "      <th>1749</th>\n",
              "      <th>1750</th>\n",
              "      <th>1751</th>\n",
              "      <th>1752</th>\n",
              "      <th>1753</th>\n",
              "      <th>1754</th>\n",
              "      <th>1755</th>\n",
              "      <th>1756</th>\n",
              "      <th>1757</th>\n",
              "      <th>1758</th>\n",
              "      <th>1759</th>\n",
              "      <th>1760</th>\n",
              "      <th>1761</th>\n",
              "      <th>1762</th>\n",
              "      <th>1763</th>\n",
              "      <th>1764</th>\n",
              "      <th>1765</th>\n",
              "      <th>1766</th>\n",
              "      <th>1767</th>\n",
              "      <th>1768</th>\n",
              "      <th>1769</th>\n",
              "      <th>1770</th>\n",
              "      <th>1771</th>\n",
              "      <th>1772</th>\n",
              "      <th>1773</th>\n",
              "      <th>1774</th>\n",
              "      <th>1775</th>\n",
              "      <th>1776</th>\n",
              "      <th>1777</th>\n",
              "      <th>1778</th>\n",
              "      <th>1779</th>\n",
              "      <th>1780</th>\n",
              "      <th>1781</th>\n",
              "    </tr>\n",
              "  </thead>\n",
              "  <tbody>\n",
              "    <tr>\n",
              "      <th>0</th>\n",
              "      <td>3.404082</td>\n",
              "      <td>0.007389</td>\n",
              "      <td>3.175499</td>\n",
              "      <td>2197.084961</td>\n",
              "      <td>0.001157</td>\n",
              "      <td>365.339935</td>\n",
              "      <td>9.149660</td>\n",
              "      <td>615.613708</td>\n",
              "      <td>747.156616</td>\n",
              "      <td>138.724411</td>\n",
              "      <td>171.268097</td>\n",
              "      <td>142.727417</td>\n",
              "      <td>2306.685547</td>\n",
              "      <td>25.524965</td>\n",
              "      <td>2.699072</td>\n",
              "      <td>11.466297</td>\n",
              "      <td>10.595510</td>\n",
              "      <td>0.391331</td>\n",
              "      <td>179.944580</td>\n",
              "      <td>19.392418</td>\n",
              "      <td>8.971756</td>\n",
              "      <td>7.322301</td>\n",
              "      <td>172.407516</td>\n",
              "      <td>1.304317</td>\n",
              "      <td>304.614319</td>\n",
              "      <td>167.255325</td>\n",
              "      <td>7.070538</td>\n",
              "      <td>6.677969</td>\n",
              "      <td>313.970886</td>\n",
              "      <td>96.282059</td>\n",
              "      <td>2269.782715</td>\n",
              "      <td>0.533586</td>\n",
              "      <td>28.056507</td>\n",
              "      <td>7.363591</td>\n",
              "      <td>-0.000356</td>\n",
              "      <td>8.096240</td>\n",
              "      <td>3665.579834</td>\n",
              "      <td>-0.001133</td>\n",
              "      <td>676.177246</td>\n",
              "      <td>12.224418</td>\n",
              "      <td>...</td>\n",
              "      <td>1.178621</td>\n",
              "      <td>5.636192</td>\n",
              "      <td>222.638885</td>\n",
              "      <td>66.238548</td>\n",
              "      <td>1510.989624</td>\n",
              "      <td>0.938877</td>\n",
              "      <td>5.786588</td>\n",
              "      <td>7.755096</td>\n",
              "      <td>0.405083</td>\n",
              "      <td>0.282261</td>\n",
              "      <td>1993.781128</td>\n",
              "      <td>-0.004259</td>\n",
              "      <td>283.828400</td>\n",
              "      <td>5.617423</td>\n",
              "      <td>1468.607910</td>\n",
              "      <td>228.976944</td>\n",
              "      <td>235.895264</td>\n",
              "      <td>103.276871</td>\n",
              "      <td>55.486496</td>\n",
              "      <td>3280.947510</td>\n",
              "      <td>12.472815</td>\n",
              "      <td>0.803564</td>\n",
              "      <td>24.174141</td>\n",
              "      <td>14.341930</td>\n",
              "      <td>0.295455</td>\n",
              "      <td>229.205017</td>\n",
              "      <td>0.001010</td>\n",
              "      <td>0.008952</td>\n",
              "      <td>8.679973</td>\n",
              "      <td>42.119869</td>\n",
              "      <td>0.255216</td>\n",
              "      <td>61.170475</td>\n",
              "      <td>226.549026</td>\n",
              "      <td>0.291272</td>\n",
              "      <td>2.222749</td>\n",
              "      <td>74.410645</td>\n",
              "      <td>64.240860</td>\n",
              "      <td>558.629822</td>\n",
              "      <td>0.000787</td>\n",
              "      <td>0.895049</td>\n",
              "    </tr>\n",
              "    <tr>\n",
              "      <th>1</th>\n",
              "      <td>0.769978</td>\n",
              "      <td>0.010009</td>\n",
              "      <td>1.431513</td>\n",
              "      <td>1016.578125</td>\n",
              "      <td>-0.043655</td>\n",
              "      <td>141.160675</td>\n",
              "      <td>2.760537</td>\n",
              "      <td>276.338867</td>\n",
              "      <td>349.553864</td>\n",
              "      <td>78.416115</td>\n",
              "      <td>72.915787</td>\n",
              "      <td>89.179214</td>\n",
              "      <td>1011.058350</td>\n",
              "      <td>4.549982</td>\n",
              "      <td>1.567783</td>\n",
              "      <td>5.754820</td>\n",
              "      <td>9.537512</td>\n",
              "      <td>0.107559</td>\n",
              "      <td>104.761635</td>\n",
              "      <td>8.059249</td>\n",
              "      <td>4.375337</td>\n",
              "      <td>2.655731</td>\n",
              "      <td>0.591508</td>\n",
              "      <td>1.008243</td>\n",
              "      <td>154.810806</td>\n",
              "      <td>84.793159</td>\n",
              "      <td>4.200466</td>\n",
              "      <td>2.236558</td>\n",
              "      <td>123.267265</td>\n",
              "      <td>52.943592</td>\n",
              "      <td>1185.642090</td>\n",
              "      <td>0.272626</td>\n",
              "      <td>13.214296</td>\n",
              "      <td>6.960372</td>\n",
              "      <td>-0.019465</td>\n",
              "      <td>10.288421</td>\n",
              "      <td>4262.937012</td>\n",
              "      <td>0.021879</td>\n",
              "      <td>882.308167</td>\n",
              "      <td>8.057634</td>\n",
              "      <td>...</td>\n",
              "      <td>1.794413</td>\n",
              "      <td>8.287964</td>\n",
              "      <td>267.219116</td>\n",
              "      <td>97.568153</td>\n",
              "      <td>1951.183960</td>\n",
              "      <td>1.268034</td>\n",
              "      <td>7.925442</td>\n",
              "      <td>10.161186</td>\n",
              "      <td>0.454574</td>\n",
              "      <td>0.916719</td>\n",
              "      <td>2484.200928</td>\n",
              "      <td>-0.003537</td>\n",
              "      <td>393.949524</td>\n",
              "      <td>4.989523</td>\n",
              "      <td>2073.901123</td>\n",
              "      <td>324.056091</td>\n",
              "      <td>324.147125</td>\n",
              "      <td>123.471298</td>\n",
              "      <td>43.792850</td>\n",
              "      <td>4182.806641</td>\n",
              "      <td>13.960300</td>\n",
              "      <td>1.209065</td>\n",
              "      <td>23.877714</td>\n",
              "      <td>23.698139</td>\n",
              "      <td>0.151619</td>\n",
              "      <td>380.283508</td>\n",
              "      <td>-0.001683</td>\n",
              "      <td>0.009579</td>\n",
              "      <td>6.944691</td>\n",
              "      <td>-5.421474</td>\n",
              "      <td>0.047096</td>\n",
              "      <td>72.527092</td>\n",
              "      <td>329.173004</td>\n",
              "      <td>-0.014680</td>\n",
              "      <td>2.945698</td>\n",
              "      <td>62.735882</td>\n",
              "      <td>89.880478</td>\n",
              "      <td>660.842773</td>\n",
              "      <td>-0.148110</td>\n",
              "      <td>2.226529</td>\n",
              "    </tr>\n",
              "    <tr>\n",
              "      <th>2</th>\n",
              "      <td>3.621934</td>\n",
              "      <td>0.002620</td>\n",
              "      <td>2.578624</td>\n",
              "      <td>2015.348633</td>\n",
              "      <td>-0.025175</td>\n",
              "      <td>383.598969</td>\n",
              "      <td>8.077986</td>\n",
              "      <td>720.024780</td>\n",
              "      <td>732.200928</td>\n",
              "      <td>145.757202</td>\n",
              "      <td>152.784622</td>\n",
              "      <td>130.446991</td>\n",
              "      <td>2421.078125</td>\n",
              "      <td>33.317825</td>\n",
              "      <td>2.478692</td>\n",
              "      <td>18.078840</td>\n",
              "      <td>11.501969</td>\n",
              "      <td>0.490781</td>\n",
              "      <td>158.528046</td>\n",
              "      <td>20.194281</td>\n",
              "      <td>8.770413</td>\n",
              "      <td>8.926812</td>\n",
              "      <td>83.954643</td>\n",
              "      <td>1.092269</td>\n",
              "      <td>374.441376</td>\n",
              "      <td>153.736710</td>\n",
              "      <td>6.781229</td>\n",
              "      <td>7.527555</td>\n",
              "      <td>362.526154</td>\n",
              "      <td>91.448036</td>\n",
              "      <td>2162.281982</td>\n",
              "      <td>0.488705</td>\n",
              "      <td>25.718128</td>\n",
              "      <td>4.733794</td>\n",
              "      <td>-0.003981</td>\n",
              "      <td>5.777971</td>\n",
              "      <td>2643.239258</td>\n",
              "      <td>0.016846</td>\n",
              "      <td>522.805176</td>\n",
              "      <td>8.236711</td>\n",
              "      <td>...</td>\n",
              "      <td>1.305916</td>\n",
              "      <td>3.906711</td>\n",
              "      <td>114.234222</td>\n",
              "      <td>40.264652</td>\n",
              "      <td>1176.893677</td>\n",
              "      <td>0.512802</td>\n",
              "      <td>2.670546</td>\n",
              "      <td>6.074350</td>\n",
              "      <td>0.334094</td>\n",
              "      <td>0.366342</td>\n",
              "      <td>1483.644165</td>\n",
              "      <td>0.001073</td>\n",
              "      <td>252.765167</td>\n",
              "      <td>4.123357</td>\n",
              "      <td>1102.657104</td>\n",
              "      <td>179.480682</td>\n",
              "      <td>191.832825</td>\n",
              "      <td>77.090721</td>\n",
              "      <td>28.164175</td>\n",
              "      <td>2373.445557</td>\n",
              "      <td>8.980793</td>\n",
              "      <td>0.581507</td>\n",
              "      <td>15.180827</td>\n",
              "      <td>11.074478</td>\n",
              "      <td>0.184706</td>\n",
              "      <td>191.946304</td>\n",
              "      <td>0.001155</td>\n",
              "      <td>0.003422</td>\n",
              "      <td>6.493292</td>\n",
              "      <td>14.805218</td>\n",
              "      <td>0.297187</td>\n",
              "      <td>49.658195</td>\n",
              "      <td>166.555939</td>\n",
              "      <td>0.138064</td>\n",
              "      <td>1.944942</td>\n",
              "      <td>51.272934</td>\n",
              "      <td>64.162666</td>\n",
              "      <td>528.800842</td>\n",
              "      <td>0.040509</td>\n",
              "      <td>1.849684</td>\n",
              "    </tr>\n",
              "    <tr>\n",
              "      <th>3</th>\n",
              "      <td>3.713272</td>\n",
              "      <td>0.005981</td>\n",
              "      <td>2.568404</td>\n",
              "      <td>2083.825684</td>\n",
              "      <td>-0.017554</td>\n",
              "      <td>387.119812</td>\n",
              "      <td>9.339695</td>\n",
              "      <td>722.409485</td>\n",
              "      <td>725.482849</td>\n",
              "      <td>146.054794</td>\n",
              "      <td>142.584000</td>\n",
              "      <td>142.773346</td>\n",
              "      <td>2311.470459</td>\n",
              "      <td>29.124825</td>\n",
              "      <td>2.289998</td>\n",
              "      <td>18.777271</td>\n",
              "      <td>13.862960</td>\n",
              "      <td>0.344671</td>\n",
              "      <td>184.630402</td>\n",
              "      <td>19.605919</td>\n",
              "      <td>8.883918</td>\n",
              "      <td>7.212868</td>\n",
              "      <td>96.066719</td>\n",
              "      <td>1.930641</td>\n",
              "      <td>295.079681</td>\n",
              "      <td>144.856522</td>\n",
              "      <td>7.073904</td>\n",
              "      <td>6.509538</td>\n",
              "      <td>282.320801</td>\n",
              "      <td>97.503830</td>\n",
              "      <td>2217.301270</td>\n",
              "      <td>0.494986</td>\n",
              "      <td>22.993071</td>\n",
              "      <td>4.852128</td>\n",
              "      <td>-0.007564</td>\n",
              "      <td>5.172706</td>\n",
              "      <td>2837.133789</td>\n",
              "      <td>0.004875</td>\n",
              "      <td>596.485352</td>\n",
              "      <td>8.518824</td>\n",
              "      <td>...</td>\n",
              "      <td>1.214078</td>\n",
              "      <td>4.832133</td>\n",
              "      <td>155.264374</td>\n",
              "      <td>54.701523</td>\n",
              "      <td>1209.068237</td>\n",
              "      <td>0.306878</td>\n",
              "      <td>4.588888</td>\n",
              "      <td>5.288258</td>\n",
              "      <td>0.323598</td>\n",
              "      <td>0.377267</td>\n",
              "      <td>1415.597534</td>\n",
              "      <td>-0.002465</td>\n",
              "      <td>245.119415</td>\n",
              "      <td>4.782721</td>\n",
              "      <td>1071.844238</td>\n",
              "      <td>171.103668</td>\n",
              "      <td>199.748306</td>\n",
              "      <td>86.513168</td>\n",
              "      <td>34.947941</td>\n",
              "      <td>2346.406738</td>\n",
              "      <td>7.953835</td>\n",
              "      <td>0.794042</td>\n",
              "      <td>14.799544</td>\n",
              "      <td>12.274312</td>\n",
              "      <td>0.195138</td>\n",
              "      <td>225.494064</td>\n",
              "      <td>0.000120</td>\n",
              "      <td>0.008122</td>\n",
              "      <td>4.344836</td>\n",
              "      <td>13.219810</td>\n",
              "      <td>0.302639</td>\n",
              "      <td>51.707748</td>\n",
              "      <td>188.762878</td>\n",
              "      <td>0.092495</td>\n",
              "      <td>2.323409</td>\n",
              "      <td>51.624123</td>\n",
              "      <td>69.890312</td>\n",
              "      <td>612.170288</td>\n",
              "      <td>-0.007549</td>\n",
              "      <td>1.510708</td>\n",
              "    </tr>\n",
              "    <tr>\n",
              "      <th>4</th>\n",
              "      <td>3.720707</td>\n",
              "      <td>0.012273</td>\n",
              "      <td>2.639922</td>\n",
              "      <td>2325.710449</td>\n",
              "      <td>-0.034147</td>\n",
              "      <td>431.408325</td>\n",
              "      <td>16.580088</td>\n",
              "      <td>826.551575</td>\n",
              "      <td>817.678162</td>\n",
              "      <td>145.987106</td>\n",
              "      <td>173.606613</td>\n",
              "      <td>176.660126</td>\n",
              "      <td>2672.988770</td>\n",
              "      <td>40.060963</td>\n",
              "      <td>2.528049</td>\n",
              "      <td>34.850109</td>\n",
              "      <td>11.161432</td>\n",
              "      <td>0.398796</td>\n",
              "      <td>187.894073</td>\n",
              "      <td>23.423103</td>\n",
              "      <td>13.755352</td>\n",
              "      <td>10.702084</td>\n",
              "      <td>136.168991</td>\n",
              "      <td>1.649825</td>\n",
              "      <td>350.872375</td>\n",
              "      <td>155.129990</td>\n",
              "      <td>6.800847</td>\n",
              "      <td>7.891216</td>\n",
              "      <td>370.097504</td>\n",
              "      <td>108.349617</td>\n",
              "      <td>3599.832275</td>\n",
              "      <td>0.606676</td>\n",
              "      <td>31.702526</td>\n",
              "      <td>6.199598</td>\n",
              "      <td>-0.024593</td>\n",
              "      <td>5.150981</td>\n",
              "      <td>2778.749512</td>\n",
              "      <td>0.005373</td>\n",
              "      <td>543.292847</td>\n",
              "      <td>10.165420</td>\n",
              "      <td>...</td>\n",
              "      <td>1.539545</td>\n",
              "      <td>4.139256</td>\n",
              "      <td>173.985947</td>\n",
              "      <td>57.477180</td>\n",
              "      <td>2020.004639</td>\n",
              "      <td>0.493208</td>\n",
              "      <td>4.431342</td>\n",
              "      <td>5.501475</td>\n",
              "      <td>0.177781</td>\n",
              "      <td>0.278090</td>\n",
              "      <td>1287.246704</td>\n",
              "      <td>-0.003809</td>\n",
              "      <td>206.968613</td>\n",
              "      <td>3.793314</td>\n",
              "      <td>853.627563</td>\n",
              "      <td>142.291428</td>\n",
              "      <td>155.507675</td>\n",
              "      <td>70.264061</td>\n",
              "      <td>38.492359</td>\n",
              "      <td>1952.770752</td>\n",
              "      <td>8.167321</td>\n",
              "      <td>0.135920</td>\n",
              "      <td>14.305888</td>\n",
              "      <td>10.006989</td>\n",
              "      <td>0.199735</td>\n",
              "      <td>166.431549</td>\n",
              "      <td>0.000026</td>\n",
              "      <td>0.012705</td>\n",
              "      <td>5.022082</td>\n",
              "      <td>21.465303</td>\n",
              "      <td>0.374424</td>\n",
              "      <td>40.164783</td>\n",
              "      <td>118.495583</td>\n",
              "      <td>0.152116</td>\n",
              "      <td>2.006093</td>\n",
              "      <td>49.928654</td>\n",
              "      <td>62.331825</td>\n",
              "      <td>437.684387</td>\n",
              "      <td>-0.017687</td>\n",
              "      <td>1.447320</td>\n",
              "    </tr>\n",
              "    <tr>\n",
              "      <th>...</th>\n",
              "      <td>...</td>\n",
              "      <td>...</td>\n",
              "      <td>...</td>\n",
              "      <td>...</td>\n",
              "      <td>...</td>\n",
              "      <td>...</td>\n",
              "      <td>...</td>\n",
              "      <td>...</td>\n",
              "      <td>...</td>\n",
              "      <td>...</td>\n",
              "      <td>...</td>\n",
              "      <td>...</td>\n",
              "      <td>...</td>\n",
              "      <td>...</td>\n",
              "      <td>...</td>\n",
              "      <td>...</td>\n",
              "      <td>...</td>\n",
              "      <td>...</td>\n",
              "      <td>...</td>\n",
              "      <td>...</td>\n",
              "      <td>...</td>\n",
              "      <td>...</td>\n",
              "      <td>...</td>\n",
              "      <td>...</td>\n",
              "      <td>...</td>\n",
              "      <td>...</td>\n",
              "      <td>...</td>\n",
              "      <td>...</td>\n",
              "      <td>...</td>\n",
              "      <td>...</td>\n",
              "      <td>...</td>\n",
              "      <td>...</td>\n",
              "      <td>...</td>\n",
              "      <td>...</td>\n",
              "      <td>...</td>\n",
              "      <td>...</td>\n",
              "      <td>...</td>\n",
              "      <td>...</td>\n",
              "      <td>...</td>\n",
              "      <td>...</td>\n",
              "      <td>...</td>\n",
              "      <td>...</td>\n",
              "      <td>...</td>\n",
              "      <td>...</td>\n",
              "      <td>...</td>\n",
              "      <td>...</td>\n",
              "      <td>...</td>\n",
              "      <td>...</td>\n",
              "      <td>...</td>\n",
              "      <td>...</td>\n",
              "      <td>...</td>\n",
              "      <td>...</td>\n",
              "      <td>...</td>\n",
              "      <td>...</td>\n",
              "      <td>...</td>\n",
              "      <td>...</td>\n",
              "      <td>...</td>\n",
              "      <td>...</td>\n",
              "      <td>...</td>\n",
              "      <td>...</td>\n",
              "      <td>...</td>\n",
              "      <td>...</td>\n",
              "      <td>...</td>\n",
              "      <td>...</td>\n",
              "      <td>...</td>\n",
              "      <td>...</td>\n",
              "      <td>...</td>\n",
              "      <td>...</td>\n",
              "      <td>...</td>\n",
              "      <td>...</td>\n",
              "      <td>...</td>\n",
              "      <td>...</td>\n",
              "      <td>...</td>\n",
              "      <td>...</td>\n",
              "      <td>...</td>\n",
              "      <td>...</td>\n",
              "      <td>...</td>\n",
              "      <td>...</td>\n",
              "      <td>...</td>\n",
              "      <td>...</td>\n",
              "      <td>...</td>\n",
              "    </tr>\n",
              "    <tr>\n",
              "      <th>675</th>\n",
              "      <td>1.998348</td>\n",
              "      <td>0.009281</td>\n",
              "      <td>2.571150</td>\n",
              "      <td>1792.756104</td>\n",
              "      <td>-0.029123</td>\n",
              "      <td>376.320435</td>\n",
              "      <td>-26.818327</td>\n",
              "      <td>780.884399</td>\n",
              "      <td>715.117493</td>\n",
              "      <td>124.691490</td>\n",
              "      <td>143.386078</td>\n",
              "      <td>202.938126</td>\n",
              "      <td>2461.748535</td>\n",
              "      <td>26.825380</td>\n",
              "      <td>2.732734</td>\n",
              "      <td>21.039236</td>\n",
              "      <td>11.157741</td>\n",
              "      <td>0.443255</td>\n",
              "      <td>118.973167</td>\n",
              "      <td>18.612398</td>\n",
              "      <td>12.453866</td>\n",
              "      <td>10.522525</td>\n",
              "      <td>58.261150</td>\n",
              "      <td>1.052262</td>\n",
              "      <td>197.203461</td>\n",
              "      <td>153.762726</td>\n",
              "      <td>6.083269</td>\n",
              "      <td>6.242986</td>\n",
              "      <td>245.950806</td>\n",
              "      <td>89.283028</td>\n",
              "      <td>2264.551025</td>\n",
              "      <td>0.578836</td>\n",
              "      <td>24.691357</td>\n",
              "      <td>4.490469</td>\n",
              "      <td>-0.015359</td>\n",
              "      <td>7.108512</td>\n",
              "      <td>2825.401123</td>\n",
              "      <td>0.039351</td>\n",
              "      <td>488.408020</td>\n",
              "      <td>9.303165</td>\n",
              "      <td>...</td>\n",
              "      <td>1.464365</td>\n",
              "      <td>7.720396</td>\n",
              "      <td>126.899574</td>\n",
              "      <td>55.599522</td>\n",
              "      <td>1970.227539</td>\n",
              "      <td>0.536167</td>\n",
              "      <td>1.348216</td>\n",
              "      <td>6.783439</td>\n",
              "      <td>0.278028</td>\n",
              "      <td>-0.074124</td>\n",
              "      <td>1909.969482</td>\n",
              "      <td>-0.002443</td>\n",
              "      <td>234.464859</td>\n",
              "      <td>5.319576</td>\n",
              "      <td>1097.363892</td>\n",
              "      <td>188.987244</td>\n",
              "      <td>163.208282</td>\n",
              "      <td>70.727394</td>\n",
              "      <td>52.198868</td>\n",
              "      <td>2175.791260</td>\n",
              "      <td>9.246700</td>\n",
              "      <td>0.834210</td>\n",
              "      <td>11.103337</td>\n",
              "      <td>16.579010</td>\n",
              "      <td>-0.017577</td>\n",
              "      <td>222.248291</td>\n",
              "      <td>0.000047</td>\n",
              "      <td>0.008347</td>\n",
              "      <td>3.370143</td>\n",
              "      <td>2.416636</td>\n",
              "      <td>-0.048245</td>\n",
              "      <td>44.626156</td>\n",
              "      <td>146.433853</td>\n",
              "      <td>0.046151</td>\n",
              "      <td>2.913297</td>\n",
              "      <td>42.360687</td>\n",
              "      <td>78.745308</td>\n",
              "      <td>589.639038</td>\n",
              "      <td>-0.369208</td>\n",
              "      <td>1.629137</td>\n",
              "    </tr>\n",
              "    <tr>\n",
              "      <th>676</th>\n",
              "      <td>3.720707</td>\n",
              "      <td>0.012273</td>\n",
              "      <td>2.639922</td>\n",
              "      <td>2325.710449</td>\n",
              "      <td>-0.034147</td>\n",
              "      <td>431.408325</td>\n",
              "      <td>16.580088</td>\n",
              "      <td>826.551575</td>\n",
              "      <td>817.678162</td>\n",
              "      <td>145.987106</td>\n",
              "      <td>173.606613</td>\n",
              "      <td>176.660126</td>\n",
              "      <td>2672.988770</td>\n",
              "      <td>40.060963</td>\n",
              "      <td>2.528049</td>\n",
              "      <td>34.850109</td>\n",
              "      <td>11.161432</td>\n",
              "      <td>0.398796</td>\n",
              "      <td>187.894073</td>\n",
              "      <td>23.423103</td>\n",
              "      <td>13.755352</td>\n",
              "      <td>10.702084</td>\n",
              "      <td>136.168991</td>\n",
              "      <td>1.649825</td>\n",
              "      <td>350.872375</td>\n",
              "      <td>155.129990</td>\n",
              "      <td>6.800847</td>\n",
              "      <td>7.891216</td>\n",
              "      <td>370.097504</td>\n",
              "      <td>108.349617</td>\n",
              "      <td>3599.832275</td>\n",
              "      <td>0.606676</td>\n",
              "      <td>31.702526</td>\n",
              "      <td>6.199598</td>\n",
              "      <td>-0.024593</td>\n",
              "      <td>5.150981</td>\n",
              "      <td>2778.749512</td>\n",
              "      <td>0.005373</td>\n",
              "      <td>543.292847</td>\n",
              "      <td>10.165420</td>\n",
              "      <td>...</td>\n",
              "      <td>1.539545</td>\n",
              "      <td>4.139256</td>\n",
              "      <td>173.985947</td>\n",
              "      <td>57.477180</td>\n",
              "      <td>2020.004639</td>\n",
              "      <td>0.493208</td>\n",
              "      <td>4.431342</td>\n",
              "      <td>5.501475</td>\n",
              "      <td>0.177781</td>\n",
              "      <td>0.278090</td>\n",
              "      <td>1287.246704</td>\n",
              "      <td>-0.003809</td>\n",
              "      <td>206.968613</td>\n",
              "      <td>3.793314</td>\n",
              "      <td>853.627563</td>\n",
              "      <td>142.291428</td>\n",
              "      <td>155.507675</td>\n",
              "      <td>70.264061</td>\n",
              "      <td>38.492359</td>\n",
              "      <td>1952.770752</td>\n",
              "      <td>8.167321</td>\n",
              "      <td>0.135920</td>\n",
              "      <td>14.305888</td>\n",
              "      <td>10.006989</td>\n",
              "      <td>0.199735</td>\n",
              "      <td>166.431549</td>\n",
              "      <td>0.000026</td>\n",
              "      <td>0.012705</td>\n",
              "      <td>5.022082</td>\n",
              "      <td>21.465303</td>\n",
              "      <td>0.374424</td>\n",
              "      <td>40.164783</td>\n",
              "      <td>118.495583</td>\n",
              "      <td>0.152116</td>\n",
              "      <td>2.006093</td>\n",
              "      <td>49.928654</td>\n",
              "      <td>62.331825</td>\n",
              "      <td>437.684387</td>\n",
              "      <td>-0.017687</td>\n",
              "      <td>1.447320</td>\n",
              "    </tr>\n",
              "    <tr>\n",
              "      <th>677</th>\n",
              "      <td>3.376547</td>\n",
              "      <td>0.006597</td>\n",
              "      <td>2.931250</td>\n",
              "      <td>2212.290039</td>\n",
              "      <td>-0.009933</td>\n",
              "      <td>365.766663</td>\n",
              "      <td>8.028008</td>\n",
              "      <td>646.140442</td>\n",
              "      <td>728.728882</td>\n",
              "      <td>133.860001</td>\n",
              "      <td>164.910553</td>\n",
              "      <td>154.080658</td>\n",
              "      <td>2346.892822</td>\n",
              "      <td>25.307791</td>\n",
              "      <td>2.755587</td>\n",
              "      <td>13.107820</td>\n",
              "      <td>9.720336</td>\n",
              "      <td>0.485618</td>\n",
              "      <td>179.751007</td>\n",
              "      <td>20.109249</td>\n",
              "      <td>8.913835</td>\n",
              "      <td>4.988296</td>\n",
              "      <td>174.271469</td>\n",
              "      <td>1.322146</td>\n",
              "      <td>280.726471</td>\n",
              "      <td>160.547379</td>\n",
              "      <td>6.853152</td>\n",
              "      <td>7.568813</td>\n",
              "      <td>277.628357</td>\n",
              "      <td>98.009407</td>\n",
              "      <td>2254.275146</td>\n",
              "      <td>0.555091</td>\n",
              "      <td>26.598410</td>\n",
              "      <td>7.273564</td>\n",
              "      <td>-0.003898</td>\n",
              "      <td>7.583991</td>\n",
              "      <td>3609.608154</td>\n",
              "      <td>-0.002317</td>\n",
              "      <td>640.791931</td>\n",
              "      <td>12.260474</td>\n",
              "      <td>...</td>\n",
              "      <td>1.307487</td>\n",
              "      <td>5.358570</td>\n",
              "      <td>216.439438</td>\n",
              "      <td>68.099655</td>\n",
              "      <td>1570.374756</td>\n",
              "      <td>0.600041</td>\n",
              "      <td>5.894488</td>\n",
              "      <td>7.190443</td>\n",
              "      <td>0.347419</td>\n",
              "      <td>0.289251</td>\n",
              "      <td>1962.499146</td>\n",
              "      <td>-0.005118</td>\n",
              "      <td>274.838409</td>\n",
              "      <td>5.908013</td>\n",
              "      <td>1420.553955</td>\n",
              "      <td>214.917389</td>\n",
              "      <td>219.271286</td>\n",
              "      <td>92.075218</td>\n",
              "      <td>60.906944</td>\n",
              "      <td>3183.255127</td>\n",
              "      <td>11.169796</td>\n",
              "      <td>0.703594</td>\n",
              "      <td>24.636026</td>\n",
              "      <td>13.238680</td>\n",
              "      <td>0.369483</td>\n",
              "      <td>224.757004</td>\n",
              "      <td>-0.002401</td>\n",
              "      <td>0.008865</td>\n",
              "      <td>8.588499</td>\n",
              "      <td>43.416298</td>\n",
              "      <td>0.328241</td>\n",
              "      <td>58.960087</td>\n",
              "      <td>223.462585</td>\n",
              "      <td>0.227469</td>\n",
              "      <td>2.356768</td>\n",
              "      <td>70.188278</td>\n",
              "      <td>58.644634</td>\n",
              "      <td>524.652344</td>\n",
              "      <td>0.049258</td>\n",
              "      <td>1.228675</td>\n",
              "    </tr>\n",
              "    <tr>\n",
              "      <th>678</th>\n",
              "      <td>3.713272</td>\n",
              "      <td>0.005981</td>\n",
              "      <td>2.568404</td>\n",
              "      <td>2083.825684</td>\n",
              "      <td>-0.017554</td>\n",
              "      <td>387.119812</td>\n",
              "      <td>9.339695</td>\n",
              "      <td>722.409485</td>\n",
              "      <td>725.482849</td>\n",
              "      <td>146.054794</td>\n",
              "      <td>142.584000</td>\n",
              "      <td>142.773346</td>\n",
              "      <td>2311.470459</td>\n",
              "      <td>29.124825</td>\n",
              "      <td>2.289998</td>\n",
              "      <td>18.777271</td>\n",
              "      <td>13.862960</td>\n",
              "      <td>0.344671</td>\n",
              "      <td>184.630402</td>\n",
              "      <td>19.605919</td>\n",
              "      <td>8.883918</td>\n",
              "      <td>7.212868</td>\n",
              "      <td>96.066719</td>\n",
              "      <td>1.930641</td>\n",
              "      <td>295.079681</td>\n",
              "      <td>144.856522</td>\n",
              "      <td>7.073904</td>\n",
              "      <td>6.509538</td>\n",
              "      <td>282.320801</td>\n",
              "      <td>97.503830</td>\n",
              "      <td>2217.301270</td>\n",
              "      <td>0.494986</td>\n",
              "      <td>22.993071</td>\n",
              "      <td>4.852128</td>\n",
              "      <td>-0.007564</td>\n",
              "      <td>5.172706</td>\n",
              "      <td>2837.133789</td>\n",
              "      <td>0.004875</td>\n",
              "      <td>596.485352</td>\n",
              "      <td>8.518824</td>\n",
              "      <td>...</td>\n",
              "      <td>1.214078</td>\n",
              "      <td>4.832133</td>\n",
              "      <td>155.264374</td>\n",
              "      <td>54.701523</td>\n",
              "      <td>1209.068237</td>\n",
              "      <td>0.306878</td>\n",
              "      <td>4.588888</td>\n",
              "      <td>5.288258</td>\n",
              "      <td>0.323598</td>\n",
              "      <td>0.377267</td>\n",
              "      <td>1415.597534</td>\n",
              "      <td>-0.002465</td>\n",
              "      <td>245.119415</td>\n",
              "      <td>4.782721</td>\n",
              "      <td>1071.844238</td>\n",
              "      <td>171.103668</td>\n",
              "      <td>199.748306</td>\n",
              "      <td>86.513168</td>\n",
              "      <td>34.947941</td>\n",
              "      <td>2346.406738</td>\n",
              "      <td>7.953835</td>\n",
              "      <td>0.794042</td>\n",
              "      <td>14.799544</td>\n",
              "      <td>12.274312</td>\n",
              "      <td>0.195138</td>\n",
              "      <td>225.494064</td>\n",
              "      <td>0.000120</td>\n",
              "      <td>0.008122</td>\n",
              "      <td>4.344836</td>\n",
              "      <td>13.219810</td>\n",
              "      <td>0.302639</td>\n",
              "      <td>51.707748</td>\n",
              "      <td>188.762878</td>\n",
              "      <td>0.092495</td>\n",
              "      <td>2.323409</td>\n",
              "      <td>51.624123</td>\n",
              "      <td>69.890312</td>\n",
              "      <td>612.170288</td>\n",
              "      <td>-0.007549</td>\n",
              "      <td>1.510708</td>\n",
              "    </tr>\n",
              "    <tr>\n",
              "      <th>679</th>\n",
              "      <td>3.713272</td>\n",
              "      <td>0.005981</td>\n",
              "      <td>2.568404</td>\n",
              "      <td>2083.825684</td>\n",
              "      <td>-0.017554</td>\n",
              "      <td>387.119812</td>\n",
              "      <td>9.339695</td>\n",
              "      <td>722.409485</td>\n",
              "      <td>725.482849</td>\n",
              "      <td>146.054794</td>\n",
              "      <td>142.584000</td>\n",
              "      <td>142.773346</td>\n",
              "      <td>2311.470459</td>\n",
              "      <td>29.124825</td>\n",
              "      <td>2.289998</td>\n",
              "      <td>18.777271</td>\n",
              "      <td>13.862960</td>\n",
              "      <td>0.344671</td>\n",
              "      <td>184.630402</td>\n",
              "      <td>19.605919</td>\n",
              "      <td>8.883918</td>\n",
              "      <td>7.212868</td>\n",
              "      <td>96.066719</td>\n",
              "      <td>1.930641</td>\n",
              "      <td>295.079681</td>\n",
              "      <td>144.856522</td>\n",
              "      <td>7.073904</td>\n",
              "      <td>6.509538</td>\n",
              "      <td>282.320801</td>\n",
              "      <td>97.503830</td>\n",
              "      <td>2217.301270</td>\n",
              "      <td>0.494986</td>\n",
              "      <td>22.993071</td>\n",
              "      <td>4.852128</td>\n",
              "      <td>-0.007564</td>\n",
              "      <td>5.172706</td>\n",
              "      <td>2837.133789</td>\n",
              "      <td>0.004875</td>\n",
              "      <td>596.485352</td>\n",
              "      <td>8.518824</td>\n",
              "      <td>...</td>\n",
              "      <td>1.214078</td>\n",
              "      <td>4.832133</td>\n",
              "      <td>155.264374</td>\n",
              "      <td>54.701523</td>\n",
              "      <td>1209.068237</td>\n",
              "      <td>0.306878</td>\n",
              "      <td>4.588888</td>\n",
              "      <td>5.288258</td>\n",
              "      <td>0.323598</td>\n",
              "      <td>0.377267</td>\n",
              "      <td>1415.597534</td>\n",
              "      <td>-0.002465</td>\n",
              "      <td>245.119415</td>\n",
              "      <td>4.782721</td>\n",
              "      <td>1071.844238</td>\n",
              "      <td>171.103668</td>\n",
              "      <td>199.748306</td>\n",
              "      <td>86.513168</td>\n",
              "      <td>34.947941</td>\n",
              "      <td>2346.406738</td>\n",
              "      <td>7.953835</td>\n",
              "      <td>0.794042</td>\n",
              "      <td>14.799544</td>\n",
              "      <td>12.274312</td>\n",
              "      <td>0.195138</td>\n",
              "      <td>225.494064</td>\n",
              "      <td>0.000120</td>\n",
              "      <td>0.008122</td>\n",
              "      <td>4.344836</td>\n",
              "      <td>13.219810</td>\n",
              "      <td>0.302639</td>\n",
              "      <td>51.707748</td>\n",
              "      <td>188.762878</td>\n",
              "      <td>0.092495</td>\n",
              "      <td>2.323409</td>\n",
              "      <td>51.624123</td>\n",
              "      <td>69.890312</td>\n",
              "      <td>612.170288</td>\n",
              "      <td>-0.007549</td>\n",
              "      <td>1.510708</td>\n",
              "    </tr>\n",
              "  </tbody>\n",
              "</table>\n",
              "<p>680 rows × 1782 columns</p>\n",
              "</div>"
            ],
            "text/plain": [
              "         0         1         2     ...        1779      1780      1781\n",
              "0    3.404082  0.007389  3.175499  ...  558.629822  0.000787  0.895049\n",
              "1    0.769978  0.010009  1.431513  ...  660.842773 -0.148110  2.226529\n",
              "2    3.621934  0.002620  2.578624  ...  528.800842  0.040509  1.849684\n",
              "3    3.713272  0.005981  2.568404  ...  612.170288 -0.007549  1.510708\n",
              "4    3.720707  0.012273  2.639922  ...  437.684387 -0.017687  1.447320\n",
              "..        ...       ...       ...  ...         ...       ...       ...\n",
              "675  1.998348  0.009281  2.571150  ...  589.639038 -0.369208  1.629137\n",
              "676  3.720707  0.012273  2.639922  ...  437.684387 -0.017687  1.447320\n",
              "677  3.376547  0.006597  2.931250  ...  524.652344  0.049258  1.228675\n",
              "678  3.713272  0.005981  2.568404  ...  612.170288 -0.007549  1.510708\n",
              "679  3.713272  0.005981  2.568404  ...  612.170288 -0.007549  1.510708\n",
              "\n",
              "[680 rows x 1782 columns]"
            ]
          },
          "metadata": {},
          "execution_count": 28
        }
      ]
    },
    {
      "cell_type": "code",
      "metadata": {
        "id": "fzoE-AnmuWMC"
      },
      "source": [
        "import matplotlib.pyplot as plt"
      ],
      "execution_count": 29,
      "outputs": []
    },
    {
      "cell_type": "code",
      "metadata": {
        "colab": {
          "base_uri": "https://localhost:8080/",
          "height": 594
        },
        "id": "8m5FMdk8uWOe",
        "outputId": "1c26ffbc-d6b6-4a89-87f1-80e38adc306e"
      },
      "source": [
        "plt.figure(figsize=(15,10))\n",
        "plt.plot(test_Y.iloc[0,:50], label = 'Test')\n",
        "plt.plot(Predict.iloc[0,:50], label = 'Prediction')\n",
        "plt.legend(loc='best')\n",
        "plt.show()"
      ],
      "execution_count": 30,
      "outputs": [
        {
          "output_type": "display_data",
          "data": {
            "image/png": "[encoded data removed]",
            "text/plain": [
              "<Figure size 1080x720 with 1 Axes>"
            ]
          },
          "metadata": {
            "needs_background": "light"
          }
        }
      ]
    },
    {
      "cell_type": "code",
      "metadata": {
        "id": "HA_l3yzguWXs"
      },
      "source": [
        "test = pd.read_csv('test.csv')"
      ],
      "execution_count": 193,
      "outputs": []
    },
    {
      "cell_type": "code",
      "metadata": {
        "id": "glWa132a8CY5"
      },
      "source": [
        "test.date = pd.to_datetime(test.date)"
      ],
      "execution_count": 194,
      "outputs": []
    },
    {
      "cell_type": "code",
      "metadata": {
        "id": "HNu2EPsbcJhD"
      },
      "source": [
        "tests = pd.read_csv('test.csv')"
      ],
      "execution_count": 42,
      "outputs": []
    },
    {
      "cell_type": "code",
      "metadata": {
        "colab": {
          "base_uri": "https://localhost:8080/"
        },
        "id": "tOuG0HjpcR9F",
        "outputId": "f9e86237-0718-4e82-d1f7-6d689a7d40f3"
      },
      "source": [
        "28512 - 5346"
      ],
      "execution_count": 45,
      "outputs": [
        {
          "output_type": "execute_result",
          "data": {
            "text/plain": [
              "23166"
            ]
          },
          "metadata": {},
          "execution_count": 45
        }
      ]
    },
    {
      "cell_type": "code",
      "metadata": {
        "colab": {
          "base_uri": "https://localhost:8080/"
        },
        "id": "jE9xvzLTdgzj",
        "outputId": "68d25dc9-9657-4896-e8aa-da1b1f3bff97"
      },
      "source": [
        "23166/54/33"
      ],
      "execution_count": 46,
      "outputs": [
        {
          "output_type": "execute_result",
          "data": {
            "text/plain": [
              "13.0"
            ]
          },
          "metadata": {},
          "execution_count": 46
        }
      ]
    },
    {
      "cell_type": "code",
      "metadata": {
        "colab": {
          "base_uri": "https://localhost:8080/"
        },
        "id": "TW7zUT-C9-lX",
        "outputId": "7ab5713e-6257-40eb-a97c-109fffbeff43"
      },
      "source": [
        "7128/1782"
      ],
      "execution_count": 97,
      "outputs": [
        {
          "output_type": "execute_result",
          "data": {
            "text/plain": [
              "4.0"
            ]
          },
          "metadata": {},
          "execution_count": 97
        }
      ]
    },
    {
      "cell_type": "code",
      "metadata": {
        "colab": {
          "base_uri": "https://localhost:8080/"
        },
        "id": "2qNvGP4WEyXU",
        "outputId": "f4d96a16-3bd7-4032-fa71-e9fb2ddcc48f"
      },
      "source": [
        "54*33"
      ],
      "execution_count": 87,
      "outputs": [
        {
          "output_type": "execute_result",
          "data": {
            "text/plain": [
              "1782"
            ]
          },
          "metadata": {},
          "execution_count": 87
        }
      ]
    },
    {
      "cell_type": "code",
      "metadata": {
        "id": "ukL1U8xQ91fe"
      },
      "source": [
        "def make_dataset_t(data):\n",
        "  datasetX = []\n",
        "  max_length = len(data)\n",
        "  for i in range(5346,max_length-54*33+1,54*33):\n",
        "    datasetX.append(data[i-5346:i,1])\n",
        "\n",
        "  return datasetX"
      ],
      "execution_count": 49,
      "outputs": []
    },
    {
      "cell_type": "code",
      "metadata": {
        "colab": {
          "base_uri": "https://localhost:8080/"
        },
        "id": "jE75aNfy54k3",
        "outputId": "f1ce1a85-9410-4350-c59b-f215e48d1eba"
      },
      "source": [
        "\n",
        "test = test.sort_values(['date','store_nbr','family'])\n",
        "\n",
        "test = test.set_index('date').drop(['id','family'],axis = 1).copy()\n",
        "\n",
        "test = np.array(test)\n",
        "test = make_dataset_t(test)\n",
        "\n",
        "test = np.array(test)\n",
        "test = np.asarray(test).astype(np.float32)\n",
        "#scaling  # データを0～1の範囲にスケールするための関数。\n",
        "scaler.fit(test)  # スケーリングに使用する最小／最大値を計算する。\n",
        "test1 = scaler.transform(test)  # Xをを0～1の範囲にスケーリングする。\n",
        "\n",
        "\n",
        "test1 = np.reshape(test1,(test1.shape[0],1,test1.shape[1]))\n",
        "print(test1.shape)"
      ],
      "execution_count": 50,
      "outputs": [
        {
          "output_type": "stream",
          "name": "stdout",
          "text": [
            "(13, 1, 5346)\n"
          ]
        }
      ]
    },
    {
      "cell_type": "code",
      "metadata": {
        "colab": {
          "base_uri": "https://localhost:8080/"
        },
        "id": "GqqGDNu3FZEv",
        "outputId": "d1189833-9425-4773-f48d-d0817ec12df5"
      },
      "source": [
        "test1.shape"
      ],
      "execution_count": 51,
      "outputs": [
        {
          "output_type": "execute_result",
          "data": {
            "text/plain": [
              "(13, 1, 5346)"
            ]
          },
          "metadata": {},
          "execution_count": 51
        }
      ]
    },
    {
      "cell_type": "code",
      "metadata": {
        "id": "-06BNkkl-bIv"
      },
      "source": [
        "sub = model.predict(test1)"
      ],
      "execution_count": 52,
      "outputs": []
    },
    {
      "cell_type": "code",
      "metadata": {
        "colab": {
          "base_uri": "https://localhost:8080/"
        },
        "id": "4dN7NJTy-9Xj",
        "outputId": "cb3be1fb-a8b4-4ea8-b483-2f2e6b4ae737"
      },
      "source": [
        "sub.shape"
      ],
      "execution_count": 53,
      "outputs": [
        {
          "output_type": "execute_result",
          "data": {
            "text/plain": [
              "(13, 1782)"
            ]
          },
          "metadata": {},
          "execution_count": 53
        }
      ]
    },
    {
      "cell_type": "code",
      "metadata": {
        "colab": {
          "base_uri": "https://localhost:8080/"
        },
        "id": "C0OOPN1fcA16",
        "outputId": "69d5428c-404d-4168-c6de-04bcb154ee50"
      },
      "source": [
        "1782*16"
      ],
      "execution_count": 44,
      "outputs": [
        {
          "output_type": "execute_result",
          "data": {
            "text/plain": [
              "28512"
            ]
          },
          "metadata": {},
          "execution_count": 44
        }
      ]
    },
    {
      "cell_type": "code",
      "metadata": {
        "id": "rNDEF9n7_UEF"
      },
      "source": [
        "sub=pd.DataFrame(sub)"
      ],
      "execution_count": 54,
      "outputs": []
    },
    {
      "cell_type": "code",
      "metadata": {
        "id": "PQyAtK7b-i48"
      },
      "source": [
        "sub = scaler1.inverse_transform(sub)"
      ],
      "execution_count": 55,
      "outputs": []
    },
    {
      "cell_type": "code",
      "metadata": {
        "colab": {
          "base_uri": "https://localhost:8080/",
          "height": 419
        },
        "id": "LmOblEaxDQnj",
        "outputId": "c94d5080-6590-4ff8-ed6f-e218ca11d540"
      },
      "source": [
        "subm = []\n",
        "for i in sub:\n",
        "  for k in i:\n",
        "    subm.append(k)\n",
        "\n",
        "subm = pd.DataFrame(subm)\n",
        "subm"
      ],
      "execution_count": 56,
      "outputs": [
        {
          "output_type": "execute_result",
          "data": {
            "text/html": [
              "<div>\n",
              "<style scoped>\n",
              "    .dataframe tbody tr th:only-of-type {\n",
              "        vertical-align: middle;\n",
              "    }\n",
              "\n",
              "    .dataframe tbody tr th {\n",
              "        vertical-align: top;\n",
              "    }\n",
              "\n",
              "    .dataframe thead th {\n",
              "        text-align: right;\n",
              "    }\n",
              "</style>\n",
              "<table border=\"1\" class=\"dataframe\">\n",
              "  <thead>\n",
              "    <tr style=\"text-align: right;\">\n",
              "      <th></th>\n",
              "      <th>0</th>\n",
              "    </tr>\n",
              "  </thead>\n",
              "  <tbody>\n",
              "    <tr>\n",
              "      <th>0</th>\n",
              "      <td>3.542697</td>\n",
              "    </tr>\n",
              "    <tr>\n",
              "      <th>1</th>\n",
              "      <td>0.007595</td>\n",
              "    </tr>\n",
              "    <tr>\n",
              "      <th>2</th>\n",
              "      <td>2.514630</td>\n",
              "    </tr>\n",
              "    <tr>\n",
              "      <th>3</th>\n",
              "      <td>2127.798096</td>\n",
              "    </tr>\n",
              "    <tr>\n",
              "      <th>4</th>\n",
              "      <td>-0.016754</td>\n",
              "    </tr>\n",
              "    <tr>\n",
              "      <th>...</th>\n",
              "      <td>...</td>\n",
              "    </tr>\n",
              "    <tr>\n",
              "      <th>23161</th>\n",
              "      <td>50.570942</td>\n",
              "    </tr>\n",
              "    <tr>\n",
              "      <th>23162</th>\n",
              "      <td>70.842308</td>\n",
              "    </tr>\n",
              "    <tr>\n",
              "      <th>23163</th>\n",
              "      <td>635.682739</td>\n",
              "    </tr>\n",
              "    <tr>\n",
              "      <th>23164</th>\n",
              "      <td>-0.025717</td>\n",
              "    </tr>\n",
              "    <tr>\n",
              "      <th>23165</th>\n",
              "      <td>1.564186</td>\n",
              "    </tr>\n",
              "  </tbody>\n",
              "</table>\n",
              "<p>23166 rows × 1 columns</p>\n",
              "</div>"
            ],
            "text/plain": [
              "                 0\n",
              "0         3.542697\n",
              "1         0.007595\n",
              "2         2.514630\n",
              "3      2127.798096\n",
              "4        -0.016754\n",
              "...            ...\n",
              "23161    50.570942\n",
              "23162    70.842308\n",
              "23163   635.682739\n",
              "23164    -0.025717\n",
              "23165     1.564186\n",
              "\n",
              "[23166 rows x 1 columns]"
            ]
          },
          "metadata": {},
          "execution_count": 56
        }
      ]
    },
    {
      "cell_type": "code",
      "metadata": {
        "id": "TF31exgjDQqI"
      },
      "source": [
        "hosokumi['id'] = pd.DataFrame(list(range(3000888,3029400)))\n",
        "hosokumi = hosokumi.set_index(['id'])"
      ],
      "execution_count": 268,
      "outputs": []
    },
    {
      "cell_type": "code",
      "metadata": {
        "colab": {
          "base_uri": "https://localhost:8080/",
          "height": 419
        },
        "id": "cGlhTB08tfDd",
        "outputId": "d146ddfc-ce7e-44c6-a9fa-fc49c88754a7"
      },
      "source": [
        "submits['id'] = pd.DataFrame(list(range(3000888,3029400)))\n",
        "submits"
      ],
      "execution_count": 176,
      "outputs": [
        {
          "output_type": "execute_result",
          "data": {
            "text/html": [
              "<div>\n",
              "<style scoped>\n",
              "    .dataframe tbody tr th:only-of-type {\n",
              "        vertical-align: middle;\n",
              "    }\n",
              "\n",
              "    .dataframe tbody tr th {\n",
              "        vertical-align: top;\n",
              "    }\n",
              "\n",
              "    .dataframe thead th {\n",
              "        text-align: right;\n",
              "    }\n",
              "</style>\n",
              "<table border=\"1\" class=\"dataframe\">\n",
              "  <thead>\n",
              "    <tr style=\"text-align: right;\">\n",
              "      <th></th>\n",
              "      <th>id</th>\n",
              "      <th>0</th>\n",
              "    </tr>\n",
              "  </thead>\n",
              "  <tbody>\n",
              "    <tr>\n",
              "      <th>0</th>\n",
              "      <td>3000888</td>\n",
              "      <td>0.000000</td>\n",
              "    </tr>\n",
              "    <tr>\n",
              "      <th>1</th>\n",
              "      <td>3000889</td>\n",
              "      <td>0.000000</td>\n",
              "    </tr>\n",
              "    <tr>\n",
              "      <th>2</th>\n",
              "      <td>3000890</td>\n",
              "      <td>0.000000</td>\n",
              "    </tr>\n",
              "    <tr>\n",
              "      <th>3</th>\n",
              "      <td>3000891</td>\n",
              "      <td>0.000000</td>\n",
              "    </tr>\n",
              "    <tr>\n",
              "      <th>4</th>\n",
              "      <td>3000892</td>\n",
              "      <td>0.000000</td>\n",
              "    </tr>\n",
              "    <tr>\n",
              "      <th>...</th>\n",
              "      <td>...</td>\n",
              "      <td>...</td>\n",
              "    </tr>\n",
              "    <tr>\n",
              "      <th>28507</th>\n",
              "      <td>3029395</td>\n",
              "      <td>50.570942</td>\n",
              "    </tr>\n",
              "    <tr>\n",
              "      <th>28508</th>\n",
              "      <td>3029396</td>\n",
              "      <td>70.842308</td>\n",
              "    </tr>\n",
              "    <tr>\n",
              "      <th>28509</th>\n",
              "      <td>3029397</td>\n",
              "      <td>635.682739</td>\n",
              "    </tr>\n",
              "    <tr>\n",
              "      <th>28510</th>\n",
              "      <td>3029398</td>\n",
              "      <td>-0.025717</td>\n",
              "    </tr>\n",
              "    <tr>\n",
              "      <th>28511</th>\n",
              "      <td>3029399</td>\n",
              "      <td>1.564186</td>\n",
              "    </tr>\n",
              "  </tbody>\n",
              "</table>\n",
              "<p>28512 rows × 2 columns</p>\n",
              "</div>"
            ],
            "text/plain": [
              "            id           0\n",
              "0      3000888    0.000000\n",
              "1      3000889    0.000000\n",
              "2      3000890    0.000000\n",
              "3      3000891    0.000000\n",
              "4      3000892    0.000000\n",
              "...        ...         ...\n",
              "28507  3029395   50.570942\n",
              "28508  3029396   70.842308\n",
              "28509  3029397  635.682739\n",
              "28510  3029398   -0.025717\n",
              "28511  3029399    1.564186\n",
              "\n",
              "[28512 rows x 2 columns]"
            ]
          },
          "metadata": {},
          "execution_count": 176
        }
      ]
    },
    {
      "cell_type": "code",
      "metadata": {
        "id": "kS_xSXGavACd"
      },
      "source": [
        "submits = submits.reset_index()"
      ],
      "execution_count": 175,
      "outputs": []
    },
    {
      "cell_type": "code",
      "metadata": {
        "colab": {
          "base_uri": "https://localhost:8080/",
          "height": 450
        },
        "id": "KL1-hGbwvFjB",
        "outputId": "cac830b7-676f-4c6a-c27d-9c01b57d70ad"
      },
      "source": [
        "submits = submits.set_index('id')\n",
        "submits"
      ],
      "execution_count": 177,
      "outputs": [
        {
          "output_type": "execute_result",
          "data": {
            "text/html": [
              "<div>\n",
              "<style scoped>\n",
              "    .dataframe tbody tr th:only-of-type {\n",
              "        vertical-align: middle;\n",
              "    }\n",
              "\n",
              "    .dataframe tbody tr th {\n",
              "        vertical-align: top;\n",
              "    }\n",
              "\n",
              "    .dataframe thead th {\n",
              "        text-align: right;\n",
              "    }\n",
              "</style>\n",
              "<table border=\"1\" class=\"dataframe\">\n",
              "  <thead>\n",
              "    <tr style=\"text-align: right;\">\n",
              "      <th></th>\n",
              "      <th>0</th>\n",
              "    </tr>\n",
              "    <tr>\n",
              "      <th>id</th>\n",
              "      <th></th>\n",
              "    </tr>\n",
              "  </thead>\n",
              "  <tbody>\n",
              "    <tr>\n",
              "      <th>3000888</th>\n",
              "      <td>0.000000</td>\n",
              "    </tr>\n",
              "    <tr>\n",
              "      <th>3000889</th>\n",
              "      <td>0.000000</td>\n",
              "    </tr>\n",
              "    <tr>\n",
              "      <th>3000890</th>\n",
              "      <td>0.000000</td>\n",
              "    </tr>\n",
              "    <tr>\n",
              "      <th>3000891</th>\n",
              "      <td>0.000000</td>\n",
              "    </tr>\n",
              "    <tr>\n",
              "      <th>3000892</th>\n",
              "      <td>0.000000</td>\n",
              "    </tr>\n",
              "    <tr>\n",
              "      <th>...</th>\n",
              "      <td>...</td>\n",
              "    </tr>\n",
              "    <tr>\n",
              "      <th>3029395</th>\n",
              "      <td>50.570942</td>\n",
              "    </tr>\n",
              "    <tr>\n",
              "      <th>3029396</th>\n",
              "      <td>70.842308</td>\n",
              "    </tr>\n",
              "    <tr>\n",
              "      <th>3029397</th>\n",
              "      <td>635.682739</td>\n",
              "    </tr>\n",
              "    <tr>\n",
              "      <th>3029398</th>\n",
              "      <td>-0.025717</td>\n",
              "    </tr>\n",
              "    <tr>\n",
              "      <th>3029399</th>\n",
              "      <td>1.564186</td>\n",
              "    </tr>\n",
              "  </tbody>\n",
              "</table>\n",
              "<p>28512 rows × 1 columns</p>\n",
              "</div>"
            ],
            "text/plain": [
              "                  0\n",
              "id                 \n",
              "3000888    0.000000\n",
              "3000889    0.000000\n",
              "3000890    0.000000\n",
              "3000891    0.000000\n",
              "3000892    0.000000\n",
              "...             ...\n",
              "3029395   50.570942\n",
              "3029396   70.842308\n",
              "3029397  635.682739\n",
              "3029398   -0.025717\n",
              "3029399    1.564186\n",
              "\n",
              "[28512 rows x 1 columns]"
            ]
          },
          "metadata": {},
          "execution_count": 177
        }
      ]
    },
    {
      "cell_type": "code",
      "metadata": {
        "id": "7b8zE0Jaqm_O"
      },
      "source": [
        "hosokumi['sales'] = hosokumi.iloc[:,0].copy()"
      ],
      "execution_count": 269,
      "outputs": []
    },
    {
      "cell_type": "code",
      "metadata": {
        "id": "cochObrTrzKQ"
      },
      "source": [
        "hosokumi = hosokumi.drop(0,axis = 1)"
      ],
      "execution_count": 270,
      "outputs": []
    },
    {
      "cell_type": "code",
      "metadata": {
        "id": "2N7z3Gpx6zMy"
      },
      "source": [
        "hosokumi = hosokumi.drop('index',axis = 1)"
      ],
      "execution_count": 267,
      "outputs": []
    },
    {
      "cell_type": "code",
      "metadata": {
        "colab": {
          "base_uri": "https://localhost:8080/",
          "height": 450
        },
        "id": "gwPuN9Pv7Ap4",
        "outputId": "5d8bc141-e285-4f23-9cdf-fbb69730cb98"
      },
      "source": [
        "hosokumi"
      ],
      "execution_count": 271,
      "outputs": [
        {
          "output_type": "execute_result",
          "data": {
            "text/html": [
              "<div>\n",
              "<style scoped>\n",
              "    .dataframe tbody tr th:only-of-type {\n",
              "        vertical-align: middle;\n",
              "    }\n",
              "\n",
              "    .dataframe tbody tr th {\n",
              "        vertical-align: top;\n",
              "    }\n",
              "\n",
              "    .dataframe thead th {\n",
              "        text-align: right;\n",
              "    }\n",
              "</style>\n",
              "<table border=\"1\" class=\"dataframe\">\n",
              "  <thead>\n",
              "    <tr style=\"text-align: right;\">\n",
              "      <th></th>\n",
              "      <th>sales</th>\n",
              "    </tr>\n",
              "    <tr>\n",
              "      <th>id</th>\n",
              "      <th></th>\n",
              "    </tr>\n",
              "  </thead>\n",
              "  <tbody>\n",
              "    <tr>\n",
              "      <th>3000888</th>\n",
              "      <td>3.291813</td>\n",
              "    </tr>\n",
              "    <tr>\n",
              "      <th>3000889</th>\n",
              "      <td>0.006433</td>\n",
              "    </tr>\n",
              "    <tr>\n",
              "      <th>3000890</th>\n",
              "      <td>2.256763</td>\n",
              "    </tr>\n",
              "    <tr>\n",
              "      <th>3000891</th>\n",
              "      <td>1891.297974</td>\n",
              "    </tr>\n",
              "    <tr>\n",
              "      <th>3000892</th>\n",
              "      <td>-0.020490</td>\n",
              "    </tr>\n",
              "    <tr>\n",
              "      <th>...</th>\n",
              "      <td>...</td>\n",
              "    </tr>\n",
              "    <tr>\n",
              "      <th>3029395</th>\n",
              "      <td>50.570942</td>\n",
              "    </tr>\n",
              "    <tr>\n",
              "      <th>3029396</th>\n",
              "      <td>70.842308</td>\n",
              "    </tr>\n",
              "    <tr>\n",
              "      <th>3029397</th>\n",
              "      <td>635.682739</td>\n",
              "    </tr>\n",
              "    <tr>\n",
              "      <th>3029398</th>\n",
              "      <td>-0.025717</td>\n",
              "    </tr>\n",
              "    <tr>\n",
              "      <th>3029399</th>\n",
              "      <td>1.564186</td>\n",
              "    </tr>\n",
              "  </tbody>\n",
              "</table>\n",
              "<p>28512 rows × 1 columns</p>\n",
              "</div>"
            ],
            "text/plain": [
              "               sales\n",
              "id                  \n",
              "3000888     3.291813\n",
              "3000889     0.006433\n",
              "3000890     2.256763\n",
              "3000891  1891.297974\n",
              "3000892    -0.020490\n",
              "...              ...\n",
              "3029395    50.570942\n",
              "3029396    70.842308\n",
              "3029397   635.682739\n",
              "3029398    -0.025717\n",
              "3029399     1.564186\n",
              "\n",
              "[28512 rows x 1 columns]"
            ]
          },
          "metadata": {},
          "execution_count": 271
        }
      ]
    },
    {
      "cell_type": "code",
      "metadata": {
        "id": "qm6Z3R7UpBvH"
      },
      "source": [
        "hosokumi.to_csv('pred.csv')"
      ],
      "execution_count": 272,
      "outputs": []
    },
    {
      "cell_type": "code",
      "metadata": {
        "colab": {
          "base_uri": "https://localhost:8080/"
        },
        "id": "8sEaMdb1oz72",
        "outputId": "e6987046-9f6d-4ed4-ae58-0aa2f823c213"
      },
      "source": [
        "!kaggle competitions submit -c store-sales-time-series-forecasting -f pred.csv -m test"
      ],
      "execution_count": 273,
      "outputs": [
        {
          "output_type": "stream",
          "name": "stdout",
          "text": [
            "Warning: Looks like you're using an outdated API Version, please consider updating (server 1.5.12 / client 1.5.4)\n",
            "100% 739k/739k [00:03<00:00, 235kB/s]\n",
            "Successfully submitted to Store Sales - Time Series Forecasting"
          ]
        }
      ]
    },
    {
      "cell_type": "code",
      "metadata": {
        "id": "8eL9ZaLOe5jo"
      },
      "source": [
        "submit = [0 for i in range(54*33*3)]\n"
      ],
      "execution_count": 168,
      "outputs": []
    },
    {
      "cell_type": "code",
      "metadata": {
        "id": "k5rzHWKelsFW"
      },
      "source": [
        "submit = pd.DataFrame(submit)"
      ],
      "execution_count": 169,
      "outputs": []
    },
    {
      "cell_type": "code",
      "metadata": {
        "id": "iz-XqZL9mJfQ"
      },
      "source": [
        "submits = submit.append(subm)"
      ],
      "execution_count": 170,
      "outputs": []
    },
    {
      "cell_type": "code",
      "metadata": {
        "colab": {
          "base_uri": "https://localhost:8080/"
        },
        "id": "Iu11HAV-lxNV",
        "outputId": "15a6c8ea-b4a3-47d2-c937-2094867d956a"
      },
      "source": [
        "len(submits)"
      ],
      "execution_count": 147,
      "outputs": [
        {
          "output_type": "execute_result",
          "data": {
            "text/plain": [
              "28512"
            ]
          },
          "metadata": {},
          "execution_count": 147
        }
      ]
    },
    {
      "cell_type": "code",
      "metadata": {
        "id": "8B_ap0QQDQtE"
      },
      "source": [
        "spe = traincsv.sort_values(['date','store_nbr','family']).drop(['id','sales'],axis = 1).copy()"
      ],
      "execution_count": 202,
      "outputs": []
    },
    {
      "cell_type": "code",
      "metadata": {
        "id": "6TRwXqhQhfEB"
      },
      "source": [
        "spe = spe.iloc[-54*33*3:,:]\n",
        "spe = spe.drop(['store_nbr','family'],axis = 1)"
      ],
      "execution_count": 203,
      "outputs": []
    },
    {
      "cell_type": "code",
      "metadata": {
        "id": "a2Q8KLHuwkQU"
      },
      "source": [
        "testdash = test.sort_values(['date','store_nbr','family'])[:54*33*3]"
      ],
      "execution_count": 197,
      "outputs": []
    },
    {
      "cell_type": "code",
      "metadata": {
        "id": "4SgwEFZDwR3W"
      },
      "source": [
        "spe = spe.onpromotion.append(testdash.onpromotion)"
      ],
      "execution_count": 206,
      "outputs": []
    },
    {
      "cell_type": "code",
      "metadata": {
        "colab": {
          "base_uri": "https://localhost:8080/",
          "height": 419
        },
        "id": "8RDkV70xzakV",
        "outputId": "1fa8c307-c8f2-4e8a-9a69-f49335d887cd"
      },
      "source": [
        "spe = spe.reset_index()"
      ],
      "execution_count": 207,
      "outputs": [
        {
          "output_type": "execute_result",
          "data": {
            "text/html": [
              "<div>\n",
              "<style scoped>\n",
              "    .dataframe tbody tr th:only-of-type {\n",
              "        vertical-align: middle;\n",
              "    }\n",
              "\n",
              "    .dataframe tbody tr th {\n",
              "        vertical-align: top;\n",
              "    }\n",
              "\n",
              "    .dataframe thead th {\n",
              "        text-align: right;\n",
              "    }\n",
              "</style>\n",
              "<table border=\"1\" class=\"dataframe\">\n",
              "  <thead>\n",
              "    <tr style=\"text-align: right;\">\n",
              "      <th></th>\n",
              "      <th>index</th>\n",
              "      <th>onpromotion</th>\n",
              "    </tr>\n",
              "  </thead>\n",
              "  <tbody>\n",
              "    <tr>\n",
              "      <th>0</th>\n",
              "      <td>0</td>\n",
              "      <td>0</td>\n",
              "    </tr>\n",
              "    <tr>\n",
              "      <th>1</th>\n",
              "      <td>1</td>\n",
              "      <td>0</td>\n",
              "    </tr>\n",
              "    <tr>\n",
              "      <th>2</th>\n",
              "      <td>2</td>\n",
              "      <td>0</td>\n",
              "    </tr>\n",
              "    <tr>\n",
              "      <th>3</th>\n",
              "      <td>3</td>\n",
              "      <td>5</td>\n",
              "    </tr>\n",
              "    <tr>\n",
              "      <th>4</th>\n",
              "      <td>4</td>\n",
              "      <td>0</td>\n",
              "    </tr>\n",
              "    <tr>\n",
              "      <th>...</th>\n",
              "      <td>...</td>\n",
              "      <td>...</td>\n",
              "    </tr>\n",
              "    <tr>\n",
              "      <th>10687</th>\n",
              "      <td>5209</td>\n",
              "      <td>5</td>\n",
              "    </tr>\n",
              "    <tr>\n",
              "      <th>10688</th>\n",
              "      <td>5210</td>\n",
              "      <td>0</td>\n",
              "    </tr>\n",
              "    <tr>\n",
              "      <th>10689</th>\n",
              "      <td>5211</td>\n",
              "      <td>2</td>\n",
              "    </tr>\n",
              "    <tr>\n",
              "      <th>10690</th>\n",
              "      <td>5212</td>\n",
              "      <td>0</td>\n",
              "    </tr>\n",
              "    <tr>\n",
              "      <th>10691</th>\n",
              "      <td>5213</td>\n",
              "      <td>0</td>\n",
              "    </tr>\n",
              "  </tbody>\n",
              "</table>\n",
              "<p>10692 rows × 2 columns</p>\n",
              "</div>"
            ],
            "text/plain": [
              "       index  onpromotion\n",
              "0          0            0\n",
              "1          1            0\n",
              "2          2            0\n",
              "3          3            5\n",
              "4          4            0\n",
              "...      ...          ...\n",
              "10687   5209            5\n",
              "10688   5210            0\n",
              "10689   5211            2\n",
              "10690   5212            0\n",
              "10691   5213            0\n",
              "\n",
              "[10692 rows x 2 columns]"
            ]
          },
          "metadata": {},
          "execution_count": 207
        }
      ]
    },
    {
      "cell_type": "code",
      "metadata": {
        "id": "IcKgzOaJz2Tb"
      },
      "source": [
        "spe = spe.drop('index',axis = 1)"
      ],
      "execution_count": 210,
      "outputs": []
    },
    {
      "cell_type": "code",
      "metadata": {
        "colab": {
          "base_uri": "https://localhost:8080/"
        },
        "id": "TMv8iFQw1O8q",
        "outputId": "0e30d404-8342-4ce6-8153-a54d28b17563"
      },
      "source": [
        "spe = np.array(spe)"
      ],
      "execution_count": 214,
      "outputs": [
        {
          "output_type": "execute_result",
          "data": {
            "text/plain": [
              "array([[0],\n",
              "       [0],\n",
              "       [0],\n",
              "       ...,\n",
              "       [2],\n",
              "       [0],\n",
              "       [0]])"
            ]
          },
          "metadata": {},
          "execution_count": 214
        }
      ]
    },
    {
      "cell_type": "code",
      "metadata": {
        "colab": {
          "base_uri": "https://localhost:8080/"
        },
        "id": "tdzaStSoz-0m",
        "outputId": "c47bfd8c-ccfc-47ce-e554-fbfa8785c5a9"
      },
      "source": [
        "datasetX = []\n",
        "max_length = len(spe)\n",
        "for i in range(5346,max_length-54*33+1,54*33):\n",
        "  datasetX.append(spe[i-5346:i,0])\n",
        "datasetX"
      ],
      "execution_count": 227,
      "outputs": [
        {
          "output_type": "execute_result",
          "data": {
            "text/plain": [
              "[array([ 0,  0,  0, ..., 76,  0,  0]),\n",
              " array([  0,   0,   1, ..., 225,  14,   0]),\n",
              " array([0, 0, 1, ..., 0, 0, 0])]"
            ]
          },
          "metadata": {},
          "execution_count": 227
        }
      ]
    },
    {
      "cell_type": "code",
      "metadata": {
        "id": "QlKuPvHT1xFe"
      },
      "source": [
        "datasetX = np.array(datasetX)"
      ],
      "execution_count": 228,
      "outputs": []
    },
    {
      "cell_type": "code",
      "metadata": {
        "id": "b3xVpYg73LuG"
      },
      "source": [
        "scaler.fit(datasetX)  # スケーリングに使用する最小／最大値を計算する。\n",
        "datasetX = scaler.transform(datasetX)"
      ],
      "execution_count": 229,
      "outputs": []
    },
    {
      "cell_type": "code",
      "metadata": {
        "colab": {
          "base_uri": "https://localhost:8080/"
        },
        "id": "socg0mSL12bu",
        "outputId": "84ae11d5-9b1b-4dcb-8e3a-f32127db7efd"
      },
      "source": [
        "datasetX"
      ],
      "execution_count": 230,
      "outputs": [
        {
          "output_type": "execute_result",
          "data": {
            "text/plain": [
              "array([[0.        , 0.        , 0.        , ..., 0.33777778, 0.        ,\n",
              "        0.        ],\n",
              "       [0.        , 0.        , 1.        , ..., 1.        , 1.        ,\n",
              "        0.        ],\n",
              "       [0.        , 0.        , 1.        , ..., 0.        , 0.        ,\n",
              "        0.        ]])"
            ]
          },
          "metadata": {},
          "execution_count": 230
        }
      ]
    },
    {
      "cell_type": "code",
      "metadata": {
        "colab": {
          "base_uri": "https://localhost:8080/"
        },
        "id": "N8g2uY-V2DQG",
        "outputId": "6604a750-a58d-4043-a2e8-821ed911353d"
      },
      "source": [
        "datasetX = np.reshape(datasetX,(3,1,5346))\n",
        "datasetX.shape"
      ],
      "execution_count": 231,
      "outputs": [
        {
          "output_type": "execute_result",
          "data": {
            "text/plain": [
              "(3, 1, 5346)"
            ]
          },
          "metadata": {},
          "execution_count": 231
        }
      ]
    },
    {
      "cell_type": "code",
      "metadata": {
        "id": "U64ybKhW14R8"
      },
      "source": [
        "hosoku = model.predict(datasetX)"
      ],
      "execution_count": 241,
      "outputs": []
    },
    {
      "cell_type": "code",
      "metadata": {
        "id": "wQ7phaMC2Zxo"
      },
      "source": [
        "hosoku = pd.DataFrame(hosoku)\n",
        "hosoku = scaler1.inverse_transform(hosoku)"
      ],
      "execution_count": 242,
      "outputs": []
    },
    {
      "cell_type": "code",
      "metadata": {
        "colab": {
          "base_uri": "https://localhost:8080/",
          "height": 191
        },
        "id": "2YGkznqq3rKf",
        "outputId": "892a90d0-f29b-4859-8456-b175f187895d"
      },
      "source": [
        "hosoku = pd.DataFrame(hosoku)\n",
        "hosoku"
      ],
      "execution_count": 235,
      "outputs": [
        {
          "output_type": "execute_result",
          "data": {
            "text/html": [
              "<div>\n",
              "<style scoped>\n",
              "    .dataframe tbody tr th:only-of-type {\n",
              "        vertical-align: middle;\n",
              "    }\n",
              "\n",
              "    .dataframe tbody tr th {\n",
              "        vertical-align: top;\n",
              "    }\n",
              "\n",
              "    .dataframe thead th {\n",
              "        text-align: right;\n",
              "    }\n",
              "</style>\n",
              "<table border=\"1\" class=\"dataframe\">\n",
              "  <thead>\n",
              "    <tr style=\"text-align: right;\">\n",
              "      <th></th>\n",
              "      <th>0</th>\n",
              "      <th>1</th>\n",
              "      <th>2</th>\n",
              "      <th>3</th>\n",
              "      <th>4</th>\n",
              "      <th>5</th>\n",
              "      <th>6</th>\n",
              "      <th>7</th>\n",
              "      <th>8</th>\n",
              "      <th>9</th>\n",
              "      <th>10</th>\n",
              "      <th>11</th>\n",
              "      <th>12</th>\n",
              "      <th>13</th>\n",
              "      <th>14</th>\n",
              "      <th>15</th>\n",
              "      <th>16</th>\n",
              "      <th>17</th>\n",
              "      <th>18</th>\n",
              "      <th>19</th>\n",
              "      <th>20</th>\n",
              "      <th>21</th>\n",
              "      <th>22</th>\n",
              "      <th>23</th>\n",
              "      <th>24</th>\n",
              "      <th>25</th>\n",
              "      <th>26</th>\n",
              "      <th>27</th>\n",
              "      <th>28</th>\n",
              "      <th>29</th>\n",
              "      <th>30</th>\n",
              "      <th>31</th>\n",
              "      <th>32</th>\n",
              "      <th>33</th>\n",
              "      <th>34</th>\n",
              "      <th>35</th>\n",
              "      <th>36</th>\n",
              "      <th>37</th>\n",
              "      <th>38</th>\n",
              "      <th>39</th>\n",
              "      <th>...</th>\n",
              "      <th>1742</th>\n",
              "      <th>1743</th>\n",
              "      <th>1744</th>\n",
              "      <th>1745</th>\n",
              "      <th>1746</th>\n",
              "      <th>1747</th>\n",
              "      <th>1748</th>\n",
              "      <th>1749</th>\n",
              "      <th>1750</th>\n",
              "      <th>1751</th>\n",
              "      <th>1752</th>\n",
              "      <th>1753</th>\n",
              "      <th>1754</th>\n",
              "      <th>1755</th>\n",
              "      <th>1756</th>\n",
              "      <th>1757</th>\n",
              "      <th>1758</th>\n",
              "      <th>1759</th>\n",
              "      <th>1760</th>\n",
              "      <th>1761</th>\n",
              "      <th>1762</th>\n",
              "      <th>1763</th>\n",
              "      <th>1764</th>\n",
              "      <th>1765</th>\n",
              "      <th>1766</th>\n",
              "      <th>1767</th>\n",
              "      <th>1768</th>\n",
              "      <th>1769</th>\n",
              "      <th>1770</th>\n",
              "      <th>1771</th>\n",
              "      <th>1772</th>\n",
              "      <th>1773</th>\n",
              "      <th>1774</th>\n",
              "      <th>1775</th>\n",
              "      <th>1776</th>\n",
              "      <th>1777</th>\n",
              "      <th>1778</th>\n",
              "      <th>1779</th>\n",
              "      <th>1780</th>\n",
              "      <th>1781</th>\n",
              "    </tr>\n",
              "  </thead>\n",
              "  <tbody>\n",
              "    <tr>\n",
              "      <th>0</th>\n",
              "      <td>3.291813</td>\n",
              "      <td>0.006433</td>\n",
              "      <td>2.256763</td>\n",
              "      <td>1891.297974</td>\n",
              "      <td>-0.020490</td>\n",
              "      <td>352.917328</td>\n",
              "      <td>8.109735</td>\n",
              "      <td>672.464050</td>\n",
              "      <td>667.183655</td>\n",
              "      <td>134.915131</td>\n",
              "      <td>130.642639</td>\n",
              "      <td>130.815002</td>\n",
              "      <td>2124.400146</td>\n",
              "      <td>26.617582</td>\n",
              "      <td>2.075758</td>\n",
              "      <td>17.278696</td>\n",
              "      <td>12.786943</td>\n",
              "      <td>0.311458</td>\n",
              "      <td>169.407410</td>\n",
              "      <td>17.816088</td>\n",
              "      <td>8.705491</td>\n",
              "      <td>6.633869</td>\n",
              "      <td>75.789879</td>\n",
              "      <td>1.699795</td>\n",
              "      <td>279.064911</td>\n",
              "      <td>132.230820</td>\n",
              "      <td>6.445808</td>\n",
              "      <td>5.854989</td>\n",
              "      <td>263.170410</td>\n",
              "      <td>90.744431</td>\n",
              "      <td>2099.423828</td>\n",
              "      <td>0.448723</td>\n",
              "      <td>21.501894</td>\n",
              "      <td>5.067533</td>\n",
              "      <td>-0.007105</td>\n",
              "      <td>5.409494</td>\n",
              "      <td>2891.075928</td>\n",
              "      <td>0.006870</td>\n",
              "      <td>622.746704</td>\n",
              "      <td>7.481361</td>\n",
              "      <td>...</td>\n",
              "      <td>1.241805</td>\n",
              "      <td>4.724975</td>\n",
              "      <td>167.704086</td>\n",
              "      <td>60.372200</td>\n",
              "      <td>1256.579102</td>\n",
              "      <td>0.320666</td>\n",
              "      <td>5.040291</td>\n",
              "      <td>5.636667</td>\n",
              "      <td>0.284479</td>\n",
              "      <td>0.447228</td>\n",
              "      <td>1468.350586</td>\n",
              "      <td>-0.002384</td>\n",
              "      <td>266.856384</td>\n",
              "      <td>4.313044</td>\n",
              "      <td>1179.100586</td>\n",
              "      <td>188.804916</td>\n",
              "      <td>214.289810</td>\n",
              "      <td>91.957863</td>\n",
              "      <td>32.957623</td>\n",
              "      <td>2542.126465</td>\n",
              "      <td>7.895539</td>\n",
              "      <td>0.757069</td>\n",
              "      <td>15.163314</td>\n",
              "      <td>12.366358</td>\n",
              "      <td>0.210631</td>\n",
              "      <td>231.697495</td>\n",
              "      <td>0.000126</td>\n",
              "      <td>0.007856</td>\n",
              "      <td>4.727475</td>\n",
              "      <td>7.091209</td>\n",
              "      <td>0.279758</td>\n",
              "      <td>54.065979</td>\n",
              "      <td>203.623657</td>\n",
              "      <td>0.069017</td>\n",
              "      <td>2.196199</td>\n",
              "      <td>52.458820</td>\n",
              "      <td>73.634392</td>\n",
              "      <td>584.598633</td>\n",
              "      <td>-0.011096</td>\n",
              "      <td>1.695392</td>\n",
              "    </tr>\n",
              "    <tr>\n",
              "      <th>1</th>\n",
              "      <td>3.350852</td>\n",
              "      <td>0.007582</td>\n",
              "      <td>2.525075</td>\n",
              "      <td>2025.840088</td>\n",
              "      <td>-0.030328</td>\n",
              "      <td>360.572296</td>\n",
              "      <td>8.186692</td>\n",
              "      <td>690.184937</td>\n",
              "      <td>680.282776</td>\n",
              "      <td>139.500320</td>\n",
              "      <td>131.682739</td>\n",
              "      <td>153.022308</td>\n",
              "      <td>2177.801514</td>\n",
              "      <td>25.905262</td>\n",
              "      <td>2.304564</td>\n",
              "      <td>17.557188</td>\n",
              "      <td>14.544444</td>\n",
              "      <td>0.317608</td>\n",
              "      <td>185.532089</td>\n",
              "      <td>20.084328</td>\n",
              "      <td>8.241467</td>\n",
              "      <td>6.908698</td>\n",
              "      <td>85.092186</td>\n",
              "      <td>1.968877</td>\n",
              "      <td>289.893677</td>\n",
              "      <td>135.107117</td>\n",
              "      <td>7.425411</td>\n",
              "      <td>6.691546</td>\n",
              "      <td>270.043060</td>\n",
              "      <td>95.026253</td>\n",
              "      <td>2368.501709</td>\n",
              "      <td>0.537367</td>\n",
              "      <td>22.300072</td>\n",
              "      <td>4.928636</td>\n",
              "      <td>-0.013533</td>\n",
              "      <td>5.832726</td>\n",
              "      <td>3156.968750</td>\n",
              "      <td>0.011622</td>\n",
              "      <td>615.812927</td>\n",
              "      <td>9.849344</td>\n",
              "      <td>...</td>\n",
              "      <td>1.595955</td>\n",
              "      <td>6.725941</td>\n",
              "      <td>160.711655</td>\n",
              "      <td>61.101238</td>\n",
              "      <td>1660.658813</td>\n",
              "      <td>0.582214</td>\n",
              "      <td>4.698708</td>\n",
              "      <td>5.991417</td>\n",
              "      <td>0.426942</td>\n",
              "      <td>0.376168</td>\n",
              "      <td>1707.697998</td>\n",
              "      <td>-0.002917</td>\n",
              "      <td>245.683121</td>\n",
              "      <td>5.667132</td>\n",
              "      <td>1140.074951</td>\n",
              "      <td>179.843781</td>\n",
              "      <td>201.746643</td>\n",
              "      <td>77.348221</td>\n",
              "      <td>38.853386</td>\n",
              "      <td>2379.853027</td>\n",
              "      <td>8.736036</td>\n",
              "      <td>0.938684</td>\n",
              "      <td>14.468147</td>\n",
              "      <td>16.061335</td>\n",
              "      <td>0.140320</td>\n",
              "      <td>279.028076</td>\n",
              "      <td>-0.000631</td>\n",
              "      <td>0.008885</td>\n",
              "      <td>3.936661</td>\n",
              "      <td>9.237956</td>\n",
              "      <td>0.229369</td>\n",
              "      <td>50.835148</td>\n",
              "      <td>189.199554</td>\n",
              "      <td>0.044004</td>\n",
              "      <td>2.924880</td>\n",
              "      <td>47.567207</td>\n",
              "      <td>71.571495</td>\n",
              "      <td>711.865723</td>\n",
              "      <td>-0.079394</td>\n",
              "      <td>1.638522</td>\n",
              "    </tr>\n",
              "    <tr>\n",
              "      <th>2</th>\n",
              "      <td>2.170287</td>\n",
              "      <td>0.006529</td>\n",
              "      <td>1.457928</td>\n",
              "      <td>1209.615356</td>\n",
              "      <td>-0.028583</td>\n",
              "      <td>243.164612</td>\n",
              "      <td>5.449094</td>\n",
              "      <td>482.555969</td>\n",
              "      <td>482.461914</td>\n",
              "      <td>102.481071</td>\n",
              "      <td>91.322006</td>\n",
              "      <td>81.239868</td>\n",
              "      <td>1450.255859</td>\n",
              "      <td>18.125170</td>\n",
              "      <td>1.283337</td>\n",
              "      <td>9.294560</td>\n",
              "      <td>11.115728</td>\n",
              "      <td>0.116011</td>\n",
              "      <td>117.646858</td>\n",
              "      <td>11.442660</td>\n",
              "      <td>8.417603</td>\n",
              "      <td>6.990300</td>\n",
              "      <td>-0.693735</td>\n",
              "      <td>0.861714</td>\n",
              "      <td>246.645294</td>\n",
              "      <td>95.332069</td>\n",
              "      <td>4.859291</td>\n",
              "      <td>2.877232</td>\n",
              "      <td>234.571136</td>\n",
              "      <td>66.046951</td>\n",
              "      <td>1584.863770</td>\n",
              "      <td>0.287433</td>\n",
              "      <td>17.391504</td>\n",
              "      <td>5.340162</td>\n",
              "      <td>-0.004468</td>\n",
              "      <td>6.402088</td>\n",
              "      <td>2977.773926</td>\n",
              "      <td>0.009165</td>\n",
              "      <td>707.503418</td>\n",
              "      <td>3.818141</td>\n",
              "      <td>...</td>\n",
              "      <td>1.175276</td>\n",
              "      <td>4.724098</td>\n",
              "      <td>201.257370</td>\n",
              "      <td>74.584511</td>\n",
              "      <td>1225.055908</td>\n",
              "      <td>0.586805</td>\n",
              "      <td>6.014037</td>\n",
              "      <td>7.006148</td>\n",
              "      <td>0.233230</td>\n",
              "      <td>0.596629</td>\n",
              "      <td>1646.059814</td>\n",
              "      <td>-0.000559</td>\n",
              "      <td>342.225433</td>\n",
              "      <td>2.574405</td>\n",
              "      <td>1532.500732</td>\n",
              "      <td>254.092255</td>\n",
              "      <td>273.012421</td>\n",
              "      <td>120.511513</td>\n",
              "      <td>19.469883</td>\n",
              "      <td>3192.881836</td>\n",
              "      <td>8.720093</td>\n",
              "      <td>0.709376</td>\n",
              "      <td>14.678885</td>\n",
              "      <td>13.471319</td>\n",
              "      <td>0.167643</td>\n",
              "      <td>253.705200</td>\n",
              "      <td>0.003577</td>\n",
              "      <td>0.006533</td>\n",
              "      <td>5.614351</td>\n",
              "      <td>-16.472145</td>\n",
              "      <td>0.097561</td>\n",
              "      <td>62.971085</td>\n",
              "      <td>247.230301</td>\n",
              "      <td>0.064483</td>\n",
              "      <td>1.678731</td>\n",
              "      <td>57.547543</td>\n",
              "      <td>94.370758</td>\n",
              "      <td>567.428650</td>\n",
              "      <td>-0.005076</td>\n",
              "      <td>1.841762</td>\n",
              "    </tr>\n",
              "  </tbody>\n",
              "</table>\n",
              "<p>3 rows × 1782 columns</p>\n",
              "</div>"
            ],
            "text/plain": [
              "       0         1         2     ...        1779      1780      1781\n",
              "0  3.291813  0.006433  2.256763  ...  584.598633 -0.011096  1.695392\n",
              "1  3.350852  0.007582  2.525075  ...  711.865723 -0.079394  1.638522\n",
              "2  2.170287  0.006529  1.457928  ...  567.428650 -0.005076  1.841762\n",
              "\n",
              "[3 rows x 1782 columns]"
            ]
          },
          "metadata": {},
          "execution_count": 235
        }
      ]
    },
    {
      "cell_type": "code",
      "metadata": {
        "id": "glj45ZRM4N-g"
      },
      "source": [
        "hosokum = []\n",
        "for i in hosoku:\n",
        "    for k in i:\n",
        "      hosokum.append(k)\n"
      ],
      "execution_count": 244,
      "outputs": []
    },
    {
      "cell_type": "code",
      "metadata": {
        "id": "mWzKHmIG4ebG"
      },
      "source": [
        "hosokumi = pd.DataFrame(hosokum)"
      ],
      "execution_count": 263,
      "outputs": []
    },
    {
      "cell_type": "code",
      "metadata": {
        "id": "eFEISUo057Qt"
      },
      "source": [
        "hosokumi = hosokumi.append(subm)"
      ],
      "execution_count": 264,
      "outputs": []
    },
    {
      "cell_type": "code",
      "metadata": {
        "id": "rQjWOcrz6DBV"
      },
      "source": [
        "hosokumi = hosokumi.reset_index()"
      ],
      "execution_count": 265,
      "outputs": []
    },
    {
      "cell_type": "code",
      "metadata": {
        "colab": {
          "base_uri": "https://localhost:8080/",
          "height": 419
        },
        "id": "EYjebzYb7PO8",
        "outputId": "20c08ce4-5038-45cf-c77a-a0a0f0a9beee"
      },
      "source": [
        "hosokumi\n"
      ],
      "execution_count": 266,
      "outputs": [
        {
          "output_type": "execute_result",
          "data": {
            "text/html": [
              "<div>\n",
              "<style scoped>\n",
              "    .dataframe tbody tr th:only-of-type {\n",
              "        vertical-align: middle;\n",
              "    }\n",
              "\n",
              "    .dataframe tbody tr th {\n",
              "        vertical-align: top;\n",
              "    }\n",
              "\n",
              "    .dataframe thead th {\n",
              "        text-align: right;\n",
              "    }\n",
              "</style>\n",
              "<table border=\"1\" class=\"dataframe\">\n",
              "  <thead>\n",
              "    <tr style=\"text-align: right;\">\n",
              "      <th></th>\n",
              "      <th>index</th>\n",
              "      <th>0</th>\n",
              "    </tr>\n",
              "  </thead>\n",
              "  <tbody>\n",
              "    <tr>\n",
              "      <th>0</th>\n",
              "      <td>0</td>\n",
              "      <td>3.291813</td>\n",
              "    </tr>\n",
              "    <tr>\n",
              "      <th>1</th>\n",
              "      <td>1</td>\n",
              "      <td>0.006433</td>\n",
              "    </tr>\n",
              "    <tr>\n",
              "      <th>2</th>\n",
              "      <td>2</td>\n",
              "      <td>2.256763</td>\n",
              "    </tr>\n",
              "    <tr>\n",
              "      <th>3</th>\n",
              "      <td>3</td>\n",
              "      <td>1891.297974</td>\n",
              "    </tr>\n",
              "    <tr>\n",
              "      <th>4</th>\n",
              "      <td>4</td>\n",
              "      <td>-0.020490</td>\n",
              "    </tr>\n",
              "    <tr>\n",
              "      <th>...</th>\n",
              "      <td>...</td>\n",
              "      <td>...</td>\n",
              "    </tr>\n",
              "    <tr>\n",
              "      <th>28507</th>\n",
              "      <td>23161</td>\n",
              "      <td>50.570942</td>\n",
              "    </tr>\n",
              "    <tr>\n",
              "      <th>28508</th>\n",
              "      <td>23162</td>\n",
              "      <td>70.842308</td>\n",
              "    </tr>\n",
              "    <tr>\n",
              "      <th>28509</th>\n",
              "      <td>23163</td>\n",
              "      <td>635.682739</td>\n",
              "    </tr>\n",
              "    <tr>\n",
              "      <th>28510</th>\n",
              "      <td>23164</td>\n",
              "      <td>-0.025717</td>\n",
              "    </tr>\n",
              "    <tr>\n",
              "      <th>28511</th>\n",
              "      <td>23165</td>\n",
              "      <td>1.564186</td>\n",
              "    </tr>\n",
              "  </tbody>\n",
              "</table>\n",
              "<p>28512 rows × 2 columns</p>\n",
              "</div>"
            ],
            "text/plain": [
              "       index            0\n",
              "0          0     3.291813\n",
              "1          1     0.006433\n",
              "2          2     2.256763\n",
              "3          3  1891.297974\n",
              "4          4    -0.020490\n",
              "...      ...          ...\n",
              "28507  23161    50.570942\n",
              "28508  23162    70.842308\n",
              "28509  23163   635.682739\n",
              "28510  23164    -0.025717\n",
              "28511  23165     1.564186\n",
              "\n",
              "[28512 rows x 2 columns]"
            ]
          },
          "metadata": {},
          "execution_count": 266
        }
      ]
    }
  ]
}