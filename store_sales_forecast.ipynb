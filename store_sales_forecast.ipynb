{
  "nbformat": 4,
  "nbformat_minor": 0,
  "metadata": {
    "colab": {
      "name": "store_sales_forecast",
      "provenance": [],
      "collapsed_sections": [],
      "include_colab_link": true
    },
    "kernelspec": {
      "name": "python3",
      "display_name": "Python 3"
    },
    "accelerator": "GPU"
  },
  "cells": [
    {
      "cell_type": "markdown",
      "metadata": {
        "id": "view-in-github",
        "colab_type": "text"
      },
      "source": [
        "<a href=\"https://colab.research.google.com/github/Keishin315/Keishin315/blob/main/store_sales_forecast.ipynb\" target=\"_parent\"><img src=\"https://colab.research.google.com/assets/colab-badge.svg\" alt=\"Open In Colab\"/></a>"
      ]
    },
    {
      "cell_type": "markdown",
      "metadata": {
        "id": "mf2ENBI217Zd"
      },
      "source": [
        "# This notebook provides a recipe for using Kaggle API with Colab"
      ]
    },
    {
      "cell_type": "code",
      "metadata": {
        "id": "YMvFLpBQlBTR",
        "colab": {
          "base_uri": "https://localhost:8080/"
        },
        "outputId": "39a15657-42fd-4f95-9a3b-6513b2ad3777"
      },
      "source": [
        "!pip install kaggle"
      ],
      "execution_count": 304,
      "outputs": [
        {
          "output_type": "stream",
          "name": "stdout",
          "text": [
            "Requirement already satisfied: kaggle in /usr/local/lib/python3.7/dist-packages (1.5.12)\n",
            "Requirement already satisfied: requests in /usr/local/lib/python3.7/dist-packages (from kaggle) (2.23.0)\n",
            "Requirement already satisfied: tqdm in /usr/local/lib/python3.7/dist-packages (from kaggle) (4.62.3)\n",
            "Requirement already satisfied: certifi in /usr/local/lib/python3.7/dist-packages (from kaggle) (2021.10.8)\n",
            "Requirement already satisfied: urllib3 in /usr/local/lib/python3.7/dist-packages (from kaggle) (1.24.3)\n",
            "Requirement already satisfied: six>=1.10 in /usr/local/lib/python3.7/dist-packages (from kaggle) (1.15.0)\n",
            "Requirement already satisfied: python-slugify in /usr/local/lib/python3.7/dist-packages (from kaggle) (5.0.2)\n",
            "Requirement already satisfied: python-dateutil in /usr/local/lib/python3.7/dist-packages (from kaggle) (2.8.2)\n",
            "Requirement already satisfied: text-unidecode>=1.3 in /usr/local/lib/python3.7/dist-packages (from python-slugify->kaggle) (1.3)\n",
            "Requirement already satisfied: chardet<4,>=3.0.2 in /usr/local/lib/python3.7/dist-packages (from requests->kaggle) (3.0.4)\n",
            "Requirement already satisfied: idna<3,>=2.5 in /usr/local/lib/python3.7/dist-packages (from requests->kaggle) (2.10)\n"
          ]
        }
      ]
    },
    {
      "cell_type": "markdown",
      "metadata": {
        "id": "pBETV6aO2d39"
      },
      "source": [
        "# API Credentials\n",
        "\n",
        "To use the Kaggle API, sign up for a Kaggle account at https://www.kaggle.com. Then go to the 'Account' tab of your user profile (https://www.kaggle.com/<username>/account) and select 'Create API Token'. This will trigger the download of kaggle.json, a file containing your API credentials. \n",
        "\n",
        "Place this file on your Google Drive anywhere.\n",
        "\n",
        "With the next snippet you download your credentials to Colab and you can start using Kaggle API"
      ]
    },
    {
      "cell_type": "code",
      "metadata": {
        "id": "y5_288BYp6H1",
        "outputId": "ca5ada60-66e0-40f3-ce9f-b9a48701b1cb",
        "colab": {
          "base_uri": "https://localhost:8080/",
          "height": 528
        }
      },
      "source": [
        "from googleapiclient.discovery import build\n",
        "import io, os\n",
        "from googleapiclient.http import MediaIoBaseDownload\n",
        "from google.colab import auth\n",
        "\n",
        "auth.authenticate_user()\n",
        "\n",
        "drive_service = build('drive', 'v3')\n",
        "results = drive_service.files().list(\n",
        "        q=\"name = 'kaggle.json'\", fields=\"files(id)\").execute()\n",
        "kaggle_api_key = results.get('files', [])\n",
        "\n",
        "filename = \"/content/.kaggle/kaggle.json\"\n",
        "os.makedirs(os.path.dirname(filename), exist_ok=True)\n",
        "\n",
        "request = drive_service.files().get_media(fileId=kaggle_api_key[0]['id'])\n",
        "fh = io.FileIO(filename, 'wb')\n",
        "downloader = MediaIoBaseDownload(fh, request)\n",
        "done = False\n",
        "while done is False:\n",
        "    status, done = downloader.next_chunk()\n",
        "    print(\"Download %d%%.\" % int(status.progress() * 100))\n",
        "os.chmod(filename, 600)"
      ],
      "execution_count": 305,
      "outputs": [
        {
          "output_type": "error",
          "ename": "KeyboardInterrupt",
          "evalue": "ignored",
          "traceback": [
            "\u001b[0;31m---------------------------------------------------------------------------\u001b[0m",
            "\u001b[0;31mKeyboardInterrupt\u001b[0m                         Traceback (most recent call last)",
            "\u001b[0;32m/usr/local/lib/python3.7/dist-packages/ipykernel/kernelbase.py\u001b[0m in \u001b[0;36m_input_request\u001b[0;34m(self, prompt, ident, parent, password)\u001b[0m\n\u001b[1;32m    728\u001b[0m             \u001b[0;32mtry\u001b[0m\u001b[0;34m:\u001b[0m\u001b[0;34m\u001b[0m\u001b[0;34m\u001b[0m\u001b[0m\n\u001b[0;32m--> 729\u001b[0;31m                 \u001b[0mident\u001b[0m\u001b[0;34m,\u001b[0m \u001b[0mreply\u001b[0m \u001b[0;34m=\u001b[0m \u001b[0mself\u001b[0m\u001b[0;34m.\u001b[0m\u001b[0msession\u001b[0m\u001b[0;34m.\u001b[0m\u001b[0mrecv\u001b[0m\u001b[0;34m(\u001b[0m\u001b[0mself\u001b[0m\u001b[0;34m.\u001b[0m\u001b[0mstdin_socket\u001b[0m\u001b[0;34m,\u001b[0m \u001b[0;36m0\u001b[0m\u001b[0;34m)\u001b[0m\u001b[0;34m\u001b[0m\u001b[0;34m\u001b[0m\u001b[0m\n\u001b[0m\u001b[1;32m    730\u001b[0m             \u001b[0;32mexcept\u001b[0m \u001b[0mException\u001b[0m\u001b[0;34m:\u001b[0m\u001b[0;34m\u001b[0m\u001b[0;34m\u001b[0m\u001b[0m\n",
            "\u001b[0;32m/usr/local/lib/python3.7/dist-packages/jupyter_client/session.py\u001b[0m in \u001b[0;36mrecv\u001b[0;34m(self, socket, mode, content, copy)\u001b[0m\n\u001b[1;32m    802\u001b[0m         \u001b[0;32mtry\u001b[0m\u001b[0;34m:\u001b[0m\u001b[0;34m\u001b[0m\u001b[0;34m\u001b[0m\u001b[0m\n\u001b[0;32m--> 803\u001b[0;31m             \u001b[0mmsg_list\u001b[0m \u001b[0;34m=\u001b[0m \u001b[0msocket\u001b[0m\u001b[0;34m.\u001b[0m\u001b[0mrecv_multipart\u001b[0m\u001b[0;34m(\u001b[0m\u001b[0mmode\u001b[0m\u001b[0;34m,\u001b[0m \u001b[0mcopy\u001b[0m\u001b[0;34m=\u001b[0m\u001b[0mcopy\u001b[0m\u001b[0;34m)\u001b[0m\u001b[0;34m\u001b[0m\u001b[0;34m\u001b[0m\u001b[0m\n\u001b[0m\u001b[1;32m    804\u001b[0m         \u001b[0;32mexcept\u001b[0m \u001b[0mzmq\u001b[0m\u001b[0;34m.\u001b[0m\u001b[0mZMQError\u001b[0m \u001b[0;32mas\u001b[0m \u001b[0me\u001b[0m\u001b[0;34m:\u001b[0m\u001b[0;34m\u001b[0m\u001b[0;34m\u001b[0m\u001b[0m\n",
            "\u001b[0;32m/usr/local/lib/python3.7/dist-packages/zmq/sugar/socket.py\u001b[0m in \u001b[0;36mrecv_multipart\u001b[0;34m(self, flags, copy, track)\u001b[0m\n\u001b[1;32m    624\u001b[0m         \"\"\"\n\u001b[0;32m--> 625\u001b[0;31m         \u001b[0mparts\u001b[0m \u001b[0;34m=\u001b[0m \u001b[0;34m[\u001b[0m\u001b[0mself\u001b[0m\u001b[0;34m.\u001b[0m\u001b[0mrecv\u001b[0m\u001b[0;34m(\u001b[0m\u001b[0mflags\u001b[0m\u001b[0;34m,\u001b[0m \u001b[0mcopy\u001b[0m\u001b[0;34m=\u001b[0m\u001b[0mcopy\u001b[0m\u001b[0;34m,\u001b[0m \u001b[0mtrack\u001b[0m\u001b[0;34m=\u001b[0m\u001b[0mtrack\u001b[0m\u001b[0;34m)\u001b[0m\u001b[0;34m]\u001b[0m\u001b[0;34m\u001b[0m\u001b[0;34m\u001b[0m\u001b[0m\n\u001b[0m\u001b[1;32m    626\u001b[0m         \u001b[0;31m# have first part already, only loop while more to receive\u001b[0m\u001b[0;34m\u001b[0m\u001b[0;34m\u001b[0m\u001b[0;34m\u001b[0m\u001b[0m\n",
            "\u001b[0;32mzmq/backend/cython/socket.pyx\u001b[0m in \u001b[0;36mzmq.backend.cython.socket.Socket.recv\u001b[0;34m()\u001b[0m\n",
            "\u001b[0;32mzmq/backend/cython/socket.pyx\u001b[0m in \u001b[0;36mzmq.backend.cython.socket.Socket.recv\u001b[0;34m()\u001b[0m\n",
            "\u001b[0;32mzmq/backend/cython/socket.pyx\u001b[0m in \u001b[0;36mzmq.backend.cython.socket._recv_copy\u001b[0;34m()\u001b[0m\n",
            "\u001b[0;32m/usr/local/lib/python3.7/dist-packages/zmq/backend/cython/checkrc.pxd\u001b[0m in \u001b[0;36mzmq.backend.cython.checkrc._check_rc\u001b[0;34m()\u001b[0m\n",
            "\u001b[0;31mKeyboardInterrupt\u001b[0m: ",
            "\nDuring handling of the above exception, another exception occurred:\n",
            "\u001b[0;31mKeyboardInterrupt\u001b[0m                         Traceback (most recent call last)",
            "\u001b[0;32m<ipython-input-305-8bbe35c77eee>\u001b[0m in \u001b[0;36m<module>\u001b[0;34m()\u001b[0m\n\u001b[1;32m      4\u001b[0m \u001b[0;32mfrom\u001b[0m \u001b[0mgoogle\u001b[0m\u001b[0;34m.\u001b[0m\u001b[0mcolab\u001b[0m \u001b[0;32mimport\u001b[0m \u001b[0mauth\u001b[0m\u001b[0;34m\u001b[0m\u001b[0;34m\u001b[0m\u001b[0m\n\u001b[1;32m      5\u001b[0m \u001b[0;34m\u001b[0m\u001b[0m\n\u001b[0;32m----> 6\u001b[0;31m \u001b[0mauth\u001b[0m\u001b[0;34m.\u001b[0m\u001b[0mauthenticate_user\u001b[0m\u001b[0;34m(\u001b[0m\u001b[0;34m)\u001b[0m\u001b[0;34m\u001b[0m\u001b[0;34m\u001b[0m\u001b[0m\n\u001b[0m\u001b[1;32m      7\u001b[0m \u001b[0;34m\u001b[0m\u001b[0m\n\u001b[1;32m      8\u001b[0m \u001b[0mdrive_service\u001b[0m \u001b[0;34m=\u001b[0m \u001b[0mbuild\u001b[0m\u001b[0;34m(\u001b[0m\u001b[0;34m'drive'\u001b[0m\u001b[0;34m,\u001b[0m \u001b[0;34m'v3'\u001b[0m\u001b[0;34m)\u001b[0m\u001b[0;34m\u001b[0m\u001b[0;34m\u001b[0m\u001b[0m\n",
            "\u001b[0;32m/usr/local/lib/python3.7/dist-packages/google/colab/auth.py\u001b[0m in \u001b[0;36mauthenticate_user\u001b[0;34m(clear_output)\u001b[0m\n\u001b[1;32m    151\u001b[0m     \u001b[0mcontext_manager\u001b[0m \u001b[0;34m=\u001b[0m \u001b[0m_output\u001b[0m\u001b[0;34m.\u001b[0m\u001b[0mtemporary\u001b[0m \u001b[0;32mif\u001b[0m \u001b[0mclear_output\u001b[0m \u001b[0;32melse\u001b[0m \u001b[0m_noop\u001b[0m\u001b[0;34m\u001b[0m\u001b[0;34m\u001b[0m\u001b[0m\n\u001b[1;32m    152\u001b[0m     \u001b[0;32mwith\u001b[0m \u001b[0mcontext_manager\u001b[0m\u001b[0;34m(\u001b[0m\u001b[0;34m)\u001b[0m\u001b[0;34m:\u001b[0m\u001b[0;34m\u001b[0m\u001b[0;34m\u001b[0m\u001b[0m\n\u001b[0;32m--> 153\u001b[0;31m       \u001b[0m_gcloud_login\u001b[0m\u001b[0;34m(\u001b[0m\u001b[0;34m)\u001b[0m\u001b[0;34m\u001b[0m\u001b[0;34m\u001b[0m\u001b[0m\n\u001b[0m\u001b[1;32m    154\u001b[0m     \u001b[0m_install_adc\u001b[0m\u001b[0;34m(\u001b[0m\u001b[0;34m)\u001b[0m\u001b[0;34m\u001b[0m\u001b[0;34m\u001b[0m\u001b[0m\n\u001b[1;32m    155\u001b[0m     \u001b[0mcolab_tpu_addr\u001b[0m \u001b[0;34m=\u001b[0m \u001b[0m_os\u001b[0m\u001b[0;34m.\u001b[0m\u001b[0menviron\u001b[0m\u001b[0;34m.\u001b[0m\u001b[0mget\u001b[0m\u001b[0;34m(\u001b[0m\u001b[0;34m'COLAB_TPU_ADDR'\u001b[0m\u001b[0;34m,\u001b[0m \u001b[0;34m''\u001b[0m\u001b[0;34m)\u001b[0m\u001b[0;34m\u001b[0m\u001b[0;34m\u001b[0m\u001b[0m\n",
            "\u001b[0;32m/usr/local/lib/python3.7/dist-packages/google/colab/auth.py\u001b[0m in \u001b[0;36m_gcloud_login\u001b[0;34m()\u001b[0m\n\u001b[1;32m     93\u001b[0m     \u001b[0;31m# https://github.com/jupyter/notebook/issues/3159\u001b[0m\u001b[0;34m\u001b[0m\u001b[0;34m\u001b[0m\u001b[0;34m\u001b[0m\u001b[0m\n\u001b[1;32m     94\u001b[0m     \u001b[0mprompt\u001b[0m \u001b[0;34m=\u001b[0m \u001b[0mprompt\u001b[0m\u001b[0;34m.\u001b[0m\u001b[0mrstrip\u001b[0m\u001b[0;34m(\u001b[0m\u001b[0;34m)\u001b[0m\u001b[0;34m\u001b[0m\u001b[0;34m\u001b[0m\u001b[0m\n\u001b[0;32m---> 95\u001b[0;31m     \u001b[0mcode\u001b[0m \u001b[0;34m=\u001b[0m \u001b[0mget_code\u001b[0m\u001b[0;34m(\u001b[0m\u001b[0mprompt\u001b[0m \u001b[0;34m+\u001b[0m \u001b[0;34m' '\u001b[0m\u001b[0;34m)\u001b[0m\u001b[0;34m\u001b[0m\u001b[0;34m\u001b[0m\u001b[0m\n\u001b[0m\u001b[1;32m     96\u001b[0m     \u001b[0mgcloud_process\u001b[0m\u001b[0;34m.\u001b[0m\u001b[0mcommunicate\u001b[0m\u001b[0;34m(\u001b[0m\u001b[0mcode\u001b[0m\u001b[0;34m.\u001b[0m\u001b[0mstrip\u001b[0m\u001b[0;34m(\u001b[0m\u001b[0;34m)\u001b[0m\u001b[0;34m)\u001b[0m\u001b[0;34m\u001b[0m\u001b[0;34m\u001b[0m\u001b[0m\n\u001b[1;32m     97\u001b[0m   \u001b[0;32mfinally\u001b[0m\u001b[0;34m:\u001b[0m\u001b[0;34m\u001b[0m\u001b[0;34m\u001b[0m\u001b[0m\n",
            "\u001b[0;32m/usr/local/lib/python3.7/dist-packages/ipykernel/kernelbase.py\u001b[0m in \u001b[0;36mraw_input\u001b[0;34m(self, prompt)\u001b[0m\n\u001b[1;32m    702\u001b[0m             \u001b[0mself\u001b[0m\u001b[0;34m.\u001b[0m\u001b[0m_parent_ident\u001b[0m\u001b[0;34m,\u001b[0m\u001b[0;34m\u001b[0m\u001b[0;34m\u001b[0m\u001b[0m\n\u001b[1;32m    703\u001b[0m             \u001b[0mself\u001b[0m\u001b[0;34m.\u001b[0m\u001b[0m_parent_header\u001b[0m\u001b[0;34m,\u001b[0m\u001b[0;34m\u001b[0m\u001b[0;34m\u001b[0m\u001b[0m\n\u001b[0;32m--> 704\u001b[0;31m             \u001b[0mpassword\u001b[0m\u001b[0;34m=\u001b[0m\u001b[0;32mFalse\u001b[0m\u001b[0;34m,\u001b[0m\u001b[0;34m\u001b[0m\u001b[0;34m\u001b[0m\u001b[0m\n\u001b[0m\u001b[1;32m    705\u001b[0m         )\n\u001b[1;32m    706\u001b[0m \u001b[0;34m\u001b[0m\u001b[0m\n",
            "\u001b[0;32m/usr/local/lib/python3.7/dist-packages/ipykernel/kernelbase.py\u001b[0m in \u001b[0;36m_input_request\u001b[0;34m(self, prompt, ident, parent, password)\u001b[0m\n\u001b[1;32m    732\u001b[0m             \u001b[0;32mexcept\u001b[0m \u001b[0mKeyboardInterrupt\u001b[0m\u001b[0;34m:\u001b[0m\u001b[0;34m\u001b[0m\u001b[0;34m\u001b[0m\u001b[0m\n\u001b[1;32m    733\u001b[0m                 \u001b[0;31m# re-raise KeyboardInterrupt, to truncate traceback\u001b[0m\u001b[0;34m\u001b[0m\u001b[0;34m\u001b[0m\u001b[0;34m\u001b[0m\u001b[0m\n\u001b[0;32m--> 734\u001b[0;31m                 \u001b[0;32mraise\u001b[0m \u001b[0mKeyboardInterrupt\u001b[0m\u001b[0;34m\u001b[0m\u001b[0;34m\u001b[0m\u001b[0m\n\u001b[0m\u001b[1;32m    735\u001b[0m             \u001b[0;32melse\u001b[0m\u001b[0;34m:\u001b[0m\u001b[0;34m\u001b[0m\u001b[0;34m\u001b[0m\u001b[0m\n\u001b[1;32m    736\u001b[0m                 \u001b[0;32mbreak\u001b[0m\u001b[0;34m\u001b[0m\u001b[0;34m\u001b[0m\u001b[0m\n",
            "\u001b[0;31mKeyboardInterrupt\u001b[0m: "
          ]
        }
      ]
    },
    {
      "cell_type": "code",
      "metadata": {
        "id": "oaslE8A8tjtf",
        "colab": {
          "resources": {
            "http://localhost:8080/nbextensions/google.colab/files.js": {
              "data": "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",
              "ok": true,
              "headers": [
                [
                  "content-type",
                  "application/javascript"
                ]
              ],
              "status": 200,
              "status_text": ""
            }
          },
          "base_uri": "https://localhost:8080/",
          "height": 73
        },
        "outputId": "fcc8f01c-a63f-4b55-e29d-bec37aca3677"
      },
      "source": [
        "import csv\n",
        "from google.colab import files\n",
        "uploaded = files.upload()"
      ],
      "execution_count": 306,
      "outputs": [
        {
          "output_type": "display_data",
          "data": {
            "text/html": [
              "\n",
              "     <input type=\"file\" id=\"files-1878d563-177d-475b-81c0-ea63dd80059c\" name=\"files[]\" multiple disabled\n",
              "        style=\"border:none\" />\n",
              "     <output id=\"result-1878d563-177d-475b-81c0-ea63dd80059c\">\n",
              "      Upload widget is only available when the cell has been executed in the\n",
              "      current browser session. Please rerun this cell to enable.\n",
              "      </output>\n",
              "      <script src=\"/nbextensions/google.colab/files.js\"></script> "
            ],
            "text/plain": [
              "<IPython.core.display.HTML object>"
            ]
          },
          "metadata": {}
        },
        {
          "output_type": "stream",
          "name": "stdout",
          "text": [
            "Saving kaggle.json to kaggle.json\n"
          ]
        }
      ]
    },
    {
      "cell_type": "code",
      "metadata": {
        "id": "YYGbxukVtgCm"
      },
      "source": [
        "!mkdir -p ~/.kaggle\n",
        "!mv kaggle.json ~/.kaggle/"
      ],
      "execution_count": 307,
      "outputs": []
    },
    {
      "cell_type": "code",
      "metadata": {
        "id": "5l1V_oxXsZ8l",
        "colab": {
          "base_uri": "https://localhost:8080/"
        },
        "outputId": "5b52768f-74b1-476a-9a97-d3cbacdba60b"
      },
      "source": [
        "!kaggle competitions list"
      ],
      "execution_count": 308,
      "outputs": [
        {
          "output_type": "stream",
          "name": "stdout",
          "text": [
            "Warning: Your Kaggle API key is readable by other users on this system! To fix this, you can run 'chmod 600 /root/.kaggle/kaggle.json'\n",
            "Warning: Looks like you're using an outdated API Version, please consider updating (server 1.5.12 / client 1.5.4)\n",
            "ref                                            deadline             category            reward  teamCount  userHasEntered  \n",
            "---------------------------------------------  -------------------  ---------------  ---------  ---------  --------------  \n",
            "contradictory-my-dear-watson                   2030-07-01 23:59:00  Getting Started     Prizes         80           False  \n",
            "gan-getting-started                            2030-07-01 23:59:00  Getting Started     Prizes         77           False  \n",
            "store-sales-time-series-forecasting            2030-06-30 23:59:00  Getting Started  Knowledge        808            True  \n",
            "tpu-getting-started                            2030-06-03 23:59:00  Getting Started  Knowledge        141           False  \n",
            "digit-recognizer                               2030-01-01 00:00:00  Getting Started  Knowledge       1594           False  \n",
            "titanic                                        2030-01-01 00:00:00  Getting Started  Knowledge      14353            True  \n",
            "house-prices-advanced-regression-techniques    2030-01-01 00:00:00  Getting Started  Knowledge       4857           False  \n",
            "connectx                                       2030-01-01 00:00:00  Getting Started  Knowledge        233           False  \n",
            "nlp-getting-started                            2030-01-01 00:00:00  Getting Started  Knowledge       1023           False  \n",
            "competitive-data-science-predict-future-sales  2022-12-31 23:59:00  Playground           Kudos      13062           False  \n",
            "tensorflow-great-barrier-reef                  2022-02-14 23:59:00  Research          $150,000        187           False  \n",
            "jigsaw-toxic-severity-rating                   2022-02-07 23:59:00  Featured           $50,000        734           False  \n",
            "g-research-crypto-forecasting                  2022-02-01 23:59:00  Featured          $125,000        768           False  \n",
            "petfinder-pawpularity-score                    2022-01-13 23:59:00  Research           $25,000       2488           False  \n",
            "santa-2021                                     2022-01-11 23:59:00  Featured           $25,000        541           False  \n",
            "optiver-realized-volatility-prediction         2022-01-10 23:59:00  Featured          $100,000       3852           False  \n",
            "nfl-big-data-bowl-2022                         2022-01-06 23:59:00  Analytics         $100,000          0           False  \n",
            "sartorius-cell-instance-segmentation           2021-12-30 23:59:00  Featured           $75,000       1100           False  \n",
            "wikipedia-image-caption                        2021-12-09 11:59:00  Playground            Swag         93           False  \n",
            "lux-ai-2021                                    2021-12-06 23:59:00  Featured           $10,000       1129           False  \n"
          ]
        }
      ]
    },
    {
      "cell_type": "code",
      "metadata": {
        "id": "XxcGRJCS4equ"
      },
      "source": [
        "!chmod 600 /root/.kaggle/kaggle.json"
      ],
      "execution_count": null,
      "outputs": []
    },
    {
      "cell_type": "code",
      "metadata": {
        "colab": {
          "base_uri": "https://localhost:8080/"
        },
        "id": "KUK9JJRG4wre",
        "outputId": "d8161c2f-2327-4c07-cfb5-c311b628c220"
      },
      "source": [
        "!kaggle competitions download -c store-sales-time-series-forecasting"
      ],
      "execution_count": 310,
      "outputs": [
        {
          "output_type": "stream",
          "name": "stdout",
          "text": [
            "Warning: Looks like you're using an outdated API Version, please consider updating (server 1.5.12 / client 1.5.4)\n",
            "transactions.csv.zip: Skipping, found more recently modified local copy (use --force to force download)\n",
            "stores.csv: Skipping, found more recently modified local copy (use --force to force download)\n",
            "sample_submission.csv: Skipping, found more recently modified local copy (use --force to force download)\n",
            "holidays_events.csv: Skipping, found more recently modified local copy (use --force to force download)\n",
            "train.csv.zip: Skipping, found more recently modified local copy (use --force to force download)\n",
            "oil.csv: Skipping, found more recently modified local copy (use --force to force download)\n",
            "test.csv: Skipping, found more recently modified local copy (use --force to force download)\n"
          ]
        }
      ]
    },
    {
      "cell_type": "markdown",
      "metadata": {
        "id": "29ZLWbCNTYeH"
      },
      "source": [
        "# **以下分析✈**"
      ]
    },
    {
      "cell_type": "code",
      "metadata": {
        "id": "kxmXJ7Q7Thiv"
      },
      "source": [
        "import pandas as pd\n",
        "import numpy as np\n",
        "from sklearn.preprocessing import MinMaxScaler\n",
        "from tensorflow.keras.models import Sequential\n",
        "from tensorflow.keras.layers import Dense,Dropout\n",
        "from tensorflow.keras.layers import LSTM\n",
        "from tensorflow.keras.optimizers import Adam"
      ],
      "execution_count": 311,
      "outputs": []
    },
    {
      "cell_type": "markdown",
      "metadata": {
        "id": "rPOD_aJFFeEU"
      },
      "source": [
        "ファイルの読み込み"
      ]
    },
    {
      "cell_type": "code",
      "metadata": {
        "id": "ksgE63FxT3B1"
      },
      "source": [
        "traincsv = pd.read_csv('train.csv.zip')"
      ],
      "execution_count": 312,
      "outputs": []
    },
    {
      "cell_type": "markdown",
      "metadata": {
        "id": "sjBFA4XSFlyK"
      },
      "source": [
        "datetimeオブジェクトに変換"
      ]
    },
    {
      "cell_type": "code",
      "metadata": {
        "id": "-cLb0b8go1Cf"
      },
      "source": [
        "traincsv.date = pd.to_datetime(traincsv[\"date\"])"
      ],
      "execution_count": 313,
      "outputs": []
    },
    {
      "cell_type": "markdown",
      "metadata": {
        "id": "q7fkB-m7FvqZ"
      },
      "source": [
        "ソートして、データセットを作る時のfor文を回せるようにする。"
      ]
    },
    {
      "cell_type": "code",
      "metadata": {
        "id": "MurnUoKKUp68"
      },
      "source": [
        "traincsv = traincsv.sort_values(['date','store_nbr','family'])"
      ],
      "execution_count": 314,
      "outputs": []
    },
    {
      "cell_type": "code",
      "metadata": {
        "colab": {
          "base_uri": "https://localhost:8080/",
          "height": 450
        },
        "id": "I4HSuNiGrffl",
        "outputId": "081e41a3-469a-430f-a015-bfbe16e856d1"
      },
      "source": [
        "train = traincsv.set_index('date').drop('id',axis = 1).copy()\n",
        "train"
      ],
      "execution_count": 328,
      "outputs": [
        {
          "output_type": "execute_result",
          "data": {
            "text/html": [
              "<div>\n",
              "<style scoped>\n",
              "    .dataframe tbody tr th:only-of-type {\n",
              "        vertical-align: middle;\n",
              "    }\n",
              "\n",
              "    .dataframe tbody tr th {\n",
              "        vertical-align: top;\n",
              "    }\n",
              "\n",
              "    .dataframe thead th {\n",
              "        text-align: right;\n",
              "    }\n",
              "</style>\n",
              "<table border=\"1\" class=\"dataframe\">\n",
              "  <thead>\n",
              "    <tr style=\"text-align: right;\">\n",
              "      <th></th>\n",
              "      <th>store_nbr</th>\n",
              "      <th>family</th>\n",
              "      <th>sales</th>\n",
              "      <th>onpromotion</th>\n",
              "    </tr>\n",
              "    <tr>\n",
              "      <th>date</th>\n",
              "      <th></th>\n",
              "      <th></th>\n",
              "      <th></th>\n",
              "      <th></th>\n",
              "    </tr>\n",
              "  </thead>\n",
              "  <tbody>\n",
              "    <tr>\n",
              "      <th>2013-01-01</th>\n",
              "      <td>1</td>\n",
              "      <td>AUTOMOTIVE</td>\n",
              "      <td>0.000</td>\n",
              "      <td>0</td>\n",
              "    </tr>\n",
              "    <tr>\n",
              "      <th>2013-01-01</th>\n",
              "      <td>1</td>\n",
              "      <td>BABY CARE</td>\n",
              "      <td>0.000</td>\n",
              "      <td>0</td>\n",
              "    </tr>\n",
              "    <tr>\n",
              "      <th>2013-01-01</th>\n",
              "      <td>1</td>\n",
              "      <td>BEAUTY</td>\n",
              "      <td>0.000</td>\n",
              "      <td>0</td>\n",
              "    </tr>\n",
              "    <tr>\n",
              "      <th>2013-01-01</th>\n",
              "      <td>1</td>\n",
              "      <td>BEVERAGES</td>\n",
              "      <td>0.000</td>\n",
              "      <td>0</td>\n",
              "    </tr>\n",
              "    <tr>\n",
              "      <th>2013-01-01</th>\n",
              "      <td>1</td>\n",
              "      <td>BOOKS</td>\n",
              "      <td>0.000</td>\n",
              "      <td>0</td>\n",
              "    </tr>\n",
              "    <tr>\n",
              "      <th>...</th>\n",
              "      <td>...</td>\n",
              "      <td>...</td>\n",
              "      <td>...</td>\n",
              "      <td>...</td>\n",
              "    </tr>\n",
              "    <tr>\n",
              "      <th>2017-08-15</th>\n",
              "      <td>54</td>\n",
              "      <td>POULTRY</td>\n",
              "      <td>59.619</td>\n",
              "      <td>0</td>\n",
              "    </tr>\n",
              "    <tr>\n",
              "      <th>2017-08-15</th>\n",
              "      <td>54</td>\n",
              "      <td>PREPARED FOODS</td>\n",
              "      <td>94.000</td>\n",
              "      <td>0</td>\n",
              "    </tr>\n",
              "    <tr>\n",
              "      <th>2017-08-15</th>\n",
              "      <td>54</td>\n",
              "      <td>PRODUCE</td>\n",
              "      <td>915.371</td>\n",
              "      <td>76</td>\n",
              "    </tr>\n",
              "    <tr>\n",
              "      <th>2017-08-15</th>\n",
              "      <td>54</td>\n",
              "      <td>SCHOOL AND OFFICE SUPPLIES</td>\n",
              "      <td>0.000</td>\n",
              "      <td>0</td>\n",
              "    </tr>\n",
              "    <tr>\n",
              "      <th>2017-08-15</th>\n",
              "      <td>54</td>\n",
              "      <td>SEAFOOD</td>\n",
              "      <td>3.000</td>\n",
              "      <td>0</td>\n",
              "    </tr>\n",
              "  </tbody>\n",
              "</table>\n",
              "<p>3000888 rows × 4 columns</p>\n",
              "</div>"
            ],
            "text/plain": [
              "            store_nbr                      family    sales  onpromotion\n",
              "date                                                                   \n",
              "2013-01-01          1                  AUTOMOTIVE    0.000            0\n",
              "2013-01-01          1                   BABY CARE    0.000            0\n",
              "2013-01-01          1                      BEAUTY    0.000            0\n",
              "2013-01-01          1                   BEVERAGES    0.000            0\n",
              "2013-01-01          1                       BOOKS    0.000            0\n",
              "...               ...                         ...      ...          ...\n",
              "2017-08-15         54                     POULTRY   59.619            0\n",
              "2017-08-15         54              PREPARED FOODS   94.000            0\n",
              "2017-08-15         54                     PRODUCE  915.371           76\n",
              "2017-08-15         54  SCHOOL AND OFFICE SUPPLIES    0.000            0\n",
              "2017-08-15         54                     SEAFOOD    3.000            0\n",
              "\n",
              "[3000888 rows x 4 columns]"
            ]
          },
          "metadata": {},
          "execution_count": 328
        }
      ]
    },
    {
      "cell_type": "markdown",
      "metadata": {
        "id": "bsPoV_YFGDiN"
      },
      "source": [
        "データを変数とラベルに分ける"
      ]
    },
    {
      "cell_type": "code",
      "metadata": {
        "id": "JYzBJKf-d086"
      },
      "source": [
        "trainY = train.sales\n",
        "train = train.drop('sales',axis = 1)"
      ],
      "execution_count": 329,
      "outputs": []
    },
    {
      "cell_type": "code",
      "metadata": {
        "id": "pi18p04qicWu"
      },
      "source": [
        "train = np.array(train)\n",
        "trainY = np.array(trainY)"
      ],
      "execution_count": 330,
      "outputs": []
    },
    {
      "cell_type": "markdown",
      "metadata": {
        "id": "GzHPFE3lGRqT"
      },
      "source": [
        "データセットを作るための関数（５３＊３３で一つのデータセットとする）"
      ]
    },
    {
      "cell_type": "code",
      "metadata": {
        "id": "kFYYORv7Xh0-"
      },
      "source": [
        "#datasetを作る\n",
        "\n",
        "def make_dataset(data,dataY):\n",
        "  datasetX = []\n",
        "  yset = []\n",
        "  max_length = len(data)\n",
        "  for i in range(54*33*4,max_length-54*33,54*33):\n",
        "    datasetX.append(data[i-54*33*4:i,2])\n",
        "    yset.append(dataY[i:i+54*33])\n",
        "\n",
        "  return datasetX,yset\n",
        "\n",
        "  "
      ],
      "execution_count": 331,
      "outputs": []
    },
    {
      "cell_type": "code",
      "metadata": {
        "id": "xpAVGaRCZ05i"
      },
      "source": [
        "trainX,trainY = make_dataset(train,trainY)"
      ],
      "execution_count": 332,
      "outputs": []
    },
    {
      "cell_type": "markdown",
      "metadata": {
        "id": "wgUgEBsKGhB2"
      },
      "source": [
        "スケーリングを行い、ネットワークが学習しやすいようにする。"
      ]
    },
    {
      "cell_type": "code",
      "metadata": {
        "id": "2jmiVe0Y0bKg"
      },
      "source": [
        "#scaling\n",
        "scaler = MinMaxScaler()  # データを0～1の範囲にスケールするための関数。\n",
        "scaler.fit(trainX)  # スケーリングに使用する最小／最大値を計算する。\n",
        "train = scaler.transform(trainX)  # Xをを0～1の範囲にスケーリングする。\n",
        "\n",
        "scaler1 = MinMaxScaler()  # データを0～1の範囲にスケールするための関数。\n",
        "scaler1.fit(trainY)  # スケーリングに使用する最小／最大値を計算する。\n",
        "trainY = scaler1.transform(trainY)  # Yをを0～1の範囲にスケーリングする。"
      ],
      "execution_count": 333,
      "outputs": []
    },
    {
      "cell_type": "markdown",
      "metadata": {
        "id": "K2iU_pmYG3ul"
      },
      "source": [
        "LSTMモデルにinputするためにデータの形を整形"
      ]
    },
    {
      "cell_type": "code",
      "metadata": {
        "colab": {
          "base_uri": "https://localhost:8080/"
        },
        "id": "fsUtBQsKgJsZ",
        "outputId": "356f38c0-ec06-4928-f577-8a4369592995"
      },
      "source": [
        "trainY = np.array(trainY)\n",
        "trainX = np.array(trainX)\n",
        "trainX = np.reshape(trainX,(trainX.shape[0],1,trainX.shape[1]))\n",
        "print(trainY.shape,trainX.shape)"
      ],
      "execution_count": 334,
      "outputs": [
        {
          "output_type": "stream",
          "name": "stdout",
          "text": [
            "(1679, 1782) (1679, 1, 7128)\n"
          ]
        }
      ]
    },
    {
      "cell_type": "code",
      "metadata": {
        "id": "yB_xJrlbgU9a"
      },
      "source": [
        "train_X = np.asarray(train_X).astype(np.float32)\n",
        "train_Y = np.asarray(train_Y).astype(np.float32)"
      ],
      "execution_count": 337,
      "outputs": []
    },
    {
      "cell_type": "markdown",
      "metadata": {
        "id": "z6QkA0TQHNFn"
      },
      "source": [
        "学習データと検証データに分ける"
      ]
    },
    {
      "cell_type": "code",
      "metadata": {
        "id": "zeSMRDDTiX_b"
      },
      "source": [
        "# train, testデータを定義\n",
        "train_X = trainX[:1000, :, :]\n",
        "test_X = trainX[1000:, :, :]\n",
        "train_Y = trainY[:1000, :]\n",
        "test_Y = trainY[1000:, :]"
      ],
      "execution_count": 336,
      "outputs": []
    },
    {
      "cell_type": "code",
      "metadata": {
        "id": "Hu0eyv5Vus-n"
      },
      "source": [
        "test_X = np.asarray(test_X).astype(np.float32)\n",
        "test_Y = np.asarray(test_Y).astype(np.float32)"
      ],
      "execution_count": 338,
      "outputs": []
    },
    {
      "cell_type": "code",
      "metadata": {
        "colab": {
          "base_uri": "https://localhost:8080/"
        },
        "id": "Xa3WWvs7gWHW",
        "outputId": "a8442de7-c062-4ba2-fe24-76732b80f1bc"
      },
      "source": [
        "train_Y"
      ],
      "execution_count": 339,
      "outputs": [
        {
          "output_type": "execute_result",
          "data": {
            "text/plain": [
              "array([[0.2631579 , 0.        , 0.25      , ..., 0.        , 0.        ,\n",
              "        0.04166667],\n",
              "       [0.10526316, 0.        , 0.        , ..., 0.        , 0.        ,\n",
              "        0.        ],\n",
              "       [0.        , 0.        , 0.08333334, ..., 0.        , 0.        ,\n",
              "        0.125     ],\n",
              "       ...,\n",
              "       [0.05263158, 0.        , 0.25      , ..., 0.209476  , 0.        ,\n",
              "        0.375     ],\n",
              "       [0.21052632, 0.        , 0.33333334, ..., 0.25854528, 0.        ,\n",
              "        0.20833333],\n",
              "       [0.5263158 , 0.        , 0.33333334, ..., 0.38161317, 0.        ,\n",
              "        0.125     ]], dtype=float32)"
            ]
          },
          "metadata": {},
          "execution_count": 339
        }
      ]
    },
    {
      "cell_type": "markdown",
      "metadata": {
        "id": "hlA6LLf8HVzq"
      },
      "source": [
        "LSTMモデルの定義と学習"
      ]
    },
    {
      "cell_type": "code",
      "metadata": {
        "colab": {
          "base_uri": "https://localhost:8080/"
        },
        "id": "VL1ZqkfAbKxf",
        "outputId": "a54d3e88-852d-4ef9-c3a3-b37429168174"
      },
      "source": [
        "model = Sequential()\n",
        "model.add(LSTM(50, input_shape=(1,7128)))\n",
        "model.add(Dense(1782))\n",
        "model.compile(loss='mean_squared_error', optimizer='adam')\n",
        "hist = model.fit(train_X,train_Y,epochs=20, batch_size=1, verbose=2)"
      ],
      "execution_count": 340,
      "outputs": [
        {
          "output_type": "stream",
          "name": "stdout",
          "text": [
            "Epoch 1/20\n",
            "1000/1000 - 7s - loss: 0.0133 - 7s/epoch - 7ms/step\n",
            "Epoch 2/20\n",
            "1000/1000 - 5s - loss: 0.0087 - 5s/epoch - 5ms/step\n",
            "Epoch 3/20\n",
            "1000/1000 - 5s - loss: 0.0084 - 5s/epoch - 5ms/step\n",
            "Epoch 4/20\n",
            "1000/1000 - 5s - loss: 0.0082 - 5s/epoch - 5ms/step\n",
            "Epoch 5/20\n",
            "1000/1000 - 5s - loss: 0.0082 - 5s/epoch - 5ms/step\n",
            "Epoch 6/20\n",
            "1000/1000 - 5s - loss: 0.0081 - 5s/epoch - 5ms/step\n",
            "Epoch 7/20\n",
            "1000/1000 - 5s - loss: 0.0081 - 5s/epoch - 5ms/step\n",
            "Epoch 8/20\n",
            "1000/1000 - 5s - loss: 0.0080 - 5s/epoch - 5ms/step\n",
            "Epoch 9/20\n",
            "1000/1000 - 5s - loss: 0.0080 - 5s/epoch - 5ms/step\n",
            "Epoch 10/20\n",
            "1000/1000 - 5s - loss: 0.0080 - 5s/epoch - 5ms/step\n",
            "Epoch 11/20\n",
            "1000/1000 - 5s - loss: 0.0080 - 5s/epoch - 5ms/step\n",
            "Epoch 12/20\n",
            "1000/1000 - 5s - loss: 0.0080 - 5s/epoch - 5ms/step\n",
            "Epoch 13/20\n",
            "1000/1000 - 5s - loss: 0.0080 - 5s/epoch - 5ms/step\n",
            "Epoch 14/20\n",
            "1000/1000 - 5s - loss: 0.0079 - 5s/epoch - 5ms/step\n",
            "Epoch 15/20\n",
            "1000/1000 - 5s - loss: 0.0079 - 5s/epoch - 5ms/step\n",
            "Epoch 16/20\n",
            "1000/1000 - 5s - loss: 0.0079 - 5s/epoch - 5ms/step\n",
            "Epoch 17/20\n",
            "1000/1000 - 5s - loss: 0.0079 - 5s/epoch - 5ms/step\n",
            "Epoch 18/20\n",
            "1000/1000 - 5s - loss: 0.0079 - 5s/epoch - 5ms/step\n",
            "Epoch 19/20\n",
            "1000/1000 - 5s - loss: 0.0079 - 5s/epoch - 5ms/step\n",
            "Epoch 20/20\n",
            "1000/1000 - 5s - loss: 0.0078 - 5s/epoch - 5ms/step\n"
          ]
        }
      ]
    },
    {
      "cell_type": "markdown",
      "metadata": {
        "id": "jhs7UmELHgq2"
      },
      "source": [
        "検証データの予測"
      ]
    },
    {
      "cell_type": "code",
      "metadata": {
        "id": "kBBnoSJVrIej"
      },
      "source": [
        "Predict = model.predict(test_X)"
      ],
      "execution_count": 341,
      "outputs": []
    },
    {
      "cell_type": "code",
      "metadata": {
        "colab": {
          "base_uri": "https://localhost:8080/"
        },
        "id": "JyzbEkLivkx6",
        "outputId": "beb055de-3ed9-417c-81d9-0e4ca206d8c4"
      },
      "source": [
        "Predict.shape"
      ],
      "execution_count": 342,
      "outputs": [
        {
          "output_type": "execute_result",
          "data": {
            "text/plain": [
              "(679, 1782)"
            ]
          },
          "metadata": {},
          "execution_count": 342
        }
      ]
    },
    {
      "cell_type": "markdown",
      "metadata": {
        "id": "7yNUW7csHok9"
      },
      "source": [
        "スケールを戻す"
      ]
    },
    {
      "cell_type": "code",
      "metadata": {
        "id": "7vfA8ZJ826ux"
      },
      "source": [
        "#scaleを元に戻す\n",
        "train_Y = scaler1.inverse_transform(train_Y)\n",
        "train_Y = pd.DataFrame(train_Y)\n",
        "\n",
        "\n",
        "test_Y = scaler1.inverse_transform(test_Y)\n",
        "test_Y = pd.DataFrame(test_Y)\n",
        "\n",
        "\n"
      ],
      "execution_count": 343,
      "outputs": []
    },
    {
      "cell_type": "code",
      "metadata": {
        "id": "NMRy-0kg3PoX"
      },
      "source": [
        "Predict = scaler1.inverse_transform(Predict)\n",
        "Predict = pd.DataFrame(Predict)\n"
      ],
      "execution_count": 344,
      "outputs": []
    },
    {
      "cell_type": "markdown",
      "metadata": {
        "id": "OqJejLiGHuq9"
      },
      "source": [
        "最初の５０個の正解データと予測データを可視化して比較してみる。"
      ]
    },
    {
      "cell_type": "code",
      "metadata": {
        "id": "fzoE-AnmuWMC"
      },
      "source": [
        "import matplotlib.pyplot as plt"
      ],
      "execution_count": 345,
      "outputs": []
    },
    {
      "cell_type": "code",
      "metadata": {
        "colab": {
          "base_uri": "https://localhost:8080/",
          "height": 592
        },
        "id": "8m5FMdk8uWOe",
        "outputId": "2458f215-8a1a-4de6-8c04-f4e4aac31959"
      },
      "source": [
        "plt.figure(figsize=(15,10))\n",
        "plt.plot(test_Y.iloc[0,:50], label = 'Test')\n",
        "plt.plot(Predict.iloc[0,:50], label = 'Prediction')\n",
        "plt.legend(loc='best')\n",
        "plt.show()"
      ],
      "execution_count": 346,
      "outputs": [
        {
          "output_type": "display_data",
          "data": {
            "image/png": "[encoded data removed]",
            "text/plain": [
              "<Figure size 1080x720 with 1 Axes>"
            ]
          },
          "metadata": {
            "needs_background": "light"
          }
        }
      ]
    },
    {
      "cell_type": "markdown",
      "metadata": {
        "id": "3vfJfJ2jIIDC"
      },
      "source": [
        "\n",
        "\n",
        "#\n",
        "\n",
        "\n",
        "\n",
        "\n",
        "\n",
        "#以下、提出データの作成（とても雑になりました。時間がある時にまたまとめます）\n",
        "\n",
        "\n",
        "---\n",
        "\n"
      ]
    },
    {
      "cell_type": "code",
      "metadata": {
        "id": "HA_l3yzguWXs"
      },
      "source": [
        "test = pd.read_csv('test.csv')"
      ],
      "execution_count": 354,
      "outputs": []
    },
    {
      "cell_type": "code",
      "metadata": {
        "id": "glWa132a8CY5"
      },
      "source": [
        "test.date = pd.to_datetime(test.date)"
      ],
      "execution_count": 355,
      "outputs": []
    },
    {
      "cell_type": "code",
      "metadata": {
        "id": "HNu2EPsbcJhD"
      },
      "source": [
        "tests = pd.read_csv('test.csv')"
      ],
      "execution_count": 356,
      "outputs": []
    },
    {
      "cell_type": "code",
      "metadata": {
        "colab": {
          "base_uri": "https://localhost:8080/"
        },
        "id": "tOuG0HjpcR9F",
        "outputId": "f9e86237-0718-4e82-d1f7-6d689a7d40f3"
      },
      "source": [
        "28512 - 5346"
      ],
      "execution_count": null,
      "outputs": [
        {
          "output_type": "execute_result",
          "data": {
            "text/plain": [
              "23166"
            ]
          },
          "metadata": {},
          "execution_count": 45
        }
      ]
    },
    {
      "cell_type": "code",
      "metadata": {
        "colab": {
          "base_uri": "https://localhost:8080/"
        },
        "id": "jE9xvzLTdgzj",
        "outputId": "68d25dc9-9657-4896-e8aa-da1b1f3bff97"
      },
      "source": [
        "23166/54/33"
      ],
      "execution_count": null,
      "outputs": [
        {
          "output_type": "execute_result",
          "data": {
            "text/plain": [
              "13.0"
            ]
          },
          "metadata": {},
          "execution_count": 46
        }
      ]
    },
    {
      "cell_type": "code",
      "metadata": {
        "colab": {
          "base_uri": "https://localhost:8080/"
        },
        "id": "TW7zUT-C9-lX",
        "outputId": "7ab5713e-6257-40eb-a97c-109fffbeff43"
      },
      "source": [
        "7128/1782"
      ],
      "execution_count": null,
      "outputs": [
        {
          "output_type": "execute_result",
          "data": {
            "text/plain": [
              "4.0"
            ]
          },
          "metadata": {},
          "execution_count": 97
        }
      ]
    },
    {
      "cell_type": "code",
      "metadata": {
        "colab": {
          "base_uri": "https://localhost:8080/"
        },
        "id": "2qNvGP4WEyXU",
        "outputId": "f4d96a16-3bd7-4032-fa71-e9fb2ddcc48f"
      },
      "source": [
        "54*33"
      ],
      "execution_count": null,
      "outputs": [
        {
          "output_type": "execute_result",
          "data": {
            "text/plain": [
              "1782"
            ]
          },
          "metadata": {},
          "execution_count": 87
        }
      ]
    },
    {
      "cell_type": "code",
      "metadata": {
        "id": "ukL1U8xQ91fe"
      },
      "source": [
        "def make_dataset_t(data):\n",
        "  datasetX = []\n",
        "  max_length = len(data)\n",
        "  for i in range(54*33*4,max_length-54*33+1,54*33):\n",
        "    datasetX.append(data[i-54*33*4:i,1])\n",
        "\n",
        "  return datasetX"
      ],
      "execution_count": 357,
      "outputs": []
    },
    {
      "cell_type": "code",
      "metadata": {
        "colab": {
          "base_uri": "https://localhost:8080/"
        },
        "id": "jE75aNfy54k3",
        "outputId": "33e185a7-56be-4f95-e490-b57c4a4392c5"
      },
      "source": [
        "\n",
        "test = test.sort_values(['date','store_nbr','family'])\n",
        "\n",
        "test = test.set_index('date').drop(['id','family'],axis = 1).copy()\n",
        "\n",
        "test = np.array(test)\n",
        "test = make_dataset_t(test)\n",
        "\n",
        "test = np.array(test)\n",
        "test = np.asarray(test).astype(np.float32)\n",
        "#scaling  # データを0～1の範囲にスケールするための関数。\n",
        "scaler.fit(test)  # スケーリングに使用する最小／最大値を計算する。\n",
        "test1 = scaler.transform(test)  # Xをを0～1の範囲にスケーリングする。\n",
        "\n",
        "\n",
        "test1 = np.reshape(test1,(test1.shape[0],1,test1.shape[1]))\n",
        "print(test1.shape)"
      ],
      "execution_count": 358,
      "outputs": [
        {
          "output_type": "stream",
          "name": "stdout",
          "text": [
            "(12, 1, 7128)\n"
          ]
        }
      ]
    },
    {
      "cell_type": "code",
      "metadata": {
        "colab": {
          "base_uri": "https://localhost:8080/"
        },
        "id": "GqqGDNu3FZEv",
        "outputId": "32f26f71-e702-4f9c-e651-47b4fdb8a668"
      },
      "source": [
        "test1.shape"
      ],
      "execution_count": 359,
      "outputs": [
        {
          "output_type": "execute_result",
          "data": {
            "text/plain": [
              "(12, 1, 7128)"
            ]
          },
          "metadata": {},
          "execution_count": 359
        }
      ]
    },
    {
      "cell_type": "code",
      "metadata": {
        "id": "-06BNkkl-bIv"
      },
      "source": [
        "sub = model.predict(test1)"
      ],
      "execution_count": 360,
      "outputs": []
    },
    {
      "cell_type": "code",
      "metadata": {
        "colab": {
          "base_uri": "https://localhost:8080/"
        },
        "id": "4dN7NJTy-9Xj",
        "outputId": "c712f239-2f1c-4c19-f946-6ce117ab1c2f"
      },
      "source": [
        "sub.shape"
      ],
      "execution_count": 361,
      "outputs": [
        {
          "output_type": "execute_result",
          "data": {
            "text/plain": [
              "(12, 1782)"
            ]
          },
          "metadata": {},
          "execution_count": 361
        }
      ]
    },
    {
      "cell_type": "code",
      "metadata": {
        "colab": {
          "base_uri": "https://localhost:8080/"
        },
        "id": "C0OOPN1fcA16",
        "outputId": "c4eb9fe0-6f96-413e-de38-ecab9147868f"
      },
      "source": [
        "1782*16"
      ],
      "execution_count": 362,
      "outputs": [
        {
          "output_type": "execute_result",
          "data": {
            "text/plain": [
              "28512"
            ]
          },
          "metadata": {},
          "execution_count": 362
        }
      ]
    },
    {
      "cell_type": "code",
      "metadata": {
        "id": "rNDEF9n7_UEF"
      },
      "source": [
        "sub=pd.DataFrame(sub)"
      ],
      "execution_count": 363,
      "outputs": []
    },
    {
      "cell_type": "code",
      "metadata": {
        "id": "PQyAtK7b-i48"
      },
      "source": [
        "sub = scaler1.inverse_transform(sub)"
      ],
      "execution_count": 364,
      "outputs": []
    },
    {
      "cell_type": "code",
      "metadata": {
        "colab": {
          "base_uri": "https://localhost:8080/",
          "height": 419
        },
        "id": "LmOblEaxDQnj",
        "outputId": "0f98636e-45c5-42d8-e88e-1454d5559bae"
      },
      "source": [
        "subm = []\n",
        "for i in sub:\n",
        "  for k in i:\n",
        "    subm.append(k)\n",
        "\n",
        "subm = pd.DataFrame(subm)\n",
        "subm"
      ],
      "execution_count": 365,
      "outputs": [
        {
          "output_type": "execute_result",
          "data": {
            "text/html": [
              "<div>\n",
              "<style scoped>\n",
              "    .dataframe tbody tr th:only-of-type {\n",
              "        vertical-align: middle;\n",
              "    }\n",
              "\n",
              "    .dataframe tbody tr th {\n",
              "        vertical-align: top;\n",
              "    }\n",
              "\n",
              "    .dataframe thead th {\n",
              "        text-align: right;\n",
              "    }\n",
              "</style>\n",
              "<table border=\"1\" class=\"dataframe\">\n",
              "  <thead>\n",
              "    <tr style=\"text-align: right;\">\n",
              "      <th></th>\n",
              "      <th>0</th>\n",
              "    </tr>\n",
              "  </thead>\n",
              "  <tbody>\n",
              "    <tr>\n",
              "      <th>0</th>\n",
              "      <td>3.105123</td>\n",
              "    </tr>\n",
              "    <tr>\n",
              "      <th>1</th>\n",
              "      <td>-0.003213</td>\n",
              "    </tr>\n",
              "    <tr>\n",
              "      <th>2</th>\n",
              "      <td>1.059287</td>\n",
              "    </tr>\n",
              "    <tr>\n",
              "      <th>3</th>\n",
              "      <td>1398.899292</td>\n",
              "    </tr>\n",
              "    <tr>\n",
              "      <th>4</th>\n",
              "      <td>0.006942</td>\n",
              "    </tr>\n",
              "    <tr>\n",
              "      <th>...</th>\n",
              "      <td>...</td>\n",
              "    </tr>\n",
              "    <tr>\n",
              "      <th>21379</th>\n",
              "      <td>45.747978</td>\n",
              "    </tr>\n",
              "    <tr>\n",
              "      <th>21380</th>\n",
              "      <td>61.840626</td>\n",
              "    </tr>\n",
              "    <tr>\n",
              "      <th>21381</th>\n",
              "      <td>386.204529</td>\n",
              "    </tr>\n",
              "    <tr>\n",
              "      <th>21382</th>\n",
              "      <td>0.041475</td>\n",
              "    </tr>\n",
              "    <tr>\n",
              "      <th>21383</th>\n",
              "      <td>1.456884</td>\n",
              "    </tr>\n",
              "  </tbody>\n",
              "</table>\n",
              "<p>21384 rows × 1 columns</p>\n",
              "</div>"
            ],
            "text/plain": [
              "                 0\n",
              "0         3.105123\n",
              "1        -0.003213\n",
              "2         1.059287\n",
              "3      1398.899292\n",
              "4         0.006942\n",
              "...            ...\n",
              "21379    45.747978\n",
              "21380    61.840626\n",
              "21381   386.204529\n",
              "21382     0.041475\n",
              "21383     1.456884\n",
              "\n",
              "[21384 rows x 1 columns]"
            ]
          },
          "metadata": {},
          "execution_count": 365
        }
      ]
    },
    {
      "cell_type": "markdown",
      "metadata": {
        "id": "Fb_WHL5pcwAn"
      },
      "source": [
        "# **ii)**"
      ]
    },
    {
      "cell_type": "code",
      "metadata": {
        "id": "EGv96r45cyE3"
      },
      "source": [
        "hosokumi = hosokumi.drop('index',axis = 1)"
      ],
      "execution_count": 406,
      "outputs": []
    },
    {
      "cell_type": "code",
      "metadata": {
        "id": "TF31exgjDQqI"
      },
      "source": [
        "hosokumi['id'] = pd.DataFrame(list(range(3000888,3029400)))\n",
        "hosokumi = hosokumi.set_index(['id'])"
      ],
      "execution_count": 407,
      "outputs": []
    },
    {
      "cell_type": "code",
      "metadata": {
        "id": "7b8zE0Jaqm_O"
      },
      "source": [
        "hosokumi['sales'] = hosokumi.iloc[:,0].copy()"
      ],
      "execution_count": 409,
      "outputs": []
    },
    {
      "cell_type": "code",
      "metadata": {
        "id": "cochObrTrzKQ"
      },
      "source": [
        "hosokumi = hosokumi.drop(0,axis = 1)"
      ],
      "execution_count": 410,
      "outputs": []
    },
    {
      "cell_type": "code",
      "metadata": {
        "colab": {
          "base_uri": "https://localhost:8080/",
          "height": 450
        },
        "id": "gwPuN9Pv7Ap4",
        "outputId": "10784e15-878b-4b1c-d7a3-ab982c4b3487"
      },
      "source": [
        "hosokumi"
      ],
      "execution_count": 411,
      "outputs": [
        {
          "output_type": "execute_result",
          "data": {
            "text/html": [
              "<div>\n",
              "<style scoped>\n",
              "    .dataframe tbody tr th:only-of-type {\n",
              "        vertical-align: middle;\n",
              "    }\n",
              "\n",
              "    .dataframe tbody tr th {\n",
              "        vertical-align: top;\n",
              "    }\n",
              "\n",
              "    .dataframe thead th {\n",
              "        text-align: right;\n",
              "    }\n",
              "</style>\n",
              "<table border=\"1\" class=\"dataframe\">\n",
              "  <thead>\n",
              "    <tr style=\"text-align: right;\">\n",
              "      <th></th>\n",
              "      <th>sales</th>\n",
              "    </tr>\n",
              "    <tr>\n",
              "      <th>id</th>\n",
              "      <th></th>\n",
              "    </tr>\n",
              "  </thead>\n",
              "  <tbody>\n",
              "    <tr>\n",
              "      <th>3000888</th>\n",
              "      <td>3.886041</td>\n",
              "    </tr>\n",
              "    <tr>\n",
              "      <th>3000889</th>\n",
              "      <td>4.003090</td>\n",
              "    </tr>\n",
              "    <tr>\n",
              "      <th>3000890</th>\n",
              "      <td>4.143873</td>\n",
              "    </tr>\n",
              "    <tr>\n",
              "      <th>3000891</th>\n",
              "      <td>4.179241</td>\n",
              "    </tr>\n",
              "    <tr>\n",
              "      <th>3000892</th>\n",
              "      <td>-0.001333</td>\n",
              "    </tr>\n",
              "    <tr>\n",
              "      <th>...</th>\n",
              "      <td>...</td>\n",
              "    </tr>\n",
              "    <tr>\n",
              "      <th>3029395</th>\n",
              "      <td>45.747978</td>\n",
              "    </tr>\n",
              "    <tr>\n",
              "      <th>3029396</th>\n",
              "      <td>61.840626</td>\n",
              "    </tr>\n",
              "    <tr>\n",
              "      <th>3029397</th>\n",
              "      <td>386.204529</td>\n",
              "    </tr>\n",
              "    <tr>\n",
              "      <th>3029398</th>\n",
              "      <td>0.041475</td>\n",
              "    </tr>\n",
              "    <tr>\n",
              "      <th>3029399</th>\n",
              "      <td>1.456884</td>\n",
              "    </tr>\n",
              "  </tbody>\n",
              "</table>\n",
              "<p>28512 rows × 1 columns</p>\n",
              "</div>"
            ],
            "text/plain": [
              "              sales\n",
              "id                 \n",
              "3000888    3.886041\n",
              "3000889    4.003090\n",
              "3000890    4.143873\n",
              "3000891    4.179241\n",
              "3000892   -0.001333\n",
              "...             ...\n",
              "3029395   45.747978\n",
              "3029396   61.840626\n",
              "3029397  386.204529\n",
              "3029398    0.041475\n",
              "3029399    1.456884\n",
              "\n",
              "[28512 rows x 1 columns]"
            ]
          },
          "metadata": {},
          "execution_count": 411
        }
      ]
    },
    {
      "cell_type": "code",
      "metadata": {
        "id": "qm6Z3R7UpBvH"
      },
      "source": [
        "hosokumi.to_csv('pred.csv')"
      ],
      "execution_count": 412,
      "outputs": []
    },
    {
      "cell_type": "code",
      "metadata": {
        "colab": {
          "base_uri": "https://localhost:8080/"
        },
        "id": "8sEaMdb1oz72",
        "outputId": "09863372-aadc-4868-9523-88cb2fb924f4"
      },
      "source": [
        "!kaggle competitions submit -c store-sales-time-series-forecasting -f pred.csv -m test"
      ],
      "execution_count": 413,
      "outputs": [
        {
          "output_type": "stream",
          "name": "stdout",
          "text": [
            "Warning: Looks like you're using an outdated API Version, please consider updating (server 1.5.12 / client 1.5.4)\n",
            "100% 741k/741k [00:01<00:00, 417kB/s]\n",
            "400 - Bad Request\n"
          ]
        }
      ]
    },
    {
      "cell_type": "markdown",
      "metadata": {
        "id": "2E5fTtB2b2gq"
      },
      "source": [
        "# **i)**"
      ]
    },
    {
      "cell_type": "code",
      "metadata": {
        "id": "8B_ap0QQDQtE"
      },
      "source": [
        "spe = traincsv.sort_values(['date','store_nbr','family']).drop(['id','sales'],axis = 1).copy()"
      ],
      "execution_count": 378,
      "outputs": []
    },
    {
      "cell_type": "code",
      "metadata": {
        "id": "6TRwXqhQhfEB"
      },
      "source": [
        "spe = spe.iloc[-54*33*4:,:]\n",
        "spe = spe.drop(['store_nbr','family'],axis = 1)"
      ],
      "execution_count": 379,
      "outputs": []
    },
    {
      "cell_type": "code",
      "metadata": {
        "id": "a2Q8KLHuwkQU"
      },
      "source": [
        "testdash = tests.sort_values(['date','store_nbr','family'])[:54*33*4]"
      ],
      "execution_count": 380,
      "outputs": []
    },
    {
      "cell_type": "code",
      "metadata": {
        "id": "4SgwEFZDwR3W"
      },
      "source": [
        "spe = spe.onpromotion.append(testdash.onpromotion)"
      ],
      "execution_count": 381,
      "outputs": []
    },
    {
      "cell_type": "code",
      "metadata": {
        "id": "8RDkV70xzakV"
      },
      "source": [
        "spe = spe.reset_index()"
      ],
      "execution_count": 382,
      "outputs": []
    },
    {
      "cell_type": "code",
      "metadata": {
        "id": "IcKgzOaJz2Tb"
      },
      "source": [
        "spe = spe.drop('index',axis = 1)"
      ],
      "execution_count": 383,
      "outputs": []
    },
    {
      "cell_type": "code",
      "metadata": {
        "id": "TMv8iFQw1O8q"
      },
      "source": [
        "spe = np.array(spe)"
      ],
      "execution_count": 384,
      "outputs": []
    },
    {
      "cell_type": "code",
      "metadata": {
        "colab": {
          "base_uri": "https://localhost:8080/"
        },
        "id": "tdzaStSoz-0m",
        "outputId": "19b480f1-0e90-4fdd-cd30-007b317f4d51"
      },
      "source": [
        "datasetX = []\n",
        "max_length = len(spe)\n",
        "for i in range(54*33*4,max_length-54*33+1,54*33):\n",
        "  datasetX.append(spe[i-54*33*4:i,0])\n",
        "datasetX"
      ],
      "execution_count": 392,
      "outputs": [
        {
          "output_type": "execute_result",
          "data": {
            "text/plain": [
              "[array([ 0,  0,  1, ..., 76,  0,  0]),\n",
              " array([  0,   0,   0, ..., 225,  14,   0]),\n",
              " array([0, 0, 1, ..., 0, 0, 0]),\n",
              " array([0, 0, 1, ..., 2, 0, 0])]"
            ]
          },
          "metadata": {},
          "execution_count": 392
        }
      ]
    },
    {
      "cell_type": "code",
      "metadata": {
        "id": "QlKuPvHT1xFe"
      },
      "source": [
        "datasetX = np.array(datasetX)"
      ],
      "execution_count": 393,
      "outputs": []
    },
    {
      "cell_type": "code",
      "metadata": {
        "id": "b3xVpYg73LuG"
      },
      "source": [
        "scaler.fit(datasetX)  # スケーリングに使用する最小／最大値を計算する。\n",
        "datasetX = scaler.transform(datasetX)"
      ],
      "execution_count": 394,
      "outputs": []
    },
    {
      "cell_type": "code",
      "metadata": {
        "colab": {
          "base_uri": "https://localhost:8080/"
        },
        "id": "socg0mSL12bu",
        "outputId": "3771a149-78f0-4da2-ed6c-e7c0681556a2"
      },
      "source": [
        "datasetX.shape"
      ],
      "execution_count": 395,
      "outputs": [
        {
          "output_type": "execute_result",
          "data": {
            "text/plain": [
              "(4, 7128)"
            ]
          },
          "metadata": {},
          "execution_count": 395
        }
      ]
    },
    {
      "cell_type": "code",
      "metadata": {
        "colab": {
          "base_uri": "https://localhost:8080/"
        },
        "id": "N8g2uY-V2DQG",
        "outputId": "c1dcfa0e-d427-498c-f0ba-3e3a2fcb76f0"
      },
      "source": [
        "datasetX = np.reshape(datasetX,(4,1,54*33*4))\n",
        "datasetX.shape"
      ],
      "execution_count": 396,
      "outputs": [
        {
          "output_type": "execute_result",
          "data": {
            "text/plain": [
              "(4, 1, 7128)"
            ]
          },
          "metadata": {},
          "execution_count": 396
        }
      ]
    },
    {
      "cell_type": "code",
      "metadata": {
        "id": "U64ybKhW14R8"
      },
      "source": [
        "hosoku = model.predict(datasetX)"
      ],
      "execution_count": 397,
      "outputs": []
    },
    {
      "cell_type": "code",
      "metadata": {
        "id": "wQ7phaMC2Zxo"
      },
      "source": [
        "hosoku = pd.DataFrame(hosoku)\n",
        "hosoku = scaler1.inverse_transform(hosoku)"
      ],
      "execution_count": 398,
      "outputs": []
    },
    {
      "cell_type": "code",
      "metadata": {
        "colab": {
          "base_uri": "https://localhost:8080/",
          "height": 222
        },
        "id": "2YGkznqq3rKf",
        "outputId": "4c05017d-66ed-48c1-c40e-2413823401d0"
      },
      "source": [
        "hosoku = pd.DataFrame(hosoku)\n",
        "hosoku"
      ],
      "execution_count": 399,
      "outputs": [
        {
          "output_type": "execute_result",
          "data": {
            "text/html": [
              "<div>\n",
              "<style scoped>\n",
              "    .dataframe tbody tr th:only-of-type {\n",
              "        vertical-align: middle;\n",
              "    }\n",
              "\n",
              "    .dataframe tbody tr th {\n",
              "        vertical-align: top;\n",
              "    }\n",
              "\n",
              "    .dataframe thead th {\n",
              "        text-align: right;\n",
              "    }\n",
              "</style>\n",
              "<table border=\"1\" class=\"dataframe\">\n",
              "  <thead>\n",
              "    <tr style=\"text-align: right;\">\n",
              "      <th></th>\n",
              "      <th>0</th>\n",
              "      <th>1</th>\n",
              "      <th>2</th>\n",
              "      <th>3</th>\n",
              "      <th>4</th>\n",
              "      <th>5</th>\n",
              "      <th>6</th>\n",
              "      <th>7</th>\n",
              "      <th>8</th>\n",
              "      <th>9</th>\n",
              "      <th>10</th>\n",
              "      <th>11</th>\n",
              "      <th>12</th>\n",
              "      <th>13</th>\n",
              "      <th>14</th>\n",
              "      <th>15</th>\n",
              "      <th>16</th>\n",
              "      <th>17</th>\n",
              "      <th>18</th>\n",
              "      <th>19</th>\n",
              "      <th>20</th>\n",
              "      <th>21</th>\n",
              "      <th>22</th>\n",
              "      <th>23</th>\n",
              "      <th>24</th>\n",
              "      <th>25</th>\n",
              "      <th>26</th>\n",
              "      <th>27</th>\n",
              "      <th>28</th>\n",
              "      <th>29</th>\n",
              "      <th>30</th>\n",
              "      <th>31</th>\n",
              "      <th>32</th>\n",
              "      <th>33</th>\n",
              "      <th>34</th>\n",
              "      <th>35</th>\n",
              "      <th>36</th>\n",
              "      <th>37</th>\n",
              "      <th>38</th>\n",
              "      <th>39</th>\n",
              "      <th>...</th>\n",
              "      <th>1742</th>\n",
              "      <th>1743</th>\n",
              "      <th>1744</th>\n",
              "      <th>1745</th>\n",
              "      <th>1746</th>\n",
              "      <th>1747</th>\n",
              "      <th>1748</th>\n",
              "      <th>1749</th>\n",
              "      <th>1750</th>\n",
              "      <th>1751</th>\n",
              "      <th>1752</th>\n",
              "      <th>1753</th>\n",
              "      <th>1754</th>\n",
              "      <th>1755</th>\n",
              "      <th>1756</th>\n",
              "      <th>1757</th>\n",
              "      <th>1758</th>\n",
              "      <th>1759</th>\n",
              "      <th>1760</th>\n",
              "      <th>1761</th>\n",
              "      <th>1762</th>\n",
              "      <th>1763</th>\n",
              "      <th>1764</th>\n",
              "      <th>1765</th>\n",
              "      <th>1766</th>\n",
              "      <th>1767</th>\n",
              "      <th>1768</th>\n",
              "      <th>1769</th>\n",
              "      <th>1770</th>\n",
              "      <th>1771</th>\n",
              "      <th>1772</th>\n",
              "      <th>1773</th>\n",
              "      <th>1774</th>\n",
              "      <th>1775</th>\n",
              "      <th>1776</th>\n",
              "      <th>1777</th>\n",
              "      <th>1778</th>\n",
              "      <th>1779</th>\n",
              "      <th>1780</th>\n",
              "      <th>1781</th>\n",
              "    </tr>\n",
              "  </thead>\n",
              "  <tbody>\n",
              "    <tr>\n",
              "      <th>0</th>\n",
              "      <td>3.886041</td>\n",
              "      <td>-0.001333</td>\n",
              "      <td>2.219401</td>\n",
              "      <td>2032.573120</td>\n",
              "      <td>-0.000768</td>\n",
              "      <td>418.610413</td>\n",
              "      <td>8.143600</td>\n",
              "      <td>771.818237</td>\n",
              "      <td>751.061707</td>\n",
              "      <td>136.383057</td>\n",
              "      <td>158.953781</td>\n",
              "      <td>99.915054</td>\n",
              "      <td>2454.293457</td>\n",
              "      <td>33.839798</td>\n",
              "      <td>1.869568</td>\n",
              "      <td>20.259209</td>\n",
              "      <td>9.582001</td>\n",
              "      <td>0.351770</td>\n",
              "      <td>147.932617</td>\n",
              "      <td>17.500801</td>\n",
              "      <td>12.413411</td>\n",
              "      <td>9.460608</td>\n",
              "      <td>114.784157</td>\n",
              "      <td>2.102675</td>\n",
              "      <td>344.468231</td>\n",
              "      <td>148.655258</td>\n",
              "      <td>5.455626</td>\n",
              "      <td>5.398743</td>\n",
              "      <td>331.600677</td>\n",
              "      <td>96.854118</td>\n",
              "      <td>2692.268555</td>\n",
              "      <td>0.337917</td>\n",
              "      <td>29.709518</td>\n",
              "      <td>5.967448</td>\n",
              "      <td>0.005930</td>\n",
              "      <td>3.404236</td>\n",
              "      <td>2333.261719</td>\n",
              "      <td>0.020456</td>\n",
              "      <td>524.789246</td>\n",
              "      <td>7.750420</td>\n",
              "      <td>...</td>\n",
              "      <td>1.159169</td>\n",
              "      <td>2.612693</td>\n",
              "      <td>139.485138</td>\n",
              "      <td>49.197395</td>\n",
              "      <td>1445.059082</td>\n",
              "      <td>1.149245</td>\n",
              "      <td>4.206088</td>\n",
              "      <td>4.473545</td>\n",
              "      <td>0.086599</td>\n",
              "      <td>0.565718</td>\n",
              "      <td>934.135742</td>\n",
              "      <td>0.001750</td>\n",
              "      <td>204.899551</td>\n",
              "      <td>3.170211</td>\n",
              "      <td>789.860535</td>\n",
              "      <td>139.440430</td>\n",
              "      <td>161.924622</td>\n",
              "      <td>68.030472</td>\n",
              "      <td>24.334999</td>\n",
              "      <td>2038.653564</td>\n",
              "      <td>7.972449</td>\n",
              "      <td>0.506292</td>\n",
              "      <td>14.195752</td>\n",
              "      <td>9.506375</td>\n",
              "      <td>0.185641</td>\n",
              "      <td>138.141724</td>\n",
              "      <td>-0.000335</td>\n",
              "      <td>0.001789</td>\n",
              "      <td>2.787092</td>\n",
              "      <td>28.209297</td>\n",
              "      <td>0.103521</td>\n",
              "      <td>44.094048</td>\n",
              "      <td>136.290573</td>\n",
              "      <td>0.103861</td>\n",
              "      <td>1.596558</td>\n",
              "      <td>46.149334</td>\n",
              "      <td>58.964542</td>\n",
              "      <td>351.396759</td>\n",
              "      <td>0.014864</td>\n",
              "      <td>1.528277</td>\n",
              "    </tr>\n",
              "    <tr>\n",
              "      <th>1</th>\n",
              "      <td>4.003090</td>\n",
              "      <td>-0.001779</td>\n",
              "      <td>2.125535</td>\n",
              "      <td>2149.405762</td>\n",
              "      <td>-0.002029</td>\n",
              "      <td>424.319733</td>\n",
              "      <td>9.334998</td>\n",
              "      <td>769.164368</td>\n",
              "      <td>758.016357</td>\n",
              "      <td>140.843872</td>\n",
              "      <td>161.234299</td>\n",
              "      <td>108.143387</td>\n",
              "      <td>2488.014893</td>\n",
              "      <td>33.544853</td>\n",
              "      <td>2.020538</td>\n",
              "      <td>20.545092</td>\n",
              "      <td>10.662827</td>\n",
              "      <td>0.301700</td>\n",
              "      <td>163.902267</td>\n",
              "      <td>18.885439</td>\n",
              "      <td>12.957769</td>\n",
              "      <td>9.642814</td>\n",
              "      <td>119.095161</td>\n",
              "      <td>2.329113</td>\n",
              "      <td>362.031586</td>\n",
              "      <td>150.640839</td>\n",
              "      <td>6.139237</td>\n",
              "      <td>5.897951</td>\n",
              "      <td>341.723969</td>\n",
              "      <td>97.468582</td>\n",
              "      <td>2932.224854</td>\n",
              "      <td>0.358872</td>\n",
              "      <td>30.715494</td>\n",
              "      <td>5.829544</td>\n",
              "      <td>0.008308</td>\n",
              "      <td>3.523955</td>\n",
              "      <td>2509.832764</td>\n",
              "      <td>0.033890</td>\n",
              "      <td>553.461914</td>\n",
              "      <td>8.992963</td>\n",
              "      <td>...</td>\n",
              "      <td>1.305594</td>\n",
              "      <td>3.047790</td>\n",
              "      <td>149.941772</td>\n",
              "      <td>53.789558</td>\n",
              "      <td>1600.991333</td>\n",
              "      <td>1.197345</td>\n",
              "      <td>4.708813</td>\n",
              "      <td>4.664131</td>\n",
              "      <td>0.145825</td>\n",
              "      <td>0.548108</td>\n",
              "      <td>1034.946533</td>\n",
              "      <td>0.002159</td>\n",
              "      <td>207.729614</td>\n",
              "      <td>3.626001</td>\n",
              "      <td>809.869690</td>\n",
              "      <td>137.660980</td>\n",
              "      <td>165.956284</td>\n",
              "      <td>65.505188</td>\n",
              "      <td>23.506598</td>\n",
              "      <td>2074.981201</td>\n",
              "      <td>7.930977</td>\n",
              "      <td>0.442962</td>\n",
              "      <td>15.443693</td>\n",
              "      <td>10.972732</td>\n",
              "      <td>0.189099</td>\n",
              "      <td>159.326828</td>\n",
              "      <td>-0.000942</td>\n",
              "      <td>0.001147</td>\n",
              "      <td>2.437653</td>\n",
              "      <td>28.550907</td>\n",
              "      <td>0.114845</td>\n",
              "      <td>44.401665</td>\n",
              "      <td>140.933975</td>\n",
              "      <td>0.128467</td>\n",
              "      <td>1.758435</td>\n",
              "      <td>45.790798</td>\n",
              "      <td>61.996269</td>\n",
              "      <td>408.898285</td>\n",
              "      <td>0.040890</td>\n",
              "      <td>1.470468</td>\n",
              "    </tr>\n",
              "    <tr>\n",
              "      <th>2</th>\n",
              "      <td>4.143873</td>\n",
              "      <td>-0.002734</td>\n",
              "      <td>2.116862</td>\n",
              "      <td>1889.585327</td>\n",
              "      <td>0.006846</td>\n",
              "      <td>408.726837</td>\n",
              "      <td>8.113087</td>\n",
              "      <td>700.615479</td>\n",
              "      <td>708.716858</td>\n",
              "      <td>150.085388</td>\n",
              "      <td>152.234619</td>\n",
              "      <td>94.872536</td>\n",
              "      <td>2304.335205</td>\n",
              "      <td>28.372984</td>\n",
              "      <td>1.990599</td>\n",
              "      <td>17.641485</td>\n",
              "      <td>11.581491</td>\n",
              "      <td>0.307477</td>\n",
              "      <td>133.770111</td>\n",
              "      <td>13.593652</td>\n",
              "      <td>10.011365</td>\n",
              "      <td>8.082395</td>\n",
              "      <td>111.963959</td>\n",
              "      <td>1.877423</td>\n",
              "      <td>374.159821</td>\n",
              "      <td>150.770660</td>\n",
              "      <td>5.469233</td>\n",
              "      <td>3.974858</td>\n",
              "      <td>324.484741</td>\n",
              "      <td>92.017342</td>\n",
              "      <td>1560.817139</td>\n",
              "      <td>0.246250</td>\n",
              "      <td>28.204739</td>\n",
              "      <td>4.702514</td>\n",
              "      <td>0.013174</td>\n",
              "      <td>3.198986</td>\n",
              "      <td>2329.602051</td>\n",
              "      <td>0.036993</td>\n",
              "      <td>578.379883</td>\n",
              "      <td>7.966854</td>\n",
              "      <td>...</td>\n",
              "      <td>1.170403</td>\n",
              "      <td>2.568480</td>\n",
              "      <td>155.093842</td>\n",
              "      <td>55.872658</td>\n",
              "      <td>818.539795</td>\n",
              "      <td>0.410800</td>\n",
              "      <td>5.030066</td>\n",
              "      <td>4.555359</td>\n",
              "      <td>0.235392</td>\n",
              "      <td>0.607269</td>\n",
              "      <td>1057.396362</td>\n",
              "      <td>0.002554</td>\n",
              "      <td>237.165482</td>\n",
              "      <td>3.600786</td>\n",
              "      <td>938.732666</td>\n",
              "      <td>150.166748</td>\n",
              "      <td>195.208939</td>\n",
              "      <td>66.825813</td>\n",
              "      <td>17.251558</td>\n",
              "      <td>2364.816650</td>\n",
              "      <td>8.603275</td>\n",
              "      <td>0.491340</td>\n",
              "      <td>14.819226</td>\n",
              "      <td>12.248070</td>\n",
              "      <td>0.184076</td>\n",
              "      <td>168.594940</td>\n",
              "      <td>-0.001591</td>\n",
              "      <td>-0.000032</td>\n",
              "      <td>2.429203</td>\n",
              "      <td>27.597446</td>\n",
              "      <td>0.078920</td>\n",
              "      <td>52.554455</td>\n",
              "      <td>161.170395</td>\n",
              "      <td>0.084288</td>\n",
              "      <td>1.538936</td>\n",
              "      <td>46.717117</td>\n",
              "      <td>71.403381</td>\n",
              "      <td>466.491455</td>\n",
              "      <td>0.084335</td>\n",
              "      <td>1.181326</td>\n",
              "    </tr>\n",
              "    <tr>\n",
              "      <th>3</th>\n",
              "      <td>4.179241</td>\n",
              "      <td>-0.002525</td>\n",
              "      <td>2.071114</td>\n",
              "      <td>2332.103760</td>\n",
              "      <td>-0.003957</td>\n",
              "      <td>422.407898</td>\n",
              "      <td>11.419938</td>\n",
              "      <td>733.768799</td>\n",
              "      <td>762.426941</td>\n",
              "      <td>145.051056</td>\n",
              "      <td>165.608810</td>\n",
              "      <td>121.398636</td>\n",
              "      <td>2495.113281</td>\n",
              "      <td>31.403093</td>\n",
              "      <td>2.334418</td>\n",
              "      <td>20.594015</td>\n",
              "      <td>12.205522</td>\n",
              "      <td>0.227555</td>\n",
              "      <td>185.449081</td>\n",
              "      <td>20.611221</td>\n",
              "      <td>13.007930</td>\n",
              "      <td>9.297134</td>\n",
              "      <td>132.491714</td>\n",
              "      <td>2.651855</td>\n",
              "      <td>377.878632</td>\n",
              "      <td>154.422424</td>\n",
              "      <td>7.313518</td>\n",
              "      <td>6.508517</td>\n",
              "      <td>347.886627</td>\n",
              "      <td>97.809975</td>\n",
              "      <td>3155.502441</td>\n",
              "      <td>0.370323</td>\n",
              "      <td>31.773592</td>\n",
              "      <td>5.889813</td>\n",
              "      <td>0.012225</td>\n",
              "      <td>4.231319</td>\n",
              "      <td>2953.911377</td>\n",
              "      <td>0.049159</td>\n",
              "      <td>616.253784</td>\n",
              "      <td>11.812597</td>\n",
              "      <td>...</td>\n",
              "      <td>1.586771</td>\n",
              "      <td>3.806754</td>\n",
              "      <td>172.405853</td>\n",
              "      <td>61.154678</td>\n",
              "      <td>1801.866211</td>\n",
              "      <td>1.192649</td>\n",
              "      <td>5.719406</td>\n",
              "      <td>5.208638</td>\n",
              "      <td>0.273983</td>\n",
              "      <td>0.548260</td>\n",
              "      <td>1210.288818</td>\n",
              "      <td>0.002568</td>\n",
              "      <td>221.924728</td>\n",
              "      <td>4.779063</td>\n",
              "      <td>902.878723</td>\n",
              "      <td>144.841293</td>\n",
              "      <td>180.358414</td>\n",
              "      <td>64.088524</td>\n",
              "      <td>24.555964</td>\n",
              "      <td>2282.170166</td>\n",
              "      <td>8.371038</td>\n",
              "      <td>0.422024</td>\n",
              "      <td>18.255878</td>\n",
              "      <td>13.664817</td>\n",
              "      <td>0.203079</td>\n",
              "      <td>201.440033</td>\n",
              "      <td>-0.001770</td>\n",
              "      <td>0.000223</td>\n",
              "      <td>2.404669</td>\n",
              "      <td>32.301800</td>\n",
              "      <td>0.151764</td>\n",
              "      <td>46.914288</td>\n",
              "      <td>161.525497</td>\n",
              "      <td>0.178117</td>\n",
              "      <td>2.072539</td>\n",
              "      <td>48.620754</td>\n",
              "      <td>64.064110</td>\n",
              "      <td>506.904053</td>\n",
              "      <td>0.045020</td>\n",
              "      <td>1.341092</td>\n",
              "    </tr>\n",
              "  </tbody>\n",
              "</table>\n",
              "<p>4 rows × 1782 columns</p>\n",
              "</div>"
            ],
            "text/plain": [
              "       0         1         2     ...        1779      1780      1781\n",
              "0  3.886041 -0.001333  2.219401  ...  351.396759  0.014864  1.528277\n",
              "1  4.003090 -0.001779  2.125535  ...  408.898285  0.040890  1.470468\n",
              "2  4.143873 -0.002734  2.116862  ...  466.491455  0.084335  1.181326\n",
              "3  4.179241 -0.002525  2.071114  ...  506.904053  0.045020  1.341092\n",
              "\n",
              "[4 rows x 1782 columns]"
            ]
          },
          "metadata": {},
          "execution_count": 399
        }
      ]
    },
    {
      "cell_type": "code",
      "metadata": {
        "id": "glj45ZRM4N-g"
      },
      "source": [
        "hosokum = []\n",
        "for i in hosoku:\n",
        "    for k in hosoku[i]:\n",
        "      hosokum.append(k)\n"
      ],
      "execution_count": 401,
      "outputs": []
    },
    {
      "cell_type": "code",
      "metadata": {
        "id": "mWzKHmIG4ebG"
      },
      "source": [
        "hosokumi = pd.DataFrame(hosokum)"
      ],
      "execution_count": 402,
      "outputs": []
    },
    {
      "cell_type": "code",
      "metadata": {
        "id": "eFEISUo057Qt"
      },
      "source": [
        "hosokumi = hosokumi.append(subm)"
      ],
      "execution_count": 403,
      "outputs": []
    },
    {
      "cell_type": "code",
      "metadata": {
        "id": "rQjWOcrz6DBV"
      },
      "source": [
        "hosokumi = hosokumi.reset_index()"
      ],
      "execution_count": 404,
      "outputs": []
    },
    {
      "cell_type": "code",
      "metadata": {
        "colab": {
          "base_uri": "https://localhost:8080/",
          "height": 419
        },
        "id": "EYjebzYb7PO8",
        "outputId": "d74299d0-3b1f-4fcf-eb3d-cc3b5dbb0faf"
      },
      "source": [
        "hosokumi\n"
      ],
      "execution_count": 405,
      "outputs": [
        {
          "output_type": "execute_result",
          "data": {
            "text/html": [
              "<div>\n",
              "<style scoped>\n",
              "    .dataframe tbody tr th:only-of-type {\n",
              "        vertical-align: middle;\n",
              "    }\n",
              "\n",
              "    .dataframe tbody tr th {\n",
              "        vertical-align: top;\n",
              "    }\n",
              "\n",
              "    .dataframe thead th {\n",
              "        text-align: right;\n",
              "    }\n",
              "</style>\n",
              "<table border=\"1\" class=\"dataframe\">\n",
              "  <thead>\n",
              "    <tr style=\"text-align: right;\">\n",
              "      <th></th>\n",
              "      <th>index</th>\n",
              "      <th>0</th>\n",
              "    </tr>\n",
              "  </thead>\n",
              "  <tbody>\n",
              "    <tr>\n",
              "      <th>0</th>\n",
              "      <td>0</td>\n",
              "      <td>3.886041</td>\n",
              "    </tr>\n",
              "    <tr>\n",
              "      <th>1</th>\n",
              "      <td>1</td>\n",
              "      <td>4.003090</td>\n",
              "    </tr>\n",
              "    <tr>\n",
              "      <th>2</th>\n",
              "      <td>2</td>\n",
              "      <td>4.143873</td>\n",
              "    </tr>\n",
              "    <tr>\n",
              "      <th>3</th>\n",
              "      <td>3</td>\n",
              "      <td>4.179241</td>\n",
              "    </tr>\n",
              "    <tr>\n",
              "      <th>4</th>\n",
              "      <td>4</td>\n",
              "      <td>-0.001333</td>\n",
              "    </tr>\n",
              "    <tr>\n",
              "      <th>...</th>\n",
              "      <td>...</td>\n",
              "      <td>...</td>\n",
              "    </tr>\n",
              "    <tr>\n",
              "      <th>28507</th>\n",
              "      <td>21379</td>\n",
              "      <td>45.747978</td>\n",
              "    </tr>\n",
              "    <tr>\n",
              "      <th>28508</th>\n",
              "      <td>21380</td>\n",
              "      <td>61.840626</td>\n",
              "    </tr>\n",
              "    <tr>\n",
              "      <th>28509</th>\n",
              "      <td>21381</td>\n",
              "      <td>386.204529</td>\n",
              "    </tr>\n",
              "    <tr>\n",
              "      <th>28510</th>\n",
              "      <td>21382</td>\n",
              "      <td>0.041475</td>\n",
              "    </tr>\n",
              "    <tr>\n",
              "      <th>28511</th>\n",
              "      <td>21383</td>\n",
              "      <td>1.456884</td>\n",
              "    </tr>\n",
              "  </tbody>\n",
              "</table>\n",
              "<p>28512 rows × 2 columns</p>\n",
              "</div>"
            ],
            "text/plain": [
              "       index           0\n",
              "0          0    3.886041\n",
              "1          1    4.003090\n",
              "2          2    4.143873\n",
              "3          3    4.179241\n",
              "4          4   -0.001333\n",
              "...      ...         ...\n",
              "28507  21379   45.747978\n",
              "28508  21380   61.840626\n",
              "28509  21381  386.204529\n",
              "28510  21382    0.041475\n",
              "28511  21383    1.456884\n",
              "\n",
              "[28512 rows x 2 columns]"
            ]
          },
          "metadata": {},
          "execution_count": 405
        }
      ]
    }
  ]
}